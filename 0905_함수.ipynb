{
 "cells": [
  {
   "cell_type": "markdown",
   "id": "150e39ef-926b-40ab-bd26-f4e885add634",
   "metadata": {},
   "source": [
    "# 함수\n",
    "```\n",
    "def 함수이름( , ):\n",
    "    실행할 문장\n",
    "    return 변수\n",
    "```"
   ]
  },
  {
   "cell_type": "code",
   "execution_count": 26,
   "id": "26027108-8b88-4eea-ad8c-64ca6fd73277",
   "metadata": {},
   "outputs": [
    {
     "data": {
      "text/plain": [
       "8"
      ]
     },
     "execution_count": 26,
     "metadata": {},
     "output_type": "execute_result"
    }
   ],
   "source": [
    "def add(a, b):\n",
    "    c = a + b\n",
    "    return c\n",
    "\n",
    "add(3,5)"
   ]
  },
  {
   "cell_type": "code",
   "execution_count": 27,
   "id": "daa85d8b-04d2-47a9-94b9-b6b10a999564",
   "metadata": {},
   "outputs": [
    {
     "data": {
      "text/plain": [
       "12"
      ]
     },
     "execution_count": 27,
     "metadata": {},
     "output_type": "execute_result"
    }
   ],
   "source": [
    "#입력받은 것을 2배해서 내놓는 함수\n",
    "def double(a):\n",
    "    b = a*2\n",
    "    return b\n",
    "\n",
    "double(6)"
   ]
  },
  {
   "cell_type": "code",
   "execution_count": 24,
   "id": "a5458b18-50f6-4806-a6a3-4492ba719956",
   "metadata": {},
   "outputs": [
    {
     "data": {
      "text/plain": [
       "30"
      ]
     },
     "execution_count": 24,
     "metadata": {},
     "output_type": "execute_result"
    }
   ],
   "source": [
    "#입력값이 없는 경우\n",
    "def add():\n",
    "    a = 10\n",
    "    b = 20\n",
    "    return a + b\n",
    "\n",
    "add()"
   ]
  },
  {
   "cell_type": "code",
   "execution_count": 28,
   "id": "0c6a5be5-1f6f-4895-b107-38eb922b3c15",
   "metadata": {},
   "outputs": [
    {
     "data": {
      "text/plain": [
       "18"
      ]
     },
     "execution_count": 28,
     "metadata": {},
     "output_type": "execute_result"
    }
   ],
   "source": [
    "#홀수이면 2배, 짝수이면 나누기 2를 해서 리턴하는 함수\n",
    "def odd_even(a):\n",
    "    if a % 2 == 0:\n",
    "        return a/2\n",
    "    else:\n",
    "        return a*2\n",
    "    \n",
    "odd_even(9)"
   ]
  },
  {
   "cell_type": "code",
   "execution_count": 30,
   "id": "fde1cd06-9b46-4fa2-a882-2313813fa685",
   "metadata": {},
   "outputs": [
    {
     "name": "stdout",
     "output_type": "stream",
     "text": [
      "(30, -10)\n",
      "30\n",
      "-10\n"
     ]
    }
   ],
   "source": [
    "#리턴값이 2개 이상인 경우 (결과값은 무조건 하나이다. Tuple로 묶어서 내보낸다)\n",
    "def add():\n",
    "    a = 10\n",
    "    b = 20\n",
    "    return a + b, a - b\n",
    "\n",
    "print(add())\n",
    "c, d = add()\n",
    "print(c)\n",
    "print(d)"
   ]
  },
  {
   "cell_type": "code",
   "execution_count": 34,
   "id": "c865ad52-23bf-4f39-92f7-17e453b5c7b6",
   "metadata": {},
   "outputs": [
    {
     "data": {
      "text/plain": [
       "130"
      ]
     },
     "execution_count": 34,
     "metadata": {},
     "output_type": "execute_result"
    }
   ],
   "source": [
    "#기본값이 있는 경우, 기본값은 맨뒤에서만 할 수 있다\n",
    "def add(a, b, c = 100):\n",
    "    result = a + b + c\n",
    "    return result\n",
    "\n",
    "add(10,20)"
   ]
  },
  {
   "cell_type": "code",
   "execution_count": 35,
   "id": "460bd19a-4952-4018-9abc-d59788c2b33c",
   "metadata": {},
   "outputs": [
    {
     "data": {
      "text/plain": [
       "23"
      ]
     },
     "execution_count": 35,
     "metadata": {},
     "output_type": "execute_result"
    }
   ],
   "source": [
    "#입력값이 여러개인 경우\n",
    "def add(*args):\n",
    "    sum = 0\n",
    "    for i in args:\n",
    "        sum += i\n",
    "    return sum\n",
    "add(5,1,5,4,8)"
   ]
  },
  {
   "cell_type": "code",
   "execution_count": 36,
   "id": "1ff1d27a-cf0f-4ee7-ab58-2d5db0e31af5",
   "metadata": {},
   "outputs": [
    {
     "data": {
      "text/plain": [
       "15"
      ]
     },
     "execution_count": 36,
     "metadata": {},
     "output_type": "execute_result"
    }
   ],
   "source": [
    "#1부터 입력받은 수까지의 합\n",
    "def add(a):\n",
    "    sum = 0\n",
    "    for i in range(1, a+1):\n",
    "        sum += i\n",
    "    return sum\n",
    "add(5)"
   ]
  },
  {
   "cell_type": "code",
   "execution_count": 37,
   "id": "2e91481b-7022-4f6e-bec9-b98fc378365d",
   "metadata": {},
   "outputs": [
    {
     "data": {
      "text/plain": [
       "14"
      ]
     },
     "execution_count": 37,
     "metadata": {},
     "output_type": "execute_result"
    }
   ],
   "source": [
    "def add(a,b):\n",
    "    sum = 0\n",
    "    for i in range(a, b+1):\n",
    "        sum += i\n",
    "    return sum\n",
    "add(2,5)"
   ]
  },
  {
   "cell_type": "code",
   "execution_count": 94,
   "id": "14652c51-724d-44e2-9cc1-f880ec58fb43",
   "metadata": {},
   "outputs": [
    {
     "data": {
      "text/plain": [
       "{'a': 1, 'b': 2, 'c': 3}"
      ]
     },
     "execution_count": 98,
     "metadata": {},
     "output_type": "execute_result"
    }
   ],
   "source": [
    "#함수로 dictionary 데이터타입 만들기\n",
    "def kw_test(**kwargs):\n",
    "    return kwargs\n",
    "    \n",
    "kw_test(a=1, b=2, c = 3)"
   ]
  },
  {
   "cell_type": "code",
   "execution_count": 102,
   "id": "577d2a6b-dddc-4aaa-b170-b5dab1226f25",
   "metadata": {},
   "outputs": [
    {
     "data": {
      "text/plain": [
       "'나의 이름은 박지훈이고 나이는 25세입니다'"
      ]
     },
     "execution_count": 102,
     "metadata": {},
     "output_type": "execute_result"
    }
   ],
   "source": [
    "def myself(name, age):\n",
    "    return f\"나의 이름은 {name}이고 나이는 {age}세입니다\"\n",
    "myself('박지훈', 25)"
   ]
  },
  {
   "cell_type": "code",
   "execution_count": 15,
   "id": "1a298de3-698c-4932-8349-6c20491d4f5c",
   "metadata": {},
   "outputs": [
    {
     "data": {
      "text/plain": [
       "10"
      ]
     },
     "execution_count": 15,
     "metadata": {},
     "output_type": "execute_result"
    }
   ],
   "source": [
    "#global변수는 함수안에서나 밖에서나 둘다 쓸수 있다. 하지만 local 변수는 함수식 안에서만 사용 가능하다\n",
    "d = 5 #global: 전역변수\n",
    "def add(a, b):\n",
    "    f = a + b #local: 지역변수\n",
    "    return f + d\n",
    "\n",
    "add(2,3)"
   ]
  },
  {
   "cell_type": "code",
   "execution_count": 42,
   "id": "0585fd0e-92e3-4a7e-bcd7-074435f26ce1",
   "metadata": {},
   "outputs": [
    {
     "data": {
      "text/plain": [
       "3"
      ]
     },
     "execution_count": 42,
     "metadata": {},
     "output_type": "execute_result"
    }
   ],
   "source": [
    "#lambda 함수\n",
    "f = lambda a, b: a+b\n",
    "f(1,2)"
   ]
  },
  {
   "cell_type": "code",
   "execution_count": 43,
   "id": "b0840320-6d21-4101-9f36-137f88fd2531",
   "metadata": {},
   "outputs": [
    {
     "data": {
      "text/plain": [
       "3"
      ]
     },
     "execution_count": 43,
     "metadata": {},
     "output_type": "execute_result"
    }
   ],
   "source": [
    "#lambda 함수2\n",
    "(lambda a, b: a+b)(1,2)"
   ]
  },
  {
   "cell_type": "code",
   "execution_count": 25,
   "id": "5711b437-264f-4135-8759-df4eee41cb02",
   "metadata": {},
   "outputs": [
    {
     "name": "stdout",
     "output_type": "stream",
     "text": [
      "안녕하세요\n",
      "안녕하세요\n",
      "안녕하세요\n",
      "안녕하세요\n",
      "안녕하세요\n"
     ]
    }
   ],
   "source": [
    "#재귀함수\n",
    "import time\n",
    "def hello(a):\n",
    "    if a == 0:\n",
    "        return\n",
    "    print(\"안녕하세요\")\n",
    "    time.sleep(1)\n",
    "    a -= 1\n",
    "    hello(a)\n",
    "    \n",
    "hello(5)"
   ]
  }
 ],
 "metadata": {
  "kernelspec": {
   "display_name": "Python 3 (ipykernel)",
   "language": "python",
   "name": "python3"
  },
  "language_info": {
   "codemirror_mode": {
    "name": "ipython",
    "version": 3
   },
   "file_extension": ".py",
   "mimetype": "text/x-python",
   "name": "python",
   "nbconvert_exporter": "python",
   "pygments_lexer": "ipython3",
   "version": "3.9.12"
  }
 },
 "nbformat": 4,
 "nbformat_minor": 5
}
