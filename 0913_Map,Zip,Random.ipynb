{
 "cells": [
  {
   "cell_type": "markdown",
   "id": "29d39710-e98f-4965-a3aa-58bcda99d3b8",
   "metadata": {},
   "source": [
    "# Map\n",
    "- map(함수이름, 자료)\n",
    "- 묶어서 돌려준다"
   ]
  },
  {
   "cell_type": "code",
   "execution_count": 62,
   "id": "742f4acb-8bd3-45bd-9880-34129e2b2a86",
   "metadata": {},
   "outputs": [
    {
     "data": {
      "text/plain": [
       "[2, 4, 6, 8]"
      ]
     },
     "execution_count": 62,
     "metadata": {},
     "output_type": "execute_result"
    }
   ],
   "source": [
    "def two_times(x):\n",
    "    return x*2\n",
    "\n",
    "list(map(two_times, [1,2,3,4]))"
   ]
  },
  {
   "cell_type": "code",
   "execution_count": 67,
   "id": "5e466548-aa64-4c9c-bb6e-d7bf946d0a2b",
   "metadata": {},
   "outputs": [
    {
     "data": {
      "text/plain": [
       "[2, 4, 6, 8]"
      ]
     },
     "execution_count": 67,
     "metadata": {},
     "output_type": "execute_result"
    }
   ],
   "source": [
    "#위와 같다\n",
    "list(map(lambda a:a*2,[1,2,3,4]))"
   ]
  },
  {
   "cell_type": "code",
   "execution_count": 9,
   "id": "bed764e3-bb74-4473-b6da-bda7be2c8e48",
   "metadata": {},
   "outputs": [
    {
     "data": {
      "text/plain": [
       "[1, 2, 3, 4]"
      ]
     },
     "execution_count": 9,
     "metadata": {},
     "output_type": "execute_result"
    }
   ],
   "source": [
    "list(map(int, ['1','2','3','4']))"
   ]
  },
  {
   "cell_type": "markdown",
   "id": "f17ba725-c58f-42a7-a749-1fe4ec8aa07e",
   "metadata": {},
   "source": [
    "# Zip"
   ]
  },
  {
   "cell_type": "code",
   "execution_count": 22,
   "id": "4c93779d-8312-4bfa-8cca-eadee4f25d0f",
   "metadata": {},
   "outputs": [
    {
     "name": "stdout",
     "output_type": "stream",
     "text": [
      "(1, 4, '정')\n",
      "(2, 5, '전')\n",
      "(3, 6, '박')\n"
     ]
    }
   ],
   "source": [
    "for i in zip([1,2,3],[4,5,6],['정','전','박']):\n",
    "    print(i)"
   ]
  },
  {
   "cell_type": "markdown",
   "id": "89c553bc-f2e8-4f41-aa05-5ab0c78b8023",
   "metadata": {},
   "source": [
    "# Folium"
   ]
  },
  {
   "cell_type": "code",
   "execution_count": 250,
   "id": "c74d03f5-4e66-4234-b8ac-4ae176bd2762",
   "metadata": {},
   "outputs": [],
   "source": [
    "#pip install folium, openpyxl"
   ]
  },
  {
   "cell_type": "code",
   "execution_count": 1,
   "id": "d4717d32-518d-4a81-8390-1dc32bc6bf8e",
   "metadata": {},
   "outputs": [],
   "source": [
    "import folium\n",
    "import pandas as pd"
   ]
  },
  {
   "cell_type": "code",
   "execution_count": 2,
   "id": "1b08fbad-f592-4e79-bfa1-ec3901418aca",
   "metadata": {
    "collapsed": true,
    "jupyter": {
     "outputs_hidden": true
    },
    "tags": []
   },
   "outputs": [
    {
     "data": {
      "text/html": [
       "<div>\n",
       "<style scoped>\n",
       "    .dataframe tbody tr th:only-of-type {\n",
       "        vertical-align: middle;\n",
       "    }\n",
       "\n",
       "    .dataframe tbody tr th {\n",
       "        vertical-align: top;\n",
       "    }\n",
       "\n",
       "    .dataframe thead th {\n",
       "        text-align: right;\n",
       "    }\n",
       "</style>\n",
       "<table border=\"1\" class=\"dataframe\">\n",
       "  <thead>\n",
       "    <tr style=\"text-align: right;\">\n",
       "      <th></th>\n",
       "      <th>대학교</th>\n",
       "      <th>위도</th>\n",
       "      <th>경도</th>\n",
       "    </tr>\n",
       "  </thead>\n",
       "  <tbody>\n",
       "    <tr>\n",
       "      <th>0</th>\n",
       "      <td>KAIST 서울캠퍼스</td>\n",
       "      <td>37.592573</td>\n",
       "      <td>127.046737</td>\n",
       "    </tr>\n",
       "    <tr>\n",
       "      <th>1</th>\n",
       "      <td>KC대학교</td>\n",
       "      <td>37.548345</td>\n",
       "      <td>126.854797</td>\n",
       "    </tr>\n",
       "    <tr>\n",
       "      <th>2</th>\n",
       "      <td>가톨릭대학교(성신교정)</td>\n",
       "      <td>37.585922</td>\n",
       "      <td>127.004328</td>\n",
       "    </tr>\n",
       "    <tr>\n",
       "      <th>3</th>\n",
       "      <td>가톨릭대학교(성의교정)</td>\n",
       "      <td>37.499623</td>\n",
       "      <td>127.006065</td>\n",
       "    </tr>\n",
       "    <tr>\n",
       "      <th>4</th>\n",
       "      <td>감리교신학대학교</td>\n",
       "      <td>37.567645</td>\n",
       "      <td>126.961610</td>\n",
       "    </tr>\n",
       "    <tr>\n",
       "      <th>5</th>\n",
       "      <td>건국대학교</td>\n",
       "      <td>37.540762</td>\n",
       "      <td>127.079343</td>\n",
       "    </tr>\n",
       "    <tr>\n",
       "      <th>6</th>\n",
       "      <td>경기대학교 서울캠퍼스</td>\n",
       "      <td>37.300485</td>\n",
       "      <td>127.035833</td>\n",
       "    </tr>\n",
       "    <tr>\n",
       "      <th>7</th>\n",
       "      <td>경희대학교 서울캠퍼스</td>\n",
       "      <td>37.596195</td>\n",
       "      <td>127.052544</td>\n",
       "    </tr>\n",
       "    <tr>\n",
       "      <th>8</th>\n",
       "      <td>고려대학교</td>\n",
       "      <td>37.590192</td>\n",
       "      <td>127.033184</td>\n",
       "    </tr>\n",
       "    <tr>\n",
       "      <th>9</th>\n",
       "      <td>광운대학교</td>\n",
       "      <td>37.619496</td>\n",
       "      <td>127.059696</td>\n",
       "    </tr>\n",
       "    <tr>\n",
       "      <th>10</th>\n",
       "      <td>국민대학교</td>\n",
       "      <td>37.609641</td>\n",
       "      <td>126.997697</td>\n",
       "    </tr>\n",
       "    <tr>\n",
       "      <th>11</th>\n",
       "      <td>덕성여자대학교</td>\n",
       "      <td>37.651199</td>\n",
       "      <td>127.016160</td>\n",
       "    </tr>\n",
       "    <tr>\n",
       "      <th>12</th>\n",
       "      <td>동국대학교</td>\n",
       "      <td>37.557477</td>\n",
       "      <td>127.002052</td>\n",
       "    </tr>\n",
       "    <tr>\n",
       "      <th>13</th>\n",
       "      <td>동덕여자대학교</td>\n",
       "      <td>37.606320</td>\n",
       "      <td>127.041808</td>\n",
       "    </tr>\n",
       "    <tr>\n",
       "      <th>14</th>\n",
       "      <td>명지대학교 서울캠퍼스</td>\n",
       "      <td>37.580205</td>\n",
       "      <td>126.923445</td>\n",
       "    </tr>\n",
       "    <tr>\n",
       "      <th>15</th>\n",
       "      <td>삼육대학교</td>\n",
       "      <td>37.642952</td>\n",
       "      <td>127.105476</td>\n",
       "    </tr>\n",
       "    <tr>\n",
       "      <th>16</th>\n",
       "      <td>상명대학교 서울캠퍼스</td>\n",
       "      <td>37.602638</td>\n",
       "      <td>126.955252</td>\n",
       "    </tr>\n",
       "    <tr>\n",
       "      <th>17</th>\n",
       "      <td>서강대학교</td>\n",
       "      <td>37.550944</td>\n",
       "      <td>126.941002</td>\n",
       "    </tr>\n",
       "    <tr>\n",
       "      <th>18</th>\n",
       "      <td>서경대학교</td>\n",
       "      <td>37.615095</td>\n",
       "      <td>127.013111</td>\n",
       "    </tr>\n",
       "    <tr>\n",
       "      <th>19</th>\n",
       "      <td>서울과학기술대학교</td>\n",
       "      <td>37.631668</td>\n",
       "      <td>127.077481</td>\n",
       "    </tr>\n",
       "    <tr>\n",
       "      <th>20</th>\n",
       "      <td>서울교육대학교</td>\n",
       "      <td>37.489961</td>\n",
       "      <td>127.016412</td>\n",
       "    </tr>\n",
       "    <tr>\n",
       "      <th>21</th>\n",
       "      <td>서울기독대학교</td>\n",
       "      <td>37.600923</td>\n",
       "      <td>126.912382</td>\n",
       "    </tr>\n",
       "    <tr>\n",
       "      <th>22</th>\n",
       "      <td>서울대학교</td>\n",
       "      <td>37.459882</td>\n",
       "      <td>126.951905</td>\n",
       "    </tr>\n",
       "    <tr>\n",
       "      <th>23</th>\n",
       "      <td>서울시립대학교</td>\n",
       "      <td>37.583866</td>\n",
       "      <td>127.058777</td>\n",
       "    </tr>\n",
       "    <tr>\n",
       "      <th>24</th>\n",
       "      <td>서울여자대학교</td>\n",
       "      <td>37.628113</td>\n",
       "      <td>127.090457</td>\n",
       "    </tr>\n",
       "    <tr>\n",
       "      <th>25</th>\n",
       "      <td>서울한영대학교</td>\n",
       "      <td>37.496541</td>\n",
       "      <td>126.851262</td>\n",
       "    </tr>\n",
       "    <tr>\n",
       "      <th>26</th>\n",
       "      <td>성공회대학교</td>\n",
       "      <td>37.487232</td>\n",
       "      <td>126.825320</td>\n",
       "    </tr>\n",
       "    <tr>\n",
       "      <th>27</th>\n",
       "      <td>성균관대학교 서울캠퍼스</td>\n",
       "      <td>37.588227</td>\n",
       "      <td>126.993606</td>\n",
       "    </tr>\n",
       "    <tr>\n",
       "      <th>28</th>\n",
       "      <td>성신여자대학교</td>\n",
       "      <td>37.591310</td>\n",
       "      <td>127.022131</td>\n",
       "    </tr>\n",
       "    <tr>\n",
       "      <th>29</th>\n",
       "      <td>세종대학교</td>\n",
       "      <td>37.550260</td>\n",
       "      <td>127.073139</td>\n",
       "    </tr>\n",
       "    <tr>\n",
       "      <th>30</th>\n",
       "      <td>숙명여자대학교</td>\n",
       "      <td>37.546364</td>\n",
       "      <td>126.964831</td>\n",
       "    </tr>\n",
       "    <tr>\n",
       "      <th>31</th>\n",
       "      <td>숭실대학교</td>\n",
       "      <td>37.496311</td>\n",
       "      <td>126.957460</td>\n",
       "    </tr>\n",
       "    <tr>\n",
       "      <th>32</th>\n",
       "      <td>연세대학교</td>\n",
       "      <td>37.565784</td>\n",
       "      <td>126.938572</td>\n",
       "    </tr>\n",
       "    <tr>\n",
       "      <th>33</th>\n",
       "      <td>육군사관학교</td>\n",
       "      <td>37.623819</td>\n",
       "      <td>127.098878</td>\n",
       "    </tr>\n",
       "    <tr>\n",
       "      <th>34</th>\n",
       "      <td>이화여자대학교</td>\n",
       "      <td>37.564308</td>\n",
       "      <td>126.950179</td>\n",
       "    </tr>\n",
       "    <tr>\n",
       "      <th>35</th>\n",
       "      <td>장로회신학대학교</td>\n",
       "      <td>37.550511</td>\n",
       "      <td>127.103458</td>\n",
       "    </tr>\n",
       "    <tr>\n",
       "      <th>36</th>\n",
       "      <td>중앙대학교 서울캠퍼스</td>\n",
       "      <td>37.505088</td>\n",
       "      <td>126.957101</td>\n",
       "    </tr>\n",
       "    <tr>\n",
       "      <th>37</th>\n",
       "      <td>총신대학교</td>\n",
       "      <td>37.488623</td>\n",
       "      <td>126.966817</td>\n",
       "    </tr>\n",
       "    <tr>\n",
       "      <th>38</th>\n",
       "      <td>추계예술대학교</td>\n",
       "      <td>37.562452</td>\n",
       "      <td>126.953417</td>\n",
       "    </tr>\n",
       "    <tr>\n",
       "      <th>39</th>\n",
       "      <td>한국방송통신대학교</td>\n",
       "      <td>37.578613</td>\n",
       "      <td>127.003291</td>\n",
       "    </tr>\n",
       "    <tr>\n",
       "      <th>40</th>\n",
       "      <td>한국성서대학교</td>\n",
       "      <td>37.648749</td>\n",
       "      <td>127.064320</td>\n",
       "    </tr>\n",
       "    <tr>\n",
       "      <th>41</th>\n",
       "      <td>한국예술종합학교</td>\n",
       "      <td>37.604997</td>\n",
       "      <td>127.056740</td>\n",
       "    </tr>\n",
       "    <tr>\n",
       "      <th>42</th>\n",
       "      <td>한국외국어대학교</td>\n",
       "      <td>37.597319</td>\n",
       "      <td>127.057843</td>\n",
       "    </tr>\n",
       "    <tr>\n",
       "      <th>43</th>\n",
       "      <td>한국체육대학교</td>\n",
       "      <td>37.519627</td>\n",
       "      <td>127.130984</td>\n",
       "    </tr>\n",
       "    <tr>\n",
       "      <th>44</th>\n",
       "      <td>한성대학교</td>\n",
       "      <td>37.581785</td>\n",
       "      <td>127.010369</td>\n",
       "    </tr>\n",
       "    <tr>\n",
       "      <th>45</th>\n",
       "      <td>한양대학교</td>\n",
       "      <td>37.557232</td>\n",
       "      <td>127.045322</td>\n",
       "    </tr>\n",
       "    <tr>\n",
       "      <th>46</th>\n",
       "      <td>홍익대학교</td>\n",
       "      <td>37.551464</td>\n",
       "      <td>126.925011</td>\n",
       "    </tr>\n",
       "  </tbody>\n",
       "</table>\n",
       "</div>"
      ],
      "text/plain": [
       "               대학교         위도          경도\n",
       "0     KAIST 서울캠퍼스   37.592573  127.046737\n",
       "1            KC대학교  37.548345  126.854797\n",
       "2     가톨릭대학교(성신교정)  37.585922  127.004328\n",
       "3     가톨릭대학교(성의교정)  37.499623  127.006065\n",
       "4         감리교신학대학교  37.567645  126.961610\n",
       "5            건국대학교  37.540762  127.079343\n",
       "6     경기대학교 서울캠퍼스   37.300485  127.035833\n",
       "7     경희대학교 서울캠퍼스   37.596195  127.052544\n",
       "8            고려대학교  37.590192  127.033184\n",
       "9            광운대학교  37.619496  127.059696\n",
       "10           국민대학교  37.609641  126.997697\n",
       "11         덕성여자대학교  37.651199  127.016160\n",
       "12           동국대학교  37.557477  127.002052\n",
       "13         동덕여자대학교  37.606320  127.041808\n",
       "14    명지대학교 서울캠퍼스   37.580205  126.923445\n",
       "15           삼육대학교  37.642952  127.105476\n",
       "16    상명대학교 서울캠퍼스   37.602638  126.955252\n",
       "17           서강대학교  37.550944  126.941002\n",
       "18           서경대학교  37.615095  127.013111\n",
       "19       서울과학기술대학교  37.631668  127.077481\n",
       "20         서울교육대학교  37.489961  127.016412\n",
       "21         서울기독대학교  37.600923  126.912382\n",
       "22           서울대학교  37.459882  126.951905\n",
       "23         서울시립대학교  37.583866  127.058777\n",
       "24         서울여자대학교  37.628113  127.090457\n",
       "25         서울한영대학교  37.496541  126.851262\n",
       "26          성공회대학교  37.487232  126.825320\n",
       "27  성균관대학교 서울캠퍼스    37.588227  126.993606\n",
       "28         성신여자대학교  37.591310  127.022131\n",
       "29           세종대학교  37.550260  127.073139\n",
       "30         숙명여자대학교  37.546364  126.964831\n",
       "31           숭실대학교  37.496311  126.957460\n",
       "32           연세대학교  37.565784  126.938572\n",
       "33          육군사관학교  37.623819  127.098878\n",
       "34         이화여자대학교  37.564308  126.950179\n",
       "35        장로회신학대학교  37.550511  127.103458\n",
       "36    중앙대학교 서울캠퍼스   37.505088  126.957101\n",
       "37           총신대학교  37.488623  126.966817\n",
       "38         추계예술대학교  37.562452  126.953417\n",
       "39       한국방송통신대학교  37.578613  127.003291\n",
       "40         한국성서대학교  37.648749  127.064320\n",
       "41        한국예술종합학교  37.604997  127.056740\n",
       "42        한국외국어대학교  37.597319  127.057843\n",
       "43         한국체육대학교  37.519627  127.130984\n",
       "44           한성대학교  37.581785  127.010369\n",
       "45           한양대학교  37.557232  127.045322\n",
       "46           홍익대학교  37.551464  126.925011"
      ]
     },
     "execution_count": 2,
     "metadata": {},
     "output_type": "execute_result"
    }
   ],
   "source": [
    "df = pd.read_excel(\"서울지역대학교위치.xlsx\")\n",
    "df"
   ]
  },
  {
   "cell_type": "code",
   "execution_count": 3,
   "id": "4d573406-8c2f-4853-aa4b-50657b8dc49b",
   "metadata": {
    "collapsed": true,
    "jupyter": {
     "outputs_hidden": true
    },
    "tags": []
   },
   "outputs": [
    {
     "name": "stdout",
     "output_type": "stream",
     "text": [
      "KAIST 서울캠퍼스  37.592573 127.046737\n",
      "KC대학교 37.5483449 126.8547974\n",
      "가톨릭대학교(성신교정) 37.5859218 127.0043275\n",
      "가톨릭대학교(성의교정) 37.4996227 127.0060653\n",
      "감리교신학대학교 37.5676455 126.96161\n",
      "건국대학교 37.5407625 127.0793428\n",
      "경기대학교 서울캠퍼스  37.30048499999999 127.035833\n",
      "경희대학교 서울캠퍼스  37.5961951 127.052544\n",
      "고려대학교 37.59019162 127.03318417123\n",
      "광운대학교 37.6194965 127.0596958\n",
      "국민대학교 37.6096409 126.997697\n",
      "덕성여자대학교 37.6511988 127.0161604\n",
      "동국대학교 37.5574771 127.0020518\n",
      "동덕여자대학교 37.6063202 127.041808\n",
      "명지대학교 서울캠퍼스  37.5802046 126.9234451\n",
      "삼육대학교 37.6429515 127.1054757\n",
      "상명대학교 서울캠퍼스  37.602638 126.955252\n",
      "서강대학교 37.5509442 126.9410023\n",
      "서경대학교 37.615095 127.0131113\n",
      "서울과학기술대학교 37.6316684 127.0774813\n",
      "서울교육대학교 37.4899615 127.0164124\n",
      "서울기독대학교 37.6009228 126.9123818\n",
      "서울대학교 37.459882 126.9519053\n",
      "서울시립대학교 37.5838657 127.0587771\n",
      "서울여자대학교 37.6281126 127.0904568\n",
      "서울한영대학교 37.4965411 126.8512616\n",
      "성공회대학교 37.4872325 126.8253202\n",
      "성균관대학교 서울캠퍼스   37.588227 126.993606\n",
      "성신여자대학교 37.5913103 127.0221312\n",
      "세종대학교 37.5502596 127.073139\n",
      "숙명여자대학교 37.5463644 126.9648311\n",
      "숭실대학교 37.4963111 126.9574596\n",
      "연세대학교 37.565784 126.938572\n",
      "육군사관학교 37.6238188 127.0988783\n",
      "이화여자대학교 37.5643079 126.9501786\n",
      "장로회신학대학교 37.5505112 127.1034577\n",
      "중앙대학교 서울캠퍼스  37.5050881 126.9571012\n",
      "총신대학교 37.4886232 126.9668169\n",
      "추계예술대학교 37.5624515 126.9534165\n",
      "한국방송통신대학교 37.5786127 127.0032905\n",
      "한국성서대학교 37.6487485 127.0643199\n",
      "한국예술종합학교 37.6049973 127.0567397\n",
      "한국외국어대학교 37.597319 127.057843\n",
      "한국체육대학교 37.5196266 127.1309837\n",
      "한성대학교 37.5817849 127.010369\n",
      "한양대학교 37.5572321 127.0453219\n",
      "홍익대학교 37.5514642 126.9250106\n"
     ]
    }
   ],
   "source": [
    "for i,j,k in zip(df.대학교, df.위도, df.경도):\n",
    "    print(i,j,k)"
   ]
  },
  {
   "cell_type": "code",
   "execution_count": 6,
   "id": "8856113b-6c05-4a5a-811a-2ffdf78e6c63",
   "metadata": {
    "collapsed": true,
    "jupyter": {
     "outputs_hidden": true
    },
    "tags": []
   },
   "outputs": [
    {
     "data": {
      "text/html": [
       "<div style=\"width:100%;\"><div style=\"position:relative;width:100%;height:0;padding-bottom:60%;\"><span style=\"color:#565656\">Make this Notebook Trusted to load map: File -> Trust Notebook</span><iframe srcdoc=\"&lt;!DOCTYPE html&gt;\n",
       "&lt;head&gt;    \n",
       "    &lt;meta http-equiv=&quot;content-type&quot; content=&quot;text/html; charset=UTF-8&quot; /&gt;\n",
       "    \n",
       "        &lt;script&gt;\n",
       "            L_NO_TOUCH = false;\n",
       "            L_DISABLE_3D = false;\n",
       "        &lt;/script&gt;\n",
       "    \n",
       "    &lt;style&gt;html, body {width: 100%;height: 100%;margin: 0;padding: 0;}&lt;/style&gt;\n",
       "    &lt;style&gt;#map {position:absolute;top:0;bottom:0;right:0;left:0;}&lt;/style&gt;\n",
       "    &lt;script src=&quot;https://cdn.jsdelivr.net/npm/leaflet@1.6.0/dist/leaflet.js&quot;&gt;&lt;/script&gt;\n",
       "    &lt;script src=&quot;https://code.jquery.com/jquery-1.12.4.min.js&quot;&gt;&lt;/script&gt;\n",
       "    &lt;script src=&quot;https://maxcdn.bootstrapcdn.com/bootstrap/3.2.0/js/bootstrap.min.js&quot;&gt;&lt;/script&gt;\n",
       "    &lt;script src=&quot;https://cdnjs.cloudflare.com/ajax/libs/Leaflet.awesome-markers/2.0.2/leaflet.awesome-markers.js&quot;&gt;&lt;/script&gt;\n",
       "    &lt;link rel=&quot;stylesheet&quot; href=&quot;https://cdn.jsdelivr.net/npm/leaflet@1.6.0/dist/leaflet.css&quot;/&gt;\n",
       "    &lt;link rel=&quot;stylesheet&quot; href=&quot;https://maxcdn.bootstrapcdn.com/bootstrap/3.2.0/css/bootstrap.min.css&quot;/&gt;\n",
       "    &lt;link rel=&quot;stylesheet&quot; href=&quot;https://maxcdn.bootstrapcdn.com/bootstrap/3.2.0/css/bootstrap-theme.min.css&quot;/&gt;\n",
       "    &lt;link rel=&quot;stylesheet&quot; href=&quot;https://maxcdn.bootstrapcdn.com/font-awesome/4.6.3/css/font-awesome.min.css&quot;/&gt;\n",
       "    &lt;link rel=&quot;stylesheet&quot; href=&quot;https://cdnjs.cloudflare.com/ajax/libs/Leaflet.awesome-markers/2.0.2/leaflet.awesome-markers.css&quot;/&gt;\n",
       "    &lt;link rel=&quot;stylesheet&quot; href=&quot;https://cdn.jsdelivr.net/gh/python-visualization/folium/folium/templates/leaflet.awesome.rotate.min.css&quot;/&gt;\n",
       "    \n",
       "            &lt;meta name=&quot;viewport&quot; content=&quot;width=device-width,\n",
       "                initial-scale=1.0, maximum-scale=1.0, user-scalable=no&quot; /&gt;\n",
       "            &lt;style&gt;\n",
       "                #map_4b428deafe1ca12c386b4b293eda81d9 {\n",
       "                    position: relative;\n",
       "                    width: 100.0%;\n",
       "                    height: 100.0%;\n",
       "                    left: 0.0%;\n",
       "                    top: 0.0%;\n",
       "                }\n",
       "            &lt;/style&gt;\n",
       "        \n",
       "&lt;/head&gt;\n",
       "&lt;body&gt;    \n",
       "    \n",
       "            &lt;div class=&quot;folium-map&quot; id=&quot;map_4b428deafe1ca12c386b4b293eda81d9&quot; &gt;&lt;/div&gt;\n",
       "        \n",
       "&lt;/body&gt;\n",
       "&lt;script&gt;    \n",
       "    \n",
       "            var map_4b428deafe1ca12c386b4b293eda81d9 = L.map(\n",
       "                &quot;map_4b428deafe1ca12c386b4b293eda81d9&quot;,\n",
       "                {\n",
       "                    center: [37.55, 126.98],\n",
       "                    crs: L.CRS.EPSG3857,\n",
       "                    zoom: 12,\n",
       "                    zoomControl: true,\n",
       "                    preferCanvas: false,\n",
       "                }\n",
       "            );\n",
       "\n",
       "            \n",
       "\n",
       "        \n",
       "    \n",
       "            var tile_layer_d5d36516ad32ede77293e339c1b8ef6e = L.tileLayer(\n",
       "                &quot;https://{s}.tile.openstreetmap.org/{z}/{x}/{y}.png&quot;,\n",
       "                {&quot;attribution&quot;: &quot;Data by \\u0026copy; \\u003ca href=\\&quot;http://openstreetmap.org\\&quot;\\u003eOpenStreetMap\\u003c/a\\u003e, under \\u003ca href=\\&quot;http://www.openstreetmap.org/copyright\\&quot;\\u003eODbL\\u003c/a\\u003e.&quot;, &quot;detectRetina&quot;: false, &quot;maxNativeZoom&quot;: 18, &quot;maxZoom&quot;: 18, &quot;minZoom&quot;: 0, &quot;noWrap&quot;: false, &quot;opacity&quot;: 1, &quot;subdomains&quot;: &quot;abc&quot;, &quot;tms&quot;: false}\n",
       "            ).addTo(map_4b428deafe1ca12c386b4b293eda81d9);\n",
       "        \n",
       "&lt;/script&gt;\" style=\"position:absolute;width:100%;height:100%;left:0;top:0;border:none !important;\" allowfullscreen webkitallowfullscreen mozallowfullscreen></iframe></div></div>"
      ],
      "text/plain": [
       "<folium.folium.Map at 0x1d63d333c70>"
      ]
     },
     "execution_count": 6,
     "metadata": {},
     "output_type": "execute_result"
    }
   ],
   "source": [
    "seoul_map = folium.Map(location = [37.55,126.98], zoom_start = 12)\n",
    "\n",
    "seoul_map"
   ]
  },
  {
   "cell_type": "code",
   "execution_count": 5,
   "id": "b8a46822-3b31-46e8-924e-9fa6321c982f",
   "metadata": {
    "collapsed": true,
    "jupyter": {
     "outputs_hidden": true
    },
    "tags": []
   },
   "outputs": [
    {
     "data": {
      "text/html": [
       "<div style=\"width:100%;\"><div style=\"position:relative;width:100%;height:0;padding-bottom:60%;\"><span style=\"color:#565656\">Make this Notebook Trusted to load map: File -> Trust Notebook</span><iframe srcdoc=\"&lt;!DOCTYPE html&gt;\n",
       "&lt;head&gt;    \n",
       "    &lt;meta http-equiv=&quot;content-type&quot; content=&quot;text/html; charset=UTF-8&quot; /&gt;\n",
       "    \n",
       "        &lt;script&gt;\n",
       "            L_NO_TOUCH = false;\n",
       "            L_DISABLE_3D = false;\n",
       "        &lt;/script&gt;\n",
       "    \n",
       "    &lt;style&gt;html, body {width: 100%;height: 100%;margin: 0;padding: 0;}&lt;/style&gt;\n",
       "    &lt;style&gt;#map {position:absolute;top:0;bottom:0;right:0;left:0;}&lt;/style&gt;\n",
       "    &lt;script src=&quot;https://cdn.jsdelivr.net/npm/leaflet@1.6.0/dist/leaflet.js&quot;&gt;&lt;/script&gt;\n",
       "    &lt;script src=&quot;https://code.jquery.com/jquery-1.12.4.min.js&quot;&gt;&lt;/script&gt;\n",
       "    &lt;script src=&quot;https://maxcdn.bootstrapcdn.com/bootstrap/3.2.0/js/bootstrap.min.js&quot;&gt;&lt;/script&gt;\n",
       "    &lt;script src=&quot;https://cdnjs.cloudflare.com/ajax/libs/Leaflet.awesome-markers/2.0.2/leaflet.awesome-markers.js&quot;&gt;&lt;/script&gt;\n",
       "    &lt;link rel=&quot;stylesheet&quot; href=&quot;https://cdn.jsdelivr.net/npm/leaflet@1.6.0/dist/leaflet.css&quot;/&gt;\n",
       "    &lt;link rel=&quot;stylesheet&quot; href=&quot;https://maxcdn.bootstrapcdn.com/bootstrap/3.2.0/css/bootstrap.min.css&quot;/&gt;\n",
       "    &lt;link rel=&quot;stylesheet&quot; href=&quot;https://maxcdn.bootstrapcdn.com/bootstrap/3.2.0/css/bootstrap-theme.min.css&quot;/&gt;\n",
       "    &lt;link rel=&quot;stylesheet&quot; href=&quot;https://maxcdn.bootstrapcdn.com/font-awesome/4.6.3/css/font-awesome.min.css&quot;/&gt;\n",
       "    &lt;link rel=&quot;stylesheet&quot; href=&quot;https://cdnjs.cloudflare.com/ajax/libs/Leaflet.awesome-markers/2.0.2/leaflet.awesome-markers.css&quot;/&gt;\n",
       "    &lt;link rel=&quot;stylesheet&quot; href=&quot;https://cdn.jsdelivr.net/gh/python-visualization/folium/folium/templates/leaflet.awesome.rotate.min.css&quot;/&gt;\n",
       "    \n",
       "            &lt;meta name=&quot;viewport&quot; content=&quot;width=device-width,\n",
       "                initial-scale=1.0, maximum-scale=1.0, user-scalable=no&quot; /&gt;\n",
       "            &lt;style&gt;\n",
       "                #map_d2b4ebef5c13e4627c1d35286ed1d348 {\n",
       "                    position: relative;\n",
       "                    width: 100.0%;\n",
       "                    height: 100.0%;\n",
       "                    left: 0.0%;\n",
       "                    top: 0.0%;\n",
       "                }\n",
       "            &lt;/style&gt;\n",
       "        \n",
       "&lt;/head&gt;\n",
       "&lt;body&gt;    \n",
       "    \n",
       "            &lt;div class=&quot;folium-map&quot; id=&quot;map_d2b4ebef5c13e4627c1d35286ed1d348&quot; &gt;&lt;/div&gt;\n",
       "        \n",
       "&lt;/body&gt;\n",
       "&lt;script&gt;    \n",
       "    \n",
       "            var map_d2b4ebef5c13e4627c1d35286ed1d348 = L.map(\n",
       "                &quot;map_d2b4ebef5c13e4627c1d35286ed1d348&quot;,\n",
       "                {\n",
       "                    center: [37.55, 126.98],\n",
       "                    crs: L.CRS.EPSG3857,\n",
       "                    zoom: 12,\n",
       "                    zoomControl: true,\n",
       "                    preferCanvas: false,\n",
       "                }\n",
       "            );\n",
       "\n",
       "            \n",
       "\n",
       "        \n",
       "    \n",
       "            var tile_layer_0c0a68b3e742b300e4ef2ed5ca9fd10f = L.tileLayer(\n",
       "                &quot;https://{s}.tile.openstreetmap.org/{z}/{x}/{y}.png&quot;,\n",
       "                {&quot;attribution&quot;: &quot;Data by \\u0026copy; \\u003ca href=\\&quot;http://openstreetmap.org\\&quot;\\u003eOpenStreetMap\\u003c/a\\u003e, under \\u003ca href=\\&quot;http://www.openstreetmap.org/copyright\\&quot;\\u003eODbL\\u003c/a\\u003e.&quot;, &quot;detectRetina&quot;: false, &quot;maxNativeZoom&quot;: 18, &quot;maxZoom&quot;: 18, &quot;minZoom&quot;: 0, &quot;noWrap&quot;: false, &quot;opacity&quot;: 1, &quot;subdomains&quot;: &quot;abc&quot;, &quot;tms&quot;: false}\n",
       "            ).addTo(map_d2b4ebef5c13e4627c1d35286ed1d348);\n",
       "        \n",
       "    \n",
       "            var marker_7aac07a046300bc7696df7d9c7c4d1f5 = L.marker(\n",
       "                [37.592573, 127.046737],\n",
       "                {}\n",
       "            ).addTo(map_d2b4ebef5c13e4627c1d35286ed1d348);\n",
       "        \n",
       "    \n",
       "            marker_7aac07a046300bc7696df7d9c7c4d1f5.bindTooltip(\n",
       "                `&lt;div&gt;\n",
       "                     KAIST 서울캠퍼스 \n",
       "                 &lt;/div&gt;`,\n",
       "                {&quot;sticky&quot;: true}\n",
       "            );\n",
       "        \n",
       "    \n",
       "            var marker_76a5303bb9c1ad2149df9e8df316f032 = L.marker(\n",
       "                [37.5483449, 126.8547974],\n",
       "                {}\n",
       "            ).addTo(map_d2b4ebef5c13e4627c1d35286ed1d348);\n",
       "        \n",
       "    \n",
       "            marker_76a5303bb9c1ad2149df9e8df316f032.bindTooltip(\n",
       "                `&lt;div&gt;\n",
       "                     KC대학교\n",
       "                 &lt;/div&gt;`,\n",
       "                {&quot;sticky&quot;: true}\n",
       "            );\n",
       "        \n",
       "    \n",
       "            var marker_50ed21379e31fb8f4b90fe13d3e3f95b = L.marker(\n",
       "                [37.5859218, 127.0043275],\n",
       "                {}\n",
       "            ).addTo(map_d2b4ebef5c13e4627c1d35286ed1d348);\n",
       "        \n",
       "    \n",
       "            marker_50ed21379e31fb8f4b90fe13d3e3f95b.bindTooltip(\n",
       "                `&lt;div&gt;\n",
       "                     가톨릭대학교(성신교정)\n",
       "                 &lt;/div&gt;`,\n",
       "                {&quot;sticky&quot;: true}\n",
       "            );\n",
       "        \n",
       "    \n",
       "            var marker_9d342670425a80c39a44f68072f1e93a = L.marker(\n",
       "                [37.4996227, 127.0060653],\n",
       "                {}\n",
       "            ).addTo(map_d2b4ebef5c13e4627c1d35286ed1d348);\n",
       "        \n",
       "    \n",
       "            marker_9d342670425a80c39a44f68072f1e93a.bindTooltip(\n",
       "                `&lt;div&gt;\n",
       "                     가톨릭대학교(성의교정)\n",
       "                 &lt;/div&gt;`,\n",
       "                {&quot;sticky&quot;: true}\n",
       "            );\n",
       "        \n",
       "    \n",
       "            var marker_aea45ce482c7bd26fa9476c841ba0d4a = L.marker(\n",
       "                [37.5676455, 126.96161],\n",
       "                {}\n",
       "            ).addTo(map_d2b4ebef5c13e4627c1d35286ed1d348);\n",
       "        \n",
       "    \n",
       "            marker_aea45ce482c7bd26fa9476c841ba0d4a.bindTooltip(\n",
       "                `&lt;div&gt;\n",
       "                     감리교신학대학교\n",
       "                 &lt;/div&gt;`,\n",
       "                {&quot;sticky&quot;: true}\n",
       "            );\n",
       "        \n",
       "    \n",
       "            var marker_308954ca08373555fae26f55d55df14e = L.marker(\n",
       "                [37.5407625, 127.0793428],\n",
       "                {}\n",
       "            ).addTo(map_d2b4ebef5c13e4627c1d35286ed1d348);\n",
       "        \n",
       "    \n",
       "            marker_308954ca08373555fae26f55d55df14e.bindTooltip(\n",
       "                `&lt;div&gt;\n",
       "                     건국대학교\n",
       "                 &lt;/div&gt;`,\n",
       "                {&quot;sticky&quot;: true}\n",
       "            );\n",
       "        \n",
       "    \n",
       "            var marker_23e83ea8dc6bf36afc1cb9fcdefd6035 = L.marker(\n",
       "                [37.30048499999999, 127.035833],\n",
       "                {}\n",
       "            ).addTo(map_d2b4ebef5c13e4627c1d35286ed1d348);\n",
       "        \n",
       "    \n",
       "            marker_23e83ea8dc6bf36afc1cb9fcdefd6035.bindTooltip(\n",
       "                `&lt;div&gt;\n",
       "                     경기대학교 서울캠퍼스 \n",
       "                 &lt;/div&gt;`,\n",
       "                {&quot;sticky&quot;: true}\n",
       "            );\n",
       "        \n",
       "    \n",
       "            var marker_8f945f6199d4801119e181447adc1329 = L.marker(\n",
       "                [37.5961951, 127.052544],\n",
       "                {}\n",
       "            ).addTo(map_d2b4ebef5c13e4627c1d35286ed1d348);\n",
       "        \n",
       "    \n",
       "            marker_8f945f6199d4801119e181447adc1329.bindTooltip(\n",
       "                `&lt;div&gt;\n",
       "                     경희대학교 서울캠퍼스 \n",
       "                 &lt;/div&gt;`,\n",
       "                {&quot;sticky&quot;: true}\n",
       "            );\n",
       "        \n",
       "    \n",
       "            var marker_3293591f2cc7b542251825c4e0e9023f = L.marker(\n",
       "                [37.59019162, 127.03318417123],\n",
       "                {}\n",
       "            ).addTo(map_d2b4ebef5c13e4627c1d35286ed1d348);\n",
       "        \n",
       "    \n",
       "            marker_3293591f2cc7b542251825c4e0e9023f.bindTooltip(\n",
       "                `&lt;div&gt;\n",
       "                     고려대학교\n",
       "                 &lt;/div&gt;`,\n",
       "                {&quot;sticky&quot;: true}\n",
       "            );\n",
       "        \n",
       "    \n",
       "            var marker_be005217891f16f7781f9a555e0476f9 = L.marker(\n",
       "                [37.6194965, 127.0596958],\n",
       "                {}\n",
       "            ).addTo(map_d2b4ebef5c13e4627c1d35286ed1d348);\n",
       "        \n",
       "    \n",
       "            marker_be005217891f16f7781f9a555e0476f9.bindTooltip(\n",
       "                `&lt;div&gt;\n",
       "                     광운대학교\n",
       "                 &lt;/div&gt;`,\n",
       "                {&quot;sticky&quot;: true}\n",
       "            );\n",
       "        \n",
       "    \n",
       "            var marker_8e6b436b59956c3908877571493e0bc4 = L.marker(\n",
       "                [37.6096409, 126.997697],\n",
       "                {}\n",
       "            ).addTo(map_d2b4ebef5c13e4627c1d35286ed1d348);\n",
       "        \n",
       "    \n",
       "            marker_8e6b436b59956c3908877571493e0bc4.bindTooltip(\n",
       "                `&lt;div&gt;\n",
       "                     국민대학교\n",
       "                 &lt;/div&gt;`,\n",
       "                {&quot;sticky&quot;: true}\n",
       "            );\n",
       "        \n",
       "    \n",
       "            var marker_905c48884f44587e0a6988528b9b1311 = L.marker(\n",
       "                [37.6511988, 127.0161604],\n",
       "                {}\n",
       "            ).addTo(map_d2b4ebef5c13e4627c1d35286ed1d348);\n",
       "        \n",
       "    \n",
       "            marker_905c48884f44587e0a6988528b9b1311.bindTooltip(\n",
       "                `&lt;div&gt;\n",
       "                     덕성여자대학교\n",
       "                 &lt;/div&gt;`,\n",
       "                {&quot;sticky&quot;: true}\n",
       "            );\n",
       "        \n",
       "    \n",
       "            var marker_8420f0228029c9a8e158d620a1cfd2b5 = L.marker(\n",
       "                [37.5574771, 127.0020518],\n",
       "                {}\n",
       "            ).addTo(map_d2b4ebef5c13e4627c1d35286ed1d348);\n",
       "        \n",
       "    \n",
       "            marker_8420f0228029c9a8e158d620a1cfd2b5.bindTooltip(\n",
       "                `&lt;div&gt;\n",
       "                     동국대학교\n",
       "                 &lt;/div&gt;`,\n",
       "                {&quot;sticky&quot;: true}\n",
       "            );\n",
       "        \n",
       "    \n",
       "            var marker_13841915e86f824c994cb8e529c5f52c = L.marker(\n",
       "                [37.6063202, 127.041808],\n",
       "                {}\n",
       "            ).addTo(map_d2b4ebef5c13e4627c1d35286ed1d348);\n",
       "        \n",
       "    \n",
       "            marker_13841915e86f824c994cb8e529c5f52c.bindTooltip(\n",
       "                `&lt;div&gt;\n",
       "                     동덕여자대학교\n",
       "                 &lt;/div&gt;`,\n",
       "                {&quot;sticky&quot;: true}\n",
       "            );\n",
       "        \n",
       "    \n",
       "            var marker_cebb4ca64cf34d581f5bb647ad3371dc = L.marker(\n",
       "                [37.5802046, 126.9234451],\n",
       "                {}\n",
       "            ).addTo(map_d2b4ebef5c13e4627c1d35286ed1d348);\n",
       "        \n",
       "    \n",
       "            marker_cebb4ca64cf34d581f5bb647ad3371dc.bindTooltip(\n",
       "                `&lt;div&gt;\n",
       "                     명지대학교 서울캠퍼스 \n",
       "                 &lt;/div&gt;`,\n",
       "                {&quot;sticky&quot;: true}\n",
       "            );\n",
       "        \n",
       "    \n",
       "            var marker_48fee2a1c96f776995ba1faa6e9450f5 = L.marker(\n",
       "                [37.6429515, 127.1054757],\n",
       "                {}\n",
       "            ).addTo(map_d2b4ebef5c13e4627c1d35286ed1d348);\n",
       "        \n",
       "    \n",
       "            marker_48fee2a1c96f776995ba1faa6e9450f5.bindTooltip(\n",
       "                `&lt;div&gt;\n",
       "                     삼육대학교\n",
       "                 &lt;/div&gt;`,\n",
       "                {&quot;sticky&quot;: true}\n",
       "            );\n",
       "        \n",
       "    \n",
       "            var marker_4f4ef8fe665ecd77d8193a46e25e1901 = L.marker(\n",
       "                [37.602638, 126.955252],\n",
       "                {}\n",
       "            ).addTo(map_d2b4ebef5c13e4627c1d35286ed1d348);\n",
       "        \n",
       "    \n",
       "            marker_4f4ef8fe665ecd77d8193a46e25e1901.bindTooltip(\n",
       "                `&lt;div&gt;\n",
       "                     상명대학교 서울캠퍼스 \n",
       "                 &lt;/div&gt;`,\n",
       "                {&quot;sticky&quot;: true}\n",
       "            );\n",
       "        \n",
       "    \n",
       "            var marker_06e9415e7aa3cdc6b6f167c3edfded15 = L.marker(\n",
       "                [37.5509442, 126.9410023],\n",
       "                {}\n",
       "            ).addTo(map_d2b4ebef5c13e4627c1d35286ed1d348);\n",
       "        \n",
       "    \n",
       "            marker_06e9415e7aa3cdc6b6f167c3edfded15.bindTooltip(\n",
       "                `&lt;div&gt;\n",
       "                     서강대학교\n",
       "                 &lt;/div&gt;`,\n",
       "                {&quot;sticky&quot;: true}\n",
       "            );\n",
       "        \n",
       "    \n",
       "            var marker_9c62257ea9206a1d579febfb3d822dbf = L.marker(\n",
       "                [37.615095, 127.0131113],\n",
       "                {}\n",
       "            ).addTo(map_d2b4ebef5c13e4627c1d35286ed1d348);\n",
       "        \n",
       "    \n",
       "            marker_9c62257ea9206a1d579febfb3d822dbf.bindTooltip(\n",
       "                `&lt;div&gt;\n",
       "                     서경대학교\n",
       "                 &lt;/div&gt;`,\n",
       "                {&quot;sticky&quot;: true}\n",
       "            );\n",
       "        \n",
       "    \n",
       "            var marker_a20e3e0d3c542e52e99426cad4b05a7a = L.marker(\n",
       "                [37.6316684, 127.0774813],\n",
       "                {}\n",
       "            ).addTo(map_d2b4ebef5c13e4627c1d35286ed1d348);\n",
       "        \n",
       "    \n",
       "            marker_a20e3e0d3c542e52e99426cad4b05a7a.bindTooltip(\n",
       "                `&lt;div&gt;\n",
       "                     서울과학기술대학교\n",
       "                 &lt;/div&gt;`,\n",
       "                {&quot;sticky&quot;: true}\n",
       "            );\n",
       "        \n",
       "    \n",
       "            var marker_2dc670e4f3b4c7810dcfb44a1351d186 = L.marker(\n",
       "                [37.4899615, 127.0164124],\n",
       "                {}\n",
       "            ).addTo(map_d2b4ebef5c13e4627c1d35286ed1d348);\n",
       "        \n",
       "    \n",
       "            marker_2dc670e4f3b4c7810dcfb44a1351d186.bindTooltip(\n",
       "                `&lt;div&gt;\n",
       "                     서울교육대학교\n",
       "                 &lt;/div&gt;`,\n",
       "                {&quot;sticky&quot;: true}\n",
       "            );\n",
       "        \n",
       "    \n",
       "            var marker_989bd9fdcb86ca7f7f6d1be21203f27f = L.marker(\n",
       "                [37.6009228, 126.9123818],\n",
       "                {}\n",
       "            ).addTo(map_d2b4ebef5c13e4627c1d35286ed1d348);\n",
       "        \n",
       "    \n",
       "            marker_989bd9fdcb86ca7f7f6d1be21203f27f.bindTooltip(\n",
       "                `&lt;div&gt;\n",
       "                     서울기독대학교\n",
       "                 &lt;/div&gt;`,\n",
       "                {&quot;sticky&quot;: true}\n",
       "            );\n",
       "        \n",
       "    \n",
       "            var marker_31830598104065acc3ec772380a6f926 = L.marker(\n",
       "                [37.459882, 126.9519053],\n",
       "                {}\n",
       "            ).addTo(map_d2b4ebef5c13e4627c1d35286ed1d348);\n",
       "        \n",
       "    \n",
       "            marker_31830598104065acc3ec772380a6f926.bindTooltip(\n",
       "                `&lt;div&gt;\n",
       "                     서울대학교\n",
       "                 &lt;/div&gt;`,\n",
       "                {&quot;sticky&quot;: true}\n",
       "            );\n",
       "        \n",
       "    \n",
       "            var marker_b8d9e5989e2eab5a45159ca07f0e039c = L.marker(\n",
       "                [37.5838657, 127.0587771],\n",
       "                {}\n",
       "            ).addTo(map_d2b4ebef5c13e4627c1d35286ed1d348);\n",
       "        \n",
       "    \n",
       "            marker_b8d9e5989e2eab5a45159ca07f0e039c.bindTooltip(\n",
       "                `&lt;div&gt;\n",
       "                     서울시립대학교\n",
       "                 &lt;/div&gt;`,\n",
       "                {&quot;sticky&quot;: true}\n",
       "            );\n",
       "        \n",
       "    \n",
       "            var marker_d55ec0fb7cd04292bfa2b1accb351d08 = L.marker(\n",
       "                [37.6281126, 127.0904568],\n",
       "                {}\n",
       "            ).addTo(map_d2b4ebef5c13e4627c1d35286ed1d348);\n",
       "        \n",
       "    \n",
       "            marker_d55ec0fb7cd04292bfa2b1accb351d08.bindTooltip(\n",
       "                `&lt;div&gt;\n",
       "                     서울여자대학교\n",
       "                 &lt;/div&gt;`,\n",
       "                {&quot;sticky&quot;: true}\n",
       "            );\n",
       "        \n",
       "    \n",
       "            var marker_6a52b12a33bc97393a8c83d88e845a77 = L.marker(\n",
       "                [37.4965411, 126.8512616],\n",
       "                {}\n",
       "            ).addTo(map_d2b4ebef5c13e4627c1d35286ed1d348);\n",
       "        \n",
       "    \n",
       "            marker_6a52b12a33bc97393a8c83d88e845a77.bindTooltip(\n",
       "                `&lt;div&gt;\n",
       "                     서울한영대학교\n",
       "                 &lt;/div&gt;`,\n",
       "                {&quot;sticky&quot;: true}\n",
       "            );\n",
       "        \n",
       "    \n",
       "            var marker_2ce8160ce59034fa1450217f73d22713 = L.marker(\n",
       "                [37.4872325, 126.8253202],\n",
       "                {}\n",
       "            ).addTo(map_d2b4ebef5c13e4627c1d35286ed1d348);\n",
       "        \n",
       "    \n",
       "            marker_2ce8160ce59034fa1450217f73d22713.bindTooltip(\n",
       "                `&lt;div&gt;\n",
       "                     성공회대학교\n",
       "                 &lt;/div&gt;`,\n",
       "                {&quot;sticky&quot;: true}\n",
       "            );\n",
       "        \n",
       "    \n",
       "            var marker_bd979a73311b617caa056aa4a1667681 = L.marker(\n",
       "                [37.588227, 126.993606],\n",
       "                {}\n",
       "            ).addTo(map_d2b4ebef5c13e4627c1d35286ed1d348);\n",
       "        \n",
       "    \n",
       "            marker_bd979a73311b617caa056aa4a1667681.bindTooltip(\n",
       "                `&lt;div&gt;\n",
       "                     성균관대학교 서울캠퍼스  \n",
       "                 &lt;/div&gt;`,\n",
       "                {&quot;sticky&quot;: true}\n",
       "            );\n",
       "        \n",
       "    \n",
       "            var marker_6c2a3db2947838c0e666b7b151e13838 = L.marker(\n",
       "                [37.5913103, 127.0221312],\n",
       "                {}\n",
       "            ).addTo(map_d2b4ebef5c13e4627c1d35286ed1d348);\n",
       "        \n",
       "    \n",
       "            marker_6c2a3db2947838c0e666b7b151e13838.bindTooltip(\n",
       "                `&lt;div&gt;\n",
       "                     성신여자대학교\n",
       "                 &lt;/div&gt;`,\n",
       "                {&quot;sticky&quot;: true}\n",
       "            );\n",
       "        \n",
       "    \n",
       "            var marker_90be1fb27714d964e2c686b40cb070c2 = L.marker(\n",
       "                [37.5502596, 127.073139],\n",
       "                {}\n",
       "            ).addTo(map_d2b4ebef5c13e4627c1d35286ed1d348);\n",
       "        \n",
       "    \n",
       "            marker_90be1fb27714d964e2c686b40cb070c2.bindTooltip(\n",
       "                `&lt;div&gt;\n",
       "                     세종대학교\n",
       "                 &lt;/div&gt;`,\n",
       "                {&quot;sticky&quot;: true}\n",
       "            );\n",
       "        \n",
       "    \n",
       "            var marker_7b97b4f144fdd6695c5dd5a70731a601 = L.marker(\n",
       "                [37.5463644, 126.9648311],\n",
       "                {}\n",
       "            ).addTo(map_d2b4ebef5c13e4627c1d35286ed1d348);\n",
       "        \n",
       "    \n",
       "            marker_7b97b4f144fdd6695c5dd5a70731a601.bindTooltip(\n",
       "                `&lt;div&gt;\n",
       "                     숙명여자대학교\n",
       "                 &lt;/div&gt;`,\n",
       "                {&quot;sticky&quot;: true}\n",
       "            );\n",
       "        \n",
       "    \n",
       "            var marker_7b5df56639871ac9d06d41683b77f563 = L.marker(\n",
       "                [37.4963111, 126.9574596],\n",
       "                {}\n",
       "            ).addTo(map_d2b4ebef5c13e4627c1d35286ed1d348);\n",
       "        \n",
       "    \n",
       "            marker_7b5df56639871ac9d06d41683b77f563.bindTooltip(\n",
       "                `&lt;div&gt;\n",
       "                     숭실대학교\n",
       "                 &lt;/div&gt;`,\n",
       "                {&quot;sticky&quot;: true}\n",
       "            );\n",
       "        \n",
       "    \n",
       "            var marker_f431bbb18ff97dcaa9def9c580a06826 = L.marker(\n",
       "                [37.565784, 126.938572],\n",
       "                {}\n",
       "            ).addTo(map_d2b4ebef5c13e4627c1d35286ed1d348);\n",
       "        \n",
       "    \n",
       "            marker_f431bbb18ff97dcaa9def9c580a06826.bindTooltip(\n",
       "                `&lt;div&gt;\n",
       "                     연세대학교\n",
       "                 &lt;/div&gt;`,\n",
       "                {&quot;sticky&quot;: true}\n",
       "            );\n",
       "        \n",
       "    \n",
       "            var marker_a96684e79d616fe274d4200cc29d9d48 = L.marker(\n",
       "                [37.6238188, 127.0988783],\n",
       "                {}\n",
       "            ).addTo(map_d2b4ebef5c13e4627c1d35286ed1d348);\n",
       "        \n",
       "    \n",
       "            marker_a96684e79d616fe274d4200cc29d9d48.bindTooltip(\n",
       "                `&lt;div&gt;\n",
       "                     육군사관학교\n",
       "                 &lt;/div&gt;`,\n",
       "                {&quot;sticky&quot;: true}\n",
       "            );\n",
       "        \n",
       "    \n",
       "            var marker_c0e71b2576de4e8e6859def10d2b9999 = L.marker(\n",
       "                [37.5643079, 126.9501786],\n",
       "                {}\n",
       "            ).addTo(map_d2b4ebef5c13e4627c1d35286ed1d348);\n",
       "        \n",
       "    \n",
       "            marker_c0e71b2576de4e8e6859def10d2b9999.bindTooltip(\n",
       "                `&lt;div&gt;\n",
       "                     이화여자대학교\n",
       "                 &lt;/div&gt;`,\n",
       "                {&quot;sticky&quot;: true}\n",
       "            );\n",
       "        \n",
       "    \n",
       "            var marker_da1bcf7f208e4b91e096de438c21a2a0 = L.marker(\n",
       "                [37.5505112, 127.1034577],\n",
       "                {}\n",
       "            ).addTo(map_d2b4ebef5c13e4627c1d35286ed1d348);\n",
       "        \n",
       "    \n",
       "            marker_da1bcf7f208e4b91e096de438c21a2a0.bindTooltip(\n",
       "                `&lt;div&gt;\n",
       "                     장로회신학대학교\n",
       "                 &lt;/div&gt;`,\n",
       "                {&quot;sticky&quot;: true}\n",
       "            );\n",
       "        \n",
       "    \n",
       "            var marker_089533c6bcb51184032a8c97bfc87f4c = L.marker(\n",
       "                [37.5050881, 126.9571012],\n",
       "                {}\n",
       "            ).addTo(map_d2b4ebef5c13e4627c1d35286ed1d348);\n",
       "        \n",
       "    \n",
       "            marker_089533c6bcb51184032a8c97bfc87f4c.bindTooltip(\n",
       "                `&lt;div&gt;\n",
       "                     중앙대학교 서울캠퍼스 \n",
       "                 &lt;/div&gt;`,\n",
       "                {&quot;sticky&quot;: true}\n",
       "            );\n",
       "        \n",
       "    \n",
       "            var marker_3d83e3d68b99956bc9573ff33971639f = L.marker(\n",
       "                [37.4886232, 126.9668169],\n",
       "                {}\n",
       "            ).addTo(map_d2b4ebef5c13e4627c1d35286ed1d348);\n",
       "        \n",
       "    \n",
       "            marker_3d83e3d68b99956bc9573ff33971639f.bindTooltip(\n",
       "                `&lt;div&gt;\n",
       "                     총신대학교\n",
       "                 &lt;/div&gt;`,\n",
       "                {&quot;sticky&quot;: true}\n",
       "            );\n",
       "        \n",
       "    \n",
       "            var marker_e610471d4b32580e266e5ea704cdeaa7 = L.marker(\n",
       "                [37.5624515, 126.9534165],\n",
       "                {}\n",
       "            ).addTo(map_d2b4ebef5c13e4627c1d35286ed1d348);\n",
       "        \n",
       "    \n",
       "            marker_e610471d4b32580e266e5ea704cdeaa7.bindTooltip(\n",
       "                `&lt;div&gt;\n",
       "                     추계예술대학교\n",
       "                 &lt;/div&gt;`,\n",
       "                {&quot;sticky&quot;: true}\n",
       "            );\n",
       "        \n",
       "    \n",
       "            var marker_f162ada43db9fd17a64747bdea518b4d = L.marker(\n",
       "                [37.5786127, 127.0032905],\n",
       "                {}\n",
       "            ).addTo(map_d2b4ebef5c13e4627c1d35286ed1d348);\n",
       "        \n",
       "    \n",
       "            marker_f162ada43db9fd17a64747bdea518b4d.bindTooltip(\n",
       "                `&lt;div&gt;\n",
       "                     한국방송통신대학교\n",
       "                 &lt;/div&gt;`,\n",
       "                {&quot;sticky&quot;: true}\n",
       "            );\n",
       "        \n",
       "    \n",
       "            var marker_a12d26fe6a2bccaeb764e52325b2af54 = L.marker(\n",
       "                [37.6487485, 127.0643199],\n",
       "                {}\n",
       "            ).addTo(map_d2b4ebef5c13e4627c1d35286ed1d348);\n",
       "        \n",
       "    \n",
       "            marker_a12d26fe6a2bccaeb764e52325b2af54.bindTooltip(\n",
       "                `&lt;div&gt;\n",
       "                     한국성서대학교\n",
       "                 &lt;/div&gt;`,\n",
       "                {&quot;sticky&quot;: true}\n",
       "            );\n",
       "        \n",
       "    \n",
       "            var marker_d9a515022bb26d5f6f76600d63c15709 = L.marker(\n",
       "                [37.6049973, 127.0567397],\n",
       "                {}\n",
       "            ).addTo(map_d2b4ebef5c13e4627c1d35286ed1d348);\n",
       "        \n",
       "    \n",
       "            marker_d9a515022bb26d5f6f76600d63c15709.bindTooltip(\n",
       "                `&lt;div&gt;\n",
       "                     한국예술종합학교\n",
       "                 &lt;/div&gt;`,\n",
       "                {&quot;sticky&quot;: true}\n",
       "            );\n",
       "        \n",
       "    \n",
       "            var marker_40e5ebfeeeee59e4179acb85ed5efb72 = L.marker(\n",
       "                [37.597319, 127.057843],\n",
       "                {}\n",
       "            ).addTo(map_d2b4ebef5c13e4627c1d35286ed1d348);\n",
       "        \n",
       "    \n",
       "            marker_40e5ebfeeeee59e4179acb85ed5efb72.bindTooltip(\n",
       "                `&lt;div&gt;\n",
       "                     한국외국어대학교\n",
       "                 &lt;/div&gt;`,\n",
       "                {&quot;sticky&quot;: true}\n",
       "            );\n",
       "        \n",
       "    \n",
       "            var marker_976567dc20148f014ad3c67ae873a4fb = L.marker(\n",
       "                [37.5196266, 127.1309837],\n",
       "                {}\n",
       "            ).addTo(map_d2b4ebef5c13e4627c1d35286ed1d348);\n",
       "        \n",
       "    \n",
       "            marker_976567dc20148f014ad3c67ae873a4fb.bindTooltip(\n",
       "                `&lt;div&gt;\n",
       "                     한국체육대학교\n",
       "                 &lt;/div&gt;`,\n",
       "                {&quot;sticky&quot;: true}\n",
       "            );\n",
       "        \n",
       "    \n",
       "            var marker_91ec34ea027e54dd1e9df5f2b9dae277 = L.marker(\n",
       "                [37.5817849, 127.010369],\n",
       "                {}\n",
       "            ).addTo(map_d2b4ebef5c13e4627c1d35286ed1d348);\n",
       "        \n",
       "    \n",
       "            marker_91ec34ea027e54dd1e9df5f2b9dae277.bindTooltip(\n",
       "                `&lt;div&gt;\n",
       "                     한성대학교\n",
       "                 &lt;/div&gt;`,\n",
       "                {&quot;sticky&quot;: true}\n",
       "            );\n",
       "        \n",
       "    \n",
       "            var marker_0e2b3f794c637a7dc2e850ed026fc18f = L.marker(\n",
       "                [37.5572321, 127.0453219],\n",
       "                {}\n",
       "            ).addTo(map_d2b4ebef5c13e4627c1d35286ed1d348);\n",
       "        \n",
       "    \n",
       "            marker_0e2b3f794c637a7dc2e850ed026fc18f.bindTooltip(\n",
       "                `&lt;div&gt;\n",
       "                     한양대학교\n",
       "                 &lt;/div&gt;`,\n",
       "                {&quot;sticky&quot;: true}\n",
       "            );\n",
       "        \n",
       "    \n",
       "            var marker_4e2f393d09cbcfb364ee0b308140d232 = L.marker(\n",
       "                [37.5514642, 126.9250106],\n",
       "                {}\n",
       "            ).addTo(map_d2b4ebef5c13e4627c1d35286ed1d348);\n",
       "        \n",
       "    \n",
       "            marker_4e2f393d09cbcfb364ee0b308140d232.bindTooltip(\n",
       "                `&lt;div&gt;\n",
       "                     홍익대학교\n",
       "                 &lt;/div&gt;`,\n",
       "                {&quot;sticky&quot;: true}\n",
       "            );\n",
       "        \n",
       "&lt;/script&gt;\" style=\"position:absolute;width:100%;height:100%;left:0;top:0;border:none !important;\" allowfullscreen webkitallowfullscreen mozallowfullscreen></iframe></div></div>"
      ],
      "text/plain": [
       "<folium.folium.Map at 0x1d63d3335b0>"
      ]
     },
     "execution_count": 5,
     "metadata": {},
     "output_type": "execute_result"
    }
   ],
   "source": [
    "for name, a, b in zip(df.대학교, df.위도, df.경도):\n",
    "    folium.Marker([a, b], tooltip = name).add_to(seoul_map)\n",
    "    \n",
    "seoul_map"
   ]
  },
  {
   "cell_type": "markdown",
   "id": "3772c67f-e9af-47c3-962c-056d7500ed82",
   "metadata": {},
   "source": [
    "# Pickle"
   ]
  },
  {
   "cell_type": "code",
   "execution_count": 7,
   "id": "f52b4de7-5fe0-4d1d-8d6d-726e81a78f4a",
   "metadata": {},
   "outputs": [],
   "source": [
    "import pickle"
   ]
  },
  {
   "cell_type": "code",
   "execution_count": 8,
   "id": "7fd37903-9e49-4d3b-a82a-c3c5f2738291",
   "metadata": {},
   "outputs": [],
   "source": [
    "with open ('test.pickle', 'wb') as f:\n",
    "    pickle.dump(df, f)"
   ]
  },
  {
   "cell_type": "code",
   "execution_count": 9,
   "id": "5076c1e3-ada8-4806-ac3b-6988cb757a6d",
   "metadata": {
    "collapsed": true,
    "jupyter": {
     "outputs_hidden": true
    },
    "tags": []
   },
   "outputs": [
    {
     "name": "stdout",
     "output_type": "stream",
     "text": [
      "               대학교         위도          경도\n",
      "0     KAIST 서울캠퍼스   37.592573  127.046737\n",
      "1            KC대학교  37.548345  126.854797\n",
      "2     가톨릭대학교(성신교정)  37.585922  127.004328\n",
      "3     가톨릭대학교(성의교정)  37.499623  127.006065\n",
      "4         감리교신학대학교  37.567645  126.961610\n",
      "5            건국대학교  37.540762  127.079343\n",
      "6     경기대학교 서울캠퍼스   37.300485  127.035833\n",
      "7     경희대학교 서울캠퍼스   37.596195  127.052544\n",
      "8            고려대학교  37.590192  127.033184\n",
      "9            광운대학교  37.619496  127.059696\n",
      "10           국민대학교  37.609641  126.997697\n",
      "11         덕성여자대학교  37.651199  127.016160\n",
      "12           동국대학교  37.557477  127.002052\n",
      "13         동덕여자대학교  37.606320  127.041808\n",
      "14    명지대학교 서울캠퍼스   37.580205  126.923445\n",
      "15           삼육대학교  37.642952  127.105476\n",
      "16    상명대학교 서울캠퍼스   37.602638  126.955252\n",
      "17           서강대학교  37.550944  126.941002\n",
      "18           서경대학교  37.615095  127.013111\n",
      "19       서울과학기술대학교  37.631668  127.077481\n",
      "20         서울교육대학교  37.489961  127.016412\n",
      "21         서울기독대학교  37.600923  126.912382\n",
      "22           서울대학교  37.459882  126.951905\n",
      "23         서울시립대학교  37.583866  127.058777\n",
      "24         서울여자대학교  37.628113  127.090457\n",
      "25         서울한영대학교  37.496541  126.851262\n",
      "26          성공회대학교  37.487232  126.825320\n",
      "27  성균관대학교 서울캠퍼스    37.588227  126.993606\n",
      "28         성신여자대학교  37.591310  127.022131\n",
      "29           세종대학교  37.550260  127.073139\n",
      "30         숙명여자대학교  37.546364  126.964831\n",
      "31           숭실대학교  37.496311  126.957460\n",
      "32           연세대학교  37.565784  126.938572\n",
      "33          육군사관학교  37.623819  127.098878\n",
      "34         이화여자대학교  37.564308  126.950179\n",
      "35        장로회신학대학교  37.550511  127.103458\n",
      "36    중앙대학교 서울캠퍼스   37.505088  126.957101\n",
      "37           총신대학교  37.488623  126.966817\n",
      "38         추계예술대학교  37.562452  126.953417\n",
      "39       한국방송통신대학교  37.578613  127.003291\n",
      "40         한국성서대학교  37.648749  127.064320\n",
      "41        한국예술종합학교  37.604997  127.056740\n",
      "42        한국외국어대학교  37.597319  127.057843\n",
      "43         한국체육대학교  37.519627  127.130984\n",
      "44           한성대학교  37.581785  127.010369\n",
      "45           한양대학교  37.557232  127.045322\n",
      "46           홍익대학교  37.551464  126.925011\n"
     ]
    }
   ],
   "source": [
    "with open ('test.pickle', 'rb') as f:\n",
    "    data = pickle.load(f)\n",
    "print(data)"
   ]
  },
  {
   "cell_type": "markdown",
   "id": "2d7aa7d3-0662-4540-800f-44b12c5e68ae",
   "metadata": {},
   "source": [
    "# Glob"
   ]
  },
  {
   "cell_type": "code",
   "execution_count": 10,
   "id": "a3124171-e2aa-4e5e-a1f2-9388f43488aa",
   "metadata": {},
   "outputs": [
    {
     "data": {
      "text/plain": [
       "['C:\\\\Users\\\\admin\\\\Documents\\\\Python_Jupyter\\\\0901.ipynb',\n",
       " 'C:\\\\Users\\\\admin\\\\Documents\\\\Python_Jupyter\\\\0902.ipynb',\n",
       " 'C:\\\\Users\\\\admin\\\\Documents\\\\Python_Jupyter\\\\0905.ipynb',\n",
       " 'C:\\\\Users\\\\admin\\\\Documents\\\\Python_Jupyter\\\\0907.ipynb',\n",
       " 'C:\\\\Users\\\\admin\\\\Documents\\\\Python_Jupyter\\\\0908.ipynb',\n",
       " 'C:\\\\Users\\\\admin\\\\Documents\\\\Python_Jupyter\\\\0913.ipynb',\n",
       " 'C:\\\\Users\\\\admin\\\\Documents\\\\Python_Jupyter\\\\abc',\n",
       " 'C:\\\\Users\\\\admin\\\\Documents\\\\Python_Jupyter\\\\memo.txt',\n",
       " 'C:\\\\Users\\\\admin\\\\Documents\\\\Python_Jupyter\\\\new.txt',\n",
       " 'C:\\\\Users\\\\admin\\\\Documents\\\\Python_Jupyter\\\\people.txt',\n",
       " 'C:\\\\Users\\\\admin\\\\Documents\\\\Python_Jupyter\\\\test.pickle',\n",
       " 'C:\\\\Users\\\\admin\\\\Documents\\\\Python_Jupyter\\\\test.txt',\n",
       " 'C:\\\\Users\\\\admin\\\\Documents\\\\Python_Jupyter\\\\Untitled.ipynb',\n",
       " 'C:\\\\Users\\\\admin\\\\Documents\\\\Python_Jupyter\\\\서울지역대학교위치.xlsx']"
      ]
     },
     "execution_count": 10,
     "metadata": {},
     "output_type": "execute_result"
    }
   ],
   "source": [
    "import glob\n",
    "glob.glob(\"C:\\\\Users\\\\admin\\\\Documents\\\\Python_Jupyter\\\\*\")"
   ]
  },
  {
   "cell_type": "code",
   "execution_count": 70,
   "id": "f20114f9-541d-431c-aa46-19f3fa5e976f",
   "metadata": {},
   "outputs": [
    {
     "data": {
      "text/plain": [
       "['C:\\\\Users\\\\admin\\\\Documents\\\\Python_Jupyter\\\\aaaaa.csv',\n",
       " 'C:\\\\Users\\\\admin\\\\Documents\\\\Python_Jupyter\\\\abc']"
      ]
     },
     "execution_count": 70,
     "metadata": {},
     "output_type": "execute_result"
    }
   ],
   "source": [
    "glob.glob(\"C:\\\\Users\\\\admin\\\\Documents\\\\Python_Jupyter\\\\a*\")"
   ]
  },
  {
   "cell_type": "code",
   "execution_count": 71,
   "id": "251998f6-3fdf-455a-8201-44eec1fb93cf",
   "metadata": {},
   "outputs": [
    {
     "data": {
      "text/plain": [
       "['C:\\\\Users\\\\admin\\\\Documents\\\\Python_Jupyter\\\\aaaaa.csv']"
      ]
     },
     "execution_count": 71,
     "metadata": {},
     "output_type": "execute_result"
    }
   ],
   "source": [
    "glob.glob(\"C:\\\\Users\\\\admin\\\\Documents\\\\Python_Jupyter\\\\*.csv\")"
   ]
  },
  {
   "cell_type": "markdown",
   "id": "06b9622a-471e-4a7e-836a-97e4ba080467",
   "metadata": {},
   "source": [
    "# Time\n",
    "- 1970년 1월 1일 기준"
   ]
  },
  {
   "cell_type": "code",
   "execution_count": 2,
   "id": "b99f9a3f-b543-45c0-bb71-8232295df839",
   "metadata": {},
   "outputs": [],
   "source": [
    "import time"
   ]
  },
  {
   "cell_type": "code",
   "execution_count": 18,
   "id": "ebe2e0b2-bc2c-4a3c-8195-18ecdb503a01",
   "metadata": {},
   "outputs": [
    {
     "data": {
      "text/plain": [
       "1663055455.7061"
      ]
     },
     "execution_count": 18,
     "metadata": {},
     "output_type": "execute_result"
    }
   ],
   "source": [
    "#초\n",
    "time.time()"
   ]
  },
  {
   "cell_type": "code",
   "execution_count": 19,
   "id": "4086f4e6-f657-435c-980b-d570e2af9d41",
   "metadata": {},
   "outputs": [
    {
     "data": {
      "text/plain": [
       "27717590.93108416"
      ]
     },
     "execution_count": 19,
     "metadata": {},
     "output_type": "execute_result"
    }
   ],
   "source": [
    "#분\n",
    "time.time()/60"
   ]
  },
  {
   "cell_type": "code",
   "execution_count": 20,
   "id": "399992c9-f8e4-4ae5-912d-379fcf328482",
   "metadata": {},
   "outputs": [
    {
     "data": {
      "text/plain": [
       "461959.8488963423"
      ]
     },
     "execution_count": 20,
     "metadata": {},
     "output_type": "execute_result"
    }
   ],
   "source": [
    "#시간\n",
    "time.time()/60/60"
   ]
  },
  {
   "cell_type": "code",
   "execution_count": 21,
   "id": "e7bf5b03-9ced-44ef-b489-7336384086df",
   "metadata": {},
   "outputs": [
    {
     "data": {
      "text/plain": [
       "19248.327039340544"
      ]
     },
     "execution_count": 21,
     "metadata": {},
     "output_type": "execute_result"
    }
   ],
   "source": [
    "#일\n",
    "time.time()/60/60/24"
   ]
  },
  {
   "cell_type": "code",
   "execution_count": 7,
   "id": "afedcb66-1540-4759-8b4c-1f9bb5bd70e3",
   "metadata": {},
   "outputs": [
    {
     "data": {
      "text/plain": [
       "time.struct_time(tm_year=2022, tm_mon=9, tm_mday=14, tm_hour=9, tm_min=43, tm_sec=10, tm_wday=2, tm_yday=257, tm_isdst=0)"
      ]
     },
     "execution_count": 7,
     "metadata": {},
     "output_type": "execute_result"
    }
   ],
   "source": [
    "time.localtime()"
   ]
  },
  {
   "cell_type": "code",
   "execution_count": 4,
   "id": "e14f0543-9279-493f-9fbf-0a2f3d8fb216",
   "metadata": {},
   "outputs": [
    {
     "data": {
      "text/plain": [
       "2022"
      ]
     },
     "execution_count": 4,
     "metadata": {},
     "output_type": "execute_result"
    }
   ],
   "source": [
    "time.localtime().tm_year"
   ]
  },
  {
   "cell_type": "code",
   "execution_count": 3,
   "id": "8b926288-6cc3-46d8-b8fa-52174c953534",
   "metadata": {},
   "outputs": [
    {
     "data": {
      "text/plain": [
       "'2022-09-14 09:42:42'"
      ]
     },
     "execution_count": 3,
     "metadata": {},
     "output_type": "execute_result"
    }
   ],
   "source": [
    "now = time.localtime()\n",
    "time.strftime('%Y-%m-%d %H:%M:%S',now)"
   ]
  },
  {
   "cell_type": "code",
   "execution_count": 32,
   "id": "0733b311-fb09-4b6a-ad83-e8f9a090ad9b",
   "metadata": {},
   "outputs": [
    {
     "data": {
      "text/plain": [
       "time.struct_time(tm_year=2022, tm_mon=9, tm_mday=13, tm_hour=16, tm_min=55, tm_sec=54, tm_wday=1, tm_yday=256, tm_isdst=-1)"
      ]
     },
     "execution_count": 32,
     "metadata": {},
     "output_type": "execute_result"
    }
   ],
   "source": [
    "time.strptime('2022-09-13 16:55:54', '%Y-%m-%d %H:%M:%S')"
   ]
  },
  {
   "cell_type": "markdown",
   "id": "0fde1ae9-14d3-436a-b3e1-379bf3fe1a34",
   "metadata": {},
   "source": [
    "# Calendar"
   ]
  },
  {
   "cell_type": "code",
   "execution_count": 33,
   "id": "86b21c7f-4d88-4631-8011-7348735d93ef",
   "metadata": {},
   "outputs": [],
   "source": [
    "import calendar"
   ]
  },
  {
   "cell_type": "code",
   "execution_count": 34,
   "id": "9fc62cae-ea4b-4fed-8f13-fc152c057ebc",
   "metadata": {},
   "outputs": [
    {
     "data": {
      "text/plain": [
       "'                                  2022\\n\\n      January                   February                   March\\nMo Tu We Th Fr Sa Su      Mo Tu We Th Fr Sa Su      Mo Tu We Th Fr Sa Su\\n                1  2          1  2  3  4  5  6          1  2  3  4  5  6\\n 3  4  5  6  7  8  9       7  8  9 10 11 12 13       7  8  9 10 11 12 13\\n10 11 12 13 14 15 16      14 15 16 17 18 19 20      14 15 16 17 18 19 20\\n17 18 19 20 21 22 23      21 22 23 24 25 26 27      21 22 23 24 25 26 27\\n24 25 26 27 28 29 30      28                        28 29 30 31\\n31\\n\\n       April                      May                       June\\nMo Tu We Th Fr Sa Su      Mo Tu We Th Fr Sa Su      Mo Tu We Th Fr Sa Su\\n             1  2  3                         1             1  2  3  4  5\\n 4  5  6  7  8  9 10       2  3  4  5  6  7  8       6  7  8  9 10 11 12\\n11 12 13 14 15 16 17       9 10 11 12 13 14 15      13 14 15 16 17 18 19\\n18 19 20 21 22 23 24      16 17 18 19 20 21 22      20 21 22 23 24 25 26\\n25 26 27 28 29 30         23 24 25 26 27 28 29      27 28 29 30\\n                          30 31\\n\\n        July                     August                  September\\nMo Tu We Th Fr Sa Su      Mo Tu We Th Fr Sa Su      Mo Tu We Th Fr Sa Su\\n             1  2  3       1  2  3  4  5  6  7                1  2  3  4\\n 4  5  6  7  8  9 10       8  9 10 11 12 13 14       5  6  7  8  9 10 11\\n11 12 13 14 15 16 17      15 16 17 18 19 20 21      12 13 14 15 16 17 18\\n18 19 20 21 22 23 24      22 23 24 25 26 27 28      19 20 21 22 23 24 25\\n25 26 27 28 29 30 31      29 30 31                  26 27 28 29 30\\n\\n      October                   November                  December\\nMo Tu We Th Fr Sa Su      Mo Tu We Th Fr Sa Su      Mo Tu We Th Fr Sa Su\\n                1  2          1  2  3  4  5  6                1  2  3  4\\n 3  4  5  6  7  8  9       7  8  9 10 11 12 13       5  6  7  8  9 10 11\\n10 11 12 13 14 15 16      14 15 16 17 18 19 20      12 13 14 15 16 17 18\\n17 18 19 20 21 22 23      21 22 23 24 25 26 27      19 20 21 22 23 24 25\\n24 25 26 27 28 29 30      28 29 30                  26 27 28 29 30 31\\n31\\n'"
      ]
     },
     "execution_count": 34,
     "metadata": {},
     "output_type": "execute_result"
    }
   ],
   "source": [
    "calendar.calendar(2022)"
   ]
  },
  {
   "cell_type": "code",
   "execution_count": 35,
   "id": "84d17534-f2f6-4f2e-a96d-b535951ad1b3",
   "metadata": {},
   "outputs": [
    {
     "name": "stdout",
     "output_type": "stream",
     "text": [
      "   September 2022\n",
      "Mo Tu We Th Fr Sa Su\n",
      "          1  2  3  4\n",
      " 5  6  7  8  9 10 11\n",
      "12 13 14 15 16 17 18\n",
      "19 20 21 22 23 24 25\n",
      "26 27 28 29 30\n"
     ]
    }
   ],
   "source": [
    "calendar.prmonth(2022,9)"
   ]
  },
  {
   "cell_type": "code",
   "execution_count": 106,
   "id": "876d6498-38e9-40a0-900d-819df0ccc6f2",
   "metadata": {},
   "outputs": [
    {
     "data": {
      "text/plain": [
       "0"
      ]
     },
     "execution_count": 106,
     "metadata": {},
     "output_type": "execute_result"
    }
   ],
   "source": [
    "calendar.weekday(2022,9,12) #월요일"
   ]
  },
  {
   "cell_type": "markdown",
   "id": "5d7bf8e2-02ca-4cc7-bcc7-65b111f7bab0",
   "metadata": {},
   "source": [
    "# Random"
   ]
  },
  {
   "cell_type": "code",
   "execution_count": 36,
   "id": "6a4030f4-f31f-41e5-991b-e141a96dd789",
   "metadata": {},
   "outputs": [],
   "source": [
    "import random"
   ]
  },
  {
   "cell_type": "code",
   "execution_count": 37,
   "id": "58670af5-287d-4b95-ab52-994030978343",
   "metadata": {},
   "outputs": [
    {
     "data": {
      "text/plain": [
       "3"
      ]
     },
     "execution_count": 37,
     "metadata": {},
     "output_type": "execute_result"
    }
   ],
   "source": [
    "random.randint(1,5)"
   ]
  },
  {
   "cell_type": "code",
   "execution_count": 38,
   "id": "151bdb98-9974-4804-811c-442107417886",
   "metadata": {},
   "outputs": [
    {
     "data": {
      "text/plain": [
       "[4, 16, 6, 16, 20, 14, 13, 20, 11, 12]"
      ]
     },
     "execution_count": 38,
     "metadata": {},
     "output_type": "execute_result"
    }
   ],
   "source": [
    "li = []\n",
    "for i in range(10):\n",
    "    li.append(random.randint(1,20))\n",
    "    \n",
    "li"
   ]
  },
  {
   "cell_type": "code",
   "execution_count": 39,
   "id": "aabeb3b0-5cc0-47b0-81d0-caf414d39ae0",
   "metadata": {},
   "outputs": [
    {
     "data": {
      "text/plain": [
       "2"
      ]
     },
     "execution_count": 39,
     "metadata": {},
     "output_type": "execute_result"
    }
   ],
   "source": [
    "random.choice([1,2,3,10])"
   ]
  },
  {
   "cell_type": "code",
   "execution_count": 40,
   "id": "f1365e49-7372-466e-8464-9e7b051ff8d0",
   "metadata": {},
   "outputs": [
    {
     "data": {
      "text/plain": [
       "'a'"
      ]
     },
     "execution_count": 40,
     "metadata": {},
     "output_type": "execute_result"
    }
   ],
   "source": [
    "random.choice(['a','b','c'])"
   ]
  },
  {
   "cell_type": "code",
   "execution_count": 41,
   "id": "f48fd9d2-643e-4fd5-861a-c89eebc2ee2c",
   "metadata": {},
   "outputs": [
    {
     "data": {
      "text/plain": [
       "0.5266610901235541"
      ]
     },
     "execution_count": 41,
     "metadata": {},
     "output_type": "execute_result"
    }
   ],
   "source": [
    "random.random() #0과 1사이의 소수값"
   ]
  },
  {
   "cell_type": "code",
   "execution_count": 45,
   "id": "2c4b87d4-cba6-4879-b23b-b85d320d22ad",
   "metadata": {},
   "outputs": [
    {
     "data": {
      "text/plain": [
       "[1, 3, 2]"
      ]
     },
     "execution_count": 45,
     "metadata": {},
     "output_type": "execute_result"
    }
   ],
   "source": [
    "data = [1,2,3]\n",
    "random.shuffle(data)\n",
    "data"
   ]
  },
  {
   "cell_type": "code",
   "execution_count": 46,
   "id": "6b191c11-2f0e-4ad8-98a7-390733516915",
   "metadata": {},
   "outputs": [
    {
     "data": {
      "text/plain": [
       "True"
      ]
     },
     "execution_count": 46,
     "metadata": {},
     "output_type": "execute_result"
    }
   ],
   "source": [
    "#webbrowser\n",
    "import webbrowser\n",
    "webbrowser.open('www.naver.com')"
   ]
  },
  {
   "cell_type": "markdown",
   "id": "5fd565cd-9595-4901-aa47-71a0ccf3f799",
   "metadata": {},
   "source": [
    "# Threading"
   ]
  },
  {
   "cell_type": "code",
   "execution_count": 48,
   "id": "e59703c0-f5ee-4929-bb4e-97877bf5d101",
   "metadata": {},
   "outputs": [
    {
     "name": "stdout",
     "output_type": "stream",
     "text": [
      "Start\n",
      "working:0working:0\n",
      "working:0\n",
      "working:0\n",
      "\n",
      "working:0\n",
      "working:1\n",
      "working:1\n",
      "working:1\n",
      "working:1\n",
      "working:1\n",
      "working:2working:2\n",
      "working:2\n",
      "\n",
      "working:2\n",
      "working:2\n",
      "working:3working:3\n",
      "working:3\n",
      "\n",
      "working:3\n",
      "working:3\n",
      "working:4working:4\n",
      "working:4\n",
      "\n",
      "working:4\n",
      "working:4\n",
      "End\n"
     ]
    }
   ],
   "source": [
    "import time\n",
    "import threading\n",
    "\n",
    "def long_task():\n",
    "    for i in range(5):\n",
    "        time.sleep(1)\n",
    "        print('working:%s' %i)\n",
    "print('Start')\n",
    "\n",
    "threads = []\n",
    "for i in range(5):\n",
    "    t = threading.Thread(target = long_task)\n",
    "    threads.append(t)\n",
    "    \n",
    "for t in threads:\n",
    "    t.start()\n",
    "    \n",
    "for t in threads:\n",
    "    t.join()\n",
    "    \n",
    "print('End')"
   ]
  }
 ],
 "metadata": {
  "kernelspec": {
   "display_name": "Python 3 (ipykernel)",
   "language": "python",
   "name": "python3"
  },
  "language_info": {
   "codemirror_mode": {
    "name": "ipython",
    "version": 3
   },
   "file_extension": ".py",
   "mimetype": "text/x-python",
   "name": "python",
   "nbconvert_exporter": "python",
   "pygments_lexer": "ipython3",
   "version": "3.9.12"
  },
  "toc-autonumbering": false
 },
 "nbformat": 4,
 "nbformat_minor": 5
}
