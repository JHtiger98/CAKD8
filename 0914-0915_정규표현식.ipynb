{
 "cells": [
  {
   "cell_type": "markdown",
   "id": "3ad08e67-b6ae-439f-8d8f-592f36992f2d",
   "metadata": {},
   "source": [
    "# 하위 디렉토리 검색"
   ]
  },
  {
   "cell_type": "code",
   "execution_count": 1,
   "id": "e1fe1b98-c9ac-4a3b-862b-37128c8043c7",
   "metadata": {},
   "outputs": [],
   "source": [
    "import os"
   ]
  },
  {
   "cell_type": "code",
   "execution_count": 2,
   "id": "91c6d0a5-cee3-4173-951c-99b6e02adfc5",
   "metadata": {},
   "outputs": [
    {
     "data": {
      "text/plain": [
       "['.ipynb_checkpoints',\n",
       " '0901.ipynb',\n",
       " '0902.ipynb',\n",
       " '0905.ipynb',\n",
       " '0907.ipynb',\n",
       " '0908.ipynb',\n",
       " '0913.ipynb',\n",
       " 'aaa.txt',\n",
       " 'abc',\n",
       " 'memo.py',\n",
       " 'new.txt',\n",
       " 'people.txt',\n",
       " 'tabto4.py',\n",
       " 'test.pickle',\n",
       " 'test.txt',\n",
       " 'Untitled.ipynb',\n",
       " 'Untitled1.ipynb',\n",
       " '김밥천국메뉴.csv',\n",
       " '서울지역대학교위치.xlsx']"
      ]
     },
     "execution_count": 2,
     "metadata": {},
     "output_type": "execute_result"
    }
   ],
   "source": [
    "os.listdir()"
   ]
  },
  {
   "cell_type": "code",
   "execution_count": 50,
   "id": "c7db94e2-b064-4fd5-9ec6-d8148778baea",
   "metadata": {},
   "outputs": [
    {
     "data": {
      "text/plain": [
       "['.ipynb_checkpoints', 'a', 'b', 'c', 'test.py']"
      ]
     },
     "execution_count": 50,
     "metadata": {},
     "output_type": "execute_result"
    }
   ],
   "source": [
    "filenames = os.listdir('abc')\n",
    "filenames"
   ]
  },
  {
   "cell_type": "code",
   "execution_count": 51,
   "id": "7182ecdc-ee02-47a0-b98d-c3b48e7abad2",
   "metadata": {},
   "outputs": [
    {
     "name": "stdout",
     "output_type": "stream",
     "text": [
      "abc\\.ipynb_checkpoints\n",
      "abc\\a\n",
      "abc\\b\n",
      "abc\\c\n",
      "abc\\test.py\n"
     ]
    }
   ],
   "source": [
    "filenames = os.listdir('abc')\n",
    "for filename in filenames:\n",
    "    full_filename = os.path.join('abc', filename)\n",
    "    print(full_filename)"
   ]
  },
  {
   "cell_type": "code",
   "execution_count": 13,
   "id": "d9ab3283-6956-4c2a-a6b7-e136ef272b2f",
   "metadata": {},
   "outputs": [],
   "source": [
    "def search(dirname):\n",
    "    filenames = os.listdir(dirname)\n",
    "    for filename in filenames:\n",
    "        full_filename = os.path.join(dirname, filename)\n",
    "        print(full_filename)"
   ]
  },
  {
   "cell_type": "code",
   "execution_count": 14,
   "id": "9ca0f8e2-343c-47e0-901c-25702c7d1903",
   "metadata": {},
   "outputs": [
    {
     "name": "stdout",
     "output_type": "stream",
     "text": [
      "abc\\.ipynb_checkpoints\n",
      "abc\\a\n",
      "abc\\b\n",
      "abc\\c\n",
      "abc\\test.py\n"
     ]
    }
   ],
   "source": [
    "search('abc')"
   ]
  },
  {
   "cell_type": "code",
   "execution_count": 52,
   "id": "6f2e3d0f-b63e-4fc9-bddc-ecf4428a6972",
   "metadata": {},
   "outputs": [],
   "source": [
    "def search(dirname):\n",
    "    filenames = os.listdir(dirname)\n",
    "    for filename in filenames:\n",
    "        full_filename = os.path.join(dirname, filename)\n",
    "        if full_filename[-3:] == '.py':\n",
    "            print(full_filename)"
   ]
  },
  {
   "cell_type": "code",
   "execution_count": 53,
   "id": "d8ed5176-566a-4347-8492-3e47e290e36f",
   "metadata": {},
   "outputs": [
    {
     "name": "stdout",
     "output_type": "stream",
     "text": [
      "abc\\test.py\n"
     ]
    }
   ],
   "source": [
    "search('abc')"
   ]
  },
  {
   "cell_type": "code",
   "execution_count": 59,
   "id": "ac3a5164-8ce1-4515-8a95-6ccc2d4bb27e",
   "metadata": {},
   "outputs": [],
   "source": [
    "def search(dirname):\n",
    "    filenames = os.listdir(dirname)\n",
    "    for filename in filenames:\n",
    "        full_filename = os.path.join(dirname, filename)\n",
    "        if os.path.isdir(full_filename):\n",
    "            search(full_filename)\n",
    "        else:\n",
    "            if full_filename[-3:] == '.py':\n",
    "                print(full_filename)"
   ]
  },
  {
   "cell_type": "code",
   "execution_count": 60,
   "id": "ea6657c6-db0c-48dc-892e-99fd3b83f652",
   "metadata": {},
   "outputs": [
    {
     "name": "stdout",
     "output_type": "stream",
     "text": [
      "abc\\.ipynb_checkpoints\\test-checkpoint.py\n",
      "abc\\a\\.ipynb_checkpoints\\mod2-checkpoint.py\n",
      "abc\\a\\mod1.py\n",
      "abc\\a\\mod2.py\n",
      "abc\\b\\mod3.py\n",
      "abc\\b\\mod4.py\n",
      "abc\\c\\mod5.py\n",
      "abc\\c\\mod6.py\n",
      "abc\\test.py\n"
     ]
    }
   ],
   "source": [
    "search('abc')"
   ]
  },
  {
   "cell_type": "markdown",
   "id": "795a68ec-e7bf-46ee-ae7d-dad84e8b9132",
   "metadata": {},
   "source": [
    "# 정규표현식(1)\n",
    "- \\d: 숫자와 매치, [0-9]와 동일한 표현식\n",
    "- \\D: 숫자가 아닌 것과 매치, [^0-9]와 동일한 표현식\n",
    "- \\s: whitespace와 매치\n",
    "- \\S: whitespace가 아닌 것과 매치\n",
    "- \\w: 문자 + 숫자와 매치, [a-zA-Z0-9_]와 동일한 표현식\n",
    "- \\W: 문자 + 숫자가 아닌것과 매치, [^a-zA-Z0-9_]와 동일한 표현식"
   ]
  },
  {
   "cell_type": "code",
   "execution_count": 2,
   "id": "203f2a3d-4d73-41b7-8500-ffa9242d3666",
   "metadata": {},
   "outputs": [],
   "source": [
    "import re"
   ]
  },
  {
   "cell_type": "code",
   "execution_count": 65,
   "id": "ce112fcb-a1fd-48fd-86ae-4b38d91f57f5",
   "metadata": {},
   "outputs": [
    {
     "data": {
      "text/plain": [
       "'AAA socks and red shoes'"
      ]
     },
     "execution_count": 65,
     "metadata": {},
     "output_type": "execute_result"
    }
   ],
   "source": [
    "result = re.sub('blue', 'AAA', \"blue socks and red shoes\")\n",
    "result"
   ]
  },
  {
   "cell_type": "code",
   "execution_count": 129,
   "id": "e0c1b1ac-b019-4613-95ec-764e5284d1e2",
   "metadata": {},
   "outputs": [
    {
     "data": {
      "text/plain": [
       "'AAA BBB and red BBB'"
      ]
     },
     "execution_count": 129,
     "metadata": {},
     "output_type": "execute_result"
    }
   ],
   "source": [
    "result = re.sub('socks|shoes', 'BBB', result)\n",
    "result"
   ]
  },
  {
   "cell_type": "code",
   "execution_count": 141,
   "id": "82db8274-1ebd-49b4-9c2c-62bd25e7659e",
   "metadata": {},
   "outputs": [
    {
     "name": "stdout",
     "output_type": "stream",
     "text": [
      " A AA AAA AAAA abc Aa "
     ]
    }
   ],
   "source": [
    "#숫자를 'A'로 바꾸기\n",
    "li = ['', '1', '12', '123', '1234', 'abc', '1a']\n",
    "for string in li:\n",
    "    a = re.sub('[0-9]', 'A', string)\n",
    "    print(a, end = ' ')"
   ]
  },
  {
   "cell_type": "code",
   "execution_count": 133,
   "id": "3b405a29-756d-43b1-8b0b-74f41d81702a",
   "metadata": {},
   "outputs": [
    {
     "name": "stdout",
     "output_type": "stream",
     "text": [
      "A AA AAA AAAA AAAAA AaAbAcA AAaA "
     ]
    }
   ],
   "source": [
    "#숫자가 0또는 1번 반복되면 'A'로 바꾸기\n",
    "li = ['', '1', '12', '123', '1234', 'abc', '1a']\n",
    "for string in li:\n",
    "    a = re.sub('[0-9]?', 'A', string)\n",
    "    print(a, end = ' ')"
   ]
  },
  {
   "cell_type": "code",
   "execution_count": 135,
   "id": "1458364d-e836-44e8-a08a-71ad4bcfd39d",
   "metadata": {},
   "outputs": [
    {
     "name": "stdout",
     "output_type": "stream",
     "text": [
      "A AA AA AA AA AaAbAcA AAaA "
     ]
    }
   ],
   "source": [
    "#숫자가 0번 이상 반복되면 'A'로 바꾸기\n",
    "li = ['', '1', '12', '123', '1234', 'abc', '1a']\n",
    "for string in li:\n",
    "    a = re.sub('[0-9]*', 'A', string)\n",
    "    print(a, end = ' ')"
   ]
  },
  {
   "cell_type": "code",
   "execution_count": 136,
   "id": "e1f927e9-8bf1-4de0-aa08-62153ff7bc9c",
   "metadata": {},
   "outputs": [
    {
     "name": "stdout",
     "output_type": "stream",
     "text": [
      " A A A A abc Aa "
     ]
    }
   ],
   "source": [
    "#숫자가 1번 이상 반복되면 'A'로 바꾸기\n",
    "li = ['', '1', '12', '123', '1234', 'abc', '1a']\n",
    "for string in li:\n",
    "    a = re.sub('[0-9]+', 'A', string)\n",
    "    print(a, end = ' ')"
   ]
  },
  {
   "cell_type": "code",
   "execution_count": 137,
   "id": "b811c860-5278-449d-a4d9-6aceea304eaf",
   "metadata": {},
   "outputs": [
    {
     "name": "stdout",
     "output_type": "stream",
     "text": [
      " A A2 A23 A234 abc Aa "
     ]
    }
   ],
   "source": [
    "#시작이 숫자면 'A'로 바꿔라\n",
    "li = ['', '1', '12', '123', '1234', 'abc', '1a']\n",
    "for string in li:\n",
    "    a = re.sub('^[0-9]', 'A', string)\n",
    "    print(a, end = ' ')"
   ]
  },
  {
   "cell_type": "code",
   "execution_count": 148,
   "id": "201f10a7-fa21-48fc-837c-975eb47fc0d0",
   "metadata": {
    "tags": []
   },
   "outputs": [
    {
     "name": "stdout",
     "output_type": "stream",
     "text": [
      " A 1A 12A 123A abc 1a "
     ]
    }
   ],
   "source": [
    "#끝이 숫자면 'A'로 바꿔라\n",
    "li = ['', '1', '12', '123', '1234', 'abc', '1a']\n",
    "for string in li:\n",
    "    a = re.sub('[0-9]$', 'A', string)\n",
    "    print(a, end = ' ')"
   ]
  },
  {
   "cell_type": "code",
   "execution_count": 143,
   "id": "5b30fe5e-4d7a-46e6-9ff2-cb2b4fe74ace",
   "metadata": {},
   "outputs": [
    {
     "name": "stdout",
     "output_type": "stream",
     "text": [
      "# # aBo a123o kb 123kbs KBS KB3 abcKBS123 "
     ]
    }
   ],
   "source": [
    "#a로 시작하고 o로 끝나는 사이에 2개의 문자가 있는 경우\n",
    "li = ['a12o', 'abco', 'aBo', 'a123o', 'kb', '123kbs', 'KBS', 'KB3', 'abcKBS123']\n",
    "for string in li:\n",
    "    a = re.sub('a.{2}o', '#', string)\n",
    "    print(a, end = ' ')"
   ]
  },
  {
   "cell_type": "code",
   "execution_count": 144,
   "id": "5880ead3-cdb2-4c0f-a31b-a3b6b6997eef",
   "metadata": {},
   "outputs": [
    {
     "name": "stdout",
     "output_type": "stream",
     "text": [
      "a12o abco aBo a123o kb 123kbs KBS # abcKBS123 "
     ]
    }
   ],
   "source": [
    "#알파벳 대문자로 시작하고 숫자로 끝나는 경우\n",
    "li = ['a12o', 'abco', 'aBo', 'a123o', 'kb', '123kbs', 'KBS', 'KB3', 'abcKBS123']\n",
    "for string in li:\n",
    "    a = re.sub('^[A-Z].*[0-9]$', '#', string)\n",
    "    print(a, end = ' ')"
   ]
  },
  {
   "cell_type": "code",
   "execution_count": 145,
   "id": "9831aa1b-b5ab-4cb7-9dab-bbf85d76510b",
   "metadata": {},
   "outputs": [
    {
     "name": "stdout",
     "output_type": "stream",
     "text": [
      "a12o abco aBo # kb 123kbs KBS KB3 abcKBS123 "
     ]
    }
   ],
   "source": [
    "#문자 중간에 있는 123을 찾아서 바꾸기\n",
    "\n",
    "li = ['a12o', 'abco', 'aBo', 'a123o', 'kb', '123kbs', 'KBS', 'KB3', 'abcKBS123']\n",
    "for string in li:\n",
    "    a = re.sub('.+123.+', '#', string)\n",
    "    print(a, end = ' ')"
   ]
  },
  {
   "cell_type": "code",
   "execution_count": 3,
   "id": "7f69e5cc-d063-4b93-9054-bbd7e1e6f6f2",
   "metadata": {},
   "outputs": [
    {
     "name": "stdout",
     "output_type": "stream",
     "text": [
      "park 800905******* Kim 700905*******\n"
     ]
    }
   ],
   "source": [
    "#뒷 7자리를 *로 바꾸기\n",
    "string = \"park 800905-1049118 Kim 700905-1059119\" \n",
    "print(re.sub('-\\d{7}', '*'*7, string))"
   ]
  },
  {
   "cell_type": "markdown",
   "id": "59aa39c7-11c5-4464-8f56-51a27edb2e3b",
   "metadata": {},
   "source": [
    "# 정규표현식(2)"
   ]
  },
  {
   "cell_type": "code",
   "execution_count": 2,
   "id": "48a40ab9-c4eb-420b-bace-30577ede27d8",
   "metadata": {
    "tags": []
   },
   "outputs": [
    {
     "data": {
      "text/plain": [
       "'# ## ### 1234'"
      ]
     },
     "execution_count": 2,
     "metadata": {},
     "output_type": "execute_result"
    }
   ],
   "source": [
    "import re\n",
    "\n",
    "string = 'a ab abc 1234'\n",
    "\n",
    "re.sub('[a-z]', '#', string)\n",
    "\n",
    "p = re.compile('[a-z]')\n",
    "p.sub('#', string)"
   ]
  },
  {
   "cell_type": "code",
   "execution_count": 165,
   "id": "c25e8ced-3f6d-4266-adb4-eb94179410e0",
   "metadata": {},
   "outputs": [
    {
     "name": "stdout",
     "output_type": "stream",
     "text": [
      "<re.Match object; span=(0, 6), match='python'>\n",
      "None\n",
      "<re.Match object; span=(0, 6), match='python'>\n",
      "None\n"
     ]
    }
   ],
   "source": [
    "#match(): 문자열의 '처음'부터 정규식과 매치되는지 조사한다\n",
    "print(re.match('[a-z]+', 'pythonPY1234 python'))\n",
    "print(re.match('[a-z]+', 'PYpython1234 python'))\n",
    "\n",
    "#위와 같다\n",
    "p = re.compile('[a-z]+')\n",
    "print(p.match('pythonPY1234 python'))\n",
    "print(p.match('PYpython1234 python'))"
   ]
  },
  {
   "cell_type": "code",
   "execution_count": 166,
   "id": "ec9b8d15-de12-4a71-bd68-5549a43f9f56",
   "metadata": {},
   "outputs": [
    {
     "name": "stdout",
     "output_type": "stream",
     "text": [
      "<re.Match object; span=(0, 6), match='python'>\n",
      "<re.Match object; span=(2, 8), match='python'>\n"
     ]
    }
   ],
   "source": [
    "#search(): 문자열 '전체'를 검색하여 정규식과 매치되는지 조사한다\n",
    "p = re.compile('[a-z]+')\n",
    "print(p.search('pythonPY1234 python'))\n",
    "print(p.search('PYpython1234 python'))"
   ]
  },
  {
   "cell_type": "code",
   "execution_count": 169,
   "id": "e2e8b515-63b0-400a-906a-f9c137ed3271",
   "metadata": {},
   "outputs": [
    {
     "data": {
      "text/plain": [
       "['python', 'python']"
      ]
     },
     "execution_count": 169,
     "metadata": {},
     "output_type": "execute_result"
    }
   ],
   "source": [
    "#findall(): 정규식과 매치되는 모든 문자열을 리스트로 돌려준다\n",
    "p = re.compile('[a-z]+')\n",
    "p.findall('PYpython1234 python')"
   ]
  },
  {
   "cell_type": "code",
   "execution_count": 178,
   "id": "b0ae77bc-0a14-428c-bb0e-0a6c42842b95",
   "metadata": {},
   "outputs": [
    {
     "name": "stdout",
     "output_type": "stream",
     "text": [
      "python\n",
      "2\n",
      "8\n",
      "(2, 8)\n",
      "python\n",
      "13\n",
      "19\n",
      "(13, 19)\n"
     ]
    }
   ],
   "source": [
    "#finditer(): 정규식과 매치되는 모든 문자열을 반복 가능한 객체로 돌려준다\n",
    "for i in p.finditer('PYpython1234 python'):\n",
    "    print(i.group())\n",
    "    print(i.start())\n",
    "    print(i.end())\n",
    "    print(i.span())"
   ]
  },
  {
   "cell_type": "code",
   "execution_count": 77,
   "id": "59648e0c-3e23-482f-8af2-ee9f272eee10",
   "metadata": {},
   "outputs": [
    {
     "name": "stdout",
     "output_type": "stream",
     "text": [
      "<re.Match object; span=(0, 13), match='010-1234-5678'>\n",
      "<re.Match object; span=(0, 13), match='010-1234-5679'>\n",
      "<re.Match object; span=(0, 13), match='010-1234-5670'>\n",
      "None\n",
      "None\n"
     ]
    }
   ],
   "source": [
    "data = [\"010-1234-5678\", \"010-1234-5679\", \"010-1234-5670\", \"010-1234-670\", \"02-334-2243\"] \n",
    "\n",
    "for i in data:\n",
    "    print(re.search('010-\\d{4}-\\d{4}', i))"
   ]
  },
  {
   "cell_type": "code",
   "execution_count": 114,
   "id": "b4148f34-cd81-41b0-876a-0ef35f3a4fdc",
   "metadata": {},
   "outputs": [
    {
     "data": {
      "text/plain": [
       "['010-1234-5678', '010-1234-5679', '010-1234-5670']"
      ]
     },
     "execution_count": 114,
     "metadata": {},
     "output_type": "execute_result"
    }
   ],
   "source": [
    "data = [\"010-1234-5678\", \"010-1234-5679\", \"010-1234-5670\", \"010-1234-670\", \"02-334-2243\"] \n",
    "def is_phone_number(data):\n",
    "    phone_number = []\n",
    "    for i in data:\n",
    "        if re.search('010-\\d{4}-\\d{4}', i):\n",
    "            phone_number.append(i)\n",
    "    return phone_number\n",
    "\n",
    "is_phone_number(data)"
   ]
  },
  {
   "cell_type": "code",
   "execution_count": 83,
   "id": "4f96d26b-879a-4526-9a2c-defdd16ebccd",
   "metadata": {},
   "outputs": [
    {
     "data": {
      "text/plain": [
       "['010-1234-5678', '010-1234-5679', '010-1234-5670']"
      ]
     },
     "execution_count": 83,
     "metadata": {},
     "output_type": "execute_result"
    }
   ],
   "source": [
    "data = '010-1234-5678, 010-1234-5679, 010-1234-5670, 010-1234-670, 02-334-2243]'\n",
    "def is_phone_number(data):\n",
    "    phone_number = []\n",
    "    for i in re.finditer('010-\\d{4}-\\d{4}', data):\n",
    "        phone_number.append(i.group())\n",
    "    return phone_number\n",
    "\n",
    "is_phone_number(data)"
   ]
  },
  {
   "cell_type": "code",
   "execution_count": 84,
   "id": "8802b235-7f48-4e8a-b747-8d5f60f56170",
   "metadata": {},
   "outputs": [
    {
     "data": {
      "text/plain": [
       "['010-1234-5678', '010-1234-5679', '010-1234-5670']"
      ]
     },
     "execution_count": 84,
     "metadata": {},
     "output_type": "execute_result"
    }
   ],
   "source": [
    "data = '010-1234-5678, 010-1234-5679, 010-1234-5670, 010-1234-670, 02-334-2243]'\n",
    "def is_phone_number(data):\n",
    "    return re.findall('010-\\d{4}-\\d{4}', data)\n",
    "    \n",
    "is_phone_number(data)"
   ]
  },
  {
   "cell_type": "code",
   "execution_count": 123,
   "id": "94e31612-9e6b-4055-80e8-57408a0353e3",
   "metadata": {},
   "outputs": [
    {
     "name": "stdout",
     "output_type": "stream",
     "text": [
      "(2, 5)\n",
      "(19, 22)\n",
      "(38, 41)\n",
      "(45, 48)\n"
     ]
    }
   ],
   "source": [
    "msg = \"안녕하세요. 제 소개부터 드리도록 하지요. 저는 의미있는 일을 하고 싶어요. 건강하세요.\" \n",
    "for i in re.finditer('하세요|하지요|싶어요', msg):\n",
    "    print(i.span())"
   ]
  },
  {
   "cell_type": "code",
   "execution_count": 3,
   "id": "2dcea623-4f14-4524-9699-ecd912ee1d08",
   "metadata": {},
   "outputs": [
    {
     "data": {
      "text/plain": [
       "'010'"
      ]
     },
     "execution_count": 3,
     "metadata": {},
     "output_type": "execute_result"
    }
   ],
   "source": [
    "#group\n",
    "sentence = 'park 010-1234-1234'\n",
    "p = re.compile(r'(\\w+)\\s((\\d+)[-]\\d+[-]\\d+)')\n",
    "\n",
    "p.search(sentence).group(3)"
   ]
  },
  {
   "cell_type": "code",
   "execution_count": 87,
   "id": "00b09f26-fac5-4968-83bc-11c28ac54016",
   "metadata": {},
   "outputs": [
    {
     "data": {
      "text/plain": [
       "'park'"
      ]
     },
     "execution_count": 87,
     "metadata": {},
     "output_type": "execute_result"
    }
   ],
   "source": [
    "#(?P< >)\n",
    "sentence = 'park 010-1234-1234'\n",
    "p = re.compile(r'(?P<family>\\w+)\\s((\\d+)[-]\\d+[-]\\d+)')\n",
    "\n",
    "p.search(sentence).group('family')"
   ]
  },
  {
   "cell_type": "code",
   "execution_count": 102,
   "id": "8ffc83e9-39e2-4c36-ad43-ea9d5790a580",
   "metadata": {},
   "outputs": [
    {
     "data": {
      "text/plain": [
       "'http:'"
      ]
     },
     "execution_count": 102,
     "metadata": {},
     "output_type": "execute_result"
    }
   ],
   "source": [
    "p = re.compile(\".+:\")\n",
    "p.search(\"http://google.com\").group()"
   ]
  },
  {
   "cell_type": "code",
   "execution_count": 101,
   "id": "47c07198-a066-4c43-8370-82c17fd4a63b",
   "metadata": {},
   "outputs": [
    {
     "data": {
      "text/plain": [
       "'http'"
      ]
     },
     "execution_count": 101,
     "metadata": {},
     "output_type": "execute_result"
    }
   ],
   "source": [
    "#(?=x): x를 제외한다\n",
    "p = re.compile(\".+(?=:)\")\n",
    "p.search(\"http://google.com\").group()"
   ]
  },
  {
   "cell_type": "code",
   "execution_count": 103,
   "id": "bff668c2-7e51-4e33-b4d6-079992f0c786",
   "metadata": {},
   "outputs": [
    {
     "data": {
      "text/plain": [
       "'he'"
      ]
     },
     "execution_count": 103,
     "metadata": {},
     "output_type": "execute_result"
    }
   ],
   "source": [
    "p = re.compile('.+(?=ll)')\n",
    "m = p.search('hello2002')\n",
    "m.group()"
   ]
  },
  {
   "cell_type": "code",
   "execution_count": 106,
   "id": "304644aa-cac5-4738-8f99-3bde2fac497f",
   "metadata": {},
   "outputs": [
    {
     "data": {
      "text/plain": [
       "'o2002'"
      ]
     },
     "execution_count": 106,
     "metadata": {},
     "output_type": "execute_result"
    }
   ],
   "source": [
    "#.+가 뒤에 갈려면 ?= 가 아닌 ?<=11\n",
    "p = re.compile('(?<=ll).+')\n",
    "m = p.search('hello2002')\n",
    "m.group()"
   ]
  },
  {
   "cell_type": "code",
   "execution_count": 114,
   "id": "9fe5c0ad-cb9a-4c42-99a2-52e3da05d03d",
   "metadata": {},
   "outputs": [
    {
     "name": "stdout",
     "output_type": "stream",
     "text": [
      "None\n",
      "<re.Match object; span=(0, 6), match='sososo'>\n",
      "<re.Match object; span=(0, 8), match='sosososo'>\n",
      "<re.Match object; span=(0, 10), match='sososososo'>\n"
     ]
    }
   ],
   "source": [
    "data = [\"soso\", \"sososo\", \"sosososo\", \"sososososo\"] \n",
    "p = re.compile('(so){3,5}')\n",
    "for i in data:\n",
    "    print(p.search(i))"
   ]
  },
  {
   "cell_type": "code",
   "execution_count": 115,
   "id": "9f8dfd94-4d70-452e-b6c9-43231ee23a6b",
   "metadata": {},
   "outputs": [
    {
     "name": "stdout",
     "output_type": "stream",
     "text": [
      "None\n",
      "<re.Match object; span=(0, 6), match='sososo'>\n",
      "<re.Match object; span=(0, 6), match='sososo'>\n",
      "<re.Match object; span=(0, 6), match='sososo'>\n"
     ]
    }
   ],
   "source": [
    "#Non-greedy: 반복뒤에 '?'를 붙인다\n",
    "data = [\"soso\", \"sososo\", \"sosososo\", \"sososososo\"] \n",
    "p = re.compile('(so){3,5}?')\n",
    "for i in data:\n",
    "    print(p.search(i))"
   ]
  }
 ],
 "metadata": {
  "kernelspec": {
   "display_name": "Python 3 (ipykernel)",
   "language": "python",
   "name": "python3"
  },
  "language_info": {
   "codemirror_mode": {
    "name": "ipython",
    "version": 3
   },
   "file_extension": ".py",
   "mimetype": "text/x-python",
   "name": "python",
   "nbconvert_exporter": "python",
   "pygments_lexer": "ipython3",
   "version": "3.9.12"
  },
  "toc-autonumbering": false
 },
 "nbformat": 4,
 "nbformat_minor": 5
}
