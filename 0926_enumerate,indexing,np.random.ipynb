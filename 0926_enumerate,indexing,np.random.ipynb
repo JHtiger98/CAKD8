{
 "cells": [
  {
   "cell_type": "markdown",
   "id": "4e4e1968-9827-4522-8bd8-8541bf872d4b",
   "metadata": {},
   "source": [
    "# enumerate"
   ]
  },
  {
   "cell_type": "code",
   "execution_count": 70,
   "id": "08b506c5-6b8e-4574-98e9-efabd71d0c5e",
   "metadata": {},
   "outputs": [
    {
     "name": "stdout",
     "output_type": "stream",
     "text": [
      "{0: 'A', 1: 'B', 2: 'C'}\n",
      "{'A': 0, 'B': 1, 'C': 2}\n"
     ]
    }
   ],
   "source": [
    "li = ['A', 'B', 'C']\n",
    "d = {}\n",
    "d1 = {}\n",
    "\n",
    "for i, j in enumerate(li):\n",
    "    d[i] = j\n",
    "    d1[j] = i\n",
    "    \n",
    "print(d)\n",
    "print(d1) "
   ]
  },
  {
   "cell_type": "code",
   "execution_count": 71,
   "id": "47be9170-0bfe-4c36-bb3a-dc227961c597",
   "metadata": {},
   "outputs": [
    {
     "data": {
      "text/plain": [
       "{0: 'A', 1: 'B', 2: 'C'}"
      ]
     },
     "execution_count": 71,
     "metadata": {},
     "output_type": "execute_result"
    }
   ],
   "source": [
    "{i:j for i, j in enumerate(li)}"
   ]
  },
  {
   "cell_type": "code",
   "execution_count": 72,
   "id": "8f4d2faf-5559-4841-a9a1-7075e49e3cf2",
   "metadata": {},
   "outputs": [
    {
     "data": {
      "text/plain": [
       "{'A': 0, 'B': 1, 'C': 2}"
      ]
     },
     "execution_count": 72,
     "metadata": {},
     "output_type": "execute_result"
    }
   ],
   "source": [
    "{j:i for i, j in enumerate(li)}"
   ]
  },
  {
   "cell_type": "code",
   "execution_count": 73,
   "id": "98483191-0b8e-4a29-8748-f9a099243756",
   "metadata": {},
   "outputs": [
    {
     "data": {
      "text/plain": [
       "[2, 4, 6, 8, 10, 3, 6, 9, 4, 8, 5, 10, 6, 7, 8, 9]"
      ]
     },
     "execution_count": 73,
     "metadata": {},
     "output_type": "execute_result"
    }
   ],
   "source": [
    "[i*j for i in range(2,10) for j in range(1,10) if i*j<=10]"
   ]
  },
  {
   "cell_type": "code",
   "execution_count": 74,
   "id": "2fef2435-79f6-4cab-8990-17fd1ac5aba1",
   "metadata": {},
   "outputs": [
    {
     "data": {
      "text/plain": [
       "[0, 1, 4, 9, 16, 25, 36, 49, 64, 81]"
      ]
     },
     "execution_count": 74,
     "metadata": {},
     "output_type": "execute_result"
    }
   ],
   "source": [
    "#list\n",
    "[x**2 for x in range(10)]"
   ]
  },
  {
   "cell_type": "code",
   "execution_count": 75,
   "id": "ba48d23b-34a0-49bd-9485-e438c9e848a1",
   "metadata": {},
   "outputs": [
    {
     "data": {
      "text/plain": [
       "{0, 1, 4, 9, 16, 25, 36, 49, 64, 81}"
      ]
     },
     "execution_count": 75,
     "metadata": {},
     "output_type": "execute_result"
    }
   ],
   "source": [
    "#set\n",
    "{x**2 for x in range(10)}"
   ]
  },
  {
   "cell_type": "code",
   "execution_count": 76,
   "id": "b8563135-020e-409c-b366-8eeebb2e4846",
   "metadata": {},
   "outputs": [
    {
     "data": {
      "text/plain": [
       "<generator object <genexpr> at 0x0000018F3A945E40>"
      ]
     },
     "execution_count": 76,
     "metadata": {},
     "output_type": "execute_result"
    }
   ],
   "source": [
    "#tuple은 generator로 반환\n",
    "(x**2 for x in range(10))"
   ]
  },
  {
   "cell_type": "code",
   "execution_count": 77,
   "id": "a1fa8578-19b3-4da3-b5a1-d5b15c1d84aa",
   "metadata": {},
   "outputs": [
    {
     "name": "stdout",
     "output_type": "stream",
     "text": [
      "0 1 4 9 16 25 36 49 64 81 "
     ]
    }
   ],
   "source": [
    "for i in (x**2 for x in range(10)):\n",
    "    print(i, end = ' ')"
   ]
  },
  {
   "cell_type": "markdown",
   "id": "c4c4725f-1e14-4fc7-9d68-db3e45f592ac",
   "metadata": {},
   "source": [
    "# fancy indexing: a[z(층),y(행),x(열)]"
   ]
  },
  {
   "cell_type": "code",
   "execution_count": 78,
   "id": "1709806a-9ac2-4296-98a1-30f94b0ca5ff",
   "metadata": {},
   "outputs": [],
   "source": [
    "import numpy as np"
   ]
  },
  {
   "cell_type": "code",
   "execution_count": 79,
   "id": "41d8497e-eac5-41cd-95df-26e9f9bee6cd",
   "metadata": {},
   "outputs": [
    {
     "data": {
      "text/plain": [
       "array([[[ 1,  2,  3],\n",
       "        [ 4,  5,  6]],\n",
       "\n",
       "       [[ 7,  8,  9],\n",
       "        [10, 11, 12]]])"
      ]
     },
     "execution_count": 79,
     "metadata": {},
     "output_type": "execute_result"
    }
   ],
   "source": [
    "a = np.arange(1, 13).reshape(2,2,3)\n",
    "a"
   ]
  },
  {
   "cell_type": "code",
   "execution_count": 80,
   "id": "14bdbf2c-86c5-49df-9a8a-9aa2d8bc91eb",
   "metadata": {},
   "outputs": [
    {
     "name": "stdout",
     "output_type": "stream",
     "text": [
      "1\n",
      "[10 11 12]\n",
      "12\n",
      "[[[ 1]\n",
      "  [ 4]]\n",
      "\n",
      " [[ 7]\n",
      "  [10]]]\n"
     ]
    }
   ],
   "source": [
    "print(a[0,0,0])\n",
    "print(a[1,1])\n",
    "print(a[1,1][2])\n",
    "print(a[:,0:2,0:1])"
   ]
  },
  {
   "cell_type": "code",
   "execution_count": 81,
   "id": "f3c1dd38-e749-41c7-8720-418484d6bb0e",
   "metadata": {},
   "outputs": [
    {
     "data": {
      "text/plain": [
       "array([[10, 11, 12]])"
      ]
     },
     "execution_count": 81,
     "metadata": {},
     "output_type": "execute_result"
    }
   ],
   "source": [
    "b = a[1,1:]\n",
    "b"
   ]
  },
  {
   "cell_type": "code",
   "execution_count": 82,
   "id": "1136b45e-d97e-4d58-991b-26697f0984e6",
   "metadata": {},
   "outputs": [],
   "source": [
    "b[0,1] = 100"
   ]
  },
  {
   "cell_type": "code",
   "execution_count": 83,
   "id": "452b6527-06eb-487f-9747-71c65c8380af",
   "metadata": {},
   "outputs": [
    {
     "data": {
      "text/plain": [
       "array([[ 10, 100,  12]])"
      ]
     },
     "execution_count": 83,
     "metadata": {},
     "output_type": "execute_result"
    }
   ],
   "source": [
    "b"
   ]
  },
  {
   "cell_type": "code",
   "execution_count": 84,
   "id": "eb3ad1d4-2eb5-478c-9d83-03d79df92a39",
   "metadata": {},
   "outputs": [
    {
     "data": {
      "text/plain": [
       "array([[[  1,   2,   3],\n",
       "        [  4,   5,   6]],\n",
       "\n",
       "       [[  7,   8,   9],\n",
       "        [ 10, 100,  12]]])"
      ]
     },
     "execution_count": 84,
     "metadata": {},
     "output_type": "execute_result"
    }
   ],
   "source": [
    "a"
   ]
  },
  {
   "cell_type": "code",
   "execution_count": 85,
   "id": "028187fc-6759-4dfb-917d-9f8f5808740c",
   "metadata": {},
   "outputs": [
    {
     "data": {
      "text/plain": [
       "array([[0., 0., 0., 0.],\n",
       "       [1., 1., 1., 1.],\n",
       "       [2., 2., 2., 2.],\n",
       "       [3., 3., 3., 3.],\n",
       "       [4., 4., 4., 4.],\n",
       "       [5., 5., 5., 5.],\n",
       "       [6., 6., 6., 6.],\n",
       "       [7., 7., 7., 7.]])"
      ]
     },
     "execution_count": 85,
     "metadata": {},
     "output_type": "execute_result"
    }
   ],
   "source": [
    "arr = np.arange(8).reshape(8,1) * np.ones(4)\n",
    "arr"
   ]
  },
  {
   "cell_type": "code",
   "execution_count": 86,
   "id": "f19b8089-6d1c-41f6-995e-acac9cabe566",
   "metadata": {},
   "outputs": [
    {
     "data": {
      "text/plain": [
       "array([0., 1., 2.])"
      ]
     },
     "execution_count": 86,
     "metadata": {},
     "output_type": "execute_result"
    }
   ],
   "source": [
    "arr[[0,1,2],[1,2,3]]"
   ]
  },
  {
   "cell_type": "code",
   "execution_count": 87,
   "id": "607ff8a0-5f0c-42bf-819e-7d6f4912368f",
   "metadata": {},
   "outputs": [
    {
     "data": {
      "text/plain": [
       "array([[ 1,  2,  3,  4],\n",
       "       [ 5,  6,  7,  8],\n",
       "       [ 9, 10, 11, 12],\n",
       "       [13, 14, 15, 16]])"
      ]
     },
     "execution_count": 87,
     "metadata": {},
     "output_type": "execute_result"
    }
   ],
   "source": [
    "a = np.arange(1,17).reshape(4,4)\n",
    "a"
   ]
  },
  {
   "cell_type": "code",
   "execution_count": 88,
   "id": "fe3d835a-b619-4ffc-9280-28d7d244c189",
   "metadata": {},
   "outputs": [
    {
     "data": {
      "text/plain": [
       "array([[  1,   4,   9,  16],\n",
       "       [ 25,  36,  49,  64],\n",
       "       [ 81, 100, 121, 144],\n",
       "       [169, 196, 225, 256]], dtype=int32)"
      ]
     },
     "execution_count": 88,
     "metadata": {},
     "output_type": "execute_result"
    }
   ],
   "source": [
    "a= a**2\n",
    "a"
   ]
  },
  {
   "cell_type": "code",
   "execution_count": 89,
   "id": "44c7d89f-6531-4642-a39b-772cf63c6416",
   "metadata": {},
   "outputs": [
    {
     "data": {
      "text/plain": [
       "array([[ 1.,  2.,  3.,  4.],\n",
       "       [ 5.,  6.,  7.,  8.],\n",
       "       [ 9., 10., 11., 12.],\n",
       "       [13., 14., 15., 16.]])"
      ]
     },
     "execution_count": 89,
     "metadata": {},
     "output_type": "execute_result"
    }
   ],
   "source": [
    "a = np.sqrt(a)\n",
    "a\n",
    "#a**(1/2)"
   ]
  },
  {
   "cell_type": "code",
   "execution_count": 90,
   "id": "ae5569f9-2f7f-4a8b-9363-17eae3999895",
   "metadata": {},
   "outputs": [
    {
     "data": {
      "text/plain": [
       "(3, 1)"
      ]
     },
     "execution_count": 90,
     "metadata": {},
     "output_type": "execute_result"
    }
   ],
   "source": [
    "#몫과 나머지\n",
    "divmod(16,5)"
   ]
  },
  {
   "cell_type": "code",
   "execution_count": 91,
   "id": "97834afd-2277-4e4b-ae35-51e5288ee7e7",
   "metadata": {},
   "outputs": [
    {
     "data": {
      "text/plain": [
       "array([1, 2, 3, 4])"
      ]
     },
     "execution_count": 91,
     "metadata": {},
     "output_type": "execute_result"
    }
   ],
   "source": [
    "points = np.arange(1,5)\n",
    "points"
   ]
  },
  {
   "cell_type": "code",
   "execution_count": 92,
   "id": "8a62192f-914a-403e-a04c-a7b5e2a282a9",
   "metadata": {},
   "outputs": [
    {
     "data": {
      "text/plain": [
       "[array([[1, 2, 3, 4],\n",
       "        [1, 2, 3, 4],\n",
       "        [1, 2, 3, 4],\n",
       "        [1, 2, 3, 4]]),\n",
       " array([[1, 1, 1, 1],\n",
       "        [2, 2, 2, 2],\n",
       "        [3, 3, 3, 3],\n",
       "        [4, 4, 4, 4]])]"
      ]
     },
     "execution_count": 92,
     "metadata": {},
     "output_type": "execute_result"
    }
   ],
   "source": [
    "np.meshgrid(points,points)"
   ]
  },
  {
   "cell_type": "code",
   "execution_count": 93,
   "id": "d6a7a1b1-5bb0-4c95-9aab-f40548af9c4a",
   "metadata": {},
   "outputs": [
    {
     "data": {
      "text/plain": [
       "(array([[1, 2, 3, 4],\n",
       "        [1, 2, 3, 4],\n",
       "        [1, 2, 3, 4],\n",
       "        [1, 2, 3, 4]]),\n",
       " array([[1, 1, 1, 1],\n",
       "        [2, 2, 2, 2],\n",
       "        [3, 3, 3, 3],\n",
       "        [4, 4, 4, 4]]))"
      ]
     },
     "execution_count": 93,
     "metadata": {},
     "output_type": "execute_result"
    }
   ],
   "source": [
    "xs, ys = np.meshgrid(points,points)\n",
    "xs, ys"
   ]
  },
  {
   "cell_type": "code",
   "execution_count": 94,
   "id": "88788e9a-a2ce-4cd9-b76b-9e1e3feb6f25",
   "metadata": {},
   "outputs": [
    {
     "data": {
      "text/plain": [
       "array([[1.41421356, 2.23606798, 3.16227766, 4.12310563],\n",
       "       [2.23606798, 2.82842712, 3.60555128, 4.47213595],\n",
       "       [3.16227766, 3.60555128, 4.24264069, 5.        ],\n",
       "       [4.12310563, 4.47213595, 5.        , 5.65685425]])"
      ]
     },
     "execution_count": 94,
     "metadata": {},
     "output_type": "execute_result"
    }
   ],
   "source": [
    "z = np.sqrt(xs**2+ys**2)\n",
    "z"
   ]
  },
  {
   "cell_type": "code",
   "execution_count": 95,
   "id": "765f6f3f-2482-4b46-80f4-973081aab9dc",
   "metadata": {},
   "outputs": [
    {
     "data": {
      "text/plain": [
       "<matplotlib.image.AxesImage at 0x18f3a9f4130>"
      ]
     },
     "execution_count": 95,
     "metadata": {},
     "output_type": "execute_result"
    },
    {
     "data": {
      "image/png": "[encoded data removed]",
      "text/plain": [
       "<Figure size 360x360 with 1 Axes>"
      ]
     },
     "metadata": {
      "needs_background": "light"
     },
     "output_type": "display_data"
    }
   ],
   "source": [
    "import matplotlib.pyplot as plt\n",
    "plt.figure(figsize = (5,5))\n",
    "plt.imshow(z, cmap = plt.cm.gray)"
   ]
  },
  {
   "cell_type": "markdown",
   "id": "26ddf0ce-e0ee-47a8-aea6-013c5471c6f6",
   "metadata": {},
   "source": [
    "# np.random"
   ]
  },
  {
   "cell_type": "code",
   "execution_count": 96,
   "id": "ef5b859a-13b7-4a59-b806-61477384e842",
   "metadata": {},
   "outputs": [
    {
     "data": {
      "text/plain": [
       "array([[7, 6, 9],\n",
       "       [6, 6, 9]])"
      ]
     },
     "execution_count": 96,
     "metadata": {},
     "output_type": "execute_result"
    }
   ],
   "source": [
    "np.random.randint(3, 10, size = (2,3))"
   ]
  },
  {
   "cell_type": "markdown",
   "id": "2c618919-2696-405d-ac87-f5f1b911e144",
   "metadata": {},
   "source": [
    "- Z(정규 분포 확률 변수) = {X(관측값) - μ(평균)} / σ(표준편차)"
   ]
  },
  {
   "cell_type": "code",
   "execution_count": 132,
   "id": "72f10849-c46d-4ef7-8bf9-0265daa1ce3e",
   "metadata": {},
   "outputs": [
    {
     "data": {
      "text/plain": [
       "array([[ 0.54243486, -1.88286538,  0.33014805, -0.8863866 ,  0.9992188 ],\n",
       "       [ 0.39379422, -0.23807634,  2.17703548,  1.29531719,  0.24036056],\n",
       "       [-1.08456174, -2.06742997,  1.22836634, -0.14402747, -1.78655744]])"
      ]
     },
     "execution_count": 132,
     "metadata": {},
     "output_type": "execute_result"
    }
   ],
   "source": [
    "#randn: Z(정규 분포 확률 변수)\n",
    "#평균이 0, 표준편차가 1인 정규 분포 확률 변수 (Z = X)\n",
    "np.random.randn(3,5)"
   ]
  },
  {
   "cell_type": "code",
   "execution_count": 138,
   "id": "d4891a0e-5ff8-4e0b-aedd-1b08230b4396",
   "metadata": {},
   "outputs": [
    {
     "data": {
      "text/plain": [
       "array([[ 0.87483165,  0.4615945 ,  0.07313159, -0.54451433,  0.68265529],\n",
       "       [ 1.24429762, -0.7284469 , -0.64894622,  0.0611836 , -0.16563032],\n",
       "       [ 0.78555995,  1.53319456,  1.31563568, -0.7498112 ,  0.25793196]])"
      ]
     },
     "execution_count": 138,
     "metadata": {},
     "output_type": "execute_result"
    }
   ],
   "source": [
    "#위와 같다\n",
    "np.random.normal(0,1,(3,5))"
   ]
  },
  {
   "cell_type": "code",
   "execution_count": 133,
   "id": "715ac925-180e-45ee-b837-c7e8bcd26b92",
   "metadata": {},
   "outputs": [
    {
     "data": {
      "text/plain": [
       "array([[170.87600508, 171.2230878 , 171.76306861],\n",
       "       [173.07651794, 173.01202952, 173.39659201]])"
      ]
     },
     "execution_count": 133,
     "metadata": {},
     "output_type": "execute_result"
    }
   ],
   "source": [
    "#normal: X(관측값)\n",
    "#평균이 172, 표준편차가 1인 랜덤 관측값(X)\n",
    "np.random.normal(172,1,(2,3))"
   ]
  },
  {
   "cell_type": "code",
   "execution_count": 124,
   "id": "0333894f-bd78-4b09-8ea7-8e7eb05db187",
   "metadata": {},
   "outputs": [
    {
     "data": {
      "text/plain": [
       "array([[171.0161963 , 170.90655747, 172.09327756],\n",
       "       [173.70402221, 173.35502417, 171.300549  ]])"
      ]
     },
     "execution_count": 124,
     "metadata": {},
     "output_type": "execute_result"
    }
   ],
   "source": [
    "#위와 같다\n",
    "np.random.randn(2,3) + 172"
   ]
  },
  {
   "cell_type": "code",
   "execution_count": 126,
   "id": "52e5114e-c3c5-4d0b-848b-f06500f094f0",
   "metadata": {},
   "outputs": [
    {
     "data": {
      "text/plain": [
       "array([[164.77027153, 167.49808733, 168.3166665 ],\n",
       "       [165.57792476, 142.23678824, 170.91667068]])"
      ]
     },
     "execution_count": 126,
     "metadata": {},
     "output_type": "execute_result"
    }
   ],
   "source": [
    "#평균이 172, 표준편차가 10인 랜덤 관측값(X)\n",
    "np.random.normal(172,10,(2,3))"
   ]
  },
  {
   "cell_type": "code",
   "execution_count": 135,
   "id": "03fb96db-0488-4286-9301-09e1d2d72464",
   "metadata": {},
   "outputs": [
    {
     "data": {
      "text/plain": [
       "array([[163.36125367, 157.03667043, 167.79203407],\n",
       "       [179.22473622, 171.05743841, 165.45814048]])"
      ]
     },
     "execution_count": 135,
     "metadata": {},
     "output_type": "execute_result"
    }
   ],
   "source": [
    "#위와 같다\n",
    "np.random.randn(2,3)*10 + 172"
   ]
  },
  {
   "cell_type": "code",
   "execution_count": 128,
   "id": "d40f2ae1-8898-47f8-8aaf-fc1ef975cb83",
   "metadata": {},
   "outputs": [
    {
     "data": {
      "text/plain": [
       "array([[0.25384771, 0.1645441 , 0.85363292],\n",
       "       [0.07719986, 0.18352684, 0.09169073]])"
      ]
     },
     "execution_count": 128,
     "metadata": {},
     "output_type": "execute_result"
    }
   ],
   "source": [
    "#균등분포\n",
    "np.random.uniform(size=(2,3))"
   ]
  },
  {
   "cell_type": "markdown",
   "id": "160ecd3e-2a62-462d-ad4b-d6ccdd4f1622",
   "metadata": {},
   "source": [
    "# 계단 오르내리기 예제"
   ]
  },
  {
   "cell_type": "markdown",
   "id": "a2ca3b5b-8be3-4b8b-b91a-7d4254e811e8",
   "metadata": {},
   "source": [
    "## 예제1: random 함수 사용\n",
    "- random.randint(0,1): 0과 1 둘다 포함"
   ]
  },
  {
   "cell_type": "code",
   "execution_count": 101,
   "id": "8d6348aa-64b3-44a4-81d4-18ec56375bc5",
   "metadata": {},
   "outputs": [],
   "source": [
    "import random"
   ]
  },
  {
   "cell_type": "code",
   "execution_count": 102,
   "id": "2137b8e3-076d-4c68-955a-22a4ad26fd1e",
   "metadata": {},
   "outputs": [],
   "source": [
    "position = 0\n",
    "walk = []\n",
    "\n",
    "for i in range(100):\n",
    "    if random.randint(0,1):\n",
    "        position += 1\n",
    "    else:\n",
    "        position -= 1\n",
    "    walk.append(position)"
   ]
  },
  {
   "cell_type": "code",
   "execution_count": 103,
   "id": "4b4d42dd-13ed-4968-9065-4fe7a5de3bae",
   "metadata": {
    "tags": []
   },
   "outputs": [
    {
     "name": "stdout",
     "output_type": "stream",
     "text": [
      "[1, 0, 1, 0, 1, 2, 1, 0, 1, 0, 1, 0, 1, 0, 1, 2, 1, 2, 1, 2, 1, 2, 1, 2, 1, 0, -1, 0, 1, 0, 1, 2, 3, 4, 3, 4, 3, 2, 1, 2, 1, 0, 1, 0, 1, 0, 1, 0, -1, -2, -3, -2, -3, -4, -5, -6, -5, -4, -5, -4, -5, -6, -7, -8, -7, -8, -9, -10, -9, -8, -9, -10, -11, -10, -9, -10, -11, -12, -11, -10, -9, -8, -9, -10, -11, -12, -13, -14, -13, -14, -15, -16, -15, -14, -13, -12, -13, -12, -13, -12] "
     ]
    }
   ],
   "source": [
    "print(walk, end = ' ')"
   ]
  },
  {
   "cell_type": "code",
   "execution_count": 104,
   "id": "0ccb04f2-d16a-47cf-87f3-25c1b2adab14",
   "metadata": {},
   "outputs": [
    {
     "data": {
      "text/plain": [
       "[<matplotlib.lines.Line2D at 0x18f3aa5ec40>]"
      ]
     },
     "execution_count": 104,
     "metadata": {},
     "output_type": "execute_result"
    },
    {
     "data": {
      "image/png": "[encoded data removed]",
      "text/plain": [
       "<Figure size 432x288 with 1 Axes>"
      ]
     },
     "metadata": {
      "needs_background": "light"
     },
     "output_type": "display_data"
    }
   ],
   "source": [
    "plt.plot(walk)"
   ]
  },
  {
   "cell_type": "markdown",
   "id": "86e60094-fc11-4567-9dc9-6f029b854556",
   "metadata": {},
   "source": [
    "## 예제2: np.random 함수 사용\n",
    "- np.random.randint(0,2): 0 포함 2는 불포함"
   ]
  },
  {
   "cell_type": "code",
   "execution_count": 105,
   "id": "7a78ac46-c946-4022-8a19-8c0cce7bdc25",
   "metadata": {},
   "outputs": [
    {
     "data": {
      "text/plain": [
       "array([0, 1, 0, 0, 1, 1, 1, 1, 1, 0, 1, 1, 1, 0, 1, 0, 0, 1, 0, 1, 0, 1,\n",
       "       0, 1, 0, 1, 0, 1, 1, 1, 0, 0, 0, 1, 0, 1, 0, 0, 1, 1, 0, 1, 1, 0,\n",
       "       1, 1, 0, 1, 0, 1, 0, 1, 0, 0, 1, 0, 1, 1, 0, 1, 1, 0, 1, 0, 1, 0,\n",
       "       0, 1, 1, 0, 1, 0, 1, 1, 1, 1, 1, 1, 1, 0, 1, 0, 0, 0, 1, 0, 1, 1,\n",
       "       1, 0, 0, 0, 0, 1, 0, 1, 0, 1, 0, 0])"
      ]
     },
     "execution_count": 105,
     "metadata": {},
     "output_type": "execute_result"
    }
   ],
   "source": [
    "draws = np.random.randint(0,2,size = 100)\n",
    "draws"
   ]
  },
  {
   "cell_type": "code",
   "execution_count": 106,
   "id": "58b75577-9b5d-48a6-adf3-3c6fc8f856df",
   "metadata": {},
   "outputs": [],
   "source": [
    "steps = np.where(draws > 0, 1, -1)"
   ]
  },
  {
   "cell_type": "code",
   "execution_count": 107,
   "id": "5111035b-b041-4cbe-be72-c9b9a7ac8744",
   "metadata": {},
   "outputs": [],
   "source": [
    "walk = steps.cumsum()"
   ]
  },
  {
   "cell_type": "code",
   "execution_count": 108,
   "id": "9f7c14a6-121e-413f-842d-714cd612b55f",
   "metadata": {},
   "outputs": [
    {
     "name": "stdout",
     "output_type": "stream",
     "text": [
      "13\n",
      "-2\n"
     ]
    }
   ],
   "source": [
    "print(walk.max())\n",
    "print(walk.min())"
   ]
  },
  {
   "cell_type": "code",
   "execution_count": 109,
   "id": "7f584260-2755-4a4f-8ef2-caa7a22f527b",
   "metadata": {},
   "outputs": [
    {
     "data": {
      "text/plain": [
       "[<matplotlib.lines.Line2D at 0x18f3aacf550>]"
      ]
     },
     "execution_count": 109,
     "metadata": {},
     "output_type": "execute_result"
    },
    {
     "data": {
      "image/png": "[encoded data removed]",
      "text/plain": [
       "<Figure size 432x288 with 1 Axes>"
      ]
     },
     "metadata": {
      "needs_background": "light"
     },
     "output_type": "display_data"
    }
   ],
   "source": [
    "plt.plot(walk)"
   ]
  }
 ],
 "metadata": {
  "kernelspec": {
   "display_name": "Python 3 (ipykernel)",
   "language": "python",
   "name": "python3"
  },
  "language_info": {
   "codemirror_mode": {
    "name": "ipython",
    "version": 3
   },
   "file_extension": ".py",
   "mimetype": "text/x-python",
   "name": "python",
   "nbconvert_exporter": "python",
   "pygments_lexer": "ipython3",
   "version": "3.9.12"
  },
  "toc-autonumbering": true
 },
 "nbformat": 4,
 "nbformat_minor": 5
}
