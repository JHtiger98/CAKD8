{
 "cells": [
  {
   "cell_type": "markdown",
   "id": "06ac2c73-d69a-4b04-8d07-37c545f3a9f4",
   "metadata": {},
   "source": [
    "# Markdown\n",
    "- #하고 한 칸 띈다\n",
    "- 바를 쓰면 점이 생기고 \n",
    "- 줄이 바뀐다 <br> 이렇게도 바뀐다"
   ]
  },
  {
   "cell_type": "markdown",
   "id": "e81b766f-183f-4c60-8874-d897b3475aea",
   "metadata": {},
   "source": [
    "# Print"
   ]
  },
  {
   "cell_type": "code",
   "execution_count": 96,
   "id": "5be91aa1-3348-4304-9165-13aefe870075",
   "metadata": {},
   "outputs": [
    {
     "name": "stdout",
     "output_type": "stream",
     "text": [
      "Hello\n",
      "Good Morning\n"
     ]
    },
    {
     "data": {
      "text/plain": [
       "'Hi'"
      ]
     },
     "execution_count": 96,
     "metadata": {},
     "output_type": "execute_result"
    }
   ],
   "source": [
    "#print 안하면 맨밑에 것만 출력\n",
    "\"Hi\"\n",
    "print(\"Hello\")\n",
    "print(\"Good Morning\")\n",
    "\"Hi\""
   ]
  },
  {
   "cell_type": "code",
   "execution_count": 97,
   "id": "d5be40dc-ad6f-442b-9ece-f230bace3a41",
   "metadata": {},
   "outputs": [
    {
     "data": {
      "text/plain": [
       "2"
      ]
     },
     "execution_count": 97,
     "metadata": {},
     "output_type": "execute_result"
    }
   ],
   "source": [
    "1+1"
   ]
  },
  {
   "cell_type": "code",
   "execution_count": 5,
   "id": "7952a722-f43c-4a6d-b16c-304284ac6c14",
   "metadata": {},
   "outputs": [
    {
     "name": "stdout",
     "output_type": "stream",
     "text": [
      "0\n",
      "Hi\n",
      "1\n",
      "Hi\n",
      "2\n",
      "Hi\n",
      "3\n",
      "Hi\n"
     ]
    }
   ],
   "source": [
    "for i in range(4):\n",
    "    print(i)\n",
    "    print(\"Hi\")"
   ]
  },
  {
   "cell_type": "code",
   "execution_count": 7,
   "id": "de94a00f-d8bc-44c6-b2d5-1cc54dd94b3f",
   "metadata": {},
   "outputs": [
    {
     "name": "stdout",
     "output_type": "stream",
     "text": [
      "1\n",
      "Hello\n",
      "2\n",
      "Hello\n",
      "3\n",
      "Hello\n"
     ]
    }
   ],
   "source": [
    "for i in [1,2,3]:\n",
    "    print(i)\n",
    "    print(\"Hello\")"
   ]
  },
  {
   "cell_type": "markdown",
   "id": "010fafd9-9a06-4a21-b855-7ddc61507429",
   "metadata": {},
   "source": [
    "# Import"
   ]
  },
  {
   "cell_type": "code",
   "execution_count": 8,
   "id": "9dee9042-5791-4cb4-823e-5545f42948f0",
   "metadata": {},
   "outputs": [],
   "source": [
    "import math"
   ]
  },
  {
   "cell_type": "code",
   "execution_count": 11,
   "id": "8d1550a6-6cec-4d5a-ac00-1da080ecf0c4",
   "metadata": {},
   "outputs": [
    {
     "name": "stdout",
     "output_type": "stream",
     "text": [
      "3.0\n",
      "120\n"
     ]
    }
   ],
   "source": [
    "#sqrt는 루트, factorial은 !\n",
    "print(math.sqrt(9))\n",
    "print(math.factorial(5))"
   ]
  },
  {
   "cell_type": "code",
   "execution_count": 18,
   "id": "e4c73e55-c2ca-48dc-8df7-27800df4be94",
   "metadata": {},
   "outputs": [],
   "source": [
    "import math as m"
   ]
  },
  {
   "cell_type": "code",
   "execution_count": 19,
   "id": "a4709e74-3335-47f4-984b-5cc4be5b586c",
   "metadata": {},
   "outputs": [
    {
     "data": {
      "text/plain": [
       "2.0"
      ]
     },
     "execution_count": 19,
     "metadata": {},
     "output_type": "execute_result"
    }
   ],
   "source": [
    "m.sqrt(4)"
   ]
  },
  {
   "cell_type": "code",
   "execution_count": 21,
   "id": "b93640d9-03f7-4131-a14d-48ac141e6b8e",
   "metadata": {},
   "outputs": [],
   "source": [
    "from math import sqrt"
   ]
  },
  {
   "cell_type": "code",
   "execution_count": 34,
   "id": "36c4820a-7d73-4409-8341-41c40379cb9d",
   "metadata": {},
   "outputs": [
    {
     "data": {
      "text/plain": [
       "4.0"
      ]
     },
     "execution_count": 34,
     "metadata": {},
     "output_type": "execute_result"
    }
   ],
   "source": [
    "sqrt(16)"
   ]
  },
  {
   "cell_type": "code",
   "execution_count": 14,
   "id": "6c68cf84-b615-4a5b-ae3e-7f50103e496f",
   "metadata": {},
   "outputs": [],
   "source": [
    "import numpy as np"
   ]
  },
  {
   "cell_type": "code",
   "execution_count": 15,
   "id": "e05625f1-6f48-4cda-8376-318a1f0a7113",
   "metadata": {},
   "outputs": [
    {
     "data": {
      "text/plain": [
       "3.141592653589793"
      ]
     },
     "execution_count": 15,
     "metadata": {},
     "output_type": "execute_result"
    }
   ],
   "source": [
    "np.pi"
   ]
  },
  {
   "cell_type": "code",
   "execution_count": 17,
   "id": "63e6931b-e8ae-43e3-a9c7-00e0a9537dc7",
   "metadata": {},
   "outputs": [
    {
     "data": {
      "text/plain": [
       "array([ 1. ,  5.5, 10. ])"
      ]
     },
     "execution_count": 17,
     "metadata": {},
     "output_type": "execute_result"
    }
   ],
   "source": [
    "#1부터 10까지 3개의 숫자로 쪼개기\n",
    "np.linspace(1,10,3)"
   ]
  },
  {
   "cell_type": "code",
   "execution_count": 42,
   "id": "01769db2-1e37-43a5-891d-3557c057fcd2",
   "metadata": {},
   "outputs": [],
   "source": [
    "import matplotlib.pyplot as plt"
   ]
  },
  {
   "cell_type": "code",
   "execution_count": 43,
   "id": "3374a86e-683d-4382-9ad9-aebc172c9da5",
   "metadata": {},
   "outputs": [
    {
     "data": {
      "text/plain": [
       "[<matplotlib.lines.Line2D at 0x231ca873790>]"
      ]
     },
     "execution_count": 43,
     "metadata": {},
     "output_type": "execute_result"
    },
    {
     "data": {
      "image/png": "[encoded data removed]",
      "text/plain": [
       "<Figure size 640x480 with 1 Axes>"
      ]
     },
     "metadata": {},
     "output_type": "display_data"
    }
   ],
   "source": [
    "#0부터 2파이까지 sin그래프 만드는법\n",
    "x = np.linspace(0,2*np.pi,100)\n",
    "y = np.sin(x)\n",
    "plt.plot(x,y)"
   ]
  },
  {
   "cell_type": "code",
   "execution_count": 44,
   "id": "895a8bc4-8f0c-4365-af66-0cd841e9b406",
   "metadata": {},
   "outputs": [
    {
     "data": {
      "text/plain": [
       "[<matplotlib.lines.Line2D at 0x231ca8c2f80>]"
      ]
     },
     "execution_count": 44,
     "metadata": {},
     "output_type": "execute_result"
    },
    {
     "data": {
      "image/png": "[encoded data removed]",
      "text/plain": [
       "<Figure size 640x480 with 1 Axes>"
      ]
     },
     "metadata": {},
     "output_type": "display_data"
    }
   ],
   "source": [
    "#위와 같지만 더 간단한 방법\n",
    "x = np.linspace(0,2*np.pi,100)\n",
    "plt.plot(x,np.sin(x))"
   ]
  },
  {
   "cell_type": "code",
   "execution_count": 45,
   "id": "9cf878d6-7708-49fb-87b5-c5fc54b0e0c5",
   "metadata": {},
   "outputs": [
    {
     "data": {
      "text/plain": [
       "[<matplotlib.lines.Line2D at 0x231ca92f520>]"
      ]
     },
     "execution_count": 45,
     "metadata": {},
     "output_type": "execute_result"
    },
    {
     "data": {
      "image/png": "[encoded data removed]",
      "text/plain": [
       "<Figure size 640x480 with 1 Axes>"
      ]
     },
     "metadata": {},
     "output_type": "display_data"
    }
   ],
   "source": [
    "#0부터 4파이까지 cos그래프 만드는법\n",
    "x = np.linspace(0,4*np.pi,100)\n",
    "plt.plot(x,np.cos(x))"
   ]
  },
  {
   "cell_type": "code",
   "execution_count": 46,
   "id": "3e0ffecb-8c7d-4049-9b56-cbd0f20ee852",
   "metadata": {},
   "outputs": [
    {
     "data": {
      "text/plain": [
       "[<matplotlib.lines.Line2D at 0x231ca763a90>]"
      ]
     },
     "execution_count": 46,
     "metadata": {},
     "output_type": "execute_result"
    },
    {
     "data": {
      "image/png": "[encoded data removed]",
      "text/plain": [
       "<Figure size 640x480 with 1 Axes>"
      ]
     },
     "metadata": {},
     "output_type": "display_data"
    }
   ],
   "source": [
    "#sin과 cos 동시에 그래프 만드는법\n",
    "x = np.linspace(0,2*np.pi,100)\n",
    "plt.plot(x,np.sin(x))\n",
    "plt.plot(x,np.cos(x))"
   ]
  },
  {
   "cell_type": "markdown",
   "id": "e6610978-aecc-456e-b699-815b016e935c",
   "metadata": {},
   "source": [
    "# 데이터 타입"
   ]
  },
  {
   "cell_type": "markdown",
   "id": "7f3f9760-4f91-4521-9f45-fff2bc6835f5",
   "metadata": {},
   "source": [
    "## 숫자\n",
    "- 정수(integer): int\n",
    "- 소수(float): float"
   ]
  },
  {
   "cell_type": "code",
   "execution_count": 47,
   "id": "b3d434f4-1bba-4bad-9216-6462b7fa6003",
   "metadata": {},
   "outputs": [
    {
     "name": "stdout",
     "output_type": "stream",
     "text": [
      "5\n"
     ]
    },
    {
     "data": {
      "text/plain": [
       "int"
      ]
     },
     "execution_count": 47,
     "metadata": {},
     "output_type": "execute_result"
    }
   ],
   "source": [
    "a = 5\n",
    "print(a)\n",
    "type(a)"
   ]
  },
  {
   "cell_type": "code",
   "execution_count": 48,
   "id": "65ced368-15cf-45de-a139-28f6609c5af8",
   "metadata": {},
   "outputs": [
    {
     "data": {
      "text/plain": [
       "(3, 3.0)"
      ]
     },
     "execution_count": 48,
     "metadata": {},
     "output_type": "execute_result"
    }
   ],
   "source": [
    "#원하는 타입으로 바꿔주기\n",
    "int(3.1), float(3)"
   ]
  },
  {
   "cell_type": "code",
   "execution_count": 49,
   "id": "9953642f-7ac1-495a-be07-133c359d9273",
   "metadata": {},
   "outputs": [
    {
     "data": {
      "text/plain": [
       "1024"
      ]
     },
     "execution_count": 49,
     "metadata": {},
     "output_type": "execute_result"
    }
   ],
   "source": [
    "#거듭제곱\n",
    "2**10"
   ]
  },
  {
   "cell_type": "code",
   "execution_count": 50,
   "id": "945aa74c-d0eb-45a3-a28d-8d00a24b0d5e",
   "metadata": {},
   "outputs": [
    {
     "data": {
      "text/plain": [
       "5"
      ]
     },
     "execution_count": 50,
     "metadata": {},
     "output_type": "execute_result"
    }
   ],
   "source": [
    "#몫\n",
    "21//4"
   ]
  },
  {
   "cell_type": "code",
   "execution_count": 51,
   "id": "ac3e586d-efd3-4f1b-81af-200530b72c09",
   "metadata": {},
   "outputs": [
    {
     "data": {
      "text/plain": [
       "1"
      ]
     },
     "execution_count": 51,
     "metadata": {},
     "output_type": "execute_result"
    }
   ],
   "source": [
    "#나머지\n",
    "21%4"
   ]
  },
  {
   "cell_type": "code",
   "execution_count": 64,
   "id": "41c260ff-d625-4cbc-82a1-ab45a6370d97",
   "metadata": {},
   "outputs": [
    {
     "name": "stdout",
     "output_type": "stream",
     "text": [
      "2\n",
      "1.786\n"
     ]
    }
   ],
   "source": [
    "#반올림\n",
    "print(round(1.78587))\n",
    "print(round(1.78587, ndigits=3))"
   ]
  },
  {
   "cell_type": "code",
   "execution_count": 65,
   "id": "760eb38a-3a26-4dbe-ac5e-6e528d57442b",
   "metadata": {},
   "outputs": [
    {
     "name": "stdout",
     "output_type": "stream",
     "text": [
      "1\n",
      "2\n"
     ]
    }
   ],
   "source": [
    "#내림\n",
    "print(math.floor(1.234))\n",
    "#올림\n",
    "print(math.ceil(1.234))"
   ]
  },
  {
   "cell_type": "markdown",
   "id": "414ae73d-2a1b-4614-98e0-20aa94dcc545",
   "metadata": {},
   "source": [
    "## 문자\n",
    "- String: str"
   ]
  },
  {
   "cell_type": "code",
   "execution_count": 69,
   "id": "f7c36f40-ffcf-400e-93a9-064b868f8bba",
   "metadata": {},
   "outputs": [
    {
     "name": "stdout",
     "output_type": "stream",
     "text": [
      "그는 나에게 \"사랑해요\" 라고 말했다\n"
     ]
    }
   ],
   "source": [
    "print('그는 나에게 \"사랑해요\" 라고 말했다')"
   ]
  },
  {
   "cell_type": "code",
   "execution_count": 70,
   "id": "e37de304-9041-4f68-a414-7f2326fdd3a9",
   "metadata": {},
   "outputs": [
    {
     "data": {
      "text/plain": [
       "str"
      ]
     },
     "execution_count": 70,
     "metadata": {},
     "output_type": "execute_result"
    }
   ],
   "source": [
    "type(a)"
   ]
  },
  {
   "cell_type": "markdown",
   "id": "71223096-8d7a-4e2b-98b5-4e1892190ae6",
   "metadata": {},
   "source": [
    "### 문자열의 연산"
   ]
  },
  {
   "cell_type": "code",
   "execution_count": 66,
   "id": "93502a02-2aa0-4e95-9cc1-7c574e978316",
   "metadata": {},
   "outputs": [],
   "source": [
    "a = \"Life is short. \"\n",
    "b = \"We need Python\""
   ]
  },
  {
   "cell_type": "code",
   "execution_count": 67,
   "id": "46f8fa0c-10a8-4955-bba9-bfd7f6ba6ce2",
   "metadata": {},
   "outputs": [
    {
     "data": {
      "text/plain": [
       "'Life is short. We need Python'"
      ]
     },
     "execution_count": 67,
     "metadata": {},
     "output_type": "execute_result"
    }
   ],
   "source": [
    "a + b"
   ]
  },
  {
   "cell_type": "code",
   "execution_count": 68,
   "id": "29ca6107-e4f9-4bc9-96ad-13fef44c4d92",
   "metadata": {},
   "outputs": [
    {
     "data": {
      "text/plain": [
       "'Life is short. Life is short. Life is short. '"
      ]
     },
     "execution_count": 68,
     "metadata": {},
     "output_type": "execute_result"
    }
   ],
   "source": [
    "a*3"
   ]
  },
  {
   "cell_type": "code",
   "execution_count": 69,
   "id": "0ad9bff1-1ed0-4ca1-a317-ab92236c7b2a",
   "metadata": {},
   "outputs": [
    {
     "name": "stdout",
     "output_type": "stream",
     "text": [
      "--------------------\n",
      "커피 나왔습니다\n",
      "--------------------\n"
     ]
    }
   ],
   "source": [
    "print(\"-\"*20)\n",
    "print(\"커피 나왔습니다\")\n",
    "print(\"-\"*20)"
   ]
  },
  {
   "cell_type": "markdown",
   "id": "0721f813-512d-4bd3-8c15-4701421c9ffb",
   "metadata": {},
   "source": [
    "### 문자열의 method"
   ]
  },
  {
   "cell_type": "code",
   "execution_count": 1,
   "id": "8fa59fd9-1525-43ed-af02-59c3da0c6cd9",
   "metadata": {},
   "outputs": [],
   "source": [
    "a = \"Hello\""
   ]
  },
  {
   "cell_type": "code",
   "execution_count": 71,
   "id": "2fa46ceb-c4b3-4608-8bfc-cd4d1ef82fb3",
   "metadata": {},
   "outputs": [
    {
     "data": {
      "text/plain": [
       "'HELLO'"
      ]
     },
     "execution_count": 71,
     "metadata": {},
     "output_type": "execute_result"
    }
   ],
   "source": [
    "a.upper()"
   ]
  },
  {
   "cell_type": "code",
   "execution_count": 72,
   "id": "284d3df9-b22e-4abf-9ddb-3bab77c4d080",
   "metadata": {},
   "outputs": [
    {
     "data": {
      "text/plain": [
       "'hello'"
      ]
     },
     "execution_count": 72,
     "metadata": {},
     "output_type": "execute_result"
    }
   ],
   "source": [
    "a.lower()"
   ]
  },
  {
   "cell_type": "code",
   "execution_count": 73,
   "id": "db54f67f-ea27-4912-be7e-faa55982d2a0",
   "metadata": {},
   "outputs": [
    {
     "data": {
      "text/plain": [
       "'Hello'"
      ]
     },
     "execution_count": 73,
     "metadata": {},
     "output_type": "execute_result"
    }
   ],
   "source": [
    "b = a.upper()\n",
    "b.lower().capitalize()"
   ]
  },
  {
   "cell_type": "code",
   "execution_count": 74,
   "id": "20049f63-f64b-46e4-9ce2-f676a4139f22",
   "metadata": {},
   "outputs": [
    {
     "data": {
      "text/plain": [
       "'Hi Good Morning'"
      ]
     },
     "execution_count": 74,
     "metadata": {},
     "output_type": "execute_result"
    }
   ],
   "source": [
    "a = \"hi good morning\"\n",
    "a.title()"
   ]
  },
  {
   "cell_type": "code",
   "execution_count": 75,
   "id": "4f1d0013-d787-4978-8c58-089ee201d1d2",
   "metadata": {},
   "outputs": [
    {
     "data": {
      "text/plain": [
       "2"
      ]
     },
     "execution_count": 75,
     "metadata": {},
     "output_type": "execute_result"
    }
   ],
   "source": [
    "a.count('g')"
   ]
  },
  {
   "cell_type": "code",
   "execution_count": 76,
   "id": "2d549990-d545-43d6-8a63-a622b49a1217",
   "metadata": {},
   "outputs": [
    {
     "data": {
      "text/plain": [
       "15"
      ]
     },
     "execution_count": 76,
     "metadata": {},
     "output_type": "execute_result"
    }
   ],
   "source": [
    "len(a)"
   ]
  },
  {
   "cell_type": "code",
   "execution_count": 131,
   "id": "96bdd990-0270-4d72-b8de-9ecf4a4751da",
   "metadata": {},
   "outputs": [
    {
     "name": "stdout",
     "output_type": "stream",
     "text": [
      "good night\n",
      "    good night\n",
      "good night     \n"
     ]
    }
   ],
   "source": [
    "a = \"    good night     \"\n",
    "print(a.strip())\n",
    "print(a.rstrip())\n",
    "print(a.lstrip())"
   ]
  },
  {
   "cell_type": "code",
   "execution_count": 8,
   "id": "6b5ed425-b813-4188-a577-4e55efa452cf",
   "metadata": {},
   "outputs": [
    {
     "data": {
      "text/plain": [
       "['good', 'morning', 'Hello']"
      ]
     },
     "execution_count": 8,
     "metadata": {},
     "output_type": "execute_result"
    }
   ],
   "source": [
    "# 빈칸 기준으로 분리하기\n",
    "a.split()"
   ]
  },
  {
   "cell_type": "code",
   "execution_count": 10,
   "id": "910b5892-5478-4762-b742-60f02da0be14",
   "metadata": {},
   "outputs": [
    {
     "data": {
      "text/plain": [
       "['good', ' morning', ' Hello']"
      ]
     },
     "execution_count": 10,
     "metadata": {},
     "output_type": "execute_result"
    }
   ],
   "source": [
    "#',' 기준으로 분리하기\n",
    "a = \"good, morning, Hello\"\n",
    "a.split(',')"
   ]
  },
  {
   "cell_type": "code",
   "execution_count": 83,
   "id": "408e800d-a43d-4d4e-933b-e3647a3033a5",
   "metadata": {},
   "outputs": [
    {
     "data": {
      "text/plain": [
       "'철수-영희-길동'"
      ]
     },
     "execution_count": 83,
     "metadata": {},
     "output_type": "execute_result"
    }
   ],
   "source": [
    "#list a 를 str로 바꿔주기\n",
    "a = [\"철수\", \"영희\", \"길동\"]\n",
    "\"-\".join(a)"
   ]
  },
  {
   "cell_type": "markdown",
   "id": "72185062-a324-4faa-a838-e349cf388a9f",
   "metadata": {},
   "source": [
    "## 참거짓\n",
    "- Boolean: bool"
   ]
  },
  {
   "cell_type": "code",
   "execution_count": 168,
   "id": "07783682-6526-47e1-a5d4-263bf14764ee",
   "metadata": {},
   "outputs": [
    {
     "data": {
      "text/plain": [
       "False"
      ]
     },
     "execution_count": 168,
     "metadata": {},
     "output_type": "execute_result"
    }
   ],
   "source": [
    "1 == 2"
   ]
  },
  {
   "cell_type": "code",
   "execution_count": 169,
   "id": "e6338a56-c88e-499e-a244-22e272565350",
   "metadata": {},
   "outputs": [
    {
     "name": "stdout",
     "output_type": "stream",
     "text": [
      "No\n"
     ]
    }
   ],
   "source": [
    "if 1 > 2:\n",
    "    print(\"Yes\")\n",
    "else:\n",
    "    print(\"No\")"
   ]
  },
  {
   "cell_type": "code",
   "execution_count": 170,
   "id": "a8352e62-5818-42d7-a454-ebb8e91f0a32",
   "metadata": {},
   "outputs": [
    {
     "name": "stdout",
     "output_type": "stream",
     "text": [
      "Yes\n"
     ]
    }
   ],
   "source": [
    "#0을 제외한 모든 숫자는 참이다.\n",
    "if 1:\n",
    "    print(\"Yes\")\n",
    "else:\n",
    "    print(\"No\")"
   ]
  },
  {
   "cell_type": "code",
   "execution_count": 178,
   "id": "7951c27e-3f13-4338-a598-4ab80ba1daf0",
   "metadata": {},
   "outputs": [
    {
     "name": "stdout",
     "output_type": "stream",
     "text": [
      "No\n"
     ]
    }
   ],
   "source": [
    "#아무것도 없는 str은 거짓\n",
    "if \"\":\n",
    "    print(\"Yes\")\n",
    "else:\n",
    "    print(\"No\")"
   ]
  },
  {
   "cell_type": "code",
   "execution_count": 84,
   "id": "1de8c99e-bfbc-4769-88c0-baf09d2c44d2",
   "metadata": {},
   "outputs": [
    {
     "data": {
      "text/plain": [
       "array([1, 2, 3, 4, 5])"
      ]
     },
     "execution_count": 84,
     "metadata": {},
     "output_type": "execute_result"
    }
   ],
   "source": [
    "import numpy as np\n",
    "a = np.array([1,2,3,4,5])\n",
    "a"
   ]
  },
  {
   "cell_type": "code",
   "execution_count": 85,
   "id": "41753dfd-f7fb-4f82-9750-67070b3e7eee",
   "metadata": {},
   "outputs": [
    {
     "data": {
      "text/plain": [
       "array([False, False, False,  True,  True])"
      ]
     },
     "execution_count": 85,
     "metadata": {},
     "output_type": "execute_result"
    }
   ],
   "source": [
    "a > 3"
   ]
  },
  {
   "cell_type": "code",
   "execution_count": 86,
   "id": "8d8847f5-1255-4b5c-8155-8388149b77ed",
   "metadata": {},
   "outputs": [
    {
     "data": {
      "text/plain": [
       "array([4, 5])"
      ]
     },
     "execution_count": 86,
     "metadata": {},
     "output_type": "execute_result"
    }
   ],
   "source": [
    "a[a>3]"
   ]
  },
  {
   "cell_type": "markdown",
   "id": "69c28a28-5c66-40fb-90be-f7ea865d40f5",
   "metadata": {},
   "source": [
    "# Input\n",
    "- input()\n",
    "- 일단 문자열을 출력해 준다\n",
    "- 출력은 항상 str 이다"
   ]
  },
  {
   "cell_type": "code",
   "execution_count": 88,
   "id": "fd636d4d-8a84-44a8-b959-fb2466453f33",
   "metadata": {},
   "outputs": [
    {
     "name": "stdin",
     "output_type": "stream",
     "text": [
      "숫자를 입력해 주세요 5\n"
     ]
    },
    {
     "data": {
      "text/plain": [
       "'5'"
      ]
     },
     "execution_count": 88,
     "metadata": {},
     "output_type": "execute_result"
    }
   ],
   "source": [
    "input(\"숫자를 입력해 주세요\")"
   ]
  },
  {
   "cell_type": "code",
   "execution_count": 91,
   "id": "e3456b29-39c4-4f05-a674-d08a5dd06fa9",
   "metadata": {},
   "outputs": [
    {
     "name": "stdin",
     "output_type": "stream",
     "text": [
      "입력:  5\n",
      "입력2:  7\n"
     ]
    },
    {
     "name": "stdout",
     "output_type": "stream",
     "text": [
      "57\n",
      "12\n"
     ]
    }
   ],
   "source": [
    "a = input(\"입력: \")\n",
    "b = input(\"입력2: \")\n",
    "print(a+b)\n",
    "print(int(a)+int(b))"
   ]
  },
  {
   "cell_type": "code",
   "execution_count": 92,
   "id": "b106e829-1a70-44ce-bf05-a22e52653cf2",
   "metadata": {},
   "outputs": [
    {
     "name": "stdin",
     "output_type": "stream",
     "text": [
      "숫자 입력:  3\n",
      "숫자 입력2:  9\n"
     ]
    },
    {
     "data": {
      "text/plain": [
       "12"
      ]
     },
     "execution_count": 92,
     "metadata": {},
     "output_type": "execute_result"
    }
   ],
   "source": [
    "a = int(input(\"숫자 입력: \"))\n",
    "b = int(input(\"숫자 입력2: \"))\n",
    "a + b"
   ]
  }
 ],
 "metadata": {
  "kernelspec": {
   "display_name": "Python 3 (ipykernel)",
   "language": "python",
   "name": "python3"
  },
  "language_info": {
   "codemirror_mode": {
    "name": "ipython",
    "version": 3
   },
   "file_extension": ".py",
   "mimetype": "text/x-python",
   "name": "python",
   "nbconvert_exporter": "python",
   "pygments_lexer": "ipython3",
   "version": "3.9.12"
  },
  "toc-autonumbering": true
 },
 "nbformat": 4,
 "nbformat_minor": 5
}
