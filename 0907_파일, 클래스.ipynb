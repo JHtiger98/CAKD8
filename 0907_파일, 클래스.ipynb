{
 "cells": [
  {
   "cell_type": "markdown",
   "id": "ba2c8dea-fbf0-4e84-90e1-a394000a2108",
   "metadata": {},
   "source": [
    "# 파일"
   ]
  },
  {
   "cell_type": "markdown",
   "id": "da1621d1-5fe4-484a-aa7f-592bc1822c44",
   "metadata": {},
   "source": [
    "```\n",
    "r: read, 읽기만 할때 쓴다\n",
    "w: write, 파일이 있으면 덮어쓰고 없으면 만들어 쓴다\n",
    "a: append, 새로운 내용을 추가할 때 쓴다\n",
    "------------------------------\n",
    "b: binary: text가 아닌 것 음악, 사진 동영상\n",
    "------------------------------\n",
    "*wb: 자주 쓰임\n",
    "```"
   ]
  },
  {
   "cell_type": "markdown",
   "id": "8a61095d-559d-4368-9684-d172f7e9047a",
   "metadata": {},
   "source": [
    "## 파일 입출력"
   ]
  },
  {
   "cell_type": "code",
   "execution_count": 136,
   "id": "4855c5d7-d085-4628-84fa-206d6d14ae7b",
   "metadata": {},
   "outputs": [],
   "source": [
    "f = open('new.txt', 'w')\n",
    "f.write(\"Hello \\n\")\n",
    "f.close()"
   ]
  },
  {
   "cell_type": "code",
   "execution_count": 137,
   "id": "0f3b917b-891b-493e-9f91-e2335bb0a514",
   "metadata": {},
   "outputs": [],
   "source": [
    "f = open('new.txt', 'a')\n",
    "f.write(\"Good Morning\")\n",
    "f.close()"
   ]
  },
  {
   "cell_type": "code",
   "execution_count": 138,
   "id": "d1c96baf-7db6-4a96-b46d-6532c65d1476",
   "metadata": {},
   "outputs": [],
   "source": [
    "f = open('new.txt', 'w')\n",
    "f.write(\"Hello \\n\")\n",
    "f.write(\"Good Morning\\n\")\n",
    "f.write(\"Good Afternoon\")\n",
    "f.close()"
   ]
  },
  {
   "cell_type": "code",
   "execution_count": 18,
   "id": "fd331b29-c94a-4ab0-83b3-167b7f5a410a",
   "metadata": {},
   "outputs": [],
   "source": [
    "f = open('new.txt', 'w')\n",
    "for _ in range(10):\n",
    "    f.write(\"Hello \\n\")\n",
    "    f.write(\"Good Morning\")\n",
    "f.close()"
   ]
  },
  {
   "cell_type": "code",
   "execution_count": 19,
   "id": "814c5213-55ff-434a-9de2-6fd2ac9ba12e",
   "metadata": {},
   "outputs": [],
   "source": [
    "#with open as f:"
   ]
  },
  {
   "cell_type": "code",
   "execution_count": 20,
   "id": "2ed0f940-5608-4629-8581-e5b47267cf56",
   "metadata": {},
   "outputs": [],
   "source": [
    "with open('new.txt', 'w') as f:\n",
    "    f.write(\"Good Morning\")"
   ]
  },
  {
   "cell_type": "code",
   "execution_count": 1,
   "id": "e8b011a6-0264-49dc-9aff-3e582be8e333",
   "metadata": {},
   "outputs": [],
   "source": [
    "with open('new.txt', 'w') as f:\n",
    "    for _ in range(10):\n",
    "        f.write(\"Hello \\n\")\n",
    "        f.write(\"Good Morning \\n\")"
   ]
  },
  {
   "cell_type": "markdown",
   "id": "98e0a357-cbd2-4a37-946c-d6513580229a",
   "metadata": {},
   "source": [
    "## 파일 읽기"
   ]
  },
  {
   "cell_type": "code",
   "execution_count": 25,
   "id": "e1d44e7e-a80c-45c5-a6be-69c4ec371eec",
   "metadata": {},
   "outputs": [
    {
     "name": "stdout",
     "output_type": "stream",
     "text": [
      "Hello \n",
      "\n",
      "Hello \n",
      "\n"
     ]
    }
   ],
   "source": [
    "#한줄 읽기 readline\n",
    "f = open(\"new.txt\", 'r')\n",
    "data = f.readline()\n",
    "print(data)\n",
    "f.close()\n",
    "#방법2\n",
    "with open('new.txt','r') as f:\n",
    "    data = f.readline()\n",
    "    print(data)"
   ]
  },
  {
   "cell_type": "code",
   "execution_count": 3,
   "id": "c4987f36-3d36-4868-9db2-c526c76567bc",
   "metadata": {},
   "outputs": [
    {
     "name": "stdout",
     "output_type": "stream",
     "text": [
      "['Hello \\n', 'Good Morning \\n', 'Hello \\n', 'Good Morning \\n', 'Hello \\n', 'Good Morning \\n', 'Hello \\n', 'Good Morning \\n', 'Hello \\n', 'Good Morning \\n', 'Hello \\n', 'Good Morning \\n', 'Hello \\n', 'Good Morning \\n', 'Hello \\n', 'Good Morning \\n', 'Hello \\n', 'Good Morning \\n', 'Hello \\n', 'Good Morning \\n']\n"
     ]
    }
   ],
   "source": [
    "#여러줄 읽기 readlines\n",
    "f = open(\"new.txt\", 'r')\n",
    "data = f.readlines()\n",
    "print(data)\n",
    "f.close()"
   ]
  },
  {
   "cell_type": "code",
   "execution_count": 27,
   "id": "dbddaba6-3692-47d9-8981-1ae287271f31",
   "metadata": {},
   "outputs": [
    {
     "name": "stdout",
     "output_type": "stream",
     "text": [
      "Hello \n",
      "Good Morning \n",
      "Hello \n",
      "Good Morning \n",
      "Hello \n",
      "Good Morning \n",
      "Hello \n",
      "Good Morning \n",
      "Hello \n",
      "Good Morning \n",
      "Hello \n",
      "Good Morning \n",
      "Hello \n",
      "Good Morning \n",
      "Hello \n",
      "Good Morning \n",
      "Hello \n",
      "Good Morning \n",
      "Hello \n",
      "Good Morning \n"
     ]
    }
   ],
   "source": [
    "f = open('new.txt', 'r')\n",
    "data = f.readlines()\n",
    "for i in data:\n",
    "    print(i, end = \"\")\n",
    "f.close()"
   ]
  },
  {
   "cell_type": "markdown",
   "id": "69675603-9729-4525-b923-a51e8bb6503d",
   "metadata": {},
   "source": [
    "## 파일 연습"
   ]
  },
  {
   "cell_type": "code",
   "execution_count": 106,
   "id": "289896b6-87d5-4679-a43b-9eb970ab0cc0",
   "metadata": {},
   "outputs": [],
   "source": [
    "f = open(\"test.txt\", 'w', encoding = 'utf-8')\n",
    "for i in range(1,11):\n",
    "    f.write(f\"{i}번째입니다\\n\")\n",
    "f.close()"
   ]
  },
  {
   "cell_type": "code",
   "execution_count": 107,
   "id": "419ea75e-9f36-432a-bda6-e7f1ca635772",
   "metadata": {},
   "outputs": [
    {
     "name": "stdout",
     "output_type": "stream",
     "text": [
      "1번째입니다\n",
      "2번째입니다\n",
      "3번째입니다\n",
      "4번째입니다\n",
      "5번째입니다\n",
      "6번째입니다\n",
      "7번째입니다\n",
      "8번째입니다\n",
      "9번째입니다\n",
      "10번째입니다\n"
     ]
    }
   ],
   "source": [
    "f = open('test.txt', 'r', encoding = 'utf-8')\n",
    "data = f.readlines()\n",
    "for i in data:\n",
    "    print(i, end = \"\")\n",
    "f.close()"
   ]
  },
  {
   "cell_type": "code",
   "execution_count": 258,
   "id": "77c60787-0c7b-48f0-8ea5-0af7fdf375a2",
   "metadata": {},
   "outputs": [
    {
     "name": "stdin",
     "output_type": "stream",
     "text": [
      "이름:  지훈\n",
      "나이:  25\n",
      "이름:  박지훈\n",
      "나이:  24\n",
      "이름:  \n",
      "나이:  \n"
     ]
    }
   ],
   "source": [
    "#이름과 나이를 입력받아 people.txt 만들기\n",
    "f = open('people.txt','w', encoding = 'utf-8')\n",
    "while True:\n",
    "  name = input('이름: ')\n",
    "  age = input('나이: ')\n",
    "  if name == \"\":\n",
    "    break\n",
    "  else:\n",
    "    f.write(name + ' : ' + age + '\\n')\n",
    "f.close() "
   ]
  },
  {
   "cell_type": "markdown",
   "id": "18e3e0f1-5f66-40bc-be92-fff7d5f5675b",
   "metadata": {},
   "source": [
    "# 클래스"
   ]
  },
  {
   "cell_type": "code",
   "execution_count": 259,
   "id": "287b7433-121b-45e8-b8e5-7797a0a7ed94",
   "metadata": {},
   "outputs": [],
   "source": [
    "result = 0\n",
    "result1 = 0\n",
    "\n",
    "def add(num):\n",
    "    global result\n",
    "    result += num\n",
    "    return result\n",
    "\n",
    "def subtract(num):\n",
    "    global result\n",
    "    result -= num\n",
    "    return result\n",
    "\n",
    "def add1(num):\n",
    "    global result1\n",
    "    result1 += num\n",
    "    return result1\n",
    "\n",
    "def subtract1(num):\n",
    "    global result1\n",
    "    result1 -= num\n",
    "    return result1"
   ]
  },
  {
   "cell_type": "code",
   "execution_count": 260,
   "id": "a6958e3e-2cbe-456f-92c8-1289b9ac3e86",
   "metadata": {},
   "outputs": [
    {
     "name": "stdout",
     "output_type": "stream",
     "text": [
      "3\n",
      "7\n",
      "4\n",
      "5\n",
      "11\n",
      "6\n"
     ]
    }
   ],
   "source": [
    "print(add(3))\n",
    "print(add(4))\n",
    "print(subtract(3))\n",
    "\n",
    "print(add1(5))\n",
    "print(add1(6))\n",
    "print(subtract1(5))"
   ]
  },
  {
   "cell_type": "code",
   "execution_count": 261,
   "id": "ca28d64e-8753-4ec3-9458-ec9fde111256",
   "metadata": {},
   "outputs": [],
   "source": [
    "#위와 같은 함수에 class를 이용하면\n",
    "class Calculator:\n",
    "    def __init__(self):\n",
    "        self.result = 0\n",
    "    \n",
    "    def add(self, a):\n",
    "        self.result += a\n",
    "        return self.result\n",
    "    \n",
    "    def subtract(self, a):\n",
    "        self.result -= a\n",
    "        return self.result"
   ]
  },
  {
   "cell_type": "code",
   "execution_count": 262,
   "id": "9268909d-c690-46b5-9a1b-2a5579dfa7d6",
   "metadata": {},
   "outputs": [
    {
     "name": "stdout",
     "output_type": "stream",
     "text": [
      "3\n",
      "7\n",
      "4\n",
      "5\n",
      "11\n",
      "6\n"
     ]
    }
   ],
   "source": [
    "cal = Calculator()\n",
    "print(cal.add(3))\n",
    "print(cal.add(4))\n",
    "print(cal.subtract(3))\n",
    "\n",
    "cal1 = Calculator()\n",
    "print(cal1.add(5))\n",
    "print(cal1.add(6))\n",
    "print(cal1.subtract(5))"
   ]
  },
  {
   "cell_type": "markdown",
   "id": "46b18509-13b2-496b-bdc1-74e77c071fc5",
   "metadata": {},
   "source": [
    "## 클래스 만들기"
   ]
  },
  {
   "cell_type": "markdown",
   "id": "e874902e-20e4-4cf8-914b-3aa6fbfc862f",
   "metadata": {},
   "source": [
    "```\n",
    "객체: object, instance\n",
    "\n",
    "-동사: Method(함수)\n",
    "-형용사: Attribute(속성)\n",
    "\n",
    "car -동사: car.go(), car.back(), car.turn()\n",
    "    -형용사: car.color, car.size\n",
    "    \n",
    "bird -동사: bird.fly(), bird.sing()\n",
    "     -형용사: bird.color\n",
    "```"
   ]
  },
  {
   "cell_type": "code",
   "execution_count": 122,
   "id": "dd962593-8b03-464d-ac75-1ccab9ca2cf4",
   "metadata": {},
   "outputs": [],
   "source": [
    "class FourCal:\n",
    "    def setdata(self, a, b):\n",
    "        self.first = a\n",
    "        self.second = b\n",
    "        \n",
    "    def add(self):\n",
    "        self.result = self.first + self.second\n",
    "        return self.result\n",
    "    \n",
    "    def subtract(self):\n",
    "        self.result = self.first - self.second\n",
    "        return self.result"
   ]
  },
  {
   "cell_type": "code",
   "execution_count": 246,
   "id": "55d178d5-9822-470f-a331-e1f999dd4cab",
   "metadata": {},
   "outputs": [
    {
     "name": "stdout",
     "output_type": "stream",
     "text": [
      "4\n",
      "-2\n",
      "1 3\n"
     ]
    }
   ],
   "source": [
    "cal = FourCal()\n",
    "cal.setdata(1,3)\n",
    "\n",
    "print(cal.add())\n",
    "print(cal.subtract())\n",
    "print(cal.first, cal.second)"
   ]
  },
  {
   "cell_type": "markdown",
   "id": "4f789ef9-62d7-4501-a2e3-a041da605fa9",
   "metadata": {},
   "source": [
    "## 초기화, 생성자(constructor)\n",
    "- init \n",
    "- 만드는 순간 실행"
   ]
  },
  {
   "cell_type": "code",
   "execution_count": 247,
   "id": "9ff8dffb-9fc1-4e2d-8377-7f70bae1b831",
   "metadata": {},
   "outputs": [],
   "source": [
    "class FourCal:\n",
    "    def __init__(self, a, b):\n",
    "        self.first = a\n",
    "        self.second = b\n",
    "        \n",
    "    def add(self):\n",
    "        self.result = self.first + self.second\n",
    "        return self.result\n",
    "    \n",
    "    def subtract(self):\n",
    "        self.result = self.first - self.second\n",
    "        return self.result"
   ]
  },
  {
   "cell_type": "code",
   "execution_count": 248,
   "id": "84fe6ae9-8a94-455b-a989-cab53ac74255",
   "metadata": {},
   "outputs": [
    {
     "data": {
      "text/plain": [
       "5"
      ]
     },
     "execution_count": 248,
     "metadata": {},
     "output_type": "execute_result"
    }
   ],
   "source": [
    "cal = FourCal(2,3)\n",
    "cal.add()"
   ]
  },
  {
   "cell_type": "code",
   "execution_count": 249,
   "id": "96a0856e-a814-4de5-bd9a-c29d9296abe4",
   "metadata": {},
   "outputs": [
    {
     "data": {
      "text/plain": [
       "-10"
      ]
     },
     "execution_count": 249,
     "metadata": {},
     "output_type": "execute_result"
    }
   ],
   "source": [
    "cal1 = FourCal(10,20)\n",
    "cal1.subtract()"
   ]
  },
  {
   "cell_type": "code",
   "execution_count": 250,
   "id": "0fb7c01d-d947-4da2-8c3f-86b00cd72f84",
   "metadata": {},
   "outputs": [],
   "source": [
    "class FourCal:\n",
    "    def __init__(self, a, b):\n",
    "        self.first = a\n",
    "        self.second = b\n",
    "        \n",
    "    def add(self):\n",
    "        self.result = self.first + self.second\n",
    "        return self.result\n",
    "    \n",
    "    def subtract(self):\n",
    "        self.result = self.first - self.second\n",
    "        return self.result\n",
    "    \n",
    "    def multiply(self):\n",
    "        self.result = self.first * self.second\n",
    "        return self.result\n",
    "    \n",
    "    def divide(self):\n",
    "        self.result = self.first / self.second\n",
    "        return self.result"
   ]
  },
  {
   "cell_type": "markdown",
   "id": "88bfab5f-2295-4eb4-b711-299a2cba25d4",
   "metadata": {},
   "source": [
    "## 상속 Inheritance"
   ]
  },
  {
   "cell_type": "code",
   "execution_count": 251,
   "id": "33438bd0-012e-46af-8f8c-4b27740abb1f",
   "metadata": {},
   "outputs": [],
   "source": [
    "class Child(FourCal):\n",
    "    pass"
   ]
  },
  {
   "cell_type": "code",
   "execution_count": 252,
   "id": "d8e571ff-546d-4130-b354-d5940a40003e",
   "metadata": {},
   "outputs": [],
   "source": [
    "cal = Child(10,20)"
   ]
  },
  {
   "cell_type": "code",
   "execution_count": 253,
   "id": "2ba68dbf-ec59-41a6-b898-a1144632e0f7",
   "metadata": {},
   "outputs": [
    {
     "data": {
      "text/plain": [
       "30"
      ]
     },
     "execution_count": 253,
     "metadata": {},
     "output_type": "execute_result"
    }
   ],
   "source": [
    "cal.add()"
   ]
  },
  {
   "cell_type": "code",
   "execution_count": 254,
   "id": "79a5b5f9-528e-4156-ad33-d498a1a2f6b8",
   "metadata": {},
   "outputs": [],
   "source": [
    "#자식 클래스에 method 추가 가능\n",
    "class Child(FourCal):\n",
    "    def power(self):\n",
    "        self.result = self.first ** self.second\n",
    "        return self.result"
   ]
  },
  {
   "cell_type": "code",
   "execution_count": 255,
   "id": "94b33b39-d82e-45bb-a4cd-b61b75f2b577",
   "metadata": {},
   "outputs": [
    {
     "data": {
      "text/plain": [
       "1000"
      ]
     },
     "execution_count": 255,
     "metadata": {},
     "output_type": "execute_result"
    }
   ],
   "source": [
    "cal = Child(10, 3)\n",
    "cal.power()"
   ]
  },
  {
   "cell_type": "code",
   "execution_count": 256,
   "id": "1d92a4cd-8fb4-43df-a225-a4a1a052c8bd",
   "metadata": {},
   "outputs": [],
   "source": [
    "#Method Overriding: 부모 클래스에 있는 method 수정 가능\n",
    "class Child(FourCal):\n",
    "    def power(self):\n",
    "        self.result = self.first ** self.second\n",
    "        return self.result\n",
    "    \n",
    "    def divide(self):\n",
    "        if self.second != 0:\n",
    "            self.result = self.first / self.second\n",
    "            return self.result\n",
    "        else:\n",
    "            print(\"0으로 나누셨군요\")"
   ]
  },
  {
   "cell_type": "code",
   "execution_count": 257,
   "id": "f8e72718-cbe5-46dd-820f-ded50cc40a39",
   "metadata": {},
   "outputs": [
    {
     "name": "stdout",
     "output_type": "stream",
     "text": [
      "0으로 나누셨군요\n"
     ]
    }
   ],
   "source": [
    "cal = Child(1,0)\n",
    "cal.divide()"
   ]
  },
  {
   "cell_type": "markdown",
   "id": "2589ef42-d3d8-4e9c-b546-4cc7b942dc98",
   "metadata": {},
   "source": [
    "## 클래스 변수"
   ]
  },
  {
   "cell_type": "code",
   "execution_count": 128,
   "id": "9b6295c5-01f4-46f3-a6c0-ecf95abbcc23",
   "metadata": {},
   "outputs": [],
   "source": [
    "class Family:\n",
    "    lastname = \"박\" #클래스 변수\n",
    "    \n",
    "    def __init__(self, name):\n",
    "        self.name = name #인스턴스 변수"
   ]
  },
  {
   "cell_type": "code",
   "execution_count": 129,
   "id": "604285ac-5562-4170-a61a-cf12fe901657",
   "metadata": {},
   "outputs": [],
   "source": [
    "fam1 = Family(\"길동\")"
   ]
  },
  {
   "cell_type": "code",
   "execution_count": 130,
   "id": "a747226a-e592-4a84-a371-9c0db0870e26",
   "metadata": {},
   "outputs": [
    {
     "name": "stdout",
     "output_type": "stream",
     "text": [
      "길동\n",
      "박\n",
      "박\n"
     ]
    }
   ],
   "source": [
    "print(fam1.name)\n",
    "print(fam1.lastname)\n",
    "print(Family.lastname)"
   ]
  },
  {
   "cell_type": "code",
   "execution_count": 131,
   "id": "264bdcfe-cc45-4f20-bc2a-1908f90be437",
   "metadata": {},
   "outputs": [],
   "source": [
    "fam2 = Family(\"우치\")"
   ]
  },
  {
   "cell_type": "code",
   "execution_count": 132,
   "id": "8f0a606e-a9e1-450b-8438-3482b12154a1",
   "metadata": {},
   "outputs": [
    {
     "name": "stdout",
     "output_type": "stream",
     "text": [
      "우치\n",
      "박\n",
      "박\n"
     ]
    }
   ],
   "source": [
    "print(fam2.name)\n",
    "print(fam2.lastname)\n",
    "print(Family.lastname)"
   ]
  },
  {
   "cell_type": "code",
   "execution_count": 133,
   "id": "b55673df-820b-41c1-9d0f-37c7eb63be70",
   "metadata": {},
   "outputs": [
    {
     "name": "stdout",
     "output_type": "stream",
     "text": [
      "2369881032704\n",
      "2369881032704\n",
      "2369881032704\n"
     ]
    }
   ],
   "source": [
    "print(id(fam1.lastname))\n",
    "print(id(fam2.lastname))\n",
    "print(id(Family.lastname))"
   ]
  },
  {
   "cell_type": "code",
   "execution_count": 155,
   "id": "2fefd185-8742-4f8b-9369-3d7d4f7e9a9e",
   "metadata": {},
   "outputs": [],
   "source": [
    "name = \"홍길동\" #global 전역변수\n",
    "\n",
    "class Family:\n",
    "    lastname = \"Park\" #클래스 변수, 인스턴스들이 공유한다\n",
    "    \n",
    "    def __init__(self, name):\n",
    "        self.name = name #인스턴스 변수, local 지역변수\n",
    "        \n",
    "    def show_name(self):\n",
    "        print(name)\n",
    "        print(Family.lastname)\n",
    "        print(self.lastname)\n",
    "        print(self.name)"
   ]
  },
  {
   "cell_type": "code",
   "execution_count": 156,
   "id": "36cea636-d42c-4dd8-9b9d-3225ac5e5074",
   "metadata": {},
   "outputs": [
    {
     "name": "stdout",
     "output_type": "stream",
     "text": [
      "홍길동\n",
      "Park\n",
      "Park\n",
      "Jihun\n"
     ]
    }
   ],
   "source": [
    "fam1 = Family(\"Jihun\")\n",
    "fam1.show_name()"
   ]
  },
  {
   "cell_type": "markdown",
   "id": "f643b29d-ca78-4345-bbdd-f171978f20ab",
   "metadata": {},
   "source": [
    "## 상속 후 변수 추가"
   ]
  },
  {
   "cell_type": "code",
   "execution_count": 190,
   "id": "55fcab3a-b15e-4718-bbaa-1968822f6f6d",
   "metadata": {},
   "outputs": [],
   "source": [
    "class Person:\n",
    "    def __init__(self):\n",
    "        self.name = \"Park\"\n",
    "        self.age = 25\n",
    "        \n",
    "#self.name과 self.age 변수가 모두 사라진다\n",
    "class Korean(Person):\n",
    "    def __init__(self):\n",
    "        self.lang = \"한국어\"\n",
    "        \n",
    "p1 = Person()\n",
    "k1 = Korean()"
   ]
  },
  {
   "cell_type": "code",
   "execution_count": 196,
   "id": "c309eeff-f9d0-490f-ab15-a2e48c0235a5",
   "metadata": {},
   "outputs": [],
   "source": [
    "class Person:\n",
    "    def __init__(self):\n",
    "        self.name = \"Park\"\n",
    "        self.age = 25\n",
    "\n",
    "class Korean(Person):\n",
    "    def __init__(self):\n",
    "        super().__init__() #부모클래스의 init 실행\n",
    "        self.lang = \"한국어\"\n",
    "        \n",
    "p1 = Person()\n",
    "k1 = Korean()"
   ]
  },
  {
   "cell_type": "code",
   "execution_count": 197,
   "id": "c55113a7-284c-415f-9e5d-93fc5189bc16",
   "metadata": {},
   "outputs": [],
   "source": [
    "#부모 클래스에서 인자로 입력받는 경우\n",
    "class Person:\n",
    "    def __init__(self, name, age):\n",
    "        self.name = name\n",
    "        self.age = age\n",
    "        \n",
    "class Korean(Person):\n",
    "    def __init__(self, name, age):\n",
    "        super().__init__(name, age)\n",
    "        self.lang = \"한국어\"\n",
    "p1 = Person('Buzz', 7)        \n",
    "k1 = Korean('지훈', 25)"
   ]
  },
  {
   "cell_type": "code",
   "execution_count": 199,
   "id": "53c5a394-b504-4799-ab6e-278cd1aae28e",
   "metadata": {},
   "outputs": [],
   "source": [
    "#부모 클래스에서 인자를 받고 자식 클래스에서도 인자를 입력받는 경우\n",
    "class Person:\n",
    "    def __init__(self, name, age):\n",
    "        self.name = name\n",
    "        self.age = age\n",
    "\n",
    "class Korean(Person):\n",
    "    def __init__(self, name, age, lang):\n",
    "        super().__init__(name, age)\n",
    "        self.lang = lang\n",
    "        \n",
    "k1 = Korean('지훈',25, '한국어')"
   ]
  }
 ],
 "metadata": {
  "kernelspec": {
   "display_name": "Python 3 (ipykernel)",
   "language": "python",
   "name": "python3"
  },
  "language_info": {
   "codemirror_mode": {
    "name": "ipython",
    "version": 3
   },
   "file_extension": ".py",
   "mimetype": "text/x-python",
   "name": "python",
   "nbconvert_exporter": "python",
   "pygments_lexer": "ipython3",
   "version": "3.9.12"
  },
  "toc-autonumbering": true,
  "toc-showmarkdowntxt": false
 },
 "nbformat": 4,
 "nbformat_minor": 5
}
