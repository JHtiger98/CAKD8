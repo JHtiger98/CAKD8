{
 "cells": [
  {
   "cell_type": "markdown",
   "id": "3fe271f8-757f-467a-b3b3-839ae544beb2",
   "metadata": {},
   "source": [
    "# Request, BeautifulSoup"
   ]
  },
  {
   "cell_type": "code",
   "execution_count": 4,
   "id": "c1363983-7a99-4425-bbcb-ed61437cbc93",
   "metadata": {},
   "outputs": [],
   "source": [
    "from urllib import request\n",
    "from bs4 import BeautifulSoup"
   ]
  },
  {
   "cell_type": "code",
   "execution_count": 5,
   "id": "9f4fbb54-e15c-47db-a712-0b1abb29c98d",
   "metadata": {},
   "outputs": [
    {
     "data": {
      "text/plain": [
       "'https://search.naver.com/search.naver?where=news&query=%ED%94%84%EB%9E%91%EC%8A%A4'"
      ]
     },
     "execution_count": 5,
     "metadata": {},
     "output_type": "execute_result"
    }
   ],
   "source": [
    "url = \"https://search.naver.com/search.naver?where=news&query=%ED%94%84%EB%9E%91%EC%8A%A4\"\n",
    "url"
   ]
  },
  {
   "cell_type": "code",
   "execution_count": 6,
   "id": "fec26848-cc45-4152-a693-24eb324d9a01",
   "metadata": {
    "tags": []
   },
   "outputs": [],
   "source": [
    "html = request.urlopen(url).read()\n",
    "#html"
   ]
  },
  {
   "cell_type": "code",
   "execution_count": 7,
   "id": "36124e1b-df16-402a-8f0c-d919b09527b2",
   "metadata": {
    "tags": []
   },
   "outputs": [],
   "source": [
    "soup = BeautifulSoup(html, 'html.parser')\n",
    "#soup"
   ]
  },
  {
   "cell_type": "code",
   "execution_count": 8,
   "id": "033bd5e3-e6e7-48ba-8b30-c8eb9cc0c564",
   "metadata": {
    "tags": []
   },
   "outputs": [
    {
     "data": {
      "text/plain": [
       "[<a class=\"news_tit\" href=\"https://www.joongang.co.kr/article/25117297\" onclick=\"return goOtherCR(this, 'a=nws*a.tit&amp;r=1&amp;i=880000F2_000000000000000003238156&amp;g=025.0003238156&amp;u='+urlencode(this.href));\" target=\"_blank\" title=\"[속보] 피아니스트 이혁, 프랑스 롱티보 콩쿠르 공동 1위\">[속보] 피아니스트 이혁, <mark>프랑스</mark> 롱티보 콩쿠르 공동 1위</a>,\n",
       " <a class=\"news_tit\" href=\"http://mbn.mk.co.kr/pages/news/newsView.php?category=mbn00008&amp;news_seq_no=4877966\" onclick=\"return goOtherCR(this, 'a=nws*h.tit&amp;r=6&amp;i=880000BF_000000000000000001702446&amp;g=057.0001702446&amp;u='+urlencode(this.href));\" target=\"_blank\" title=\"팔뚝에서 자란 인공 코…프랑스 병원에서 '이식' 첫 성공\">팔뚝에서 자란 인공 코…<mark>프랑스</mark> 병원에서 '이식' 첫 성공</a>,\n",
       " <a class=\"news_tit\" href=\"http://www.newsis.com/view/?id=NISX20221114_0002084288&amp;cID=10101&amp;pID=10100\" onclick=\"return goOtherCR(this, 'a=nws*e.tit&amp;r=11&amp;i=88000127_000000000000000011533879&amp;g=003.0011533879&amp;u='+urlencode(this.href));\" target=\"_blank\" title=\"프랑스, 伊의 반이민정책 보복으로 국경 통제 강화\"><mark>프랑스</mark>, 伊의 반이민정책 보복으로 국경 통제 강화</a>,\n",
       " <a class=\"news_tit\" href=\"https://www.yna.co.kr/view/AKR20221113054800088?input=1195m\" onclick=\"return goOtherCR(this, 'a=nws*e.tit&amp;r=12&amp;i=880000D8_000000000000000013572611&amp;g=001.0013572611&amp;u='+urlencode(this.href));\" target=\"_blank\" title=\"교황, 이민자 1천300명 오찬…伊·프랑스 난민 갈등 비판\">교황, 이민자 1천300명 오찬…伊·<mark>프랑스</mark> 난민 갈등 비판</a>,\n",
       " <a class=\"news_tit\" href=\"https://www.mk.co.kr/article/10527593\" onclick=\"return goOtherCR(this, 'a=nws*h.tit&amp;r=13&amp;i=880000BC_000000000000000005044084&amp;g=009.0005044084&amp;u='+urlencode(this.href));\" target=\"_blank\" title=\"프랑스 추기경 14세 소녀 성학대 시인...교황청 조사 착수\"><mark>프랑스</mark> 추기경 14세 소녀 성학대 시인...교황청 조사 착수</a>,\n",
       " <a class=\"news_tit\" href=\"http://sports.chosun.com/news/ntype.htm?id=202211140100101230012578&amp;servicedate=20221113\" onclick=\"return goOtherCR(this, 'a=nws*e.tit&amp;r=18&amp;i=880000D3_000000000000000003938756&amp;g=076.0003938756&amp;u='+urlencode(this.href));\" target=\"_blank\" title=\"[월드컵 조별분석]④D조, 부상에 흔들리는 프랑스 '왕관' 지킬 수 있을까\">[월드컵 조별분석]④D조, 부상에 흔들리는 <mark>프랑스</mark> '왕관' 지킬 수 있을까</a>,\n",
       " <a class=\"news_tit\" href=\"http://www.munhwa.com/news/view.html?no=2022111201039909116006\" onclick=\"return goOtherCR(this, 'a=nws*h.tit&amp;r=19&amp;i=880000C4_000000000000000002540969&amp;g=021.0002540969&amp;u='+urlencode(this.href));\" target=\"_blank\" title=\"자기 팔뚝에 인공 코 만들어 이식…프랑스 병원 첫 성공\">자기 팔뚝에 인공 코 만들어 이식…<mark>프랑스</mark> 병원 첫 성공</a>,\n",
       " <a class=\"news_tit\" href=\"https://www.news1.kr/photos/view/?5680391\" onclick=\"return goOtherCR(this, 'a=nws*a.tit&amp;r=21&amp;i=08138263_000000000000000006453307&amp;g=421.0006453307&amp;u='+urlencode(this.href));\" target=\"_blank\" title=\"프랑스 6·25 참전용사 유해 안장식\"><mark>프랑스</mark> 6·25 참전용사 유해 안장식</a>,\n",
       " <a class=\"news_tit\" href=\"https://isplus.com/2022/11/13/enter/entertainment/20221113155016400.html\" onclick=\"return goOtherCR(this, 'a=nws*e.tit&amp;r=25&amp;i=880002FC_000000000000000003240496&amp;g=241.0003240496&amp;u='+urlencode(this.href));\" target=\"_blank\" title=\"영화 ‘터미널’ 실존 인물 프랑스 공항서 사망\">영화 ‘터미널’ 실존 인물 <mark>프랑스</mark> 공항서 사망</a>,\n",
       " <a class=\"news_tit\" href=\"https://www.yna.co.kr/view/AKR20221110176551081?input=1195m\" onclick=\"return goOtherCR(this, 'a=nws*h.tit&amp;r=26&amp;i=880000D8_000000000000000013568431&amp;g=001.0013568431&amp;u='+urlencode(this.href));\" target=\"_blank\" title=\"프랑스, 234명 탄 난민선 수용 발표 뒤 伊와 거친 책임 공방(종합)\"><mark>프랑스</mark>, 234명 탄 난민선 수용 발표 뒤 伊와 거친 책임 공방(종합)</a>]"
      ]
     },
     "execution_count": 8,
     "metadata": {},
     "output_type": "execute_result"
    }
   ],
   "source": [
    "title = soup.find_all(class_ = 'news_tit')\n",
    "title"
   ]
  },
  {
   "cell_type": "code",
   "execution_count": 535,
   "id": "7d3b84b5-6ad6-4471-be65-06df3b0ab167",
   "metadata": {},
   "outputs": [
    {
     "data": {
      "text/plain": [
       "<a class=\"news_tit\" href=\"https://www.yna.co.kr/view/AKR20221026075100530?input=1195m\" onclick=\"return goOtherCR(this, 'a=nws*a.tit&amp;r=1&amp;i=880000D8_000000000000000013533293&amp;g=001.0013533293&amp;u='+urlencode(this.href));\" target=\"_blank\" title=\"개인정보위, 국제 개인정보기구 협의체 참석…프랑스와 업무협약\">개인정보위, 국제 개인정보기구 협의체 참석…<mark>프랑스</mark>와 업무협약</a>"
      ]
     },
     "execution_count": 535,
     "metadata": {},
     "output_type": "execute_result"
    }
   ],
   "source": [
    "title[0]"
   ]
  },
  {
   "cell_type": "code",
   "execution_count": 536,
   "id": "1af9eb53-b12d-4710-b43b-2fa22f7d0bd0",
   "metadata": {},
   "outputs": [
    {
     "data": {
      "text/plain": [
       "'개인정보위, 국제 개인정보기구 협의체 참석…프랑스와 업무협약'"
      ]
     },
     "execution_count": 536,
     "metadata": {},
     "output_type": "execute_result"
    }
   ],
   "source": [
    "title[0].text"
   ]
  },
  {
   "cell_type": "code",
   "execution_count": 539,
   "id": "294b8f63-2296-4aa4-8bd6-83b8f7869aae",
   "metadata": {},
   "outputs": [
    {
     "name": "stdout",
     "output_type": "stream",
     "text": [
      "개인정보위, 국제 개인정보기구 협의체 참석…프랑스와 업무협약\n",
      "'보성 차·쌀' 프랑스 통해 유럽시장 진출 시동\n",
      "프랑스 '노란조끼 시위' 재현되나? 마크롱 '연금개혁' 재추진\n",
      "교종, '프랑스와 키프로스 대통령 잇달아 면담' 외(10월 24-26일)\n",
      "현대 추상미술의 대가 프랑스 피에르 술라주 102세로 타계\n",
      "2023년 프랑스 정부 예산안 주요 쟁점\n",
      "에어프랑스, 기차 연계 여행 서비스 강화\n",
      "마리 프랑스 취댕 노바티스 사장과 악수하는 오세훈 시장\n",
      "천안시, 프랑스 기업과 660억원 규모 투자협약\n",
      "몽생미셸 천년, 피카소 서거 50주년… “프랑스가 韓 여행객을 기다립니다”\n"
     ]
    }
   ],
   "source": [
    "for i in range(10):\n",
    "    print(title[i].text)"
   ]
  },
  {
   "cell_type": "code",
   "execution_count": 540,
   "id": "3ee52710-6e98-4ad5-a056-8f7709ad5778",
   "metadata": {},
   "outputs": [
    {
     "data": {
      "text/plain": [
       "['개인정보위, 국제 개인정보기구 협의체 참석…프랑스와 업무협약',\n",
       " \"'보성 차·쌀' 프랑스 통해 유럽시장 진출 시동\",\n",
       " \"프랑스 '노란조끼 시위' 재현되나? 마크롱 '연금개혁' 재추진\",\n",
       " \"교종, '프랑스와 키프로스 대통령 잇달아 면담' 외(10월 24-26일)\",\n",
       " '현대 추상미술의 대가 프랑스 피에르 술라주 102세로 타계',\n",
       " '2023년 프랑스 정부 예산안 주요 쟁점',\n",
       " '에어프랑스, 기차 연계 여행 서비스 강화',\n",
       " '마리 프랑스 취댕 노바티스 사장과 악수하는 오세훈 시장',\n",
       " '천안시, 프랑스 기업과 660억원 규모 투자협약',\n",
       " '몽생미셸 천년, 피카소 서거 50주년… “프랑스가 韓 여행객을 기다립니다”']"
      ]
     },
     "execution_count": 540,
     "metadata": {},
     "output_type": "execute_result"
    }
   ],
   "source": [
    "[i.text for i in title] "
   ]
  },
  {
   "cell_type": "code",
   "execution_count": 541,
   "id": "daf64d9e-7e67-4595-b751-185c46ea77c6",
   "metadata": {},
   "outputs": [
    {
     "data": {
      "text/plain": [
       "'https://www.yna.co.kr/view/AKR20221026075100530?input=1195m'"
      ]
     },
     "execution_count": 541,
     "metadata": {},
     "output_type": "execute_result"
    }
   ],
   "source": [
    "title[0]['href']"
   ]
  },
  {
   "cell_type": "code",
   "execution_count": 544,
   "id": "01ae44ea-5803-415b-93c2-e1e83ea20205",
   "metadata": {},
   "outputs": [
    {
     "name": "stdout",
     "output_type": "stream",
     "text": [
      "개인정보위, 국제 개인정보기구 협의체 참석…프랑스와 업무협약 : https://www.yna.co.kr/view/AKR20221026075100530?input=1195m\n",
      "'보성 차·쌀' 프랑스 통해 유럽시장 진출 시동 : https://www.news1.kr/articles/4844744\n",
      "프랑스 '노란조끼 시위' 재현되나? 마크롱 '연금개혁' 재추진 : http://news.mt.co.kr/mtview.php?no=2022102711455742536\n",
      "교종, '프랑스와 키프로스 대통령 잇달아 면담' 외(10월 24-26일) : http://www.catholicnews.co.kr/news/articleView.html?idxno=32785\n",
      "현대 추상미술의 대가 프랑스 피에르 술라주 102세로 타계 : https://www.ytn.co.kr/_ln/0104_202210271052549797\n",
      "2023년 프랑스 정부 예산안 주요 쟁점 : http://dream.kotra.or.kr/kotranews/cms/news/actionKotraBoardDetail.do?SITE_NO=3&MENU_ID=410&CONTENTS_NO=1&bbsGbn=242&bbsSn=242&pNttSn=197791\n",
      "에어프랑스, 기차 연계 여행 서비스 강화 : https://www.gukjenews.com/news/articleView.html?idxno=2579819\n",
      "마리 프랑스 취댕 노바티스 사장과 악수하는 오세훈 시장 : https://www.yna.co.kr/view/PYH20221027002700004?input=1196m\n",
      "천안시, 프랑스 기업과 660억원 규모 투자협약 : http://www.newsis.com/view/?id=NISX20221026_0002061890&cID=10807&pID=10800\n",
      "몽생미셸 천년, 피카소 서거 50주년… “프랑스가 韓 여행객을 기다립니다” : https://www.donga.com/news/article/all/20221026/116173227/1\n"
     ]
    }
   ],
   "source": [
    "for i in title:\n",
    "    print(i.text, \":\", i['href'])"
   ]
  },
  {
   "cell_type": "markdown",
   "id": "079379f4-b5fa-4026-b675-ef21ecf5f2ff",
   "metadata": {},
   "source": [
    "# Requests, BeautifulSoup"
   ]
  },
  {
   "cell_type": "code",
   "execution_count": 9,
   "id": "2e58dcd5-a447-4c84-8ac7-92574b89913e",
   "metadata": {},
   "outputs": [],
   "source": [
    "import requests\n",
    "from bs4 import BeautifulSoup"
   ]
  },
  {
   "cell_type": "code",
   "execution_count": 10,
   "id": "17db9550-6bc6-463e-bbc3-f00068ebb2cc",
   "metadata": {
    "tags": []
   },
   "outputs": [
    {
     "data": {
      "text/plain": [
       "'https://search.daum.net/search?w=news&nil_search=btn&DA=NTB&enc=utf8&cluster=y&cluster_page=1&q=%EC%8B%B1%EA%B0%80%ED%8F%AC%EB%A5%B4'"
      ]
     },
     "execution_count": 10,
     "metadata": {},
     "output_type": "execute_result"
    }
   ],
   "source": [
    "url = \"https://search.daum.net/search?w=news&nil_search=btn&DA=NTB&enc=utf8&cluster=y&cluster_page=1&q=%EC%8B%B1%EA%B0%80%ED%8F%AC%EB%A5%B4\"\n",
    "url"
   ]
  },
  {
   "cell_type": "code",
   "execution_count": 11,
   "id": "8b47a2fb-e081-4e68-9906-a3acaa641f07",
   "metadata": {},
   "outputs": [],
   "source": [
    "#header = {\"User-Agent\":\"Mozilla/5.0 (Windows NT 10.0; Win64; x64) AppleWebKit/537.36 (KHTML, like Gecko) Chrome/106.0.0.0 Safari/537.36\"}\n",
    "#html = requests.get(url, headers=header).text"
   ]
  },
  {
   "cell_type": "code",
   "execution_count": 12,
   "id": "ae8e4015-2420-4957-9e7f-32f66b759c0f",
   "metadata": {
    "tags": []
   },
   "outputs": [],
   "source": [
    "html = requests.get(url).text\n",
    "#html"
   ]
  },
  {
   "cell_type": "code",
   "execution_count": 13,
   "id": "0c0e2ea8-1dbc-4d38-ac24-a1f3cf03d301",
   "metadata": {
    "tags": []
   },
   "outputs": [],
   "source": [
    "soup = BeautifulSoup(html, 'html.parser')\n",
    "#soup"
   ]
  },
  {
   "cell_type": "code",
   "execution_count": 16,
   "id": "6499cf49-5558-40c0-8b60-d6c5cf9696f7",
   "metadata": {},
   "outputs": [
    {
     "data": {
      "text/plain": [
       "[<a class=\"tit_main fn_tit_u\" href=\"https://cp.news.search.daum.net/p/125593867\" onclick='smartLog(this, \"dc=NNS&amp;d=26OpOERADuJU3CtiFr&amp;pg=1&amp;r=1&amp;p=4&amp;rc=10&amp;e1=16q828rSvzeDh6-cK3&amp;e3=0&amp;ext=dsid=26OpOERADuJU3CtiFr\", event, {\"cpid\": {\"value\": \"16q828rSvzeDh6-cK3\"}});' target=\"_blank\"><b>싱가포르</b> 140명, 베트남 34명 잇따라 전남 찾아</a>,\n",
       " <a class=\"tit_main fn_tit_u\" href=\"http://v.media.daum.net/v/20221106160600835?f=o\" onclick='smartLog(this, \"dc=NNS&amp;d=26MG7PhddD5iJaXYmn&amp;pg=1&amp;r=2&amp;p=4&amp;rc=10&amp;e1=16O8sbGdUflWYlfqu4&amp;e3=0&amp;ext=dsid=26MG7PhddD5iJaXYmn\", event, {\"cpid\": {\"value\": \"16O8sbGdUflWYlfqu4\"}});' target=\"_blank\">걷다보니 비로소 만났다, <b>싱가포르</b>의 일상</a>,\n",
       " <a class=\"tit_main fn_tit_u\" href=\"http://v.media.daum.net/v/20221111090039506?f=o\" onclick='smartLog(this, \"dc=NNS&amp;d=26YHPUKl9d_GkHN_xW&amp;pg=1&amp;r=3&amp;p=4&amp;rc=10&amp;e1=166KT6l77lf-D_qcvA&amp;e3=0&amp;ext=dsid=26YHPUKl9d_GkHN_xW\", event, {\"cpid\": {\"value\": \"166KT6l77lf-D_qcvA\"}});' target=\"_blank\"><b>싱가포르</b>, SNS 규제 강화 … 유해 콘텐츠 강제 삭제, 접속 차단</a>,\n",
       " <a class=\"tit_main fn_tit_u\" href=\"https://cp.news.search.daum.net/p/125479285\" onclick='smartLog(this, \"dc=NNS&amp;d=267gcrZOyJpu6tR84P&amp;pg=1&amp;r=4&amp;p=4&amp;rc=10&amp;e1=16a02VUSWQJu5yD7zW&amp;e3=0&amp;ext=dsid=267gcrZOyJpu6tR84P\", event, {\"cpid\": {\"value\": \"16a02VUSWQJu5yD7zW\"}});' target=\"_blank\">2022년 <b>싱가포르</b> 교역 동향</a>,\n",
       " <a class=\"tit_main fn_tit_u\" href=\"https://cp.news.search.daum.net/p/125596255\" onclick='smartLog(this, \"dc=NNS&amp;d=26RL9ro9-24YkM0rta&amp;pg=1&amp;r=5&amp;p=4&amp;rc=10&amp;e1=16wa89l7snEcE-0rNa&amp;e3=0&amp;ext=dsid=26RL9ro9-24YkM0rta\", event, {\"cpid\": {\"value\": \"16wa89l7snEcE-0rNa\"}});' target=\"_blank\">[전남도] <b>싱가포르</b> 단체관광객, 전남 여행 대만족</a>,\n",
       " <a class=\"tit_main fn_tit_u\" href=\"http://v.media.daum.net/v/20221110071743017?f=o\" onclick='smartLog(this, \"dc=NNS&amp;d=26WpK96y9RP_hCw9mu&amp;pg=1&amp;r=6&amp;p=4&amp;rc=10&amp;e1=16b9_Haq_djmtbOGBh&amp;e3=0&amp;ext=dsid=26WpK96y9RP_hCw9mu\", event, {\"cpid\": {\"value\": \"16b9_Haq_djmtbOGBh\"}});' target=\"_blank\">[단독]문체부, <b>싱가포르</b> P2E 규제 사례 검토…'부분 허용' 힘실리나</a>,\n",
       " <a class=\"tit_main fn_tit_u\" href=\"http://v.media.daum.net/v/20221110114624594?f=o\" onclick='smartLog(this, \"dc=NNS&amp;d=26LD-xR-aIkkUFra_9&amp;pg=1&amp;r=7&amp;p=4&amp;rc=10&amp;e1=16b9_Haq_djmtbOGBh&amp;e3=0&amp;ext=dsid=26LD-xR-aIkkUFra_9\", event, {\"cpid\": {\"value\": \"16b9_Haq_djmtbOGBh\"}});' target=\"_blank\">자해·테러 '끔찍한 콘텐츠' 못본다…<b>싱가포르</b> SNS 삭제명령법 통과</a>,\n",
       " <a class=\"tit_main fn_tit_u\" href=\"https://cp.news.search.daum.net/p/125593532\" onclick='smartLog(this, \"dc=NNS&amp;d=26fvAiF0uSQ58MKVQb&amp;pg=1&amp;r=8&amp;p=4&amp;rc=10&amp;e1=162nTcnVA0MJ4hubD4&amp;e3=0&amp;ext=dsid=26fvAiF0uSQ58MKVQb\", event, {\"cpid\": {\"value\": \"162nTcnVA0MJ4hubD4\"}});' target=\"_blank\">김천시 중소기업 <b>싱가포르</b> 수출상담회 개최</a>,\n",
       " <a class=\"tit_main fn_tit_u\" href=\"http://v.media.daum.net/v/20221031165832451?f=o\" onclick='smartLog(this, \"dc=NNS&amp;d=26MuLamhmI0fIrIlZ6&amp;pg=1&amp;r=9&amp;p=4&amp;rc=10&amp;e1=16URihjz1OT33TwbEI&amp;e3=0&amp;ext=dsid=26MuLamhmI0fIrIlZ6\", event, {\"cpid\": {\"value\": \"16URihjz1OT33TwbEI\"}});' target=\"_blank\">'어디' 대신 '무엇' 챙겼더니.. <b>싱가포르</b>, 제주행 \"완판\"</a>,\n",
       " <a class=\"tit_main fn_tit_u\" href=\"http://v.media.daum.net/v/20221109182501694?f=o\" onclick='smartLog(this, \"dc=NNS&amp;d=265cLh16J1l1y_JTcG&amp;pg=1&amp;r=10&amp;p=4&amp;rc=10&amp;e1=16FyB2ukEzHjC3cheN&amp;e3=0&amp;ext=dsid=265cLh16J1l1y_JTcG\", event, {\"cpid\": {\"value\": \"16FyB2ukEzHjC3cheN\"}});' target=\"_blank\">핀테크 기업 모핀, <b>싱가포르</b>서 AI 주식 포트폴리오 기술 '러브콜'</a>]"
      ]
     },
     "execution_count": 16,
     "metadata": {},
     "output_type": "execute_result"
    }
   ],
   "source": [
    "# '.' = 클래스 '#' = ID\n",
    "#title = soup.find_all(class_ = 'tit_main fn_tit_u')\n",
    "title = soup.select('.tit_main.fn_tit_u')\n",
    "title"
   ]
  },
  {
   "cell_type": "code",
   "execution_count": 597,
   "id": "69cc9c15-ed28-4212-98b7-0f0d319979d1",
   "metadata": {
    "tags": []
   },
   "outputs": [
    {
     "data": {
      "text/plain": [
       "[<a class=\"tit_main fn_tit_u\" href=\"https://cp.news.search.daum.net/p/124875363\" onclick='smartLog(this, \"dc=NNS&amp;d=26KT8izJistjnBSpLr&amp;pg=5&amp;r=1&amp;p=4&amp;rc=10&amp;e1=16QBvKsCWAJ_dKT8vF&amp;e3=0&amp;ext=dsid=26KT8izJistjnBSpLr\", event, {\"cpid\": {\"value\": \"16QBvKsCWAJ_dKT8vF\"}});' target=\"_blank\">나이언틱, 포켓몬 고 사파리 존: <b>싱가포르</b> 티켓 판매</a>]"
      ]
     },
     "execution_count": 597,
     "metadata": {},
     "output_type": "execute_result"
    }
   ],
   "source": [
    "#색다른 방법\n",
    "#url들어가서 copy -> copy selector\n",
    "soup.select(\"#newsColl > div.cont_divider > ul > li:nth-child(1) > div.wrap_cont > a\")"
   ]
  },
  {
   "cell_type": "markdown",
   "id": "ccaab6c1-6f09-4095-89c6-1ac071628ea8",
   "metadata": {},
   "source": [
    "## 기사 제목, url 뽑기"
   ]
  },
  {
   "cell_type": "code",
   "execution_count": 26,
   "id": "3d4a1257-730f-448c-8403-294f4e075cab",
   "metadata": {
    "tags": []
   },
   "outputs": [
    {
     "name": "stdout",
     "output_type": "stream",
     "text": [
      "싱가포르 주택 임대료 '껑충'..한인 유학생도 울상 : http://v.media.daum.net/v/20221023092808839?f=o\n",
      "500만원짜리 오토바이 등록비가 2000만원…싱가포르 덮친 '최악 인플레' : http://v.media.daum.net/v/20221026161417711?f=o\n",
      "부산국제금융진흥원(BFC), 싱가포르 투자자IR 행사 개최 : http://v.media.daum.net/v/20221027211523081?f=o\n",
      "\"우영우 보자\" 박은빈 팬미팅에 싱가포르 '들썩' : http://v.media.daum.net/v/20221026101514431?f=o\n",
      "글로벌 데이터센터 허브로 떠오르는 싱가포르 : https://cp.news.search.daum.net/p/124848405\n",
      "프레시지, 싱가포르서 '밀키트 팝업스토어' 오픈 : http://v.media.daum.net/v/20221026082541338?f=o\n",
      "싱가포르, 투자자 보호 등 가상화폐 규제 강화 추진 : http://v.media.daum.net/v/20221027171518872?f=o\n",
      "강형석 '아줌마' 싱가포르 프로모션 성료 \"행복한 시간 영광\" : http://v.media.daum.net/v/20221024194403012?f=o\n",
      "P&G 본사 유치한 싱가포르처럼..\"정부, 기업에 투자 인센티브 먼저 제안해야\" : http://v.media.daum.net/v/20221019174456857?f=o\n",
      "경북교육청, 싱가포르에서 직업계고 현장학습 기반 구축 : https://cp.news.search.daum.net/p/125007424\n",
      "1 페이지입니다\n",
      "----------------------------------------------------------------------------------------------------\n",
      "집에서 밀키트로 싱가포르 미식여행 즐기고 싱가포르 여행행운도 잡고! : http://v.media.daum.net/v/20221018114539873?f=o\n",
      "K-스타트업, 싱가포르 무대에서 혁신기술 선보인다 : http://v.media.daum.net/v/20221024120003770?f=o\n",
      "양종훈 사진가, ‘제주해녀’·‘히말라야’ 작품으로 싱가포르 아트페어 2022 참가 : http://v.media.daum.net/v/20221026181847424?f=o\n",
      "싱가포르 '코로나 XBB 변이' 확산.. 관광객 기다리는 동남아 울상 : http://v.media.daum.net/v/20221016220046266?f=o\n",
      "추자현, ♥우효광과 싱가포르 한달살기..ZARA 쇼핑까지 : http://v.media.daum.net/v/20221024180539104?f=o\n",
      "싱가포르, 탈탄소화 방안 중 ‘수소’ 가장 유망 : https://cp.news.search.daum.net/p/124973370\n",
      "싱가포르 \"2050년까지 탄소중립\"..전력 절반 수소로(종합) : http://v.media.daum.net/v/20221025190129479?f=o\n",
      "FPT 소프트웨어, 베트남·싱가포르·말레이시아 팔란티어 독점 재판매 파트너 선정 : http://v.media.daum.net/v/20221027100109127?f=o\n",
      "나이언틱, 포켓몬고 '사파리존: 싱가포르' 티켓 판매..내달 18일 시작 : http://v.media.daum.net/v/20221025153155870?f=o\n",
      "경북교육청, 싱가포르 기업체들과 산학협력 약속 : http://v.media.daum.net/v/20221025144139616?f=o\n",
      "2 페이지입니다\n",
      "----------------------------------------------------------------------------------------------------\n",
      "글로벌아트페어 싱가포르 내달 3~6일 열린다 : http://v.media.daum.net/v/20221024160900130?f=o\n",
      "경북교육청 현장학습 점검단 싱가포르 방문 : https://cp.news.search.daum.net/p/124959243\n",
      "추자현♥우효광, 싱가포르 한달살이 근황..변함없는 애정 전선 : http://v.media.daum.net/v/20221025062043713?f=o\n",
      "韓 매출 2000억 머문다는 구글..구글플레이 수익은 싱가포르 매출? : http://v.media.daum.net/v/20221021174730683?f=o\n",
      "홍성마늘, 두번째 싱가포르 수출 길 올라 : http://v.media.daum.net/v/20221020133934033?f=o\n",
      "싱가포르한국국제학교, 싱가포르 난양공대 조남준 교수 초청 진로 특강 개최 : http://v.media.daum.net/v/20221021145756724?f=o\n",
      "싱가포르, 설계·시공감리 ‘검수’ 의무화…역할·책임 부여 : https://cp.news.search.daum.net/p/125007484\n",
      "“인삼사업 떼어 내라” 싱가포르 기반 사모펀드, KT&G에 주주 제안 : http://v.media.daum.net/v/20221026155814897?f=o\n",
      "작지만 강한 나라, 싱가포르에 주목해야 하는 이유 : http://v.media.daum.net/v/20221017161502683?f=o\n",
      "싱가포르 스타트업 축제 SWITCH, K-스타트업 20개사 출전 : http://v.media.daum.net/v/20221024145400932?f=o\n",
      "3 페이지입니다\n",
      "----------------------------------------------------------------------------------------------------\n",
      "“Pokémon GO” Safari Zone: 싱가포르 티켓 판매! : https://cp.news.search.daum.net/p/124875001\n",
      "SSG닷컴, 티웨이항공 싱가포르 티켓 내걸어..\"MZ 공략\" : http://v.media.daum.net/v/20221017084417456?f=o\n",
      "경북교육, 싱가포르 파견 현장학습단 격려 : https://cp.news.search.daum.net/p/124866342\n",
      "양혜규 작가, 싱가포르 비엔날레 '베네세상' 수상 : http://v.media.daum.net/v/20221017174700559?f=o\n",
      "롯데제과, 대만·필리핀·싱가포르·몽골서도 '빼빼로데이' 광고 : https://cp.news.search.daum.net/p/124995958\n",
      "[새만금 희망찾기 프로젝트]⑤간척지에 세운 아시아의 작은 용 싱가포르 : https://cp.news.search.daum.net/p/124832369\n",
      "싱가포르 무선이어폰 시장동향 : https://cp.news.search.daum.net/p/124848398\n",
      "日 세가, 싱가포르 법인 설립..동남아 진출 교두보 마련 : http://v.media.daum.net/v/20221025072104358?f=o\n",
      "나이언틱, 포켓몬 고 사파리 존: 싱가포르 티켓 판매 : https://cp.news.search.daum.net/p/124875363\n",
      "시진핑 3연임 쇼크… 中 부자들, 홍콩 통장 깨고 싱가포르로 탈출 : http://v.media.daum.net/v/20221026030048393?f=o\n",
      "4 페이지입니다\n",
      "----------------------------------------------------------------------------------------------------\n",
      "'물가 급등' 싱가포르, 전 가구에 생활보조금..총 1조5천억원 : http://v.media.daum.net/v/20221015122638250?f=o\n",
      "SPC그룹, 쉐이크쉑 싱가포르 '정션8점' 개점 : http://v.media.daum.net/v/20221020160252986?f=o\n",
      "‘금수저’ 1위, 디즈니+ TV쇼 부문 일본·인도네시아·싱가포르 3개국 정상 : https://cp.news.search.daum.net/p/124985892\n",
      "K드라마에 빠진 싱가포르 '아줌마'가 부산에 떴다 : http://v.media.daum.net/v/20221011070522891?f=o\n",
      "오성환 당진시장, 독일과 싱가포르 방문 외자유치 : http://v.media.daum.net/v/20221026112853884?f=o\n",
      "박종용 화가, 싱가포르 글로벌 아트페어에서 특별 전시 : https://cp.news.search.daum.net/p/124993359\n",
      "[기획특집]광양항 무인자동화터미널 시대 연다 ③세계 최대 환적항 싱가포르항 : https://cp.news.search.daum.net/p/124783877\n",
      "예창완 대표 \"싱가포르 첫 공모에 집중\"..해외 부동산 개척 : http://v.media.daum.net/v/20221010071505492?f=o\n",
      "한국·싱가포르 바이오 스타트업 생태계 교류의 장 열려 : http://v.media.daum.net/v/20221014145025902?f=o\n",
      "주싱가포르대사관, ‘우수 K-콘텐츠 시상식’ 개최 : https://cp.news.search.daum.net/p/124715081\n",
      "5 페이지입니다\n",
      "----------------------------------------------------------------------------------------------------\n"
     ]
    }
   ],
   "source": [
    "url1 = 'https://search.daum.net/search?w=news&nil_search=btn&DA=NTB&enc=utf8&cluster=y&cluster_page=1&q=%EC%8B%B1%EA%B0%80%ED%8F%AC%EB%A5%B4&p='\n",
    "\n",
    "for i in range(1,6):\n",
    "    url = url1 + str(i)\n",
    "    html = requests.get(url).text\n",
    "    soup = BeautifulSoup(html, 'lxml')\n",
    "    title = soup.find_all(class_='tit_main fn_tit_u')\n",
    "    for j in title:\n",
    "        print(j.text, ':', j.attrs['href'])\n",
    "    print(i,'페이지입니다')\n",
    "    print('-'*100)"
   ]
  },
  {
   "cell_type": "markdown",
   "id": "d529745a-af8d-48ed-9c1b-346c1e40baf6",
   "metadata": {},
   "source": [
    "## 검색한 keyword의 기사 제목, url 뽑기"
   ]
  },
  {
   "cell_type": "code",
   "execution_count": 27,
   "id": "884918d5-316d-4347-ac33-aa6a2f9c2051",
   "metadata": {
    "tags": []
   },
   "outputs": [
    {
     "name": "stdin",
     "output_type": "stream",
     "text": [
      "검색어를 입력해 주세요:  싱가포르\n"
     ]
    },
    {
     "name": "stdout",
     "output_type": "stream",
     "text": [
      "싱가포르 주택 임대료 '껑충'..한인 유학생도 울상 : http://v.media.daum.net/v/20221023092808839?f=o\n",
      "500만원짜리 오토바이 등록비가 2000만원…싱가포르 덮친 '최악 인플레' : http://v.media.daum.net/v/20221026161417711?f=o\n",
      "부산국제금융진흥원(BFC), 싱가포르 투자자IR 행사 개최 : http://v.media.daum.net/v/20221027211523081?f=o\n",
      "\"우영우 보자\" 박은빈 팬미팅에 싱가포르 '들썩' : http://v.media.daum.net/v/20221026101514431?f=o\n",
      "글로벌 데이터센터 허브로 떠오르는 싱가포르 : https://cp.news.search.daum.net/p/124848405\n",
      "프레시지, 싱가포르서 '밀키트 팝업스토어' 오픈 : http://v.media.daum.net/v/20221026082541338?f=o\n",
      "싱가포르, 투자자 보호 등 가상화폐 규제 강화 추진 : http://v.media.daum.net/v/20221027171518872?f=o\n",
      "강형석 '아줌마' 싱가포르 프로모션 성료 \"행복한 시간 영광\" : http://v.media.daum.net/v/20221024194403012?f=o\n",
      "P&G 본사 유치한 싱가포르처럼..\"정부, 기업에 투자 인센티브 먼저 제안해야\" : http://v.media.daum.net/v/20221019174456857?f=o\n",
      "경북교육청, 싱가포르에서 직업계고 현장학습 기반 구축 : https://cp.news.search.daum.net/p/125007424\n",
      "1 페이지입니다\n",
      "----------------------------------------------------------------------------------------------------\n",
      "집에서 밀키트로 싱가포르 미식여행 즐기고 싱가포르 여행행운도 잡고! : http://v.media.daum.net/v/20221018114539873?f=o\n",
      "K-스타트업, 싱가포르 무대에서 혁신기술 선보인다 : http://v.media.daum.net/v/20221024120003770?f=o\n",
      "양종훈 사진가, ‘제주해녀’·‘히말라야’ 작품으로 싱가포르 아트페어 2022 참가 : http://v.media.daum.net/v/20221026181847424?f=o\n",
      "싱가포르 '코로나 XBB 변이' 확산.. 관광객 기다리는 동남아 울상 : http://v.media.daum.net/v/20221016220046266?f=o\n",
      "추자현, ♥우효광과 싱가포르 한달살기..ZARA 쇼핑까지 : http://v.media.daum.net/v/20221024180539104?f=o\n",
      "싱가포르, 탈탄소화 방안 중 ‘수소’ 가장 유망 : https://cp.news.search.daum.net/p/124973370\n",
      "싱가포르 \"2050년까지 탄소중립\"..전력 절반 수소로(종합) : http://v.media.daum.net/v/20221025190129479?f=o\n",
      "FPT 소프트웨어, 베트남·싱가포르·말레이시아 팔란티어 독점 재판매 파트너 선정 : http://v.media.daum.net/v/20221027100109127?f=o\n",
      "나이언틱, 포켓몬고 '사파리존: 싱가포르' 티켓 판매..내달 18일 시작 : http://v.media.daum.net/v/20221025153155870?f=o\n",
      "경북교육청, 싱가포르 기업체들과 산학협력 약속 : http://v.media.daum.net/v/20221025144139616?f=o\n",
      "2 페이지입니다\n",
      "----------------------------------------------------------------------------------------------------\n",
      "글로벌아트페어 싱가포르 내달 3~6일 열린다 : http://v.media.daum.net/v/20221024160900130?f=o\n",
      "경북교육청 현장학습 점검단 싱가포르 방문 : https://cp.news.search.daum.net/p/124959243\n",
      "추자현♥우효광, 싱가포르 한달살이 근황..변함없는 애정 전선 : http://v.media.daum.net/v/20221025062043713?f=o\n",
      "韓 매출 2000억 머문다는 구글..구글플레이 수익은 싱가포르 매출? : http://v.media.daum.net/v/20221021174730683?f=o\n",
      "홍성마늘, 두번째 싱가포르 수출 길 올라 : http://v.media.daum.net/v/20221020133934033?f=o\n",
      "싱가포르한국국제학교, 싱가포르 난양공대 조남준 교수 초청 진로 특강 개최 : http://v.media.daum.net/v/20221021145756724?f=o\n",
      "싱가포르, 설계·시공감리 ‘검수’ 의무화…역할·책임 부여 : https://cp.news.search.daum.net/p/125007484\n",
      "“인삼사업 떼어 내라” 싱가포르 기반 사모펀드, KT&G에 주주 제안 : http://v.media.daum.net/v/20221026155814897?f=o\n",
      "작지만 강한 나라, 싱가포르에 주목해야 하는 이유 : http://v.media.daum.net/v/20221017161502683?f=o\n",
      "싱가포르 스타트업 축제 SWITCH, K-스타트업 20개사 출전 : http://v.media.daum.net/v/20221024145400932?f=o\n",
      "3 페이지입니다\n",
      "----------------------------------------------------------------------------------------------------\n",
      "“Pokémon GO” Safari Zone: 싱가포르 티켓 판매! : https://cp.news.search.daum.net/p/124875001\n",
      "SSG닷컴, 티웨이항공 싱가포르 티켓 내걸어..\"MZ 공략\" : http://v.media.daum.net/v/20221017084417456?f=o\n",
      "경북교육, 싱가포르 파견 현장학습단 격려 : https://cp.news.search.daum.net/p/124866342\n",
      "양혜규 작가, 싱가포르 비엔날레 '베네세상' 수상 : http://v.media.daum.net/v/20221017174700559?f=o\n",
      "롯데제과, 대만·필리핀·싱가포르·몽골서도 '빼빼로데이' 광고 : https://cp.news.search.daum.net/p/124995958\n",
      "[새만금 희망찾기 프로젝트]⑤간척지에 세운 아시아의 작은 용 싱가포르 : https://cp.news.search.daum.net/p/124832369\n",
      "싱가포르 무선이어폰 시장동향 : https://cp.news.search.daum.net/p/124848398\n",
      "日 세가, 싱가포르 법인 설립..동남아 진출 교두보 마련 : http://v.media.daum.net/v/20221025072104358?f=o\n",
      "나이언틱, 포켓몬 고 사파리 존: 싱가포르 티켓 판매 : https://cp.news.search.daum.net/p/124875363\n",
      "시진핑 3연임 쇼크… 中 부자들, 홍콩 통장 깨고 싱가포르로 탈출 : http://v.media.daum.net/v/20221026030048393?f=o\n",
      "4 페이지입니다\n",
      "----------------------------------------------------------------------------------------------------\n",
      "'물가 급등' 싱가포르, 전 가구에 생활보조금..총 1조5천억원 : http://v.media.daum.net/v/20221015122638250?f=o\n",
      "SPC그룹, 쉐이크쉑 싱가포르 '정션8점' 개점 : http://v.media.daum.net/v/20221020160252986?f=o\n",
      "‘금수저’ 1위, 디즈니+ TV쇼 부문 일본·인도네시아·싱가포르 3개국 정상 : https://cp.news.search.daum.net/p/124985892\n",
      "K드라마에 빠진 싱가포르 '아줌마'가 부산에 떴다 : http://v.media.daum.net/v/20221011070522891?f=o\n",
      "오성환 당진시장, 독일과 싱가포르 방문 외자유치 : http://v.media.daum.net/v/20221026112853884?f=o\n",
      "박종용 화가, 싱가포르 글로벌 아트페어에서 특별 전시 : https://cp.news.search.daum.net/p/124993359\n",
      "[기획특집]광양항 무인자동화터미널 시대 연다 ③세계 최대 환적항 싱가포르항 : https://cp.news.search.daum.net/p/124783877\n",
      "예창완 대표 \"싱가포르 첫 공모에 집중\"..해외 부동산 개척 : http://v.media.daum.net/v/20221010071505492?f=o\n",
      "한국·싱가포르 바이오 스타트업 생태계 교류의 장 열려 : http://v.media.daum.net/v/20221014145025902?f=o\n",
      "주싱가포르대사관, ‘우수 K-콘텐츠 시상식’ 개최 : https://cp.news.search.daum.net/p/124715081\n",
      "5 페이지입니다\n",
      "----------------------------------------------------------------------------------------------------\n"
     ]
    }
   ],
   "source": [
    "url1 = 'https://search.daum.net/search?w=news&nil_search=btn&DA=NTB&enc=utf8&cluster=y&cluster_page=1&q='\n",
    "url_keyword = input('검색어를 입력해 주세요: ')\n",
    "url_page = '&p='\n",
    "\n",
    "for i in range(1,6):\n",
    "    url = url1+url_keyword+url_page+str(i)\n",
    "    html = requests.get(url).text\n",
    "    soup = BeautifulSoup(html, 'lxml')\n",
    "    title = soup.find_all(class_='tit_main fn_tit_u')\n",
    "    for j in title:\n",
    "        print(j.text, ':', j.attrs['href'])\n",
    "    print(i,'페이지입니다')\n",
    "    print('-'*100)"
   ]
  },
  {
   "cell_type": "code",
   "execution_count": 28,
   "id": "1817c69e-b91d-49b2-9c6c-fe1f19942b48",
   "metadata": {},
   "outputs": [],
   "source": [
    "def daum_search(x):\n",
    "    header = {'User Agent': 'Mozilla/5.0 (Windows NT 10.0; Win64; x64) AppleWebKit/537.36 (KHTML, like Gecko) Chrome/106.0.0.0 Safari/537.36'}\n",
    "    url1 = 'https://search.daum.net/search?nil_suggest=btn&w=news&DA=PGD&q='\n",
    "    url_keyword = x\n",
    "    url_page = '&p='\n",
    "    \n",
    "    for i in range(1,6):\n",
    "        url = url1 + url_keyword + url_page + str(i)\n",
    "        html = requests.get(url, headers = header).text\n",
    "        soup = BeautifulSoup(html, 'lxml')\n",
    "        title = soup.find_all(class_='tit_main fn_tit_u')\n",
    "        for j in title:\n",
    "            print (j.text, ' : ', j.attrs['href'])\n",
    "        print(i, '페이지 입니다')\n",
    "        print('-'*100)"
   ]
  },
  {
   "cell_type": "code",
   "execution_count": 29,
   "id": "9b1dcbca-663e-4e15-a312-37a6abf59927",
   "metadata": {
    "tags": []
   },
   "outputs": [
    {
     "name": "stdout",
     "output_type": "stream",
     "text": [
      "[심층인터뷰] 한국 경제 ‘사면초가’  :  http://v.media.daum.net/v/20221027235714521?f=o\n",
      "내겐 생경한 한국의 운전 문화[폴 카버 한국 블로그]  :  http://v.media.daum.net/v/20221028030417449?f=o\n",
      "한국 언론의 국제뉴스 보도, 이래서 문제다  :  http://v.media.daum.net/v/20221027143509201?f=o\n",
      "한국번역학회·한국비교문학회 공동학술대회 '문학+번역+출판' 개최  :  http://v.media.daum.net/v/20221028075437473?f=o\n",
      "\"한국, 마약청정국 지위 7년전 이미 잃었다\"  :  http://v.media.daum.net/v/20221027140023647?f=o\n",
      "英매체 “김민재, 한국 월드컵 8강 후 EPL 이적?”  :  http://v.media.daum.net/v/20221028083907348?f=o\n",
      "[노우래의 필드 스토리] 한국 남자 골프와 CJ그룹  :  http://v.media.daum.net/v/20221028070431746?f=o\n",
      "평균 32.5세, ‘꿈틀대는’ 베트남 시장···한국은 뭘 팔아야 하나  :  http://v.media.daum.net/v/20221027190003362?f=o\n",
      "法 \"현대차·기아 하청 직원 직고용해라\"…떨고 있는 한국GM  :  http://v.media.daum.net/v/20221028050901311?f=o\n",
      "푸틴 “한국, 우크라에 무기 제공하면 韓·러 관계 파탄”  :  http://v.media.daum.net/v/20221028083303219?f=o\n",
      "1 페이지 입니다\n",
      "----------------------------------------------------------------------------------------------------\n",
      "푸틴, 한국 콕 찍어 “우크라 지원? 북한과 군사협력 재개 좋나” 위협  :  http://v.media.daum.net/v/20221028091508378?f=o\n",
      "“패키징 분야 열세인 한국 반도체, 범국가적 전략 세워야”  :  http://v.media.daum.net/v/20221028030245364?f=o\n",
      "푸틴, 한국에 으름장 “우크라에 무기 주면 관계 파탄” 한반도 비핵화 먹구름  :  http://v.media.daum.net/v/20221028081301814?f=o\n",
      "‘우즈벡 농업한류’ 시작…한국 기업엔 ‘새로운 기회의 땅’  :  http://v.media.daum.net/v/20221028051115382?f=o\n",
      "LG생활건강, 中서 한국 화장품 브랜드력 약화…투자의견 ↓ -한국  :  http://v.media.daum.net/v/20221028081937942?f=o\n",
      "<포럼>희토류와 공급망, 한국의 현실과 전략  :  http://v.media.daum.net/v/20221027190244490?f=o\n",
      "“한국에서 미국 주립대 학위 받아요.”  :  http://v.media.daum.net/v/20221027030701102?f=o\n",
      "서평● 이호재 '선맥과 풍류해석학으로 본 한국종교와 한국교회'  :  https://cp.news.search.daum.net/p/125010001\n",
      "일본 언론 \"한국, 한일관계 개선·신뢰 조성 위해 관함식 참가\"  :  http://v.media.daum.net/v/20221027221504807?f=o\n",
      "조폐공사, 한국의 대표 화가 '박수근' 기념메달 출시  :  http://v.media.daum.net/v/20221028090045894?f=o\n",
      "2 페이지 입니다\n",
      "----------------------------------------------------------------------------------------------------\n",
      "아시아 24개국 IT협회 참여 '디지털 서밋' 내년 한국서 열린다  :  http://v.media.daum.net/v/20221028091659436?f=o\n",
      "'철파엠' 미친감성 \"보아의 '발렌티', 판이 바뀐 한국 아이돌과 일본 아이돌 음악\"  :  http://v.media.daum.net/v/20221028085712784?f=o\n",
      "한국은 커피공화국...검고 뜨거운 커피에 중독된 한국인  :  http://v.media.daum.net/v/20221028094801710?f=o\n",
      "'물 들어온' 한국조선해양 흑자 돌아섰는데…조선소는 파업 전운  :  http://v.media.daum.net/v/20221027210022705?f=o\n",
      "\"직접 입어보세요\"…상파울루 한국 문화원, 한복 전시회 개최  :  http://v.media.daum.net/v/20221028085341703?f=o\n",
      "한국마사회장배 ‘전국 승마대회’…800여명 관객들 호응  :  http://v.media.daum.net/v/20221028054514785?f=o\n",
      "뉴델리서 선보인 한국전통 혼인잔치…한식페스타 개막  :  http://v.media.daum.net/v/20221027135221387?f=o\n",
      "킨타나 \"한국 유엔 인권이사국 낙선, 文정부 기조 영향 있어\"  :  http://v.media.daum.net/v/20221028091013205?f=o\n",
      "\"젊은 선수들이 부상했다\" 한국 찾은 日 국대 사령탑, 젊은 한국 경계  :  http://v.media.daum.net/v/20221027090017525?f=o\n",
      "수출감소에 고물가·어닝쇼크…한국경제 성장 '빨간불'  :  http://v.media.daum.net/v/20221027102915396?f=o\n",
      "3 페이지 입니다\n",
      "----------------------------------------------------------------------------------------------------\n",
      "많이 간다더니 진짜네?…9월 일본 방문 관광객 1위 한국  :  http://v.media.daum.net/v/20221028060501092?f=o\n",
      "한국, 7년만에 日관함식 참석한다  :  http://v.media.daum.net/v/20221027173011503?f=o\n",
      "\"IRA 보조금 차별, 중간선거 쟁점화하면 한국에 불리\"  :  http://v.media.daum.net/v/20221028094814725?f=o\n",
      "[미술소식] 김달진미술자료박물관 '한국독일미술교류사' 전시  :  http://v.media.daum.net/v/20221028092028573?f=o\n",
      "3년만에 한국 감독들과 함께 막 올린 파리한국영화제  :  http://v.media.daum.net/v/20221026053859993?f=o\n",
      "한국GM 존폐 위기 걱정…“파견법 손보자”  :  http://v.media.daum.net/v/20221027195600031?f=o\n",
      "일본판 '고등래퍼'가 낳은 스타 챤미나의 다음 목적지는 한국[플랫]  :  http://v.media.daum.net/v/20221026104914839?f=o\n",
      "\"국민 연금부자로\"…한국투자신탁운용, 캠페인 진행  :  http://v.media.daum.net/v/20221028084954629?f=o\n",
      "기성 앤더슨 “美서 사업 성공해 2층 집 장만” 돌연 한국행 이유(특종세상)[어제TV]  :  http://v.media.daum.net/v/20221028061414238?f=o\n",
      "한류의 모든 것, 지구촌 함께한 '한국문화축제'  :  http://v.media.daum.net/v/20221027132010374?f=o\n",
      "4 페이지 입니다\n",
      "----------------------------------------------------------------------------------------------------\n",
      "[홍승희 칼럼] 장애물 첩첩, 한국경제의 앞날  :  https://cp.news.search.daum.net/p/125010374\n",
      "한국토요타, 'TGR GT 컵 2022' 아시아 파이널 열어  :  http://v.media.daum.net/v/20221028091805482?f=o\n",
      "프랑스 매체 “한국-일본, 카타르 WC 조별리그 탈락 예상”  :  http://v.media.daum.net/v/20221027160754692?f=o\n",
      "외환·유동성 경고음...커지는 한국판 금융위기 공포감  :  http://v.media.daum.net/v/20221026191150586?f=o\n",
      "손흥민이 카타르서 입을 수트, \"히어로-K11\" 한국축구 단복 공개  :  http://v.media.daum.net/v/20221027115427402?f=o\n",
      "한국앤컴퍼니, 북미 자동차 부품 전시회 참가  :  http://v.media.daum.net/v/20221028092322685?f=o\n",
      "판소리·탈춤·땅재주… 한국 최초 극장에선 ‘봄날 연희’가 펼쳐졌다 [김별아의 도시 기행문-서울을 걷는 시간]  :  http://v.media.daum.net/v/20221028050305161?f=o\n",
      "[경마] 풍성하게 채워진'제50회 한국마사회장배 승마대회', 성대한 마무리  :  http://v.media.daum.net/v/20221027204231242?f=o\n",
      "윤상현, 싱하이밍 '韓 언론' 비판에 \"中, 한국에 좋은 이웃이었나 돌아봐야\"  :  http://v.media.daum.net/v/20221027220619618?f=o\n",
      "'근로자 사망 사고' 한국타이어 측 \"비정상적 방식 작업 이뤄져\"  :  http://v.media.daum.net/v/20221027161959275?f=o\n",
      "5 페이지 입니다\n",
      "----------------------------------------------------------------------------------------------------\n"
     ]
    }
   ],
   "source": [
    "daum_search('한국')"
   ]
  },
  {
   "cell_type": "code",
   "execution_count": 30,
   "id": "2c1e10fa-bffd-47a2-ad57-d96806b45101",
   "metadata": {},
   "outputs": [],
   "source": [
    "def naver_search(x):\n",
    "    header = {'User Agent': 'Mozilla/5.0 (Windows NT 10.0; Win64; x64) AppleWebKit/537.36 (KHTML, like Gecko) Chrome/106.0.0.0 Safari/537.36'}\n",
    "    url1 = 'https://search.naver.com/search.naver?where=news&sm=tab_pge&query='\n",
    "    #%EC%8B%B1%EA%B0%80%ED%8F%AC%EB%A5%B4&sort=0&photo=0&field=0&pd=0&ds=&de=&cluster_rank=95&mynews=0&office_type=0&office_section_code=0&news_office_checked=&nso=so:r,p:all,a:all&start=1\n",
    "    url_keyword = x\n",
    "    url_page = '&start='\n",
    "    \n",
    "    cnt = 1\n",
    "    for i in range(1,42,10):\n",
    "        url = url1 + url_keyword + url_page + str(i)\n",
    "        html = requests.get(url).text\n",
    "        soup = BeautifulSoup(html, 'html.parser')\n",
    "        title = soup.find_all(class_='news_tit')\n",
    "        for j in title:\n",
    "            print (j.text, ' : ', j.attrs['href'])\n",
    "        print(cnt, '페이지 입니다')\n",
    "        print('-'*100)\n",
    "        cnt += 1"
   ]
  },
  {
   "cell_type": "code",
   "execution_count": 31,
   "id": "546ad354-3e92-4ed5-8582-d6d3001a6775",
   "metadata": {
    "tags": []
   },
   "outputs": [
    {
     "name": "stdout",
     "output_type": "stream",
     "text": [
      "김연아도 빵 터진 고우림父 축사 어땠길래…\"논문 읽고 준비\"  :  https://www.hankyung.com/life/article/2022102662917\n",
      "\"김연아♥고우림 결혼식비용 1억 중후반…90평 고급빌라 신혼집, 모든방 한강...  :  https://www.news1.kr/articles/4846723\n",
      "'피겨퀸' 김연아·고우림, 결혼식 비용은 얼마?  :  https://star.ytn.co.kr/_sn/0117_202210270932045508\n",
      "'결혼' 김연아♥고우림, 총 예식 비용은 얼마?  :  http://starin.edaily.co.kr/news/newspath.asp?newsid=01125046632497184\n",
      "김연아 결혼식때 시아버지 축사에 빵 터졌다..'연아 논문'이 왜 거기서  :  http://www.fnnews.com/news/202210270641050055\n",
      "'46억' 김연아♥고우림 신혼집… \"한 달 관리비만 100만원\"  :  http://moneys.mt.co.kr/news/mwView.php?no=2022102808193031730\n",
      "IOC도 주목한 ‘김연아 결혼식’… “아이스 퀸 같았다”  :  https://www.chosun.com/culture-life/culture_general/2022/10/25/3UMQJSEMSNCMLL2PZQ6SAK4FVE/?utm_source=naver&utm_medium=referral&utm_campaign=naver-news\n",
      "김연아♥고우림, 결혼식 총비용은? \"1억 중후반대 추정\"[연중플러스]  :  http://star.mt.co.kr/stview.php?no=2022102723172213006\n",
      "22억에 사 재테크 성공한 김연아 고급빌라 어떤가 봤더니  :  http://www.newsis.com/view/?id=NISX20221025_0002060874&cID=10401&pID=10400\n",
      "IOC “김연아, 올림픽 가치 다음 세대에 전해주길”  :  http://mksports.co.kr/view/2022/954825/\n",
      "1 페이지 입니다\n",
      "----------------------------------------------------------------------------------------------------\n",
      "\"내 눈 뚫어지게 본 고우림 강한 끌림\"…김연아가 밝힌 첫 만남  :  https://www.joongang.co.kr/article/25112135\n",
      "IOC “김연아, 올림픽 가치 다음 세대에 전해주길”  :  http://mksports.co.kr/view/2022/954825/\n",
      "“잘 살겠습니다”...피겨여왕 김연아의 결혼 소감  :  https://www.chosun.com/national/people/2022/10/23/NQTBWAOQIZCPVDBJCR56OPNLLU/?utm_source=naver&utm_medium=referral&utm_campaign=naver-news\n",
      "김연아♥고우림, 팔짱 끼고 인사..수많은 하객 속 빛나는 두 사람  :  http://star.mt.co.kr/stview.php?no=2022102707443482830\n",
      "‘결혼’ 김연아, 드레스 대여료 1천만원 이상+반지 2천8백만원(연중)  :  https://www.newsen.com/news_view.php?uid=202210272334030310\n",
      "김연아♡고우림 결혼식에서 굴욕당한 강남? \"사실은...\"  :  https://www.ajunews.com/view/20221027145234935\n",
      "[명경대] 김연아와 평창  :  http://www.kado.net/news/articleView.html?idxno=1151485\n",
      "김연아·고우림 결혼…웨딩화보 볼까요  :  https://www.hani.co.kr/arti/culture/culture_general/1063786.html\n",
      "김연아, '2800만원짜리 결혼반지' 실물은?…웨딩사진 추가공개  :  http://www.newsis.com/view/?id=NISX20221025_0002060907&cID=10601&pID=10600\n",
      "결혼한 피겨여왕 김연아의 첫 활동은…꿈나무 지도  :  https://www.chosun.com/culture-life/culture_general/2022/10/24/3RBSHM5AZBG6HLXOSOPPIOVZYY/?utm_source=naver&utm_medium=referral&utm_campaign=naver-news\n",
      "2 페이지 입니다\n",
      "----------------------------------------------------------------------------------------------------\n",
      "김연아, 흑석동 빌라는 대박났는데 송도 상가는 '아쉽네' [더 머니이스트-최원...  :  https://www.hankyung.com/realestate/article/202210236571Q\n",
      "김연아♥고우림, “연하남편 찌질해”…이번엔 '신혼집' 잡음 논란[TEN피플]  :  https://tenasia.hankyung.com/topic/article/2022102661734\n",
      "강남, 김연아 결혼식 모자이크 굴욕?…\"나 아냐\" 해명  :  http://www.newsis.com/view/?id=NISX20221026_0002061812&cID=10601&pID=10600\n",
      "“열심히 잘 살겠습니다”...‘피겨퀸’ 김연아 밝힌 결혼 소감  :  http://star.mk.co.kr/new/view.php?mc=ST&year=2022&no=938828\n",
      "김연아 신혼집은 '한강뷰 빌라' 마크힐스…\"최대 85억\"  :  https://www.news1.kr/articles/4842408\n",
      "김연아 \"내 눈 뚫어지게 쳐다본 고우림 강하게 끌려\" 첫 만남 회상 [영상]  :  http://www.fnnews.com/news/202210260636176480\n",
      "김연아♥고우림, 결혼 답례품은 '디올 화장품'  :  http://mbn.mk.co.kr/pages/news/newsView.php?category=mbn00007&news_seq_no=4868243\n",
      "김연아♥고우림이 선택한 20만원 상당의 결혼 답례품  :  https://www.chosun.com/culture-life/culture_general/2022/10/23/NUG7QOI5CVFIDPVBYZNVINVMJA/?utm_source=naver&utm_medium=referral&utm_campaign=naver-news\n",
      "\"형부 눈에서 꿀 떨어져요\"…김연아 허락받고 올린 결혼식 영상  :  http://www.newsis.com/view/?id=NISX20221025_0002060181&cID=10601&pID=10600\n",
      "김연아, 시아버지 축사에 빵 터진 이유?  :  http://www.ichannela.com/news/main/news_detailPage.do?publishId=000000319895\n",
      "3 페이지 입니다\n",
      "----------------------------------------------------------------------------------------------------\n",
      "[★온탕냉탕]김연아·고우림 결혼식 화제→오메가엑스, 소속사 대표 폭언 논란  :  http://www.sportsworldi.com/newsView/20221027513429\n",
      "김연아·고우림, 결혼 답례품도 럭셔리...20만원 상당 명품  :  http://star.mk.co.kr/new/view.php?mc=ST&year=2022&no=937395\n",
      "김연아, 고우림 만난 첫날 모습 \"이유 모를 강한 끌림 느꼈다\"  :  https://www.ajunews.com/view/20221027081017430\n",
      "오늘 백년가약 맺는 김연아-고우림, 웨딩 화보 공개  :  https://news.sbs.co.kr/news/endPage.do?news_id=N1006941977&plink=ORI&cooper=NAVER\n",
      "[문화연예 플러스] 김연아♥고우림, 비공개 결혼식 사진 공개  :  https://imnews.imbc.com/replay/2022/nwtoday/article/6419916_35752.html\n",
      "강남, 김연아 결혼식서 아내 이상화 옆 모자이크 굴욕? \"메시지 수백개 왔다\"  :  https://www.news1.kr/articles/4844064\n",
      "10월의 신부된 '피겨 여왕' 김연아 \"잘 살겠다\" [뉴시스Pic]  :  http://www.newsis.com/view/?id=NISX20221024_0002058670&cID=10601&pID=10600\n",
      "김연아가 직접 공개한 결혼식 순간들  :  https://www.bntnews.co.kr/article/view/bnt202210240003\n",
      "김연아 11년 전 산 '한강뷰 빌라' 신혼집으로…시세 22억→85억 '훌쩍'  :  http://news.mt.co.kr/mtview.php?no=2022102416543287846\n",
      "“김연아 결혼 왜 했냐” 스윗소로우 인호진, 생방 중 실언?(철파엠)  :  https://www.newsen.com/news_view.php?uid=202210270704000810\n",
      "4 페이지 입니다\n",
      "----------------------------------------------------------------------------------------------------\n",
      "김연아의 결혼 후 첫 활동은 '꿈나무 지도'…평창 레거시 참여  :  https://www.yna.co.kr/view/AKR20221024056500007?input=1195m\n",
      "‘결혼 4일차’ 김연아, 행복의 폭풍 업로드…2800만원 반지 자랑  :  https://www.newsen.com/news_view.php?uid=202210251339200310\n",
      "\"립스틱샷+결혼반지 공개\"..'고우림♥' 김연아, 여왕이 새신부로 변하는 과정  :  http://sports.chosun.com/news/ntype.htm?id=202210260100170710010892&servicedate=20221025\n",
      "'동시입장' 김연아·고우림, 20만원 상당 답례품은 '이것'  :  http://news.heraldcorp.com/view.php?ud=20221023000044\n",
      "\"열심히 잘 살겠습니다\"…김연아 직접 공개한 결혼식 사진 깜짝  :  https://www.joongang.co.kr/article/25111394\n",
      "'새색시' 김연아, 다음 달 피겨 꿈나무 지도  :  http://mbn.mk.co.kr/pages/news/newsView.php?category=mbn00007&news_seq_no=4868871\n",
      "\"두 사람이 각자 걸어왔던 삶의 경험들이...\" 김연아·고우림 결혼식에서 신랑...  :  https://www.huffingtonpost.kr/news/articleView.html?idxno=204138\n",
      "김연아♥고우림, \"연아언니 허락 받고 올린 영상\" 눈에서 꿀 떨어져요! ('다빈...  :  http://www.osen.co.kr/article/G1111973698\n",
      "김연아 내일 결혼한다… “함께 더 오래 그리고 멀리 가고자 한다”  :  https://news.kmib.co.kr/article/view.asp?arcid=0017592007&code=61171111&cp=nv\n",
      "김연아-고우림 손잡고 나란히 입장..하객엔 20만원 상당 명품 답례품  :  http://www.fnnews.com/news/202210231017236290\n",
      "5 페이지 입니다\n",
      "----------------------------------------------------------------------------------------------------\n"
     ]
    }
   ],
   "source": [
    "naver_search('김연아')"
   ]
  },
  {
   "cell_type": "code",
   "execution_count": 32,
   "id": "1a2a33f7-7e28-47f7-969b-bec2f2562c0b",
   "metadata": {},
   "outputs": [],
   "source": [
    "import pandas as pd\n",
    "def naver_search_pd(x):\n",
    "    url1 = 'https://search.naver.com/search.naver?where=news&sm=tab_pge&query='\n",
    "    url_keyword = x\n",
    "    url_page = '&start='\n",
    "    \n",
    "    li1 = []\n",
    "    li2 = []\n",
    "    \n",
    "    for i in range(1,52,10):\n",
    "        url = url1 + url_keyword + url_page + str(i)\n",
    "        html = requests.get(url).text\n",
    "        soup = BeautifulSoup(html, 'html.parser')\n",
    "        title = soup.find_all(class_='news_tit')\n",
    "        for j in title:\n",
    "            li1.append(j.text)\n",
    "            li2.append(j.attrs['href'])\n",
    "        data = pd.DataFrame({'제목': li1, 'url': li2})\n",
    "        data.to_csv(f'{x}.csv')\n",
    "        return data"
   ]
  },
  {
   "cell_type": "code",
   "execution_count": 33,
   "id": "0f708d75-9887-451b-b419-4611a61acaf0",
   "metadata": {},
   "outputs": [
    {
     "data": {
      "text/html": [
       "<div>\n",
       "<style scoped>\n",
       "    .dataframe tbody tr th:only-of-type {\n",
       "        vertical-align: middle;\n",
       "    }\n",
       "\n",
       "    .dataframe tbody tr th {\n",
       "        vertical-align: top;\n",
       "    }\n",
       "\n",
       "    .dataframe thead th {\n",
       "        text-align: right;\n",
       "    }\n",
       "</style>\n",
       "<table border=\"1\" class=\"dataframe\">\n",
       "  <thead>\n",
       "    <tr style=\"text-align: right;\">\n",
       "      <th></th>\n",
       "      <th>제목</th>\n",
       "      <th>url</th>\n",
       "    </tr>\n",
       "  </thead>\n",
       "  <tbody>\n",
       "    <tr>\n",
       "      <th>0</th>\n",
       "      <td>김연아도 빵 터진 고우림父 축사 어땠길래…\"논문 읽고 준비\"</td>\n",
       "      <td>https://www.hankyung.com/life/article/20221026...</td>\n",
       "    </tr>\n",
       "    <tr>\n",
       "      <th>1</th>\n",
       "      <td>\"김연아♥고우림 결혼식비용 1억 중후반…90평 고급빌라 신혼집, 모든방 한강...</td>\n",
       "      <td>https://www.news1.kr/articles/4846723</td>\n",
       "    </tr>\n",
       "    <tr>\n",
       "      <th>2</th>\n",
       "      <td>'피겨퀸' 김연아·고우림, 결혼식 비용은 얼마?</td>\n",
       "      <td>https://star.ytn.co.kr/_sn/0117_20221027093204...</td>\n",
       "    </tr>\n",
       "    <tr>\n",
       "      <th>3</th>\n",
       "      <td>'결혼' 김연아♥고우림, 총 예식 비용은 얼마?</td>\n",
       "      <td>http://starin.edaily.co.kr/news/newspath.asp?n...</td>\n",
       "    </tr>\n",
       "    <tr>\n",
       "      <th>4</th>\n",
       "      <td>김연아 결혼식때 시아버지 축사에 빵 터졌다..'연아 논문'이 왜 거기서</td>\n",
       "      <td>http://www.fnnews.com/news/202210270641050055</td>\n",
       "    </tr>\n",
       "    <tr>\n",
       "      <th>5</th>\n",
       "      <td>'46억' 김연아♥고우림 신혼집… \"한 달 관리비만 100만원\"</td>\n",
       "      <td>http://moneys.mt.co.kr/news/mwView.php?no=2022...</td>\n",
       "    </tr>\n",
       "    <tr>\n",
       "      <th>6</th>\n",
       "      <td>IOC도 주목한 ‘김연아 결혼식’… “아이스 퀸 같았다”</td>\n",
       "      <td>https://www.chosun.com/culture-life/culture_ge...</td>\n",
       "    </tr>\n",
       "    <tr>\n",
       "      <th>7</th>\n",
       "      <td>김연아♥고우림, 결혼식 총비용은? \"1억 중후반대 추정\"[연중플러스]</td>\n",
       "      <td>http://star.mt.co.kr/stview.php?no=20221027231...</td>\n",
       "    </tr>\n",
       "    <tr>\n",
       "      <th>8</th>\n",
       "      <td>22억에 사 재테크 성공한 김연아 고급빌라 어떤가 봤더니</td>\n",
       "      <td>http://www.newsis.com/view/?id=NISX20221025_00...</td>\n",
       "    </tr>\n",
       "    <tr>\n",
       "      <th>9</th>\n",
       "      <td>IOC “김연아, 올림픽 가치 다음 세대에 전해주길”</td>\n",
       "      <td>http://mksports.co.kr/view/2022/954825/</td>\n",
       "    </tr>\n",
       "  </tbody>\n",
       "</table>\n",
       "</div>"
      ],
      "text/plain": [
       "                                              제목  \\\n",
       "0              김연아도 빵 터진 고우림父 축사 어땠길래…\"논문 읽고 준비\"   \n",
       "1  \"김연아♥고우림 결혼식비용 1억 중후반…90평 고급빌라 신혼집, 모든방 한강...   \n",
       "2                     '피겨퀸' 김연아·고우림, 결혼식 비용은 얼마?   \n",
       "3                     '결혼' 김연아♥고우림, 총 예식 비용은 얼마?   \n",
       "4        김연아 결혼식때 시아버지 축사에 빵 터졌다..'연아 논문'이 왜 거기서   \n",
       "5            '46억' 김연아♥고우림 신혼집… \"한 달 관리비만 100만원\"   \n",
       "6                IOC도 주목한 ‘김연아 결혼식’… “아이스 퀸 같았다”   \n",
       "7         김연아♥고우림, 결혼식 총비용은? \"1억 중후반대 추정\"[연중플러스]   \n",
       "8                22억에 사 재테크 성공한 김연아 고급빌라 어떤가 봤더니   \n",
       "9                  IOC “김연아, 올림픽 가치 다음 세대에 전해주길”   \n",
       "\n",
       "                                                 url  \n",
       "0  https://www.hankyung.com/life/article/20221026...  \n",
       "1              https://www.news1.kr/articles/4846723  \n",
       "2  https://star.ytn.co.kr/_sn/0117_20221027093204...  \n",
       "3  http://starin.edaily.co.kr/news/newspath.asp?n...  \n",
       "4      http://www.fnnews.com/news/202210270641050055  \n",
       "5  http://moneys.mt.co.kr/news/mwView.php?no=2022...  \n",
       "6  https://www.chosun.com/culture-life/culture_ge...  \n",
       "7  http://star.mt.co.kr/stview.php?no=20221027231...  \n",
       "8  http://www.newsis.com/view/?id=NISX20221025_00...  \n",
       "9            http://mksports.co.kr/view/2022/954825/  "
      ]
     },
     "execution_count": 33,
     "metadata": {},
     "output_type": "execute_result"
    }
   ],
   "source": [
    "naver_search_pd('김연아')"
   ]
  },
  {
   "cell_type": "markdown",
   "id": "520a54c1-817b-473b-9fe9-2c62c739ff10",
   "metadata": {},
   "source": [
    "## 역대 대통령 명단"
   ]
  },
  {
   "cell_type": "code",
   "execution_count": 409,
   "id": "1a390816-a152-40ef-a272-dd1bf73542ea",
   "metadata": {},
   "outputs": [],
   "source": [
    "import requests\n",
    "from bs4 import BeautifulSoup"
   ]
  },
  {
   "cell_type": "code",
   "execution_count": 410,
   "id": "ab4af2dd-4fb6-4c0b-a995-8f1104ada966",
   "metadata": {},
   "outputs": [
    {
     "data": {
      "text/plain": [
       "'https://ko.wikipedia.org/wiki/%EB%8C%80%ED%95%9C%EB%AF%BC%EA%B5%AD%EC%9D%98_%EB%8C%80%ED%86%B5%EB%A0%B9_%EB%AA%A9%EB%A1%9D#%EC%97%AD%EB%8C%80_%EB%8C%80%ED%86%B5%EB%A0%B9_%EB%AA%A9%EB%A1%9D'"
      ]
     },
     "execution_count": 410,
     "metadata": {},
     "output_type": "execute_result"
    }
   ],
   "source": [
    "url = 'https://ko.wikipedia.org/wiki/%EB%8C%80%ED%95%9C%EB%AF%BC%EA%B5%AD%EC%9D%98_%EB%8C%80%ED%86%B5%EB%A0%B9_%EB%AA%A9%EB%A1%9D#%EC%97%AD%EB%8C%80_%EB%8C%80%ED%86%B5%EB%A0%B9_%EB%AA%A9%EB%A1%9D'\n",
    "url"
   ]
  },
  {
   "cell_type": "code",
   "execution_count": 413,
   "id": "a68c6c87-f1f7-448c-ae39-530656133994",
   "metadata": {},
   "outputs": [
    {
     "data": {
      "text/plain": [
       "['이승만',\n",
       " '윤보선',\n",
       " '박정희',\n",
       " '최규하',\n",
       " '전두환',\n",
       " '노태우',\n",
       " '김영삼',\n",
       " '김대중',\n",
       " '노무현',\n",
       " '이명박',\n",
       " '박근혜',\n",
       " '문재인',\n",
       " '윤석열']"
      ]
     },
     "execution_count": 413,
     "metadata": {},
     "output_type": "execute_result"
    }
   ],
   "source": [
    "html = requests.get(url).text\n",
    "soup = BeautifulSoup(html, 'html.parser')\n",
    "names = soup.select('td:nth-child(3) > b > a') #이승만 -> copy selector: '#mw-content-text > div.mw-parser-output > table:nth-child(6) > tbody > tr:nth-child(3) > td:nth-child(3) > b > a'\n",
    "[name.attrs['title'] for name in names]"
   ]
  },
  {
   "cell_type": "markdown",
   "id": "0048cf1d-a14d-4c36-8103-dbe23786b6fa",
   "metadata": {},
   "source": [
    "# Webdriver + Naver"
   ]
  },
  {
   "cell_type": "code",
   "execution_count": 422,
   "id": "abce22b6-bc64-401c-b67d-ba19522b6a32",
   "metadata": {},
   "outputs": [],
   "source": [
    "#pip install selenium"
   ]
  },
  {
   "cell_type": "code",
   "execution_count": 1,
   "id": "7ae21ae2-eaab-42ce-b80f-d99de6443a29",
   "metadata": {},
   "outputs": [],
   "source": [
    "import requests\n",
    "from bs4 import BeautifulSoup\n",
    "from selenium import webdriver"
   ]
  },
  {
   "cell_type": "markdown",
   "id": "0c87a307-cedc-47a3-8f22-1292c4cfa95d",
   "metadata": {},
   "source": [
    "## 이미지 저장하기"
   ]
  },
  {
   "cell_type": "code",
   "execution_count": 34,
   "id": "ec455de4-bfc1-4ac1-b19f-6a8dac9da262",
   "metadata": {
    "tags": []
   },
   "outputs": [
    {
     "name": "stdout",
     "output_type": "stream",
     "text": [
      "https://search.naver.com/search.naver?where=image&sm=tab_jum&query=김연아\n"
     ]
    }
   ],
   "source": [
    "url1 = 'https://search.naver.com/search.naver?where=image&sm=tab_jum&query='\n",
    "url_keyword = '김연아'\n",
    "url = url1 + url_keyword\n",
    "\n",
    "print(url)"
   ]
  },
  {
   "cell_type": "code",
   "execution_count": 35,
   "id": "e35cafda-cd32-4882-b9f8-b50fb61c8cbf",
   "metadata": {},
   "outputs": [
    {
     "data": {
      "text/plain": [
       "[]"
      ]
     },
     "execution_count": 35,
     "metadata": {},
     "output_type": "execute_result"
    }
   ],
   "source": [
    "#실패 예시\n",
    "html = requests.get(url).text\n",
    "soup = BeautifulSoup(html, 'html.parser')\n",
    "images = soup.select('._image._lsitImage')\n",
    "images"
   ]
  },
  {
   "cell_type": "code",
   "execution_count": 37,
   "id": "c971ae91-e5b3-455d-88b5-b7eef0327435",
   "metadata": {},
   "outputs": [
    {
     "name": "stderr",
     "output_type": "stream",
     "text": [
      "C:\\Users\\admin\\AppData\\Local\\Temp\\ipykernel_11216\\1307687985.py:1: DeprecationWarning: executable_path has been deprecated, please pass in a Service object\n",
      "  driver = webdriver.Chrome('chromedriver.exe')\n"
     ]
    }
   ],
   "source": [
    "driver = webdriver.Chrome('chromedriver.exe')\n",
    "driver.get(url)"
   ]
  },
  {
   "cell_type": "code",
   "execution_count": 38,
   "id": "0e656ea5-0b77-45b0-8761-240c1b989d05",
   "metadata": {},
   "outputs": [],
   "source": [
    "html = driver.page_source\n",
    "#html"
   ]
  },
  {
   "cell_type": "code",
   "execution_count": 39,
   "id": "104fdb74-83d9-4d0a-a69f-d78c0ae925c3",
   "metadata": {},
   "outputs": [],
   "source": [
    "#창 닫기\n",
    "driver.close()"
   ]
  },
  {
   "cell_type": "code",
   "execution_count": 40,
   "id": "ce2013cc-0ad2-41f2-9487-fb1b73a75496",
   "metadata": {
    "tags": []
   },
   "outputs": [
    {
     "data": {
      "text/plain": [
       "[]"
      ]
     },
     "execution_count": 40,
     "metadata": {},
     "output_type": "execute_result"
    }
   ],
   "source": [
    "soup = BeautifulSoup(html, 'html.parser')\n",
    "images = soup.select('._image._listImage')\n",
    "images"
   ]
  },
  {
   "cell_type": "code",
   "execution_count": 41,
   "id": "71a199bd-2e7c-47a9-8309-ebe147f756ba",
   "metadata": {},
   "outputs": [],
   "source": [
    "count = 0\n",
    "\n",
    "for i in images:\n",
    "    with request.urlopen(i['src']) as f:\n",
    "        with open(f'YAKim/{count}.jpg', 'wb') as h:\n",
    "            data = f.read()\n",
    "            h.write(data)\n",
    "            count += 1"
   ]
  },
  {
   "cell_type": "code",
   "execution_count": 101,
   "id": "6b31b3b3-ef51-403b-b723-f5fc2caa659a",
   "metadata": {},
   "outputs": [],
   "source": [
    "from urllib.request import urlretrieve"
   ]
  },
  {
   "cell_type": "code",
   "execution_count": 102,
   "id": "6a216169-cb9a-4c1f-876b-20c1a78dbecb",
   "metadata": {},
   "outputs": [],
   "source": [
    "count = 0\n",
    "\n",
    "for i in images:\n",
    "    urlretrieve(i['src'], f'YAKim2/{count}.jpg')\n",
    "    count += 1"
   ]
  },
  {
   "cell_type": "code",
   "execution_count": 163,
   "id": "6a711727-1b70-47b7-8e1e-72348c3b5120",
   "metadata": {},
   "outputs": [],
   "source": [
    "#url_keyword 한글 오류 날때 쓸 것 (requests 대신 request 쓰면 오류)\n",
    "#from urllib.request import quote\n",
    "#from urllib.parse import quote_plus"
   ]
  },
  {
   "cell_type": "code",
   "execution_count": 1,
   "id": "ec3fc87d-0130-484d-a106-cf5777b94962",
   "metadata": {},
   "outputs": [],
   "source": [
    "import time\n",
    "from urllib.request import urlretrieve"
   ]
  },
  {
   "cell_type": "code",
   "execution_count": 5,
   "id": "5c13da6b-3aa7-46f9-82d3-120b98624a5b",
   "metadata": {},
   "outputs": [
    {
     "name": "stderr",
     "output_type": "stream",
     "text": [
      "C:\\Users\\admin\\AppData\\Local\\Temp\\ipykernel_11216\\1908207917.py:5: DeprecationWarning: executable_path has been deprecated, please pass in a Service object\n",
      "  driver = webdriver.Chrome('chromedriver.exe')\n"
     ]
    }
   ],
   "source": [
    "url1 = 'https://search.naver.com/search.naver?where=image&sm=tab_jum&query='\n",
    "url_keyword = '손흥민'\n",
    "url = url1 + url_keyword\n",
    "\n",
    "driver = webdriver.Chrome('chromedriver.exe')\n",
    "driver.get(url)\n",
    "time.sleep(2)\n",
    "html = driver.page_source\n",
    "driver.close()\n",
    "\n",
    "soup = BeautifulSoup(html, 'html.parser')\n",
    "images = soup.select('._image._listImage')\n",
    "\n",
    "count = 0\n",
    "\n",
    "for i in images:\n",
    "    urlretrieve(i['src'], f'손흥민/{count}.jpg')\n",
    "    count += 1"
   ]
  },
  {
   "cell_type": "markdown",
   "id": "ffc9ba05-0292-402d-888e-2fabd85e2907",
   "metadata": {},
   "source": [
    "## 검색하기"
   ]
  },
  {
   "cell_type": "code",
   "execution_count": 4,
   "id": "abeb68d9-eba8-46fe-b541-aae46b3737f9",
   "metadata": {},
   "outputs": [],
   "source": [
    "from selenium.webdriver.common.by import By\n",
    "from selenium.webdriver.common.keys import Keys"
   ]
  },
  {
   "cell_type": "code",
   "execution_count": 341,
   "id": "ef05f836-dd64-4e26-a11a-2cb9a71ef10b",
   "metadata": {},
   "outputs": [
    {
     "name": "stderr",
     "output_type": "stream",
     "text": [
      "C:\\Users\\admin\\AppData\\Local\\Temp\\ipykernel_11216\\4022937300.py:2: DeprecationWarning: executable_path has been deprecated, please pass in a Service object\n",
      "  driver = webdriver.Chrome('chromedriver.exe')\n"
     ]
    }
   ],
   "source": [
    "url = 'https://www.naver.com/'\n",
    "driver = webdriver.Chrome('chromedriver.exe')\n",
    "driver.get(url)\n",
    "\n",
    "e = driver.find_element(By.ID, \"query\")\n",
    "e.send_keys(\"중앙정보처리학원\")\n",
    "e.send_keys(Keys.ENTER)"
   ]
  },
  {
   "cell_type": "markdown",
   "id": "5fc34696-9f1e-4512-a94d-1e5faaf9c838",
   "metadata": {},
   "source": [
    "## 로그인하기"
   ]
  },
  {
   "cell_type": "code",
   "execution_count": 364,
   "id": "b028cdf2-ed0a-45df-a3e6-6ddf50a349b2",
   "metadata": {},
   "outputs": [
    {
     "name": "stderr",
     "output_type": "stream",
     "text": [
      "C:\\Users\\admin\\AppData\\Local\\Temp\\ipykernel_11216\\2795317693.py:2: DeprecationWarning: executable_path has been deprecated, please pass in a Service object\n",
      "  driver = webdriver.Chrome('chromedriver.exe')\n"
     ]
    }
   ],
   "source": [
    "url = 'https://nid.naver.com/nidlogin.login?mode=form&url=https%3A%2F%2Fwww.naver.com'\n",
    "driver = webdriver.Chrome('chromedriver.exe')\n",
    "driver.get(url)"
   ]
  },
  {
   "cell_type": "code",
   "execution_count": 365,
   "id": "324d9073-3a09-4ec3-8e00-be39e9f10d00",
   "metadata": {},
   "outputs": [],
   "source": [
    "#ID 입력하기\n",
    "e = driver.find_element(By.ID, 'id')\n",
    "e.clear()\n",
    "e.send_keys(\"smarthun0812\") #By.x, x = 무엇으로 찾을건지 (ID, Class_NAME..)"
   ]
  },
  {
   "cell_type": "code",
   "execution_count": 366,
   "id": "12fe66b9-f819-48db-9020-8438034ae296",
   "metadata": {},
   "outputs": [],
   "source": [
    "#Password 입력하기\n",
    "e = driver.find_element(By.ID, 'pw')\n",
    "e.clear()\n",
    "e.send_keys('a')"
   ]
  },
  {
   "cell_type": "code",
   "execution_count": 367,
   "id": "cc710dc6-71ff-41f2-9e9b-39100569687e",
   "metadata": {},
   "outputs": [],
   "source": [
    "#Enter1\n",
    "e.send_keys(Keys.ENTER)"
   ]
  },
  {
   "cell_type": "code",
   "execution_count": 368,
   "id": "66f58612-d24b-4bb3-85a4-c7cd4a142b06",
   "metadata": {},
   "outputs": [],
   "source": [
    "#Enter2\n",
    "driver.find_element(By.CLASS_NAME, 'btn_login').send_keys(Keys.ENTER)"
   ]
  },
  {
   "cell_type": "markdown",
   "id": "ef2dccee-7392-4523-bf49-19be7d2f02f0",
   "metadata": {},
   "source": [
    "## 네이버 쇼핑 구매목록"
   ]
  },
  {
   "cell_type": "code",
   "execution_count": 369,
   "id": "ea988382-8031-431c-8418-721c9dec73b3",
   "metadata": {},
   "outputs": [
    {
     "name": "stderr",
     "output_type": "stream",
     "text": [
      "C:\\Users\\admin\\AppData\\Local\\Temp\\ipykernel_11216\\1635514106.py:2: DeprecationWarning: executable_path has been deprecated, please pass in a Service object\n",
      "  driver = webdriver.Chrome('chromedriver.exe')\n"
     ]
    }
   ],
   "source": [
    "url = 'https://order.pay.naver.com/home?tabMenu=SHOPPING'\n",
    "driver = webdriver.Chrome('chromedriver.exe')\n",
    "driver.get(url)"
   ]
  },
  {
   "cell_type": "code",
   "execution_count": 371,
   "id": "cbcdbba9-8f26-4f45-aee7-563af332050e",
   "metadata": {
    "collapsed": true,
    "jupyter": {
     "outputs_hidden": true
    },
    "tags": []
   },
   "outputs": [
    {
     "data": {
      "text/plain": [
       "[<selenium.webdriver.remote.webelement.WebElement (session=\"ec57043239e14840fa48923850ed8081\", element=\"2b3d03ed-eaf0-429a-8e85-1adaffc4a6e9\")>,\n",
       " <selenium.webdriver.remote.webelement.WebElement (session=\"ec57043239e14840fa48923850ed8081\", element=\"09437bdb-fcbb-48f9-8bb8-6650b71ad064\")>,\n",
       " <selenium.webdriver.remote.webelement.WebElement (session=\"ec57043239e14840fa48923850ed8081\", element=\"469b1cef-f44a-4251-8184-13baa887fe98\")>,\n",
       " <selenium.webdriver.remote.webelement.WebElement (session=\"ec57043239e14840fa48923850ed8081\", element=\"6dcc7ee5-2d28-493b-84c9-b347b326d8de\")>,\n",
       " <selenium.webdriver.remote.webelement.WebElement (session=\"ec57043239e14840fa48923850ed8081\", element=\"32430ff6-642a-4f4c-9718-f806b1dd442e\")>,\n",
       " <selenium.webdriver.remote.webelement.WebElement (session=\"ec57043239e14840fa48923850ed8081\", element=\"2b5557b7-f612-4119-8b07-7f9acd31df99\")>,\n",
       " <selenium.webdriver.remote.webelement.WebElement (session=\"ec57043239e14840fa48923850ed8081\", element=\"3dcec2fd-3be8-45e0-a86b-371c8c845717\")>,\n",
       " <selenium.webdriver.remote.webelement.WebElement (session=\"ec57043239e14840fa48923850ed8081\", element=\"574ffa43-6dec-4ce2-9a22-5e453f66637e\")>,\n",
       " <selenium.webdriver.remote.webelement.WebElement (session=\"ec57043239e14840fa48923850ed8081\", element=\"eb761ebd-1e31-4a25-a772-64e5e50576a3\")>,\n",
       " <selenium.webdriver.remote.webelement.WebElement (session=\"ec57043239e14840fa48923850ed8081\", element=\"0b1ddb23-fa49-4e4f-a3f0-6ef817d50a19\")>,\n",
       " <selenium.webdriver.remote.webelement.WebElement (session=\"ec57043239e14840fa48923850ed8081\", element=\"a7bfcc79-3549-4086-b965-ae750c081d64\")>,\n",
       " <selenium.webdriver.remote.webelement.WebElement (session=\"ec57043239e14840fa48923850ed8081\", element=\"c74d2b09-f3ed-4aa0-84f1-40c539779a32\")>,\n",
       " <selenium.webdriver.remote.webelement.WebElement (session=\"ec57043239e14840fa48923850ed8081\", element=\"5142c849-9c75-40a1-8081-b69d5bacd539\")>,\n",
       " <selenium.webdriver.remote.webelement.WebElement (session=\"ec57043239e14840fa48923850ed8081\", element=\"d2dfc778-d06a-409a-addb-33731dcbead0\")>,\n",
       " <selenium.webdriver.remote.webelement.WebElement (session=\"ec57043239e14840fa48923850ed8081\", element=\"291f5a2a-4871-484c-8cc7-fbe35f2cdcb9\")>,\n",
       " <selenium.webdriver.remote.webelement.WebElement (session=\"ec57043239e14840fa48923850ed8081\", element=\"8234acb8-912e-4a84-8ef1-012edc6a9b2b\")>]"
      ]
     },
     "execution_count": 371,
     "metadata": {},
     "output_type": "execute_result"
    }
   ],
   "source": [
    "e = driver.find_elements(By.CLASS_NAME, 'name')\n",
    "e"
   ]
  },
  {
   "cell_type": "code",
   "execution_count": 372,
   "id": "e7977291-4c7d-4784-b85f-4db5291a3ee2",
   "metadata": {
    "collapsed": true,
    "jupyter": {
     "outputs_hidden": true
    },
    "tags": []
   },
   "outputs": [
    {
     "name": "stdout",
     "output_type": "stream",
     "text": [
      "Jihun님\n",
      "닥터지 레드 블레미쉬 수딩 토너 400ml\n",
      "젠틀몬스터 안경 클립 사우스사이드 알리오 리버티 유나씨 와일드와일드 밀란 예티 남자안경\n",
      "1+1 닥터지 약산성 레드블레미쉬 클리어 수딩폼 150ml\n",
      "나이키 오버브레이크\n",
      "NS 포대유청 쿠키앤크림 2kg WPC 92% 유청 단백질 헬스 보충제 프로틴 농축유청\n",
      "NS 포대유청 메론맛 2kg WPC 91% 유청 단백질 헬스 보충제 프로틴 농축유청\n",
      "3M 장갑 슈퍼그립 100 200 겨울용 방한 겨울 기모 컴포트 혹한기 코팅 작업 안전\n",
      "3M 장갑 슈퍼그립 100 200 겨울용 방한 겨울 기모 컴포트 혹한기 코팅 작업 안전\n",
      "3M 장갑 슈퍼그립 100 200 겨울용 방한 겨울 기모 컴포트 혹한기 코팅 작업 안전\n",
      "나이키 레볼루션5 런닝화 230-300mm 운동화 워킹화 러닝화\n",
      "따뜻 핫팩 모음전\n",
      "따뜻 핫팩 모음전\n",
      "핫타임 대용량 붙이는 고급 군용 보온대 미니 파스형 발 슈퍼 핫팩\n",
      "핫타임 대용량 붙이는 고급 군용 보온대 미니 파스형 발 슈퍼 핫팩\n",
      "블랙야크넥워머\n"
     ]
    }
   ],
   "source": [
    "for i in e:\n",
    "    print(i.text)"
   ]
  },
  {
   "cell_type": "code",
   "execution_count": 374,
   "id": "d4234ffe-6217-4f35-acce-a1db56746010",
   "metadata": {},
   "outputs": [],
   "source": [
    "# selector로 하는 방법"
   ]
  },
  {
   "cell_type": "code",
   "execution_count": 375,
   "id": "0cc8f1be-192e-4f3e-96a2-437de74d05a4",
   "metadata": {
    "collapsed": true,
    "jupyter": {
     "outputs_hidden": true
    },
    "tags": []
   },
   "outputs": [
    {
     "data": {
      "text/plain": [
       "[<selenium.webdriver.remote.webelement.WebElement (session=\"ec57043239e14840fa48923850ed8081\", element=\"09437bdb-fcbb-48f9-8bb8-6650b71ad064\")>,\n",
       " <selenium.webdriver.remote.webelement.WebElement (session=\"ec57043239e14840fa48923850ed8081\", element=\"469b1cef-f44a-4251-8184-13baa887fe98\")>,\n",
       " <selenium.webdriver.remote.webelement.WebElement (session=\"ec57043239e14840fa48923850ed8081\", element=\"6dcc7ee5-2d28-493b-84c9-b347b326d8de\")>,\n",
       " <selenium.webdriver.remote.webelement.WebElement (session=\"ec57043239e14840fa48923850ed8081\", element=\"32430ff6-642a-4f4c-9718-f806b1dd442e\")>,\n",
       " <selenium.webdriver.remote.webelement.WebElement (session=\"ec57043239e14840fa48923850ed8081\", element=\"2b5557b7-f612-4119-8b07-7f9acd31df99\")>,\n",
       " <selenium.webdriver.remote.webelement.WebElement (session=\"ec57043239e14840fa48923850ed8081\", element=\"3dcec2fd-3be8-45e0-a86b-371c8c845717\")>,\n",
       " <selenium.webdriver.remote.webelement.WebElement (session=\"ec57043239e14840fa48923850ed8081\", element=\"574ffa43-6dec-4ce2-9a22-5e453f66637e\")>,\n",
       " <selenium.webdriver.remote.webelement.WebElement (session=\"ec57043239e14840fa48923850ed8081\", element=\"eb761ebd-1e31-4a25-a772-64e5e50576a3\")>,\n",
       " <selenium.webdriver.remote.webelement.WebElement (session=\"ec57043239e14840fa48923850ed8081\", element=\"0b1ddb23-fa49-4e4f-a3f0-6ef817d50a19\")>,\n",
       " <selenium.webdriver.remote.webelement.WebElement (session=\"ec57043239e14840fa48923850ed8081\", element=\"a7bfcc79-3549-4086-b965-ae750c081d64\")>,\n",
       " <selenium.webdriver.remote.webelement.WebElement (session=\"ec57043239e14840fa48923850ed8081\", element=\"c74d2b09-f3ed-4aa0-84f1-40c539779a32\")>,\n",
       " <selenium.webdriver.remote.webelement.WebElement (session=\"ec57043239e14840fa48923850ed8081\", element=\"5142c849-9c75-40a1-8081-b69d5bacd539\")>,\n",
       " <selenium.webdriver.remote.webelement.WebElement (session=\"ec57043239e14840fa48923850ed8081\", element=\"d2dfc778-d06a-409a-addb-33731dcbead0\")>,\n",
       " <selenium.webdriver.remote.webelement.WebElement (session=\"ec57043239e14840fa48923850ed8081\", element=\"291f5a2a-4871-484c-8cc7-fbe35f2cdcb9\")>,\n",
       " <selenium.webdriver.remote.webelement.WebElement (session=\"ec57043239e14840fa48923850ed8081\", element=\"8234acb8-912e-4a84-8ef1-012edc6a9b2b\")>]"
      ]
     },
     "execution_count": 375,
     "metadata": {},
     "output_type": "execute_result"
    }
   ],
   "source": [
    "e = driver.find_elements(By.CSS_SELECTOR, 'div.goods_item > div > a > p')\n",
    "e"
   ]
  },
  {
   "cell_type": "code",
   "execution_count": 376,
   "id": "97ed046d-6863-4e68-8bff-21056b0f9100",
   "metadata": {
    "collapsed": true,
    "jupyter": {
     "outputs_hidden": true
    },
    "tags": []
   },
   "outputs": [
    {
     "name": "stdout",
     "output_type": "stream",
     "text": [
      "닥터지 레드 블레미쉬 수딩 토너 400ml\n",
      "젠틀몬스터 안경 클립 사우스사이드 알리오 리버티 유나씨 와일드와일드 밀란 예티 남자안경\n",
      "1+1 닥터지 약산성 레드블레미쉬 클리어 수딩폼 150ml\n",
      "나이키 오버브레이크\n",
      "NS 포대유청 쿠키앤크림 2kg WPC 92% 유청 단백질 헬스 보충제 프로틴 농축유청\n",
      "NS 포대유청 메론맛 2kg WPC 91% 유청 단백질 헬스 보충제 프로틴 농축유청\n",
      "3M 장갑 슈퍼그립 100 200 겨울용 방한 겨울 기모 컴포트 혹한기 코팅 작업 안전\n",
      "3M 장갑 슈퍼그립 100 200 겨울용 방한 겨울 기모 컴포트 혹한기 코팅 작업 안전\n",
      "3M 장갑 슈퍼그립 100 200 겨울용 방한 겨울 기모 컴포트 혹한기 코팅 작업 안전\n",
      "나이키 레볼루션5 런닝화 230-300mm 운동화 워킹화 러닝화\n",
      "따뜻 핫팩 모음전\n",
      "따뜻 핫팩 모음전\n",
      "핫타임 대용량 붙이는 고급 군용 보온대 미니 파스형 발 슈퍼 핫팩\n",
      "핫타임 대용량 붙이는 고급 군용 보온대 미니 파스형 발 슈퍼 핫팩\n",
      "블랙야크넥워머\n"
     ]
    }
   ],
   "source": [
    "for i in e:\n",
    "    print(i.text)"
   ]
  },
  {
   "cell_type": "markdown",
   "id": "5a9435ae-4545-47ba-a7d5-98a594ef2b2f",
   "metadata": {},
   "source": [
    "## 네이버 메일 보내기"
   ]
  },
  {
   "cell_type": "code",
   "execution_count": 8,
   "id": "dfaf247b-dd13-4e0c-87ba-6f3ebc57b704",
   "metadata": {},
   "outputs": [
    {
     "name": "stderr",
     "output_type": "stream",
     "text": [
      "C:\\Users\\admin\\AppData\\Local\\Temp\\ipykernel_10076\\3865907055.py:1: DeprecationWarning: executable_path has been deprecated, please pass in a Service object\n",
      "  driver = webdriver.Chrome('chromedriver.exe')\n"
     ]
    }
   ],
   "source": [
    "driver = webdriver.Chrome('chromedriver.exe')\n",
    "driver.get('https://www.naver.com/')\n",
    "\n",
    "driver.find_element(By.CLASS_NAME, 'link_login').send_keys(Keys.ENTER)\n",
    "\n",
    "driver.find_element(By.ID, 'id').send_keys('smarthun0812')\n",
    "\n",
    "driver.find_element(By.ID, 'pw').send_keys('qkrPark109!')\n",
    "\n",
    "driver.find_element(By.CLASS_NAME, 'btn_login').send_keys(Keys.ENTER)"
   ]
  },
  {
   "cell_type": "code",
   "execution_count": 10,
   "id": "8d57019c-058f-47bc-964c-76a42748f95a",
   "metadata": {},
   "outputs": [],
   "source": [
    "driver.find_element(By.CSS_SELECTOR, '#NM_FAVORITE > div.group_nav > ul.list_nav.type_fix > li:nth-child(1) > a').send_keys(Keys.ENTER)\n",
    "\n",
    "driver.find_element(By.CSS_SELECTOR, \"#nav_snb > div.btn_workset > a.btn_quickwrite._c1\\(mfCore\\|popupWrite\\|new\\)._ccr\\(lfw\\.write\\)._stopDefault > strong\").click()"
   ]
  },
  {
   "cell_type": "code",
   "execution_count": 78,
   "id": "21deeff5-e71f-4b36-9a13-c96b4e2fadb4",
   "metadata": {},
   "outputs": [],
   "source": [
    "driver.find_element(By.ID, 'toInput').send_keys('smarthun0812@naver.com')"
   ]
  },
  {
   "cell_type": "code",
   "execution_count": 89,
   "id": "021ffe57-6bf8-4de5-ab63-f2db221769a4",
   "metadata": {},
   "outputs": [],
   "source": [
    "from datetime import datetime\n",
    "now = datetime.now()\n",
    "date = now.strftime('%Y-%m-%d')\n",
    "\n",
    "contents = driver.find_element(By.ID, \"subject\")\n",
    "contents.clear()\n",
    "contents.send_keys(f\"{date} 박지훈 문제 제출입니다\")"
   ]
  },
  {
   "cell_type": "code",
   "execution_count": 91,
   "id": "1a286cda-e8ee-4535-bc69-7616dff09b09",
   "metadata": {},
   "outputs": [],
   "source": [
    "content = '''\n",
    "문제와 정답입니다\n",
    "\n",
    "1.\n",
    "정답:\n",
    "\n",
    "2.\n",
    "정답:\n",
    "\n",
    "3.\n",
    "정답:\n",
    "'''\n",
    "\n",
    "contents.send_keys(Keys.TAB, content)"
   ]
  },
  {
   "cell_type": "code",
   "execution_count": 92,
   "id": "f00ee874-393e-4d73-9bf4-aae9d6889119",
   "metadata": {},
   "outputs": [],
   "source": [
    "driver.find_element(By.ID, 'sendBtn').send_keys(Keys.ENTER)"
   ]
  },
  {
   "cell_type": "code",
   "execution_count": 93,
   "id": "1f64df9d-e592-4ce9-bac6-fde8c08d9685",
   "metadata": {},
   "outputs": [],
   "source": [
    "driver.close()"
   ]
  },
  {
   "cell_type": "markdown",
   "id": "fe7fe627-e197-49ee-a154-4c8a539d9b18",
   "metadata": {},
   "source": [
    "# Session"
   ]
  },
  {
   "cell_type": "markdown",
   "id": "f425f2f9-cb5c-451a-9ff7-095c50daf3d9",
   "metadata": {},
   "source": [
    "## 한빛출판 로그인"
   ]
  },
  {
   "cell_type": "code",
   "execution_count": 3,
   "id": "353a740c-6116-40f1-8a65-5e72d70aff96",
   "metadata": {},
   "outputs": [],
   "source": [
    "import requests\n",
    "from bs4 import BeautifulSoup"
   ]
  },
  {
   "cell_type": "code",
   "execution_count": 2,
   "id": "a087448c-77e1-41a6-8bc9-c14fd69e896c",
   "metadata": {},
   "outputs": [
    {
     "data": {
      "text/plain": [
       "'2,000'"
      ]
     },
     "execution_count": 2,
     "metadata": {},
     "output_type": "execute_result"
    }
   ],
   "source": [
    "# session 은 쿠키(내컴퓨터)가 아닌 서버에 저장되는 정보이다.\n",
    "session = requests.session()\n",
    "\n",
    "# 로그인 실패 시 뜨는 url\n",
    "url = 'https://www.hanbit.co.kr/member/login_proc.php'\n",
    "session.post(url, {'m_id':\"smarthun0812\", 'm_passwd':'gksqlccnfvks0812'})\n",
    "\n",
    "resp = session.get('https://www.hanbit.co.kr/myhanbit/myhanbit.html')\n",
    "\n",
    "# resp 가 requests 객체이므로 text method 가 바로 적용된다.\n",
    "html = resp.text\n",
    "\n",
    "soup = BeautifulSoup(html, 'lxml')\n",
    "soup\n",
    "\n",
    "soup.select(' div>dl > dd > span')[0].text"
   ]
  },
  {
   "cell_type": "code",
   "execution_count": 386,
   "id": "45db0eeb-a868-4b7e-9c0e-be17b73a9ad4",
   "metadata": {},
   "outputs": [],
   "source": [
    "# session 은 쿠키(내컴퓨터)가 아닌 서버에 저장되는 정보이다.\n",
    "session = requests.session()"
   ]
  },
  {
   "cell_type": "code",
   "execution_count": 387,
   "id": "6de2d207-31cf-4693-9e2e-2c1d22618f42",
   "metadata": {},
   "outputs": [
    {
     "data": {
      "text/plain": [
       "<Response [200]>"
      ]
     },
     "execution_count": 387,
     "metadata": {},
     "output_type": "execute_result"
    }
   ],
   "source": [
    "url_proc = 'https://www.hanbit.co.kr/member/login_proc.php'\n",
    "session.post(url_proc, {'m_id':\"smarthun0812\", 'm_passwd':\"gksqlccnfvks0812\"})"
   ]
  },
  {
   "cell_type": "markdown",
   "id": "fa52b18a-9224-4bf5-bb79-e631e89da6a8",
   "metadata": {},
   "source": [
    "## 마이페이지 -> 마일리지"
   ]
  },
  {
   "cell_type": "code",
   "execution_count": 415,
   "id": "70755a2e-fe33-40ed-b239-7762610be02a",
   "metadata": {},
   "outputs": [
    {
     "data": {
      "text/plain": [
       "<Response [200]>"
      ]
     },
     "execution_count": 415,
     "metadata": {},
     "output_type": "execute_result"
    }
   ],
   "source": [
    "resp = session.get('https://www.hanbit.co.kr/myhanbit/myhanbit.html')\n",
    "resp"
   ]
  },
  {
   "cell_type": "code",
   "execution_count": 416,
   "id": "0e60613e-038d-4e1d-bb6f-fefc4c7459ca",
   "metadata": {
    "collapsed": true,
    "jupyter": {
     "outputs_hidden": true
    },
    "tags": []
   },
   "outputs": [
    {
     "data": {
      "text/plain": [
       "'<!DOCTYPE html>\\r\\n<html lang=\"ko\">\\r\\n<head>\\r\\n<!--[if lte IE 8]>\\r\\n<script>\\r\\n  location.replace(\\'/support/explorer_upgrade.html\\');\\r\\n</script>\\r\\n<![endif]-->\\r\\n<meta charset=\"utf-8\"/>\\r\\n<title>한빛출판네트워크</title>\\r\\n<link rel=\"shortcut icon\" href=\"https://www.hanbit.co.kr/images/common/hanbit.ico\"> \\r\\n<meta http-equiv=\"X-UA-Compatible\" content=\"IE=Edge\" />\\r\\n<meta property=\"og:type\" content=\"website\"/>\\r\\n<meta property=\"og:title\" content=\"한빛출판네트워크\"/>\\r\\n<meta property=\"og:description\" content=\"더 넓은 세상, 더 나은 미래를 위한 아시아 출판 네트워크 :: 한빛미디어, 한빛아카데미, 한빛비즈, 한빛라이프, 한빛에듀\"/>\\r\\n<meta property=\"og:image\" content=\"https://www.hanbit.co.kr/images/hanbitpubnet_logo.jpg\" />\\r\\n<meta property=\"og:url\" content=\"https://www.hanbit.co.kr/myhanbit/myhanbit.html\"/>\\r\\n<link rel=\"canonical\" href=\"https://www.hanbit.co.kr/myhanbit/myhanbit.html\" />\\r\\n<meta name=\"keywords\" content=\"한빛미디어,한빛아카데미,한빛비즈,한빛라이프,한빛에듀,리얼타임,대관서비스,책,출판사,IT전문서,IT활용서,대학교재,경제경영,어린이/유아,실용/여행,전자책,자격증,교육,세미나,강의,ebook,정보교과서\" />\\r\\n<meta name=\"description\" content=\"더 넓은 세상, 더 나은 미래를 위한 아시아 출판 네트워크 :: 한빛미디어, 한빛아카데미, 한빛비즈, 한빛라이프, 한빛에듀\" />\\r\\n<meta name=\"viewport\" content=\"width=device-width,initial-scale=1.0,minimum-scale=1.0,maximum-scale=1.0\">\\r\\n<meta name=\"viewport\" content=\"width=1260\">\\r\\n<meta name=\"apple-mobile-web-app-capable\" content=\"yes\" />\\r\\n<meta name=\"naver-site-verification\" content=\"01c29ed1852aecca7a48ac0c3e0869627bc512d8\"/>\\r\\n<link rel=\"stylesheet\" href=\"/css/common.css?20210603093421\" />\\r\\n<link href=\"/css/hover.css\" rel=\"stylesheet\" media=\"all\">\\r\\n<link rel=\"stylesheet\" href=\"/js/jquery.raty.css\" />\\r\\n<script type=\"text/javascript\" src=\"/js/jquery-latest.js\"></script>\\r\\n<script type=\"text/javascript\" src=\"/js/jquery-ui.js\"></script>\\r\\n<script type=\"text/javascript\" src=\"/js/jquery.event.drag-1.5.min.js\"></script>\\r\\n<script type=\"text/javascript\" src=\"/js/jquery.touchSlider.js\"></script>\\r\\n<script type=\"text/javascript\" src=\"/js/jquery.raty.js\"></script>\\r\\n<script type=\"text/javascript\" src=\"/js/main.js\"></script>\\r\\n<script type=\"text/javascript\" src=\"/lib/cheditor/cheditor.js\"></script>\\r\\n<script type=\"text/javascript\" src=\"/js/jquery.ui.datepicker-ko.js\"></script>\\r\\n<script type=\"text/javascript\" src=\"/js/engine.js\"></script>\\r\\n<script type=\"text/javascript\" src=\"/js/vue.js\"></script>\\r\\n\\r\\n<!-- Google Analytics -->\\r\\n<script>\\r\\n(function(i,s,o,g,r,a,m){i[\\'GoogleAnalyticsObject\\']=r;i[r]=i[r]||function(){\\r\\n(i[r].q=i[r].q||[]).push(arguments)},i[r].l=1*new Date();a=s.createElement(o),\\r\\nm=s.getElementsByTagName(o)[0];a.async=1;a.src=g;m.parentNode.insertBefore(a,m)\\r\\n})(window,document,\\'script\\',\\'//www.google-analytics.com/analytics.js\\',\\'ga\\');\\r\\nga(\\'create\\', \\'UA-47080738-1\\', \\'hanbit.co.kr\\');\\r\\nga(\\'require\\', \\'linkid\\', \\'linkid.js\\');\\r\\nga(\\'send\\', \\'pageview\\');\\r\\n</script>\\r\\n<!-- Google Analytics -->\\r\\n\\r\\n<!-- Facebook Pixel Code -->\\r\\n<script>\\r\\n  !function(f,b,e,v,n,t,s)\\r\\n  {if(f.fbq)return;n=f.fbq=function(){n.callMethod?\\r\\n  n.callMethod.apply(n,arguments):n.queue.push(arguments)};\\r\\n  if(!f._fbq)f._fbq=n;n.push=n;n.loaded=!0;n.version=\\'2.0\\';\\r\\n  n.queue=[];t=b.createElement(e);t.async=!0;\\r\\n  t.src=v;s=b.getElementsByTagName(e)[0];\\r\\n  s.parentNode.insertBefore(t,s)}(window, document,\\'script\\',\\r\\n  \\'https://connect.facebook.net/en_US/fbevents.js\\');\\r\\n  fbq(\\'init\\', \\'406459623338891\\');\\r\\n  fbq(\\'track\\', \\'PageView\\');\\r\\n</script>\\r\\n<noscript><img height=\"1\" width=\"1\" style=\"display:none\"\\r\\n  src=\"https://www.facebook.com/tr?id=406459623338891&ev=PageView&noscript=1\"\\r\\n/></noscript>\\r\\n<!-- End Facebook Pixel Code -->\\r\\n\\r\\n<!-- Google Tag Manager -->\\r\\n<script>(function(w,d,s,l,i){w[l]=w[l]||[];w[l].push({\\'gtm.start\\':\\r\\nnew Date().getTime(),event:\\'gtm.js\\'});var f=d.getElementsByTagName(s)[0],\\r\\nj=d.createElement(s),dl=l!=\\'dataLayer\\'?\\'&l=\\'+l:\\'\\';j.async=true;j.src=\\r\\n\\'https://www.googletagmanager.com/gtm.js?id=\\'+i+dl;f.parentNode.insertBefore(j,f);\\r\\n})(window,document,\\'script\\',\\'dataLayer\\',\\'GTM-W9D5PM3\\');</script>\\r\\n<!-- End Google Tag Manager -->\\r\\n\\r\\n<!-- Kakao Pixel Code -->\\r\\n<script type=\"text/javascript\" charset=\"UTF-8\" src=\"//t1.daumcdn.net/adfit/static/kp.js\"></script>\\r\\n<script type=\"text/javascript\">\\r\\n  kakaoPixel(\\'3011392806152551233\\').pageView();\\r\\n</script>\\r\\n<!-- //Kakao Pixel Code -->\\r\\n</head>\\r\\n<body>\\r\\n<!-- Google Tag Manager (noscript) -->\\r\\n<noscript><iframe src=\"https://www.googletagmanager.com/ns.html?id=GTM-W9D5PM3\"\\r\\nheight=\"0\" width=\"0\" style=\"display:none;visibility:hidden\"></iframe></noscript>\\r\\n<!-- End Google Tag Manager (noscript) -->\\r\\n<link rel=\"stylesheet\" href=\"/css/layout-hanbit.css?202206030909\" />\\r\\n<link rel=\"stylesheet\" href=\"/css/layout-member.css\" />\\r\\n<link rel=\"stylesheet\" href=\"/css/layout-network.css\" />\\r\\n<link rel=\"stylesheet\" href=\"/css/layout-store.css\" />\\r\\n<link rel=\"stylesheet\" href=\"/css/layout-myhanbit.css\" />\\r\\n<link rel=\"stylesheet\" href=\"/css/layout-event.css\" />\\r\\n<!-- 메뉴 바로가기 -->\\r\\n<div id=\"quick_skip_menu\">\\r\\n  <a href=\"#gnb\" onclick=\"document.getElementById(\\'gnb\\').tabIndex = -1;document.getElementById(\\'gnb\\').focus();return false;\"><span>메뉴 바로가기</span></a>\\r\\n  <a href=\"#top_search\" onclick=\"view_hover(\\'main_search_area\\',\\'\\',\\'show\\'), document.getElementById(\\'top_search\\').tabIndex = -1;document.getElementById(\\'top_search\\').focus();return false;\"><span>검색 및 카테고리 바로가기</span></a>\\r\\n    <a href=\"#container\" onclick=\"document.getElementById(\\'container\\').tabIndex = -1;document.getElementById(\\'container\\').focus();return false;\"><span>본문 바로가기</span></a>\\r\\n  </div>\\r\\n<!-- //메뉴 바로가기 -->\\r\\n\\r\\n<!-- header -->\\r\\n<header>\\r\\n  <!-- top menu -->\\r\\n    <nav>\\r\\n    <div id=\"wrap_nav\">\\r\\n      <ul class=\"top_brand\">\\r\\n        <li><a href=\"https://www.hanbit.co.kr/index.html\" name=\"hanbit_network\"><span>HOME</span></a></li>\\r\\n        <li><a href=\"https://www.hanbit.co.kr/media/\">한빛미디어</a></li>\\r\\n        <li><a href=\"https://www.hanbit.co.kr/academy/\">한빛아카데미</a></li>\\r\\n        <li><a href=\"https://www.hanbit.co.kr/biz/\">한빛비즈</a></li>\\r\\n        <li><a href=\"https://www.hanbit.co.kr/life/\">한빛라이프</a></li>\\r\\n        <li><a href=\"https://www.hanbit.co.kr/edu/\">한빛에듀</a></li>\\r\\n        <li><a href=\"https://www.hanbit.co.kr/realtime/\">리얼타임</a></li>\\r\\n        <li><a href=\"https://www.hanbit.co.kr/textbook/\" target=\"_blank\">한빛정보교과서</a></li>\\r\\n        <li><a href=\"https://www.hanbit.co.kr/rent/\" target=\"_blank\">한빛대관서비스</a></li>\\r\\n      </ul>\\r\\n      \\r\\n      <ul class=\"top_menu\">\\r\\n                      <li><a href=\"https://www.hanbit.co.kr/member/logout.html\" class=\"logout\">로그아웃</a></li>\\r\\n                <li><a href=\"https://www.hanbit.co.kr/member/member_register.html\" class=\"edit\">개인정보수정</a></li>\\r\\n        <li><a href=\"https://www.hanbit.co.kr/myhanbit/myhanbit.html\" class=\"myhanbit\">마이한빛</a></li>\\r\\n        <li><a href=\"https://www.hanbit.co.kr/myhanbit/cart.html\" class=\"cart\">장바구니</a></li>\\r\\n                <li class=\"top_menu_store\"><a href=\"https://www.hanbit.co.kr/publisher/foreignrights.html?lang=e\" target=\"_blank\">ENGLISH</a></li>\\r\\n      </ul>\\r\\n    </div>\\r\\n  </nav>\\r\\n  <!-- //top menu -->\\r\\n\\r\\n  <div id=\"wrap_gnb\">\\r\\n    <!-- logo -->\\r\\n    <h1><a href=\"https://www.hanbit.co.kr/index.html\">한빛출판네트워크</a></h1>\\r\\n    <!-- //logo -->\\r\\n\\r\\n    <!-- Menu -->\\r\\n    <div id=\"gnb\" name=\"gnb\">\\r\\n      <ul>\\r\\n        <li><a href=\"https://www.hanbit.co.kr/brand/brand_submain.html\" class=\"\">BRAND</a></li>\\r\\n        <li><a href=\"https://www.hanbit.co.kr/channel/channel_submain.html\" class=\"\">Channel.H</a></li>\\r\\n        <li><a href=\"https://www.hanbit.co.kr/store/store_submain.html\" class=\"\">STORE</a></li>\\r\\n        <li><a href=\"https://www.hanbit.co.kr/support/help_info.html\" class=\"\">SUPPORT</a></li>\\r\\n        <li><a href=\"https://www.hanbit.co.kr/event/current/current_event_list.html\" class=\"\">EVENT</a></li>\\r\\n        \\r\\n        <li><a href=\"https://www.hanbit.co.kr/publisher/foreignrights.html?lang=e\" class=\"\" target=\"_blank\">RIGHTS</a></li>\\r\\n        \\r\\n        <li id=\"top_search\" class=\"search\"><a href=\"javascript:;\" onClick=\"view_hover(\\'main_search_area\\',\\'\\',\\'show\\'); $(\\'#keyword_str\\').focus();\"><span>SEARCH</span></a></li>\\r\\n      </ul>\\r\\n    </div>\\r\\n    <!-- //Menu -->\\r\\n    \\r\\n    <!-- lnb -->\\r\\n    <div class=\"lnb\" style=\"top:92px;\">\\r\\n      <div class=\"lnb_area\">\\r\\n      <!-- BRAND -->\\r\\n             <!--2015-10-07 비회원 장바구니 기능 추가되면서 회원 로그인시에만 보여짐 by 이용희-->\\r\\n      <ul class=\"lnb_depth1_my1\">\\r\\n        <li><a href=\"https://www.hanbit.co.kr/myhanbit/membership.html\" class=\"\">한빛멤버십</a></li><span>l</span>\\r\\n        <li><a href=\"https://www.hanbit.co.kr/myhanbit/mileage_ecoin.html\" class=\"\">마일리지 / 한빛이코인</a></li>\\r\\n      </ul>\\r\\n      <ul class=\"lnb_depth1_my2\">\\r\\n        <li><a href=\"https://www.hanbit.co.kr/myhanbit/wishlist.html\" class=\"\">위시리스트</a></li><span>l</span>\\r\\n        <li><a href=\"https://www.hanbit.co.kr/myhanbit/cart.html\" class=\"\">장바구니</a></li><span>l</span>\\r\\n        <li><a href=\"https://www.hanbit.co.kr/myhanbit/order_history_list.html\" class=\"\">주문목록</a></li><span>l</span>\\r\\n        <li><a href=\"https://www.hanbit.co.kr/myhanbit/coupon.html\" class=\"\">My 쿠폰</a></li>\\r\\n      </ul>\\r\\n      <ul class=\"lnb_depth1_my3\">\\r\\n        <li><a href=\"https://www.hanbit.co.kr/myhanbit/purchase_books.html\" class=\"\">My Book</a></li>\\r\\n        <span>l</span>\\r\\n        <li><a href=\"https://www.hanbit.co.kr/myhanbit/my_ebook_list.html\" class=\"\">My eBook</a></li>\\r\\n        <span>l</span>\\r\\n        <li><a href=\"https://www.hanbit.co.kr/myhanbit/my_class_list.html\" class=\"\">My 강의</a></li>\\r\\n        \\r\\n                \\r\\n      </ul>\\r\\n                  </div>\\r\\n    </div>\\r\\n    <!--// lnb -->\\r\\n  </div>\\r\\n</header>\\r\\n<!-- //header -->\\r\\n\\r\\n<!-- 메인 검색 및 카테고리 영역 -->\\r\\n<div id=\"main_search_area\" class=\"fixed\" style=\"display:none;\">\\n  <div class=\"msa_wrap\">\\n\\n    <!-- 검색 -->\\n    <div class=\"msa_srch_wrap\">\\n      <form onsubmit=\"return false;\">\\n      <fieldset class=\"msa_srch_field\">\\n        <legend>한빛출판네트워크 검색</legend>\\n        <input title=\"검색어\" autocomplete=\"off\" class=\"srch_keyword\" accesskey=\"s\" type=\"text\" name=\"keyword_str\" id=\"keyword_str\" v-model=\"keyword\" @input=\"typeKeyword\">\\n        <input type=\"submit\" class=\"srch_btn\" style=\"cursor:pointer;\" @click=\"clickSearch\">\\n      </fieldset>\\n      </form>\\n    </div>\\n    <!-- //검색 -->\\n\\n    <!-- ① 인기검색어 -->\\n    <div class=\"msa_srch_polular\" v-if=\"showPopularKeyword === true\">\\n      <h2 class=\"tit\">인기 검색어 <span>(최근 1개월간)</span></h2>\\n        <div class=\"popula_box\">\\n          <ul class=\"left\">\\n            <li v-for=\"keyword in leftPopularKeywordList\">\\n              <a :class=\"keyword.bold\" @click=\"clickPopularKeyword(keyword)\">\\n                  {{ keyword.number }} {{ keyword.bookName }}\\n              </a>\\n            </li>\\n          </ul>\\n          <ul class=\"right\">\\n            <li v-for=\"keyword in rightPopularKeywordList\">\\n              <a :class=\"keyword.bold\" @click=\"clickPopularKeyword(keyword)\">\\n                  {{ keyword.number }} {{ keyword.bookName }}\\n              </a>\\n            </li>\\n          </ul>\\n        </div>\\n    </div>\\n    <!-- ① 인기검색어 -->\\n\\n    <!-- ② 검색결과/검색서제스쳔 -->\\n    <div class=\"msa_srch_suggestion\" v-if=\"showPopularKeyword === false\">\\n      <div class=\"sugg_left\" v-if=\"bookList.length !== 0\">\\n        <h3 class=\"tit\">BOOK</h3>\\n        <ul class=\"books_list\">\\n          <li v-for=\"book in bookList\" @mouseover=\"mouseOverBook(book.id)\"><a @click=\"clickBookKeyword(book)\"><p v-html=\"book.name\"></p></a></li>\\n        </ul>\\n      </div>\\n\\n      <div class=\"sugg_right\">\\n        <div class=\"sugg_book\" v-if=\"bookList.length !== 0\">\\n          <table class=\"sugg_book_detail\">\\n            <tr>\\n              <td class=\"cover\">\\n                <a @click=\"clickBookKeyword(bookSummary)\">\\n                  <img :src=\"bookSummary.imgUrl\" class=\"b_cover\">\\n                </a>\\n              </td>\\n              <td class=\"draft\">\\n                <a @click=\"clickBookKeyword(bookSummary)\" class=\"b_title\"><strong v-html=\"bookSummary.originName\"></strong></a>\\n                <p class=\"b_int\">\\n                {{ bookSummary.author }} 지음<br />\\n                {{ bookSummary.publishingCompany }} | {{ bookSummary.date }}\\n                </p>\\n                <p class=\"b_type\">\\n                <span>{{ bookSummary.bookType }}</span>\\n                </p>\\n              </td>\\n            </tr>\\n          </table>\\n        </div>\\n\\n        <!--\\n        <div class=\"sugg_edu\" v-if=\"educationList.length !== 0\">\\n          <h3 class=\"tit\">EDUCATION</h3>\\n          <ul class=\"edu_list\">\\n            <li v-for=\"education in educationList\">&#149; <a @click=\"clickEducationKeyword(education)\"><span v-html=\"education.title\"></span></a></li>\\n          </ul>\\n        </div>\\n        -->\\n        \\n        <div class=\"sugg_cont\" v-if=\"contentList.length !== 0\">\\n          <h3 class=\"tit\">CONTENTS</h3>\\n          <ul class=\"cont_list\">\\n            <li v-for=\"content in contentList\">&#149; <a @click=\"clickContentKeyword(content)\"><span v-html=\"content.title\"></span></a></li>\\n          </ul>\\n        </div>\\n      </div>\\n    </div>\\n    <!-- //② 검색결과/검색서제스쳔 -->\\n\\n  <!-- 닫기 -->\\n  <div class=\"msa_wrap_close\">\\n    <a href=\"javascript:;\" onclick=\"view_hover(\\'main_search_area\\',\\'\\',\\'hide\\')\">닫기</a>\\n  </div>\\n  <!-- //닫기 -->\\n\\n  </div>\\n</div>\\n\\n<script type=\"text/javascript\">\\n    \"use strict\";\\n\\n    var common_top_search_vue = new Vue({\\n        el: \\'#main_search_area\\',\\n        data: {\\n            //검색엔진 URL\\n            searchProxyURL: \"https://search.hanbit.co.kr\",\\n            //인기 검색어 show 여부\\n            showPopularKeyword: true,\\n            //사용자 검색 키워드\\n            keyword: \\'\\',\\n            //인기 검색어 리스트\\n            popularKeywordList: [],\\n            // 인기 검색어 리스트 (왼쪽)\\n            leftPopularKeywordList: [],\\n            // 인기 검색어 리스트 (오른쪽)\\n            rightPopularKeywordList: [],\\n            // 자동완성에서의 책 리스트\\n            bookList: [],\\n            // 자동완성에서의 책 정보\\n            bookSummary: {\\n                \\'imgUrl\\': \\'\\',\\n                \\'link\\': \\'\\',\\n                \\'name\\': \\'\\',\\n                \\'author\\': \\'\\',\\n                \\'publishingCompany\\': \\'\\',\\n                \\'date\\': \\'\\',\\n                \\'bookType\\': \\'\\'\\n            },\\n            //에듀케이션 리스트\\n            educationList: [],\\n            //컨텐츠 리스트\\n            contentList: []\\n        },\\n        created: function created() {\\n            // 인기 검색어 조회\\n            this.getPopularKeyword();\\n        },\\n        methods: {\\n            /**\\n             * 사용자가 검색 키워드를 입력할때 발생하는 이벤트\\n             */\\n            typeKeyword: function typeKeyword() {\\n                var self = this;\\n                var keyword = $(\"#keyword_str\").val();\\n\\n                if (keyword.length !== 0) {\\n                    //자동완성어\\n                    this.findAutocompleteResult(keyword);\\n                } else {\\n                    //인기검색어\\n                    self.showPopularKeyword = true;\\n                }\\n            },\\n\\n            /**\\n             * 인기검색어 조회\\n             */\\n            getPopularKeyword: function getPopularKeyword() {\\n                var self = this;\\n                this.popularKeywordList = [];\\n                $.get(this.searchProxyURL + \"/querylog/popularKeyword\").done(function (data) {\\n                    if (data != null) {\\n                        self.drawPopularKeyword(data);\\n                    }\\n                });\\n            },\\n\\n            /**\\n             * 인기 검색어 그리기\\n             */\\n            drawPopularKeyword: function drawPopularKeyword(popularBooks) {\\n                var self = this;\\n                popularBooks.forEach(function (item) {\\n                    var popularBook = {\\n                        bookName: item.keyword\\n                    };\\n                    self.popularKeywordList.push(popularBook);\\n                });\\n                var number = 0;\\n\\n                for (var _iterator = this.popularKeywordList, _isArray = Array.isArray(_iterator), _i = 0, _iterator = _isArray ? _iterator : _iterator[Symbol.iterator]();;) {\\n                    var _ref;\\n\\n                    if (_isArray) {\\n                        if (_i >= _iterator.length) break;\\n                        _ref = _iterator[_i++];\\n                    } else {\\n                        _i = _iterator.next();\\n                        if (_i.done) break;\\n                        _ref = _i.value;\\n                    }\\n\\n                    var keyword = _ref;\\n                    number = number + 1;\\n                    keyword.number = number.toString().length < 2 ? \"0\" + number : number;\\n\\n                    if (number > 5) {\\n                        keyword.direction = \"right\";\\n                        self.rightPopularKeywordList.push(keyword);\\n                    } else {\\n                        keyword.direction = \"left\";\\n\\n                        if (number < 4) {\\n                            keyword.bold = \\'active\\';\\n                        }\\n\\n                        self.leftPopularKeywordList.push(keyword);\\n                    }\\n                }\\n            },\\n\\n            /**\\n             * 자동완성 검색 결과\\n             */\\n            findAutocompleteResult: function findAutocompleteResult(keyword) {\\n                var self = this;\\n                var param = {\\n                    q: keyword,\\n                    types: \"education,book,contents\",\\n                    fq: keyword\\n                };\\n                $.post(this.searchProxyURL + \"/autocomplete/search\", param).done(function (data) {\\n                    if (data != null) {\\n                        var bookResult = data.booksResults;\\n                        self.changeBookList(keyword, bookResult);\\n                        var contentResult = data.contentsResults;\\n                        self.changeContentList(keyword, contentResult);\\n                        var educationResult = data.educationResults;\\n                        self.changeEducationList(keyword, educationResult);\\n                    }\\n                });\\n                this.showPopularKeyword = false;\\n            },\\n\\n            /**\\n             * 자동완성어에서 BOOK 부분에서 마우스를 올렸을 시에 발생하는 이벤트\\n             * @param bookId\\n             */\\n            mouseOverBook: function mouseOverBook(bookId) {\\n                var currentBook = this.bookList.filter(function (book) {\\n                    return book.id === bookId;\\n                });\\n                this.changeBookSummary(currentBook[0]);\\n            },\\n\\n            /**\\n             * 책 소개 변경\\n             * @param book\\n             */\\n            changeBookSummary: function changeBookSummary(book) {\\n                if (book !== {}) {\\n                    this.bookSummary.name = book.name;\\n                    this.bookSummary.originName = book.originName;\\n                    this.bookSummary.author = book.author;\\n                    this.bookSummary.bookType = book.bookType;\\n                    this.bookSummary.imgUrl = book.imgUrl;\\n                    this.bookSummary.link = book.link;\\n                    this.bookSummary.publishingCompany = book.publishingCompany;\\n                    this.bookSummary.date = book.date;\\n                    this.bookSummary.bookType = book.bookType;\\n                }\\n            },\\n\\n            /**\\n             * BOOK 리스트 변경\\n             */\\n            changeBookList: function changeBookList(keyword, bookResultList) {\\n                var self = this;\\n                self.bookList = [];\\n                var index = 0;\\n\\n                if (bookResultList != null) {\\n                    for (var _iterator2 = bookResultList, _isArray2 = Array.isArray(_iterator2), _i2 = 0, _iterator2 = _isArray2 ? _iterator2 : _iterator2[Symbol.iterator]();;) {\\n                        var _ref2;\\n\\n                        if (_isArray2) {\\n                            if (_i2 >= _iterator2.length) break;\\n                            _ref2 = _iterator2[_i2++];\\n                        } else {\\n                            _i2 = _iterator2.next();\\n                            if (_i2.done) break;\\n                            _ref2 = _i2.value;\\n                        }\\n\\n                        var result = _ref2;\\n\\n                        if (index < 10) {\\n                            var book = {};\\n                            book.id = result.code;\\n                            book.originName = result.title;\\n                            book.name = JSON.parse(JSON.stringify(self.replaceHighlightWord(result.title, keyword)));\\n                            book.link = result.code;\\n                            book.imgUrl = self.getBookImageURL(result.code);\\n                            book.author = result.author;\\n                            book.publishingCompany = result.brand;\\n                            book.date = result.pubDate;\\n                            book.bookType = result.bookType;\\n                            self.bookList.push(book); //책 미리보기 변경\\n\\n                            self.changeBookSummary(self.bookList[0]);\\n                        }\\n                    }\\n                } else {\\n                    self.initBookSummary();\\n                }\\n            },\\n\\n            /**\\n             * 책 이미지 주소 가져오기\\n             */\\n            getBookImageURL: function getBookImageURL(bookCode) {\\n                var imgURL;\\n\\n                if (bookCode.substr(0, 1) === \"E\") {\\n                    imgURL = \\'/data/ebook/\\' + bookCode + \\'_m.jpg\\';\\n                } else {\\n                    imgURL = \\'/data/books/\\' + bookCode + \"_m.jpg\";\\n                }\\n\\n                return imgURL;\\n            },\\n\\n            /**\\n             * 검색 결과가 없을 경우 책 미리보기 초기화\\n             */\\n            initBookSummary: function initBookSummary() {\\n                this.bookSummary = {\\n                    \\'imgUrl\\': \\'\\',\\n                    \\'link\\': \\'\\',\\n                    \\'name\\': \\'\\',\\n                    \\'author\\': \\'\\',\\n                    \\'publishingCompany\\': \\'\\',\\n                    \\'date\\': \\'\\',\\n                    \\'bookType\\': \\'\\'\\n                };\\n            },\\n\\n            /**\\n             * education 리스트 변경\\n             */\\n            changeEducationList: function changeEducationList(keyword, educationResultList) {\\n                var self = this;\\n                self.educationList = [];\\n                var index = 0;\\n\\n                if (educationResultList != null) {\\n                    for (var _iterator3 = educationResultList, _isArray3 = Array.isArray(_iterator3), _i3 = 0, _iterator3 = _isArray3 ? _iterator3 : _iterator3[Symbol.iterator]();;) {\\n                        var _ref3;\\n\\n                        if (_isArray3) {\\n                            if (_i3 >= _iterator3.length) break;\\n                            _ref3 = _iterator3[_i3++];\\n                        } else {\\n                            _i3 = _iterator3.next();\\n                            if (_i3.done) break;\\n                            _ref3 = _i3.value;\\n                        }\\n\\n                        var result = _ref3;\\n\\n                        if (index < 3) {\\n                            var content = {};\\n                            content.title = JSON.parse(JSON.stringify(self.replaceHighlightWord(result.title, keyword)));\\n                            content.link = result.code;\\n                            self.educationList.push(content);\\n                            index = index + 1;\\n                        }\\n                    }\\n                }\\n            },\\n\\n            /**\\n             * contents 리스트 변경\\n             */\\n            changeContentList: function changeContentList(keyword, contentResult) {\\n                var self = this;\\n                self.contentList = [];\\n                var index = 0;\\n\\n                if (contentResult != null) {\\n                    for (var _iterator4 = contentResult, _isArray4 = Array.isArray(_iterator4), _i4 = 0, _iterator4 = _isArray4 ? _iterator4 : _iterator4[Symbol.iterator]();;) {\\n                        var _ref4;\\n\\n                        if (_isArray4) {\\n                            if (_i4 >= _iterator4.length) break;\\n                            _ref4 = _iterator4[_i4++];\\n                        } else {\\n                            _i4 = _iterator4.next();\\n                            if (_i4.done) break;\\n                            _ref4 = _i4.value;\\n                        }\\n\\n                        var result = _ref4;\\n\\n                        if (index < 7) {\\n                            var content = {};\\n                            content.title = JSON.parse(JSON.stringify(self.replaceHighlightWord(result.title, keyword)));\\n                            content.link = result.code;\\n                            self.contentList.push(content);\\n                            index = index + 1;\\n                        }\\n                    }\\n                }\\n            },\\n\\n            /**\\n             * 하이라이트 표시\\n             */\\n            replaceHighlightWord: function replaceHighlightWord(str, highlightKeyword) {\\n                var replaceHighlightKeyword = highlightKeyword.replace(/[^a-z0-9가-힣_ ]/gi, \\'\\');\\n                var regEx = new RegExp(replaceHighlightKeyword, \"gi\");\\n                str = str.replace(regEx, function (a) {\\n                    return \\'<span class=\"keysel\">\\' + a + \\'</span>\\';\\n                });\\n                return str;\\n            },\\n\\n            /**\\n             * 검색 버튼 클릭 시\\n             * @param e\\n             */\\n            clickSearch: function clickSearch(e) {\\n                if (!this.keyword || this.keyword.length === 0) {\\n                    alert(\"검색어를 입력하세요\");\\n                    $(\"#keyword_str\").focus();\\n                    e.preventDefault();\\n                } else {\\n                    location.href = \"/search/search_list.html?keyword=\" + this.keyword;\\n                }\\n            },\\n\\n            /**\\n             * 인기 검색어 클릭시\\n             * @param book\\n             */\\n            clickPopularKeyword: function clickPopularKeyword(book) {\\n                var searchKeyword = book.bookName;\\n                location.href = \"/search/search_list.html?keyword=\" + searchKeyword;\\n            },\\n\\n            /**\\n             * 책 검색어 클릭시 책 상세로 이동\\n             * @param book\\n             */\\n            clickBookKeyword: function clickBookKeyword(book) {\\n                location.href = \"/store/books/look.php?p_code=\" + book.link;\\n            },\\n\\n            /**\\n             * 교육 클릭시 교육 상세로 이동\\n             * @param education\\n             */\\n            clickEducationKeyword: function clickEducationKeyword(education) {\\n                location.href = \"/store/education/edu_view.html?p_code=\" + education.link;\\n            },\\n\\n            /**\\n             * 컨텐츠 클릭시 컨텐츠 상세로 이동\\n             * @param contents\\n             */\\n            clickContentKeyword: function clickContentKeyword(content) {\\n                location.href = \"/channel/category/category_view.html?cms_code=\" + content.link;\\n            }\\n        }\\n    });\\n</script>\\n<!-- //메인 검색 및 카테고리 영역 -->\\r\\n\\r\\n\\r\\n<!-- Contents -->\\r\\n<div id=\"container\">\\r\\n\\r\\n\\t<div class=\"myhanbit_wrap\">\\r\\n\\t\\t<!-- 회원등급 -->\\r\\n\\t\\t<div class=\"sm_myinfo\">\\r\\n\\t\\t\\t<div class=\"my_rating\">\\r\\n\\t\\t\\t\\t<div class=\"icon\">\\r\\n\\t\\t\\t\\t\\t\\t\\t\\t\\t\\t\\r\\n\\t\\t\\t\\t\\t<img src=\"https://www.hanbit.co.kr/images/myhanbit/rating_icon1.png\" alt=\"\" />\\t\\r\\n\\t\\t\\t\\t</div>\\r\\n\\t\\t\\t\\t<p>(박지훈)님의<br />회원 등급은 <span>일반</span> 입니다.</p>\\t\\t\\t\\t\\r\\n\\t\\t\\t</div>\\r\\n\\t\\t</div>\\r\\n\\t\\t<!-- //회원등급 -->\\r\\n\\t\\t\\r\\n\\t\\t<!-- 마일리지/이코인 -->\\r\\n\\t\\t<div class=\"sm_mymileage\">\\r\\n\\t\\t\\t<dl class=\"mileage_section1\">\\r\\n\\t\\t\\t\\t<dt>마일리지</dt>\\r\\n\\t\\t\\t\\t<dd><span>2,000</span> 점</dd>\\r\\n\\t\\t\\t</dl>\\r\\n\\t\\t\\t<dl class=\"mileage_section2\">\\r\\n\\t\\t\\t\\t<dt>한빛이코인</dt>\\r\\n\\t\\t\\t\\t<dd><span>0</span> 원</dd>\\r\\n\\t\\t\\t</dl>\\r\\n\\t\\t</div>\\r\\n\\t\\t<!-- //마일리지/이코인 -->\\r\\n\\t\\t\\r\\n\\t\\t<!-- 최근 구매이력 -->\\r\\n\\t\\t<div class=\"sm_myorder\">\\r\\n\\t\\t\\t<p class=\"tit\">최근 구매이력</p>\\r\\n\\t\\t\\t<table class=\"tbl_type_list\" border=\"0\" cellspacing=\"0\" summary=\"최근 3개월 활동 내역 테이블\">\\r\\n\\t\\t\\t\\t<caption>최근 3개월 활동 내역</caption>\\r\\n\\t\\t\\t\\t<colgroup>\\r\\n\\t\\t\\t\\t<col width=\"110px\">\\r\\n\\t\\t\\t\\t<col width=\"\">\\r\\n\\t\\t\\t\\t<col width=\"120px\">\\r\\n\\t\\t\\t\\t</colgroup>\\r\\n\\t\\t\\t\\t<thead>\\r\\n\\t\\t\\t\\t\\t<tr>\\r\\n\\t\\t\\t\\t\\t\\t<th scope=\"col\">주문일자</th>\\r\\n\\t\\t\\t\\t\\t\\t<th scope=\"col\">상품명</th>\\r\\n\\t\\t\\t\\t\\t\\t<th class=\"last\" scope=\"col\">주문금액</th>\\r\\n\\t\\t\\t\\t\\t</tr>\\r\\n\\t\\t\\t\\t</thead>\\r\\n\\t\\t\\t\\t<tbody>\\r\\n\\t\\t\\t\\t\\t\\t\\t\\t\\t\\t\\t\\t\\t\\t\\t\\r\\n\\t\\t\\t\\t</tbody>\\r\\n\\t\\t\\t</table>\\r\\n\\t\\t</div>\\r\\n\\t\\t<!-- //최근 구매이력 -->\\r\\n\\t\\t\\r\\n\\t\\t<!-- My Book -->\\r\\n\\t\\t<div class=\"submain_mypagae_foot smf_l\">\\r\\n\\t\\t\\t<p class=\"sm_tit\">My Book</p>\\t\\t\\t\\t\\t\\t\\r\\n\\t\\t\\t\\t\\t\\t\\r\\n\\t\\t\\t\\t<div class=\"smf_nodata\">리스트가 없습니다.</div>\\r\\n\\t\\t\\t\\t\\r\\n\\t\\t</div>\\r\\n\\t\\t<!-- //My Book -->\\r\\n\\t\\t\\r\\n\\t\\t<!-- My eBook -->\\r\\n\\t\\t<div class=\"submain_mypagae_foot smf_c\">\\r\\n\\t\\t\\t<p class=\"sm_tit\">My eBook</p>\\t\\t\\t\\r\\n\\t\\t\\t\\t\\t\\t\\r\\n\\t\\t\\t\\t<div class=\"smf_nodata\">리스트가 없습니다.</div>\\r\\n\\t\\t\\t\\t\\t</div>\\r\\n\\t\\t<!-- //My eBook -->\\r\\n\\t\\t\\r\\n\\t\\t<!-- My 강의 -->\\r\\n\\t\\t<div class=\"submain_mypagae_foot smf_r\">\\r\\n\\t\\t\\t<p class=\"sm_tit\">My 강의</p>\\r\\n\\t\\t\\t\\t\\t\\t\\r\\n\\t\\t\\t\\t<div class=\"smf_nodata\">리스트가 없습니다.</div>\\r\\n\\t\\t\\t\\t\\t\\t\\t\\r\\n\\t\\t</div>\\t\\t\\r\\n\\t\\t<!-- //My 강의 -->\\r\\n\\t</div>\\r\\n\\t\\r\\n</div>\\r\\n<!-- //Contents -->\\r\\n\\r\\n\\r\\n<!-- Footer -->\\r\\n<footer>\\r\\n  <!-- 공지사항 -->\\r\\n  <div class=\"foot_notice\" style=\"height:6px;\"></div>  <!-- //공지사항 -->\\r\\n  \\r\\n  <div class=\"foot_contents\">\\r\\n    <!-- 하단 메뉴 -->\\r\\n    <div class=\"foot_menu\">\\r\\n      <!-- added by coffin -->\\r\\n            <ul>\\r\\n        <li><a href=\"https://www.hanbit.co.kr/publisher/index.html\" target=\"_blank\">회사소개</a>(<a href=\"https://www.hanbit.co.kr/publisher/index.html\" target=\"_blank\">KOR</a> | <a href=\"https://www.hanbit.co.kr/publisher/index.html?lang=e\" target=\"_blank\">ENG</a>) &#149; <a href=\"https://www.hanbit.co.kr/publisher/contact.html?lang=k\" target=\"_blank\">약도</a></li>\\r\\n        <li><a href=\"https://www.hanbit.co.kr/publisher/write.html\" target=\"_blank\">기획 및 원고 모집</a></li>\\r\\n        <li><a href=\"https://www.hanbit.co.kr/publisher/career.html\" target=\"_blank\">채용</a> &#149; 입사지원 <a href=\"mailto:jobs@hanbit.co.kr\">jobs@hanbit.co.kr</a></li>\\r\\n        <li><a href=\"https://www.hanbit.co.kr/publisher/foreignrights.html\" target=\"_blank\">FOREIGN RIGHTS</a></li>\\r\\n        <li><a href=\"https://www.hanbit.co.kr/member/use_agreement.html\">이용약관</a> &#149; <a href=\"https://www.hanbit.co.kr/member/privacy_policy.html\"><strong>개인정보처리방침</strong></a></li>\\r\\n        <li><a href=\"https://www.hanbit.co.kr/sitemap/sitemap.html\">사이트맵</a></li>\\r\\n      </ul>\\r\\n          </div>\\r\\n    <!-- //하단 메뉴 -->\\r\\n\\r\\n    <!-- SNS -->\\r\\n    <div class=\"foot_sns\">\\r\\n          \\t<!-- 데브레터 구독하기 -->\\r\\n    \\t<div class=\"devletter_contet\">\\r\\n    \\t\\t<div class=\"devletter_sub\">\\r\\n    \\t\\t\\t<span class=\"dev_header_img\">데브레터 구독하기</span><a class=\"dev_sit_a\" href=\"/devletter/\" target=\"_blank\"><span class=\"dev_site_img\">데브레터 보러가기</span></a>\\r\\n    \\t\\t</div>\\r\\n    \\r\\n    \\t\\t <form class=\"subscribe_form\" action=\"/devletter/dev_process.php\" method=\"post\">\\r\\n    \\t\\t\\t<fieldset class=\"subscribe_fiel\">\\r\\n    \\t\\t\\t\\t<legend>구독서비스</legend>\\r\\n    \\t\\t\\t\\t<input type=\"text\" placeholder=\"Your Email Address\" name=\"user_email\"></input>\\r\\n    \\t\\t\\t\\t<button type=\"submit\" class=\"sub_btn\"><span>구독</span></button>\\r\\n    \\t\\t\\t</fieldset>\\r\\n    \\t\\t </form>\\r\\n    \\r\\n    \\t\\t  <div class=\"main_foot_sns\">\\r\\n    \\t\\t\\t  <ul>\\r\\n    \\t\\t\\t\\t<li class=\"main_foot_facebook\"><a href=\"https://www.facebook.com/hanbitmedia\" target=\"_blank\"><span>페이스북</span></a></li>\\r\\n    \\t\\t\\t\\t<li class=\"main_foot_youtube\"><a href=\"https://www.youtube.com/한빛TV\" target=\"_blank\"><span>유튜브</span></a></li>\\r\\n    \\t\\t\\t\\t<li class=\"main_foot_bolg\"><a href=\"http://blog.hanbit.co.kr/\" target=\"_blank\"><span>블로그</span></a></li>\\r\\n    \\t\\t\\t\\t<li class=\"main_foot_naverpost\"><a href=\"https://m.post.naver.com/hanbitstory\" target=\"_blank\"><span>네이버포스트</span></a></li>\\r\\n    \\t\\t\\t  </ul>\\r\\n    \\t\\t  </div>\\r\\n    \\t</div>  \\r\\n    \\t<!-- 데브레터 구독하기 //-->\\r\\n          \\r\\n         </div>\\r\\n    <!-- //SNS -->\\r\\n    \\r\\n    <!-- 한빛 정보 -->\\r\\n    <div class=\"foot_about\">\\r\\n      <div class=\"foot_about_area\">\\r\\n        \\r\\n\\r\\n        <p><strong>한빛미디어㈜ &#149; 한빛아카데미㈜ &#149; 한빛비즈㈜</strong></p>\\r\\n        <p>(03785) 서울 서대문구 연희로2길 62</p>\\r\\n        <p>EMAIL : support@hanbit.co.kr</p>\\r\\n        <p>대표이사 : 김태헌</p>\\r\\n        <p>사업자등록번호 : 220-81-05665 <a href=\"http://www.ftc.go.kr/bizCommPop.do?wrkr_no=2208105665\" target=\"_blank\">[확인]</a></p>\\r\\n        <p>통신판매업신고 : 2017-서울서대문-0671호</p>\\r\\n        <p>호스팅제공자 : (주)누리호스팅</p>        \\r\\n\\r\\n      </div>\\r\\n    </div>\\r\\n    <!-- //한빛 정보 -->\\r\\n  </div>\\r\\n  \\r\\n  <div class=\"copyright\">&copy;1993-2022 Hanbit Publishing Network, Inc. All rights reserved.</div>\\r\\n</footer>\\r\\n<!-- //푸터 -->\\r\\n<div class=\"foot_download_btn\"><a href=\"https://www.hanbit.co.kr/support/supplement_list.html\">자료실</a></div>\\r\\n\\r\\n<!-- 공통 JS 호출 -->\\r\\n<script type=\"text/javascript\" src=\"/js/common.js\"></script>\\r\\n<!-- //공통 JS 호출 -->\\r\\n\\r\\n</body>\\r\\n</html>\\r\\n'"
      ]
     },
     "execution_count": 416,
     "metadata": {},
     "output_type": "execute_result"
    }
   ],
   "source": [
    "html = resp.text\n",
    "html"
   ]
  },
  {
   "cell_type": "code",
   "execution_count": 417,
   "id": "f04006f5-58c1-4cb0-9dd9-c42600aeae82",
   "metadata": {
    "collapsed": true,
    "jupyter": {
     "outputs_hidden": true
    },
    "tags": []
   },
   "outputs": [
    {
     "data": {
      "text/plain": [
       "<!DOCTYPE html>\n",
       "<html lang=\"ko\">\n",
       "<head>\n",
       "<!--[if lte IE 8]>\n",
       "<script>\n",
       "  location.replace('/support/explorer_upgrade.html');\n",
       "</script>\n",
       "<![endif]-->\n",
       "<meta charset=\"utf-8\"/>\n",
       "<title>한빛출판네트워크</title>\n",
       "<link href=\"https://www.hanbit.co.kr/images/common/hanbit.ico\" rel=\"shortcut icon\"/>\n",
       "<meta content=\"IE=Edge\" http-equiv=\"X-UA-Compatible\"/>\n",
       "<meta content=\"website\" property=\"og:type\"/>\n",
       "<meta content=\"한빛출판네트워크\" property=\"og:title\"/>\n",
       "<meta content=\"더 넓은 세상, 더 나은 미래를 위한 아시아 출판 네트워크 :: 한빛미디어, 한빛아카데미, 한빛비즈, 한빛라이프, 한빛에듀\" property=\"og:description\"/>\n",
       "<meta content=\"https://www.hanbit.co.kr/images/hanbitpubnet_logo.jpg\" property=\"og:image\"/>\n",
       "<meta content=\"https://www.hanbit.co.kr/myhanbit/myhanbit.html\" property=\"og:url\"/>\n",
       "<link href=\"https://www.hanbit.co.kr/myhanbit/myhanbit.html\" rel=\"canonical\"/>\n",
       "<meta content=\"한빛미디어,한빛아카데미,한빛비즈,한빛라이프,한빛에듀,리얼타임,대관서비스,책,출판사,IT전문서,IT활용서,대학교재,경제경영,어린이/유아,실용/여행,전자책,자격증,교육,세미나,강의,ebook,정보교과서\" name=\"keywords\"/>\n",
       "<meta content=\"더 넓은 세상, 더 나은 미래를 위한 아시아 출판 네트워크 :: 한빛미디어, 한빛아카데미, 한빛비즈, 한빛라이프, 한빛에듀\" name=\"description\"/>\n",
       "<meta content=\"width=device-width,initial-scale=1.0,minimum-scale=1.0,maximum-scale=1.0\" name=\"viewport\"/>\n",
       "<meta content=\"width=1260\" name=\"viewport\"/>\n",
       "<meta content=\"yes\" name=\"apple-mobile-web-app-capable\"/>\n",
       "<meta content=\"01c29ed1852aecca7a48ac0c3e0869627bc512d8\" name=\"naver-site-verification\"/>\n",
       "<link href=\"/css/common.css?20210603093421\" rel=\"stylesheet\"/>\n",
       "<link href=\"/css/hover.css\" media=\"all\" rel=\"stylesheet\"/>\n",
       "<link href=\"/js/jquery.raty.css\" rel=\"stylesheet\"/>\n",
       "<script src=\"/js/jquery-latest.js\" type=\"text/javascript\"></script>\n",
       "<script src=\"/js/jquery-ui.js\" type=\"text/javascript\"></script>\n",
       "<script src=\"/js/jquery.event.drag-1.5.min.js\" type=\"text/javascript\"></script>\n",
       "<script src=\"/js/jquery.touchSlider.js\" type=\"text/javascript\"></script>\n",
       "<script src=\"/js/jquery.raty.js\" type=\"text/javascript\"></script>\n",
       "<script src=\"/js/main.js\" type=\"text/javascript\"></script>\n",
       "<script src=\"/lib/cheditor/cheditor.js\" type=\"text/javascript\"></script>\n",
       "<script src=\"/js/jquery.ui.datepicker-ko.js\" type=\"text/javascript\"></script>\n",
       "<script src=\"/js/engine.js\" type=\"text/javascript\"></script>\n",
       "<script src=\"/js/vue.js\" type=\"text/javascript\"></script>\n",
       "<!-- Google Analytics -->\n",
       "<script>\n",
       "(function(i,s,o,g,r,a,m){i['GoogleAnalyticsObject']=r;i[r]=i[r]||function(){\n",
       "(i[r].q=i[r].q||[]).push(arguments)},i[r].l=1*new Date();a=s.createElement(o),\n",
       "m=s.getElementsByTagName(o)[0];a.async=1;a.src=g;m.parentNode.insertBefore(a,m)\n",
       "})(window,document,'script','//www.google-analytics.com/analytics.js','ga');\n",
       "ga('create', 'UA-47080738-1', 'hanbit.co.kr');\n",
       "ga('require', 'linkid', 'linkid.js');\n",
       "ga('send', 'pageview');\n",
       "</script>\n",
       "<!-- Google Analytics -->\n",
       "<!-- Facebook Pixel Code -->\n",
       "<script>\n",
       "  !function(f,b,e,v,n,t,s)\n",
       "  {if(f.fbq)return;n=f.fbq=function(){n.callMethod?\n",
       "  n.callMethod.apply(n,arguments):n.queue.push(arguments)};\n",
       "  if(!f._fbq)f._fbq=n;n.push=n;n.loaded=!0;n.version='2.0';\n",
       "  n.queue=[];t=b.createElement(e);t.async=!0;\n",
       "  t.src=v;s=b.getElementsByTagName(e)[0];\n",
       "  s.parentNode.insertBefore(t,s)}(window, document,'script',\n",
       "  'https://connect.facebook.net/en_US/fbevents.js');\n",
       "  fbq('init', '406459623338891');\n",
       "  fbq('track', 'PageView');\n",
       "</script>\n",
       "<noscript><img height=\"1\" src=\"https://www.facebook.com/tr?id=406459623338891&amp;ev=PageView&amp;noscript=1\" style=\"display:none\" width=\"1\"/></noscript>\n",
       "<!-- End Facebook Pixel Code -->\n",
       "<!-- Google Tag Manager -->\n",
       "<script>(function(w,d,s,l,i){w[l]=w[l]||[];w[l].push({'gtm.start':\n",
       "new Date().getTime(),event:'gtm.js'});var f=d.getElementsByTagName(s)[0],\n",
       "j=d.createElement(s),dl=l!='dataLayer'?'&l='+l:'';j.async=true;j.src=\n",
       "'https://www.googletagmanager.com/gtm.js?id='+i+dl;f.parentNode.insertBefore(j,f);\n",
       "})(window,document,'script','dataLayer','GTM-W9D5PM3');</script>\n",
       "<!-- End Google Tag Manager -->\n",
       "<!-- Kakao Pixel Code -->\n",
       "<script charset=\"UTF-8\" src=\"//t1.daumcdn.net/adfit/static/kp.js\" type=\"text/javascript\"></script>\n",
       "<script type=\"text/javascript\">\n",
       "  kakaoPixel('3011392806152551233').pageView();\n",
       "</script>\n",
       "<!-- //Kakao Pixel Code -->\n",
       "</head>\n",
       "<body>\n",
       "<!-- Google Tag Manager (noscript) -->\n",
       "<noscript><iframe height=\"0\" src=\"https://www.googletagmanager.com/ns.html?id=GTM-W9D5PM3\" style=\"display:none;visibility:hidden\" width=\"0\"></iframe></noscript>\n",
       "<!-- End Google Tag Manager (noscript) -->\n",
       "<link href=\"/css/layout-hanbit.css?202206030909\" rel=\"stylesheet\"/>\n",
       "<link href=\"/css/layout-member.css\" rel=\"stylesheet\"/>\n",
       "<link href=\"/css/layout-network.css\" rel=\"stylesheet\"/>\n",
       "<link href=\"/css/layout-store.css\" rel=\"stylesheet\"/>\n",
       "<link href=\"/css/layout-myhanbit.css\" rel=\"stylesheet\"/>\n",
       "<link href=\"/css/layout-event.css\" rel=\"stylesheet\"/>\n",
       "<!-- 메뉴 바로가기 -->\n",
       "<div id=\"quick_skip_menu\">\n",
       "<a href=\"#gnb\" onclick=\"document.getElementById('gnb').tabIndex = -1;document.getElementById('gnb').focus();return false;\"><span>메뉴 바로가기</span></a>\n",
       "<a href=\"#top_search\" onclick=\"view_hover('main_search_area','','show'), document.getElementById('top_search').tabIndex = -1;document.getElementById('top_search').focus();return false;\"><span>검색 및 카테고리 바로가기</span></a>\n",
       "<a href=\"#container\" onclick=\"document.getElementById('container').tabIndex = -1;document.getElementById('container').focus();return false;\"><span>본문 바로가기</span></a>\n",
       "</div>\n",
       "<!-- //메뉴 바로가기 -->\n",
       "<!-- header -->\n",
       "<header>\n",
       "<!-- top menu -->\n",
       "<nav>\n",
       "<div id=\"wrap_nav\">\n",
       "<ul class=\"top_brand\">\n",
       "<li><a href=\"https://www.hanbit.co.kr/index.html\" name=\"hanbit_network\"><span>HOME</span></a></li>\n",
       "<li><a href=\"https://www.hanbit.co.kr/media/\">한빛미디어</a></li>\n",
       "<li><a href=\"https://www.hanbit.co.kr/academy/\">한빛아카데미</a></li>\n",
       "<li><a href=\"https://www.hanbit.co.kr/biz/\">한빛비즈</a></li>\n",
       "<li><a href=\"https://www.hanbit.co.kr/life/\">한빛라이프</a></li>\n",
       "<li><a href=\"https://www.hanbit.co.kr/edu/\">한빛에듀</a></li>\n",
       "<li><a href=\"https://www.hanbit.co.kr/realtime/\">리얼타임</a></li>\n",
       "<li><a href=\"https://www.hanbit.co.kr/textbook/\" target=\"_blank\">한빛정보교과서</a></li>\n",
       "<li><a href=\"https://www.hanbit.co.kr/rent/\" target=\"_blank\">한빛대관서비스</a></li>\n",
       "</ul>\n",
       "<ul class=\"top_menu\">\n",
       "<li><a class=\"logout\" href=\"https://www.hanbit.co.kr/member/logout.html\">로그아웃</a></li>\n",
       "<li><a class=\"edit\" href=\"https://www.hanbit.co.kr/member/member_register.html\">개인정보수정</a></li>\n",
       "<li><a class=\"myhanbit\" href=\"https://www.hanbit.co.kr/myhanbit/myhanbit.html\">마이한빛</a></li>\n",
       "<li><a class=\"cart\" href=\"https://www.hanbit.co.kr/myhanbit/cart.html\">장바구니</a></li>\n",
       "<li class=\"top_menu_store\"><a href=\"https://www.hanbit.co.kr/publisher/foreignrights.html?lang=e\" target=\"_blank\">ENGLISH</a></li>\n",
       "</ul>\n",
       "</div>\n",
       "</nav>\n",
       "<!-- //top menu -->\n",
       "<div id=\"wrap_gnb\">\n",
       "<!-- logo -->\n",
       "<h1><a href=\"https://www.hanbit.co.kr/index.html\">한빛출판네트워크</a></h1>\n",
       "<!-- //logo -->\n",
       "<!-- Menu -->\n",
       "<div id=\"gnb\" name=\"gnb\">\n",
       "<ul>\n",
       "<li><a class=\"\" href=\"https://www.hanbit.co.kr/brand/brand_submain.html\">BRAND</a></li>\n",
       "<li><a class=\"\" href=\"https://www.hanbit.co.kr/channel/channel_submain.html\">Channel.H</a></li>\n",
       "<li><a class=\"\" href=\"https://www.hanbit.co.kr/store/store_submain.html\">STORE</a></li>\n",
       "<li><a class=\"\" href=\"https://www.hanbit.co.kr/support/help_info.html\">SUPPORT</a></li>\n",
       "<li><a class=\"\" href=\"https://www.hanbit.co.kr/event/current/current_event_list.html\">EVENT</a></li>\n",
       "<li><a class=\"\" href=\"https://www.hanbit.co.kr/publisher/foreignrights.html?lang=e\" target=\"_blank\">RIGHTS</a></li>\n",
       "<li class=\"search\" id=\"top_search\"><a href=\"javascript:;\" onclick=\"view_hover('main_search_area','','show'); $('#keyword_str').focus();\"><span>SEARCH</span></a></li>\n",
       "</ul>\n",
       "</div>\n",
       "<!-- //Menu -->\n",
       "<!-- lnb -->\n",
       "<div class=\"lnb\" style=\"top:92px;\">\n",
       "<div class=\"lnb_area\">\n",
       "<!-- BRAND -->\n",
       "<!--2015-10-07 비회원 장바구니 기능 추가되면서 회원 로그인시에만 보여짐 by 이용희-->\n",
       "<ul class=\"lnb_depth1_my1\">\n",
       "<li><a class=\"\" href=\"https://www.hanbit.co.kr/myhanbit/membership.html\">한빛멤버십</a></li><span>l</span>\n",
       "<li><a class=\"\" href=\"https://www.hanbit.co.kr/myhanbit/mileage_ecoin.html\">마일리지 / 한빛이코인</a></li>\n",
       "</ul>\n",
       "<ul class=\"lnb_depth1_my2\">\n",
       "<li><a class=\"\" href=\"https://www.hanbit.co.kr/myhanbit/wishlist.html\">위시리스트</a></li><span>l</span>\n",
       "<li><a class=\"\" href=\"https://www.hanbit.co.kr/myhanbit/cart.html\">장바구니</a></li><span>l</span>\n",
       "<li><a class=\"\" href=\"https://www.hanbit.co.kr/myhanbit/order_history_list.html\">주문목록</a></li><span>l</span>\n",
       "<li><a class=\"\" href=\"https://www.hanbit.co.kr/myhanbit/coupon.html\">My 쿠폰</a></li>\n",
       "</ul>\n",
       "<ul class=\"lnb_depth1_my3\">\n",
       "<li><a class=\"\" href=\"https://www.hanbit.co.kr/myhanbit/purchase_books.html\">My Book</a></li>\n",
       "<span>l</span>\n",
       "<li><a class=\"\" href=\"https://www.hanbit.co.kr/myhanbit/my_ebook_list.html\">My eBook</a></li>\n",
       "<span>l</span>\n",
       "<li><a class=\"\" href=\"https://www.hanbit.co.kr/myhanbit/my_class_list.html\">My 강의</a></li>\n",
       "</ul>\n",
       "</div>\n",
       "</div>\n",
       "<!--// lnb -->\n",
       "</div>\n",
       "</header>\n",
       "<!-- //header -->\n",
       "<!-- 메인 검색 및 카테고리 영역 -->\n",
       "<div class=\"fixed\" id=\"main_search_area\" style=\"display:none;\">\n",
       "<div class=\"msa_wrap\">\n",
       "<!-- 검색 -->\n",
       "<div class=\"msa_srch_wrap\">\n",
       "<form onsubmit=\"return false;\">\n",
       "<fieldset class=\"msa_srch_field\">\n",
       "<legend>한빛출판네트워크 검색</legend>\n",
       "<input accesskey=\"s\" autocomplete=\"off\" class=\"srch_keyword\" id=\"keyword_str\" name=\"keyword_str\" title=\"검색어\" type=\"text\" v-model=\"keyword\"/>\n",
       "<input class=\"srch_btn\" style=\"cursor:pointer;\" type=\"submit\"/>\n",
       "</fieldset>\n",
       "</form>\n",
       "</div>\n",
       "<!-- //검색 -->\n",
       "<!-- ① 인기검색어 -->\n",
       "<div class=\"msa_srch_polular\" v-if=\"showPopularKeyword === true\">\n",
       "<h2 class=\"tit\">인기 검색어 <span>(최근 1개월간)</span></h2>\n",
       "<div class=\"popula_box\">\n",
       "<ul class=\"left\">\n",
       "<li v-for=\"keyword in leftPopularKeywordList\">\n",
       "<a :class=\"keyword.bold\">\n",
       "                  {{ keyword.number }} {{ keyword.bookName }}\n",
       "              </a>\n",
       "</li>\n",
       "</ul>\n",
       "<ul class=\"right\">\n",
       "<li v-for=\"keyword in rightPopularKeywordList\">\n",
       "<a :class=\"keyword.bold\">\n",
       "                  {{ keyword.number }} {{ keyword.bookName }}\n",
       "              </a>\n",
       "</li>\n",
       "</ul>\n",
       "</div>\n",
       "</div>\n",
       "<!-- ① 인기검색어 -->\n",
       "<!-- ② 검색결과/검색서제스쳔 -->\n",
       "<div class=\"msa_srch_suggestion\" v-if=\"showPopularKeyword === false\">\n",
       "<div class=\"sugg_left\" v-if=\"bookList.length !== 0\">\n",
       "<h3 class=\"tit\">BOOK</h3>\n",
       "<ul class=\"books_list\">\n",
       "<li v-for=\"book in bookList\"><a><p v-html=\"book.name\"></p></a></li>\n",
       "</ul>\n",
       "</div>\n",
       "<div class=\"sugg_right\">\n",
       "<div class=\"sugg_book\" v-if=\"bookList.length !== 0\">\n",
       "<table class=\"sugg_book_detail\">\n",
       "<tr>\n",
       "<td class=\"cover\">\n",
       "<a>\n",
       "<img :src=\"bookSummary.imgUrl\" class=\"b_cover\"/>\n",
       "</a>\n",
       "</td>\n",
       "<td class=\"draft\">\n",
       "<a class=\"b_title\"><strong v-html=\"bookSummary.originName\"></strong></a>\n",
       "<p class=\"b_int\">\n",
       "                {{ bookSummary.author }} 지음<br/>\n",
       "                {{ bookSummary.publishingCompany }} | {{ bookSummary.date }}\n",
       "                </p>\n",
       "<p class=\"b_type\">\n",
       "<span>{{ bookSummary.bookType }}</span>\n",
       "</p>\n",
       "</td>\n",
       "</tr>\n",
       "</table>\n",
       "</div>\n",
       "<!--\n",
       "        <div class=\"sugg_edu\" v-if=\"educationList.length !== 0\">\n",
       "          <h3 class=\"tit\">EDUCATION</h3>\n",
       "          <ul class=\"edu_list\">\n",
       "            <li v-for=\"education in educationList\">&#149; <a @click=\"clickEducationKeyword(education)\"><span v-html=\"education.title\"></span></a></li>\n",
       "          </ul>\n",
       "        </div>\n",
       "        -->\n",
       "<div class=\"sugg_cont\" v-if=\"contentList.length !== 0\">\n",
       "<h3 class=\"tit\">CONTENTS</h3>\n",
       "<ul class=\"cont_list\">\n",
       "<li v-for=\"content in contentList\"> <a><span v-html=\"content.title\"></span></a></li>\n",
       "</ul>\n",
       "</div>\n",
       "</div>\n",
       "</div>\n",
       "<!-- //② 검색결과/검색서제스쳔 -->\n",
       "<!-- 닫기 -->\n",
       "<div class=\"msa_wrap_close\">\n",
       "<a href=\"javascript:;\" onclick=\"view_hover('main_search_area','','hide')\">닫기</a>\n",
       "</div>\n",
       "<!-- //닫기 -->\n",
       "</div>\n",
       "</div>\n",
       "<script type=\"text/javascript\">\n",
       "    \"use strict\";\n",
       "\n",
       "    var common_top_search_vue = new Vue({\n",
       "        el: '#main_search_area',\n",
       "        data: {\n",
       "            //검색엔진 URL\n",
       "            searchProxyURL: \"https://search.hanbit.co.kr\",\n",
       "            //인기 검색어 show 여부\n",
       "            showPopularKeyword: true,\n",
       "            //사용자 검색 키워드\n",
       "            keyword: '',\n",
       "            //인기 검색어 리스트\n",
       "            popularKeywordList: [],\n",
       "            // 인기 검색어 리스트 (왼쪽)\n",
       "            leftPopularKeywordList: [],\n",
       "            // 인기 검색어 리스트 (오른쪽)\n",
       "            rightPopularKeywordList: [],\n",
       "            // 자동완성에서의 책 리스트\n",
       "            bookList: [],\n",
       "            // 자동완성에서의 책 정보\n",
       "            bookSummary: {\n",
       "                'imgUrl': '',\n",
       "                'link': '',\n",
       "                'name': '',\n",
       "                'author': '',\n",
       "                'publishingCompany': '',\n",
       "                'date': '',\n",
       "                'bookType': ''\n",
       "            },\n",
       "            //에듀케이션 리스트\n",
       "            educationList: [],\n",
       "            //컨텐츠 리스트\n",
       "            contentList: []\n",
       "        },\n",
       "        created: function created() {\n",
       "            // 인기 검색어 조회\n",
       "            this.getPopularKeyword();\n",
       "        },\n",
       "        methods: {\n",
       "            /**\n",
       "             * 사용자가 검색 키워드를 입력할때 발생하는 이벤트\n",
       "             */\n",
       "            typeKeyword: function typeKeyword() {\n",
       "                var self = this;\n",
       "                var keyword = $(\"#keyword_str\").val();\n",
       "\n",
       "                if (keyword.length !== 0) {\n",
       "                    //자동완성어\n",
       "                    this.findAutocompleteResult(keyword);\n",
       "                } else {\n",
       "                    //인기검색어\n",
       "                    self.showPopularKeyword = true;\n",
       "                }\n",
       "            },\n",
       "\n",
       "            /**\n",
       "             * 인기검색어 조회\n",
       "             */\n",
       "            getPopularKeyword: function getPopularKeyword() {\n",
       "                var self = this;\n",
       "                this.popularKeywordList = [];\n",
       "                $.get(this.searchProxyURL + \"/querylog/popularKeyword\").done(function (data) {\n",
       "                    if (data != null) {\n",
       "                        self.drawPopularKeyword(data);\n",
       "                    }\n",
       "                });\n",
       "            },\n",
       "\n",
       "            /**\n",
       "             * 인기 검색어 그리기\n",
       "             */\n",
       "            drawPopularKeyword: function drawPopularKeyword(popularBooks) {\n",
       "                var self = this;\n",
       "                popularBooks.forEach(function (item) {\n",
       "                    var popularBook = {\n",
       "                        bookName: item.keyword\n",
       "                    };\n",
       "                    self.popularKeywordList.push(popularBook);\n",
       "                });\n",
       "                var number = 0;\n",
       "\n",
       "                for (var _iterator = this.popularKeywordList, _isArray = Array.isArray(_iterator), _i = 0, _iterator = _isArray ? _iterator : _iterator[Symbol.iterator]();;) {\n",
       "                    var _ref;\n",
       "\n",
       "                    if (_isArray) {\n",
       "                        if (_i >= _iterator.length) break;\n",
       "                        _ref = _iterator[_i++];\n",
       "                    } else {\n",
       "                        _i = _iterator.next();\n",
       "                        if (_i.done) break;\n",
       "                        _ref = _i.value;\n",
       "                    }\n",
       "\n",
       "                    var keyword = _ref;\n",
       "                    number = number + 1;\n",
       "                    keyword.number = number.toString().length < 2 ? \"0\" + number : number;\n",
       "\n",
       "                    if (number > 5) {\n",
       "                        keyword.direction = \"right\";\n",
       "                        self.rightPopularKeywordList.push(keyword);\n",
       "                    } else {\n",
       "                        keyword.direction = \"left\";\n",
       "\n",
       "                        if (number < 4) {\n",
       "                            keyword.bold = 'active';\n",
       "                        }\n",
       "\n",
       "                        self.leftPopularKeywordList.push(keyword);\n",
       "                    }\n",
       "                }\n",
       "            },\n",
       "\n",
       "            /**\n",
       "             * 자동완성 검색 결과\n",
       "             */\n",
       "            findAutocompleteResult: function findAutocompleteResult(keyword) {\n",
       "                var self = this;\n",
       "                var param = {\n",
       "                    q: keyword,\n",
       "                    types: \"education,book,contents\",\n",
       "                    fq: keyword\n",
       "                };\n",
       "                $.post(this.searchProxyURL + \"/autocomplete/search\", param).done(function (data) {\n",
       "                    if (data != null) {\n",
       "                        var bookResult = data.booksResults;\n",
       "                        self.changeBookList(keyword, bookResult);\n",
       "                        var contentResult = data.contentsResults;\n",
       "                        self.changeContentList(keyword, contentResult);\n",
       "                        var educationResult = data.educationResults;\n",
       "                        self.changeEducationList(keyword, educationResult);\n",
       "                    }\n",
       "                });\n",
       "                this.showPopularKeyword = false;\n",
       "            },\n",
       "\n",
       "            /**\n",
       "             * 자동완성어에서 BOOK 부분에서 마우스를 올렸을 시에 발생하는 이벤트\n",
       "             * @param bookId\n",
       "             */\n",
       "            mouseOverBook: function mouseOverBook(bookId) {\n",
       "                var currentBook = this.bookList.filter(function (book) {\n",
       "                    return book.id === bookId;\n",
       "                });\n",
       "                this.changeBookSummary(currentBook[0]);\n",
       "            },\n",
       "\n",
       "            /**\n",
       "             * 책 소개 변경\n",
       "             * @param book\n",
       "             */\n",
       "            changeBookSummary: function changeBookSummary(book) {\n",
       "                if (book !== {}) {\n",
       "                    this.bookSummary.name = book.name;\n",
       "                    this.bookSummary.originName = book.originName;\n",
       "                    this.bookSummary.author = book.author;\n",
       "                    this.bookSummary.bookType = book.bookType;\n",
       "                    this.bookSummary.imgUrl = book.imgUrl;\n",
       "                    this.bookSummary.link = book.link;\n",
       "                    this.bookSummary.publishingCompany = book.publishingCompany;\n",
       "                    this.bookSummary.date = book.date;\n",
       "                    this.bookSummary.bookType = book.bookType;\n",
       "                }\n",
       "            },\n",
       "\n",
       "            /**\n",
       "             * BOOK 리스트 변경\n",
       "             */\n",
       "            changeBookList: function changeBookList(keyword, bookResultList) {\n",
       "                var self = this;\n",
       "                self.bookList = [];\n",
       "                var index = 0;\n",
       "\n",
       "                if (bookResultList != null) {\n",
       "                    for (var _iterator2 = bookResultList, _isArray2 = Array.isArray(_iterator2), _i2 = 0, _iterator2 = _isArray2 ? _iterator2 : _iterator2[Symbol.iterator]();;) {\n",
       "                        var _ref2;\n",
       "\n",
       "                        if (_isArray2) {\n",
       "                            if (_i2 >= _iterator2.length) break;\n",
       "                            _ref2 = _iterator2[_i2++];\n",
       "                        } else {\n",
       "                            _i2 = _iterator2.next();\n",
       "                            if (_i2.done) break;\n",
       "                            _ref2 = _i2.value;\n",
       "                        }\n",
       "\n",
       "                        var result = _ref2;\n",
       "\n",
       "                        if (index < 10) {\n",
       "                            var book = {};\n",
       "                            book.id = result.code;\n",
       "                            book.originName = result.title;\n",
       "                            book.name = JSON.parse(JSON.stringify(self.replaceHighlightWord(result.title, keyword)));\n",
       "                            book.link = result.code;\n",
       "                            book.imgUrl = self.getBookImageURL(result.code);\n",
       "                            book.author = result.author;\n",
       "                            book.publishingCompany = result.brand;\n",
       "                            book.date = result.pubDate;\n",
       "                            book.bookType = result.bookType;\n",
       "                            self.bookList.push(book); //책 미리보기 변경\n",
       "\n",
       "                            self.changeBookSummary(self.bookList[0]);\n",
       "                        }\n",
       "                    }\n",
       "                } else {\n",
       "                    self.initBookSummary();\n",
       "                }\n",
       "            },\n",
       "\n",
       "            /**\n",
       "             * 책 이미지 주소 가져오기\n",
       "             */\n",
       "            getBookImageURL: function getBookImageURL(bookCode) {\n",
       "                var imgURL;\n",
       "\n",
       "                if (bookCode.substr(0, 1) === \"E\") {\n",
       "                    imgURL = '/data/ebook/' + bookCode + '_m.jpg';\n",
       "                } else {\n",
       "                    imgURL = '/data/books/' + bookCode + \"_m.jpg\";\n",
       "                }\n",
       "\n",
       "                return imgURL;\n",
       "            },\n",
       "\n",
       "            /**\n",
       "             * 검색 결과가 없을 경우 책 미리보기 초기화\n",
       "             */\n",
       "            initBookSummary: function initBookSummary() {\n",
       "                this.bookSummary = {\n",
       "                    'imgUrl': '',\n",
       "                    'link': '',\n",
       "                    'name': '',\n",
       "                    'author': '',\n",
       "                    'publishingCompany': '',\n",
       "                    'date': '',\n",
       "                    'bookType': ''\n",
       "                };\n",
       "            },\n",
       "\n",
       "            /**\n",
       "             * education 리스트 변경\n",
       "             */\n",
       "            changeEducationList: function changeEducationList(keyword, educationResultList) {\n",
       "                var self = this;\n",
       "                self.educationList = [];\n",
       "                var index = 0;\n",
       "\n",
       "                if (educationResultList != null) {\n",
       "                    for (var _iterator3 = educationResultList, _isArray3 = Array.isArray(_iterator3), _i3 = 0, _iterator3 = _isArray3 ? _iterator3 : _iterator3[Symbol.iterator]();;) {\n",
       "                        var _ref3;\n",
       "\n",
       "                        if (_isArray3) {\n",
       "                            if (_i3 >= _iterator3.length) break;\n",
       "                            _ref3 = _iterator3[_i3++];\n",
       "                        } else {\n",
       "                            _i3 = _iterator3.next();\n",
       "                            if (_i3.done) break;\n",
       "                            _ref3 = _i3.value;\n",
       "                        }\n",
       "\n",
       "                        var result = _ref3;\n",
       "\n",
       "                        if (index < 3) {\n",
       "                            var content = {};\n",
       "                            content.title = JSON.parse(JSON.stringify(self.replaceHighlightWord(result.title, keyword)));\n",
       "                            content.link = result.code;\n",
       "                            self.educationList.push(content);\n",
       "                            index = index + 1;\n",
       "                        }\n",
       "                    }\n",
       "                }\n",
       "            },\n",
       "\n",
       "            /**\n",
       "             * contents 리스트 변경\n",
       "             */\n",
       "            changeContentList: function changeContentList(keyword, contentResult) {\n",
       "                var self = this;\n",
       "                self.contentList = [];\n",
       "                var index = 0;\n",
       "\n",
       "                if (contentResult != null) {\n",
       "                    for (var _iterator4 = contentResult, _isArray4 = Array.isArray(_iterator4), _i4 = 0, _iterator4 = _isArray4 ? _iterator4 : _iterator4[Symbol.iterator]();;) {\n",
       "                        var _ref4;\n",
       "\n",
       "                        if (_isArray4) {\n",
       "                            if (_i4 >= _iterator4.length) break;\n",
       "                            _ref4 = _iterator4[_i4++];\n",
       "                        } else {\n",
       "                            _i4 = _iterator4.next();\n",
       "                            if (_i4.done) break;\n",
       "                            _ref4 = _i4.value;\n",
       "                        }\n",
       "\n",
       "                        var result = _ref4;\n",
       "\n",
       "                        if (index < 7) {\n",
       "                            var content = {};\n",
       "                            content.title = JSON.parse(JSON.stringify(self.replaceHighlightWord(result.title, keyword)));\n",
       "                            content.link = result.code;\n",
       "                            self.contentList.push(content);\n",
       "                            index = index + 1;\n",
       "                        }\n",
       "                    }\n",
       "                }\n",
       "            },\n",
       "\n",
       "            /**\n",
       "             * 하이라이트 표시\n",
       "             */\n",
       "            replaceHighlightWord: function replaceHighlightWord(str, highlightKeyword) {\n",
       "                var replaceHighlightKeyword = highlightKeyword.replace(/[^a-z0-9가-힣_ ]/gi, '');\n",
       "                var regEx = new RegExp(replaceHighlightKeyword, \"gi\");\n",
       "                str = str.replace(regEx, function (a) {\n",
       "                    return '<span class=\"keysel\">' + a + '</span>';\n",
       "                });\n",
       "                return str;\n",
       "            },\n",
       "\n",
       "            /**\n",
       "             * 검색 버튼 클릭 시\n",
       "             * @param e\n",
       "             */\n",
       "            clickSearch: function clickSearch(e) {\n",
       "                if (!this.keyword || this.keyword.length === 0) {\n",
       "                    alert(\"검색어를 입력하세요\");\n",
       "                    $(\"#keyword_str\").focus();\n",
       "                    e.preventDefault();\n",
       "                } else {\n",
       "                    location.href = \"/search/search_list.html?keyword=\" + this.keyword;\n",
       "                }\n",
       "            },\n",
       "\n",
       "            /**\n",
       "             * 인기 검색어 클릭시\n",
       "             * @param book\n",
       "             */\n",
       "            clickPopularKeyword: function clickPopularKeyword(book) {\n",
       "                var searchKeyword = book.bookName;\n",
       "                location.href = \"/search/search_list.html?keyword=\" + searchKeyword;\n",
       "            },\n",
       "\n",
       "            /**\n",
       "             * 책 검색어 클릭시 책 상세로 이동\n",
       "             * @param book\n",
       "             */\n",
       "            clickBookKeyword: function clickBookKeyword(book) {\n",
       "                location.href = \"/store/books/look.php?p_code=\" + book.link;\n",
       "            },\n",
       "\n",
       "            /**\n",
       "             * 교육 클릭시 교육 상세로 이동\n",
       "             * @param education\n",
       "             */\n",
       "            clickEducationKeyword: function clickEducationKeyword(education) {\n",
       "                location.href = \"/store/education/edu_view.html?p_code=\" + education.link;\n",
       "            },\n",
       "\n",
       "            /**\n",
       "             * 컨텐츠 클릭시 컨텐츠 상세로 이동\n",
       "             * @param contents\n",
       "             */\n",
       "            clickContentKeyword: function clickContentKeyword(content) {\n",
       "                location.href = \"/channel/category/category_view.html?cms_code=\" + content.link;\n",
       "            }\n",
       "        }\n",
       "    });\n",
       "</script>\n",
       "<!-- //메인 검색 및 카테고리 영역 -->\n",
       "<!-- Contents -->\n",
       "<div id=\"container\">\n",
       "<div class=\"myhanbit_wrap\">\n",
       "<!-- 회원등급 -->\n",
       "<div class=\"sm_myinfo\">\n",
       "<div class=\"my_rating\">\n",
       "<div class=\"icon\">\n",
       "<img alt=\"\" src=\"https://www.hanbit.co.kr/images/myhanbit/rating_icon1.png\"/>\n",
       "</div>\n",
       "<p>(박지훈)님의<br/>회원 등급은 <span>일반</span> 입니다.</p>\n",
       "</div>\n",
       "</div>\n",
       "<!-- //회원등급 -->\n",
       "<!-- 마일리지/이코인 -->\n",
       "<div class=\"sm_mymileage\">\n",
       "<dl class=\"mileage_section1\">\n",
       "<dt>마일리지</dt>\n",
       "<dd><span>2,000</span> 점</dd>\n",
       "</dl>\n",
       "<dl class=\"mileage_section2\">\n",
       "<dt>한빛이코인</dt>\n",
       "<dd><span>0</span> 원</dd>\n",
       "</dl>\n",
       "</div>\n",
       "<!-- //마일리지/이코인 -->\n",
       "<!-- 최근 구매이력 -->\n",
       "<div class=\"sm_myorder\">\n",
       "<p class=\"tit\">최근 구매이력</p>\n",
       "<table border=\"0\" cellspacing=\"0\" class=\"tbl_type_list\" summary=\"최근 3개월 활동 내역 테이블\">\n",
       "<caption>최근 3개월 활동 내역</caption>\n",
       "<colgroup>\n",
       "<col width=\"110px\"/>\n",
       "<col width=\"\"/>\n",
       "<col width=\"120px\"/>\n",
       "</colgroup>\n",
       "<thead>\n",
       "<tr>\n",
       "<th scope=\"col\">주문일자</th>\n",
       "<th scope=\"col\">상품명</th>\n",
       "<th class=\"last\" scope=\"col\">주문금액</th>\n",
       "</tr>\n",
       "</thead>\n",
       "<tbody>\n",
       "</tbody>\n",
       "</table>\n",
       "</div>\n",
       "<!-- //최근 구매이력 -->\n",
       "<!-- My Book -->\n",
       "<div class=\"submain_mypagae_foot smf_l\">\n",
       "<p class=\"sm_tit\">My Book</p>\n",
       "<div class=\"smf_nodata\">리스트가 없습니다.</div>\n",
       "</div>\n",
       "<!-- //My Book -->\n",
       "<!-- My eBook -->\n",
       "<div class=\"submain_mypagae_foot smf_c\">\n",
       "<p class=\"sm_tit\">My eBook</p>\n",
       "<div class=\"smf_nodata\">리스트가 없습니다.</div>\n",
       "</div>\n",
       "<!-- //My eBook -->\n",
       "<!-- My 강의 -->\n",
       "<div class=\"submain_mypagae_foot smf_r\">\n",
       "<p class=\"sm_tit\">My 강의</p>\n",
       "<div class=\"smf_nodata\">리스트가 없습니다.</div>\n",
       "</div>\n",
       "<!-- //My 강의 -->\n",
       "</div>\n",
       "</div>\n",
       "<!-- //Contents -->\n",
       "<!-- Footer -->\n",
       "<footer>\n",
       "<!-- 공지사항 -->\n",
       "<div class=\"foot_notice\" style=\"height:6px;\"></div> <!-- //공지사항 -->\n",
       "<div class=\"foot_contents\">\n",
       "<!-- 하단 메뉴 -->\n",
       "<div class=\"foot_menu\">\n",
       "<!-- added by coffin -->\n",
       "<ul>\n",
       "<li><a href=\"https://www.hanbit.co.kr/publisher/index.html\" target=\"_blank\">회사소개</a>(<a href=\"https://www.hanbit.co.kr/publisher/index.html\" target=\"_blank\">KOR</a> | <a href=\"https://www.hanbit.co.kr/publisher/index.html?lang=e\" target=\"_blank\">ENG</a>)  <a href=\"https://www.hanbit.co.kr/publisher/contact.html?lang=k\" target=\"_blank\">약도</a></li>\n",
       "<li><a href=\"https://www.hanbit.co.kr/publisher/write.html\" target=\"_blank\">기획 및 원고 모집</a></li>\n",
       "<li><a href=\"https://www.hanbit.co.kr/publisher/career.html\" target=\"_blank\">채용</a>  입사지원 <a href=\"mailto:jobs@hanbit.co.kr\">jobs@hanbit.co.kr</a></li>\n",
       "<li><a href=\"https://www.hanbit.co.kr/publisher/foreignrights.html\" target=\"_blank\">FOREIGN RIGHTS</a></li>\n",
       "<li><a href=\"https://www.hanbit.co.kr/member/use_agreement.html\">이용약관</a>  <a href=\"https://www.hanbit.co.kr/member/privacy_policy.html\"><strong>개인정보처리방침</strong></a></li>\n",
       "<li><a href=\"https://www.hanbit.co.kr/sitemap/sitemap.html\">사이트맵</a></li>\n",
       "</ul>\n",
       "</div>\n",
       "<!-- //하단 메뉴 -->\n",
       "<!-- SNS -->\n",
       "<div class=\"foot_sns\">\n",
       "<!-- 데브레터 구독하기 -->\n",
       "<div class=\"devletter_contet\">\n",
       "<div class=\"devletter_sub\">\n",
       "<span class=\"dev_header_img\">데브레터 구독하기</span><a class=\"dev_sit_a\" href=\"/devletter/\" target=\"_blank\"><span class=\"dev_site_img\">데브레터 보러가기</span></a>\n",
       "</div>\n",
       "<form action=\"/devletter/dev_process.php\" class=\"subscribe_form\" method=\"post\">\n",
       "<fieldset class=\"subscribe_fiel\">\n",
       "<legend>구독서비스</legend>\n",
       "<input name=\"user_email\" placeholder=\"Your Email Address\" type=\"text\"/>\n",
       "<button class=\"sub_btn\" type=\"submit\"><span>구독</span></button>\n",
       "</fieldset>\n",
       "</form>\n",
       "<div class=\"main_foot_sns\">\n",
       "<ul>\n",
       "<li class=\"main_foot_facebook\"><a href=\"https://www.facebook.com/hanbitmedia\" target=\"_blank\"><span>페이스북</span></a></li>\n",
       "<li class=\"main_foot_youtube\"><a href=\"https://www.youtube.com/한빛TV\" target=\"_blank\"><span>유튜브</span></a></li>\n",
       "<li class=\"main_foot_bolg\"><a href=\"http://blog.hanbit.co.kr/\" target=\"_blank\"><span>블로그</span></a></li>\n",
       "<li class=\"main_foot_naverpost\"><a href=\"https://m.post.naver.com/hanbitstory\" target=\"_blank\"><span>네이버포스트</span></a></li>\n",
       "</ul>\n",
       "</div>\n",
       "</div>\n",
       "<!-- 데브레터 구독하기 //-->\n",
       "</div>\n",
       "<!-- //SNS -->\n",
       "<!-- 한빛 정보 -->\n",
       "<div class=\"foot_about\">\n",
       "<div class=\"foot_about_area\">\n",
       "<p><strong>한빛미디어㈜  한빛아카데미㈜  한빛비즈㈜</strong></p>\n",
       "<p>(03785) 서울 서대문구 연희로2길 62</p>\n",
       "<p>EMAIL : support@hanbit.co.kr</p>\n",
       "<p>대표이사 : 김태헌</p>\n",
       "<p>사업자등록번호 : 220-81-05665 <a href=\"http://www.ftc.go.kr/bizCommPop.do?wrkr_no=2208105665\" target=\"_blank\">[확인]</a></p>\n",
       "<p>통신판매업신고 : 2017-서울서대문-0671호</p>\n",
       "<p>호스팅제공자 : (주)누리호스팅</p>\n",
       "</div>\n",
       "</div>\n",
       "<!-- //한빛 정보 -->\n",
       "</div>\n",
       "<div class=\"copyright\">©1993-2022 Hanbit Publishing Network, Inc. All rights reserved.</div>\n",
       "</footer>\n",
       "<!-- //푸터 -->\n",
       "<div class=\"foot_download_btn\"><a href=\"https://www.hanbit.co.kr/support/supplement_list.html\">자료실</a></div>\n",
       "<!-- 공통 JS 호출 -->\n",
       "<script src=\"/js/common.js\" type=\"text/javascript\"></script>\n",
       "<!-- //공통 JS 호출 -->\n",
       "</body>\n",
       "</html>"
      ]
     },
     "execution_count": 417,
     "metadata": {},
     "output_type": "execute_result"
    }
   ],
   "source": [
    "soup = BeautifulSoup(html, 'lxml')\n",
    "soup"
   ]
  },
  {
   "cell_type": "code",
   "execution_count": 418,
   "id": "a9b88b5e-82d7-497a-a858-fb45996041e5",
   "metadata": {},
   "outputs": [
    {
     "data": {
      "text/plain": [
       "[<span>2,000</span>]"
      ]
     },
     "execution_count": 418,
     "metadata": {},
     "output_type": "execute_result"
    }
   ],
   "source": [
    "soup.select('#container > div > div.sm_mymileage > dl.mileage_section1 > dd > span')"
   ]
  },
  {
   "cell_type": "code",
   "execution_count": 419,
   "id": "cd1801ab-866f-4ebe-9285-da7e979a8b67",
   "metadata": {},
   "outputs": [
    {
     "data": {
      "text/plain": [
       "'2,000'"
      ]
     },
     "execution_count": 419,
     "metadata": {},
     "output_type": "execute_result"
    }
   ],
   "source": [
    "soup.select('#container > div > div.sm_mymileage > dl.mileage_section1 > dd > span')[0].text"
   ]
  },
  {
   "cell_type": "code",
   "execution_count": 420,
   "id": "d62f26e8-2112-4bd0-9df3-f47c102a8fc9",
   "metadata": {},
   "outputs": [
    {
     "data": {
      "text/plain": [
       "'2,000'"
      ]
     },
     "execution_count": 420,
     "metadata": {},
     "output_type": "execute_result"
    }
   ],
   "source": [
    "soup.select_one('#container > div > div.sm_mymileage > dl.mileage_section1 > dd > span').text"
   ]
  },
  {
   "cell_type": "markdown",
   "id": "73b6adaf-f568-42bf-9e85-10dabca6b015",
   "metadata": {},
   "source": [
    "# Json"
   ]
  },
  {
   "cell_type": "code",
   "execution_count": 11,
   "id": "b77ae335-b51c-49e5-b464-176e9f932019",
   "metadata": {},
   "outputs": [],
   "source": [
    "import requests\n",
    "import json"
   ]
  },
  {
   "cell_type": "code",
   "execution_count": 12,
   "id": "fd50d097-e0e9-49a2-ad1d-95b2595eeacf",
   "metadata": {},
   "outputs": [],
   "source": [
    "apikey = \"28ed8b8682f52838a0a86e00b8578fcd\"\n",
    "api = \"http://api.openweathermap.org/data/2.5/weather?q={city}&APPID={key}\" "
   ]
  },
  {
   "cell_type": "code",
   "execution_count": 21,
   "id": "2d5ba3ae-7aa0-44e9-98eb-3ae8bca0ed40",
   "metadata": {},
   "outputs": [
    {
     "name": "stdout",
     "output_type": "stream",
     "text": [
      "{'coord': {'lon': 126.9778, 'lat': 37.5683}, 'weather': [{'id': 803, 'main': 'Clouds', 'description': 'broken clouds', 'icon': '04d'}], 'base': 'stations', 'main': {'temp': 291.71, 'feels_like': 290.95, 'temp_min': 289.84, 'temp_max': 293.81, 'pressure': 1023, 'humidity': 51}, 'visibility': 10000, 'wind': {'speed': 5.14, 'deg': 300}, 'clouds': {'all': 75}, 'dt': 1667194065, 'sys': {'type': 1, 'id': 8105, 'country': 'KR', 'sunrise': 1667166923, 'sunset': 1667205354}, 'timezone': 32400, 'id': 1835848, 'name': 'Seoul', 'cod': 200}\n",
      "▶ 도시 = Seoul\n",
      "- 날씨 = broken clouds\n",
      "- 최저 기온 = 16.7\n",
      "- 최고 기온 = 20.7\n",
      "- 습도 = 51\n",
      "- 기압 = 1023\n",
      "- 풍향 = 300\n",
      "- 풍속 = 5.14\n",
      "{'coord': {'lon': -74.006, 'lat': 40.7143}, 'weather': [{'id': 802, 'main': 'Clouds', 'description': 'scattered clouds', 'icon': '03n'}], 'base': 'stations', 'main': {'temp': 284.96, 'feels_like': 284.26, 'temp_min': 281.88, 'temp_max': 287.13, 'pressure': 1020, 'humidity': 79}, 'visibility': 10000, 'wind': {'speed': 1.54, 'deg': 290}, 'clouds': {'all': 40}, 'dt': 1667193810, 'sys': {'type': 2, 'id': 2039034, 'country': 'US', 'sunrise': 1667215504, 'sunset': 1667253243}, 'timezone': -14400, 'id': 5128581, 'name': 'New York', 'cod': 200}\n",
      "▶ 도시 = New York\n",
      "- 날씨 = scattered clouds\n",
      "- 최저 기온 = 8.7\n",
      "- 최고 기온 = 14.0\n",
      "- 습도 = 79\n",
      "- 기압 = 1020\n",
      "- 풍향 = 290\n",
      "- 풍속 = 1.54\n"
     ]
    }
   ],
   "source": [
    "cities = ['Seoul, KR', 'New York, US' ]\n",
    "k2c = lambda k: round(k - 273.15,1)\n",
    "\n",
    "for city in cities:\n",
    "    url = api.format(city = city, key = apikey)\n",
    "    req = requests.get(url)\n",
    "    data = json.loads(req.text)\n",
    "    print(data)\n",
    "    print(\"▶ 도시 =\", data[\"name\"])\n",
    "    print(\"- 날씨 =\", data[\"weather\"][0][\"description\"])\n",
    "    print(\"- 최저 기온 =\", k2c(data[\"main\"][\"temp_min\"]))\n",
    "    print(\"- 최고 기온 =\", k2c(data[\"main\"][\"temp_max\"]))\n",
    "    print(\"- 습도 =\", data[\"main\"][\"humidity\"])\n",
    "    print(\"- 기압 =\", data[\"main\"][\"pressure\"])\n",
    "    print(\"- 풍향 =\", data[\"wind\"][\"deg\"])\n",
    "    print(\"- 풍속 =\", data[\"wind\"][\"speed\"])"
   ]
  }
 ],
 "metadata": {
  "kernelspec": {
   "display_name": "Python 3 (ipykernel)",
   "language": "python",
   "name": "python3"
  },
  "language_info": {
   "codemirror_mode": {
    "name": "ipython",
    "version": 3
   },
   "file_extension": ".py",
   "mimetype": "text/x-python",
   "name": "python",
   "nbconvert_exporter": "python",
   "pygments_lexer": "ipython3",
   "version": "3.9.12"
  },
  "toc-autonumbering": true
 },
 "nbformat": 4,
 "nbformat_minor": 5
}
