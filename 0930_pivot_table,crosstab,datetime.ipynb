{
 "cells": [
  {
   "cell_type": "markdown",
   "id": "cd5dc873-c571-4f60-8414-7758224b5887",
   "metadata": {},
   "source": [
    "# pivot_table"
   ]
  },
  {
   "cell_type": "code",
   "execution_count": 12,
   "id": "568ce252-e911-4c9d-8e43-994f5f0ea8ab",
   "metadata": {},
   "outputs": [],
   "source": [
    "import pydataset"
   ]
  },
  {
   "cell_type": "code",
   "execution_count": 13,
   "id": "d73f5b5f-8dca-487c-8bfd-45c8f97ba5dc",
   "metadata": {},
   "outputs": [
    {
     "data": {
      "text/html": [
       "<div>\n",
       "<style scoped>\n",
       "    .dataframe tbody tr th:only-of-type {\n",
       "        vertical-align: middle;\n",
       "    }\n",
       "\n",
       "    .dataframe tbody tr th {\n",
       "        vertical-align: top;\n",
       "    }\n",
       "\n",
       "    .dataframe thead th {\n",
       "        text-align: right;\n",
       "    }\n",
       "</style>\n",
       "<table border=\"1\" class=\"dataframe\">\n",
       "  <thead>\n",
       "    <tr style=\"text-align: right;\">\n",
       "      <th></th>\n",
       "      <th>total_bill</th>\n",
       "      <th>tip</th>\n",
       "      <th>sex</th>\n",
       "      <th>smoker</th>\n",
       "      <th>day</th>\n",
       "      <th>time</th>\n",
       "      <th>size</th>\n",
       "    </tr>\n",
       "  </thead>\n",
       "  <tbody>\n",
       "    <tr>\n",
       "      <th>1</th>\n",
       "      <td>16.99</td>\n",
       "      <td>1.01</td>\n",
       "      <td>Female</td>\n",
       "      <td>No</td>\n",
       "      <td>Sun</td>\n",
       "      <td>Dinner</td>\n",
       "      <td>2</td>\n",
       "    </tr>\n",
       "    <tr>\n",
       "      <th>2</th>\n",
       "      <td>10.34</td>\n",
       "      <td>1.66</td>\n",
       "      <td>Male</td>\n",
       "      <td>No</td>\n",
       "      <td>Sun</td>\n",
       "      <td>Dinner</td>\n",
       "      <td>3</td>\n",
       "    </tr>\n",
       "    <tr>\n",
       "      <th>3</th>\n",
       "      <td>21.01</td>\n",
       "      <td>3.50</td>\n",
       "      <td>Male</td>\n",
       "      <td>No</td>\n",
       "      <td>Sun</td>\n",
       "      <td>Dinner</td>\n",
       "      <td>3</td>\n",
       "    </tr>\n",
       "    <tr>\n",
       "      <th>4</th>\n",
       "      <td>23.68</td>\n",
       "      <td>3.31</td>\n",
       "      <td>Male</td>\n",
       "      <td>No</td>\n",
       "      <td>Sun</td>\n",
       "      <td>Dinner</td>\n",
       "      <td>2</td>\n",
       "    </tr>\n",
       "    <tr>\n",
       "      <th>5</th>\n",
       "      <td>24.59</td>\n",
       "      <td>3.61</td>\n",
       "      <td>Female</td>\n",
       "      <td>No</td>\n",
       "      <td>Sun</td>\n",
       "      <td>Dinner</td>\n",
       "      <td>4</td>\n",
       "    </tr>\n",
       "    <tr>\n",
       "      <th>...</th>\n",
       "      <td>...</td>\n",
       "      <td>...</td>\n",
       "      <td>...</td>\n",
       "      <td>...</td>\n",
       "      <td>...</td>\n",
       "      <td>...</td>\n",
       "      <td>...</td>\n",
       "    </tr>\n",
       "    <tr>\n",
       "      <th>240</th>\n",
       "      <td>29.03</td>\n",
       "      <td>5.92</td>\n",
       "      <td>Male</td>\n",
       "      <td>No</td>\n",
       "      <td>Sat</td>\n",
       "      <td>Dinner</td>\n",
       "      <td>3</td>\n",
       "    </tr>\n",
       "    <tr>\n",
       "      <th>241</th>\n",
       "      <td>27.18</td>\n",
       "      <td>2.00</td>\n",
       "      <td>Female</td>\n",
       "      <td>Yes</td>\n",
       "      <td>Sat</td>\n",
       "      <td>Dinner</td>\n",
       "      <td>2</td>\n",
       "    </tr>\n",
       "    <tr>\n",
       "      <th>242</th>\n",
       "      <td>22.67</td>\n",
       "      <td>2.00</td>\n",
       "      <td>Male</td>\n",
       "      <td>Yes</td>\n",
       "      <td>Sat</td>\n",
       "      <td>Dinner</td>\n",
       "      <td>2</td>\n",
       "    </tr>\n",
       "    <tr>\n",
       "      <th>243</th>\n",
       "      <td>17.82</td>\n",
       "      <td>1.75</td>\n",
       "      <td>Male</td>\n",
       "      <td>No</td>\n",
       "      <td>Sat</td>\n",
       "      <td>Dinner</td>\n",
       "      <td>2</td>\n",
       "    </tr>\n",
       "    <tr>\n",
       "      <th>244</th>\n",
       "      <td>18.78</td>\n",
       "      <td>3.00</td>\n",
       "      <td>Female</td>\n",
       "      <td>No</td>\n",
       "      <td>Thur</td>\n",
       "      <td>Dinner</td>\n",
       "      <td>2</td>\n",
       "    </tr>\n",
       "  </tbody>\n",
       "</table>\n",
       "<p>244 rows × 7 columns</p>\n",
       "</div>"
      ],
      "text/plain": [
       "     total_bill   tip     sex smoker   day    time  size\n",
       "1         16.99  1.01  Female     No   Sun  Dinner     2\n",
       "2         10.34  1.66    Male     No   Sun  Dinner     3\n",
       "3         21.01  3.50    Male     No   Sun  Dinner     3\n",
       "4         23.68  3.31    Male     No   Sun  Dinner     2\n",
       "5         24.59  3.61  Female     No   Sun  Dinner     4\n",
       "..          ...   ...     ...    ...   ...     ...   ...\n",
       "240       29.03  5.92    Male     No   Sat  Dinner     3\n",
       "241       27.18  2.00  Female    Yes   Sat  Dinner     2\n",
       "242       22.67  2.00    Male    Yes   Sat  Dinner     2\n",
       "243       17.82  1.75    Male     No   Sat  Dinner     2\n",
       "244       18.78  3.00  Female     No  Thur  Dinner     2\n",
       "\n",
       "[244 rows x 7 columns]"
      ]
     },
     "execution_count": 13,
     "metadata": {},
     "output_type": "execute_result"
    }
   ],
   "source": [
    "tips = pydataset.data('tips')\n",
    "tips"
   ]
  },
  {
   "cell_type": "code",
   "execution_count": 14,
   "id": "d155901c-2aea-45a3-948d-1dedb5af176b",
   "metadata": {},
   "outputs": [
    {
     "data": {
      "text/html": [
       "<div>\n",
       "<style scoped>\n",
       "    .dataframe tbody tr th:only-of-type {\n",
       "        vertical-align: middle;\n",
       "    }\n",
       "\n",
       "    .dataframe tbody tr th {\n",
       "        vertical-align: top;\n",
       "    }\n",
       "\n",
       "    .dataframe thead th {\n",
       "        text-align: right;\n",
       "    }\n",
       "</style>\n",
       "<table border=\"1\" class=\"dataframe\">\n",
       "  <thead>\n",
       "    <tr style=\"text-align: right;\">\n",
       "      <th></th>\n",
       "      <th>total_bill</th>\n",
       "      <th>tip</th>\n",
       "      <th>sex</th>\n",
       "      <th>smoker</th>\n",
       "      <th>day</th>\n",
       "      <th>time</th>\n",
       "      <th>size</th>\n",
       "      <th>tip_pct</th>\n",
       "    </tr>\n",
       "  </thead>\n",
       "  <tbody>\n",
       "    <tr>\n",
       "      <th>1</th>\n",
       "      <td>16.99</td>\n",
       "      <td>1.01</td>\n",
       "      <td>Female</td>\n",
       "      <td>No</td>\n",
       "      <td>Sun</td>\n",
       "      <td>Dinner</td>\n",
       "      <td>2</td>\n",
       "      <td>0.063204</td>\n",
       "    </tr>\n",
       "    <tr>\n",
       "      <th>2</th>\n",
       "      <td>10.34</td>\n",
       "      <td>1.66</td>\n",
       "      <td>Male</td>\n",
       "      <td>No</td>\n",
       "      <td>Sun</td>\n",
       "      <td>Dinner</td>\n",
       "      <td>3</td>\n",
       "      <td>0.191244</td>\n",
       "    </tr>\n",
       "    <tr>\n",
       "      <th>3</th>\n",
       "      <td>21.01</td>\n",
       "      <td>3.50</td>\n",
       "      <td>Male</td>\n",
       "      <td>No</td>\n",
       "      <td>Sun</td>\n",
       "      <td>Dinner</td>\n",
       "      <td>3</td>\n",
       "      <td>0.199886</td>\n",
       "    </tr>\n",
       "    <tr>\n",
       "      <th>4</th>\n",
       "      <td>23.68</td>\n",
       "      <td>3.31</td>\n",
       "      <td>Male</td>\n",
       "      <td>No</td>\n",
       "      <td>Sun</td>\n",
       "      <td>Dinner</td>\n",
       "      <td>2</td>\n",
       "      <td>0.162494</td>\n",
       "    </tr>\n",
       "    <tr>\n",
       "      <th>5</th>\n",
       "      <td>24.59</td>\n",
       "      <td>3.61</td>\n",
       "      <td>Female</td>\n",
       "      <td>No</td>\n",
       "      <td>Sun</td>\n",
       "      <td>Dinner</td>\n",
       "      <td>4</td>\n",
       "      <td>0.172069</td>\n",
       "    </tr>\n",
       "    <tr>\n",
       "      <th>...</th>\n",
       "      <td>...</td>\n",
       "      <td>...</td>\n",
       "      <td>...</td>\n",
       "      <td>...</td>\n",
       "      <td>...</td>\n",
       "      <td>...</td>\n",
       "      <td>...</td>\n",
       "      <td>...</td>\n",
       "    </tr>\n",
       "    <tr>\n",
       "      <th>240</th>\n",
       "      <td>29.03</td>\n",
       "      <td>5.92</td>\n",
       "      <td>Male</td>\n",
       "      <td>No</td>\n",
       "      <td>Sat</td>\n",
       "      <td>Dinner</td>\n",
       "      <td>3</td>\n",
       "      <td>0.256166</td>\n",
       "    </tr>\n",
       "    <tr>\n",
       "      <th>241</th>\n",
       "      <td>27.18</td>\n",
       "      <td>2.00</td>\n",
       "      <td>Female</td>\n",
       "      <td>Yes</td>\n",
       "      <td>Sat</td>\n",
       "      <td>Dinner</td>\n",
       "      <td>2</td>\n",
       "      <td>0.079428</td>\n",
       "    </tr>\n",
       "    <tr>\n",
       "      <th>242</th>\n",
       "      <td>22.67</td>\n",
       "      <td>2.00</td>\n",
       "      <td>Male</td>\n",
       "      <td>Yes</td>\n",
       "      <td>Sat</td>\n",
       "      <td>Dinner</td>\n",
       "      <td>2</td>\n",
       "      <td>0.096759</td>\n",
       "    </tr>\n",
       "    <tr>\n",
       "      <th>243</th>\n",
       "      <td>17.82</td>\n",
       "      <td>1.75</td>\n",
       "      <td>Male</td>\n",
       "      <td>No</td>\n",
       "      <td>Sat</td>\n",
       "      <td>Dinner</td>\n",
       "      <td>2</td>\n",
       "      <td>0.108899</td>\n",
       "    </tr>\n",
       "    <tr>\n",
       "      <th>244</th>\n",
       "      <td>18.78</td>\n",
       "      <td>3.00</td>\n",
       "      <td>Female</td>\n",
       "      <td>No</td>\n",
       "      <td>Thur</td>\n",
       "      <td>Dinner</td>\n",
       "      <td>2</td>\n",
       "      <td>0.190114</td>\n",
       "    </tr>\n",
       "  </tbody>\n",
       "</table>\n",
       "<p>244 rows × 8 columns</p>\n",
       "</div>"
      ],
      "text/plain": [
       "     total_bill   tip     sex smoker   day    time  size   tip_pct\n",
       "1         16.99  1.01  Female     No   Sun  Dinner     2  0.063204\n",
       "2         10.34  1.66    Male     No   Sun  Dinner     3  0.191244\n",
       "3         21.01  3.50    Male     No   Sun  Dinner     3  0.199886\n",
       "4         23.68  3.31    Male     No   Sun  Dinner     2  0.162494\n",
       "5         24.59  3.61  Female     No   Sun  Dinner     4  0.172069\n",
       "..          ...   ...     ...    ...   ...     ...   ...       ...\n",
       "240       29.03  5.92    Male     No   Sat  Dinner     3  0.256166\n",
       "241       27.18  2.00  Female    Yes   Sat  Dinner     2  0.079428\n",
       "242       22.67  2.00    Male    Yes   Sat  Dinner     2  0.096759\n",
       "243       17.82  1.75    Male     No   Sat  Dinner     2  0.108899\n",
       "244       18.78  3.00  Female     No  Thur  Dinner     2  0.190114\n",
       "\n",
       "[244 rows x 8 columns]"
      ]
     },
     "execution_count": 14,
     "metadata": {},
     "output_type": "execute_result"
    }
   ],
   "source": [
    "tips['tip_pct']=tips['tip']/(tips['total_bill']-tips['tip'])\n",
    "tips"
   ]
  },
  {
   "cell_type": "code",
   "execution_count": 15,
   "id": "d50a745a-e30e-4f60-8408-3521be13b8a2",
   "metadata": {},
   "outputs": [
    {
     "data": {
      "text/html": [
       "<div>\n",
       "<style scoped>\n",
       "    .dataframe tbody tr th:only-of-type {\n",
       "        vertical-align: middle;\n",
       "    }\n",
       "\n",
       "    .dataframe tbody tr th {\n",
       "        vertical-align: top;\n",
       "    }\n",
       "\n",
       "    .dataframe thead th {\n",
       "        text-align: right;\n",
       "    }\n",
       "</style>\n",
       "<table border=\"1\" class=\"dataframe\">\n",
       "  <thead>\n",
       "    <tr style=\"text-align: right;\">\n",
       "      <th></th>\n",
       "      <th></th>\n",
       "      <th>total_bill</th>\n",
       "      <th>tip</th>\n",
       "      <th>size</th>\n",
       "      <th>tip_pct</th>\n",
       "    </tr>\n",
       "    <tr>\n",
       "      <th>day</th>\n",
       "      <th>smoker</th>\n",
       "      <th></th>\n",
       "      <th></th>\n",
       "      <th></th>\n",
       "      <th></th>\n",
       "    </tr>\n",
       "  </thead>\n",
       "  <tbody>\n",
       "    <tr>\n",
       "      <th rowspan=\"2\" valign=\"top\">Fri</th>\n",
       "      <th>No</th>\n",
       "      <td>18.420000</td>\n",
       "      <td>2.812500</td>\n",
       "      <td>2.250000</td>\n",
       "      <td>0.179740</td>\n",
       "    </tr>\n",
       "    <tr>\n",
       "      <th>Yes</th>\n",
       "      <td>16.813333</td>\n",
       "      <td>2.714000</td>\n",
       "      <td>2.066667</td>\n",
       "      <td>0.216293</td>\n",
       "    </tr>\n",
       "    <tr>\n",
       "      <th rowspan=\"2\" valign=\"top\">Sat</th>\n",
       "      <th>No</th>\n",
       "      <td>19.661778</td>\n",
       "      <td>3.102889</td>\n",
       "      <td>2.555556</td>\n",
       "      <td>0.190412</td>\n",
       "    </tr>\n",
       "    <tr>\n",
       "      <th>Yes</th>\n",
       "      <td>21.276667</td>\n",
       "      <td>2.875476</td>\n",
       "      <td>2.476190</td>\n",
       "      <td>0.179833</td>\n",
       "    </tr>\n",
       "    <tr>\n",
       "      <th rowspan=\"2\" valign=\"top\">Sun</th>\n",
       "      <th>No</th>\n",
       "      <td>20.506667</td>\n",
       "      <td>3.167895</td>\n",
       "      <td>2.929825</td>\n",
       "      <td>0.193617</td>\n",
       "    </tr>\n",
       "    <tr>\n",
       "      <th>Yes</th>\n",
       "      <td>24.120000</td>\n",
       "      <td>3.516842</td>\n",
       "      <td>2.578947</td>\n",
       "      <td>0.322021</td>\n",
       "    </tr>\n",
       "    <tr>\n",
       "      <th rowspan=\"2\" valign=\"top\">Thur</th>\n",
       "      <th>No</th>\n",
       "      <td>17.113111</td>\n",
       "      <td>2.673778</td>\n",
       "      <td>2.488889</td>\n",
       "      <td>0.193424</td>\n",
       "    </tr>\n",
       "    <tr>\n",
       "      <th>Yes</th>\n",
       "      <td>19.190588</td>\n",
       "      <td>3.030000</td>\n",
       "      <td>2.352941</td>\n",
       "      <td>0.198508</td>\n",
       "    </tr>\n",
       "  </tbody>\n",
       "</table>\n",
       "</div>"
      ],
      "text/plain": [
       "             total_bill       tip      size   tip_pct\n",
       "day  smoker                                          \n",
       "Fri  No       18.420000  2.812500  2.250000  0.179740\n",
       "     Yes      16.813333  2.714000  2.066667  0.216293\n",
       "Sat  No       19.661778  3.102889  2.555556  0.190412\n",
       "     Yes      21.276667  2.875476  2.476190  0.179833\n",
       "Sun  No       20.506667  3.167895  2.929825  0.193617\n",
       "     Yes      24.120000  3.516842  2.578947  0.322021\n",
       "Thur No       17.113111  2.673778  2.488889  0.193424\n",
       "     Yes      19.190588  3.030000  2.352941  0.198508"
      ]
     },
     "execution_count": 15,
     "metadata": {},
     "output_type": "execute_result"
    }
   ],
   "source": [
    "tips.groupby(['day', 'smoker']).agg('mean')"
   ]
  },
  {
   "cell_type": "code",
   "execution_count": 16,
   "id": "46818d8c-4fed-4daa-b5a4-f09a0556785f",
   "metadata": {},
   "outputs": [
    {
     "data": {
      "text/html": [
       "<div>\n",
       "<style scoped>\n",
       "    .dataframe tbody tr th:only-of-type {\n",
       "        vertical-align: middle;\n",
       "    }\n",
       "\n",
       "    .dataframe tbody tr th {\n",
       "        vertical-align: top;\n",
       "    }\n",
       "\n",
       "    .dataframe thead th {\n",
       "        text-align: right;\n",
       "    }\n",
       "</style>\n",
       "<table border=\"1\" class=\"dataframe\">\n",
       "  <thead>\n",
       "    <tr style=\"text-align: right;\">\n",
       "      <th></th>\n",
       "      <th></th>\n",
       "      <th>size</th>\n",
       "      <th>tip</th>\n",
       "      <th>tip_pct</th>\n",
       "      <th>total_bill</th>\n",
       "    </tr>\n",
       "    <tr>\n",
       "      <th>day</th>\n",
       "      <th>smoker</th>\n",
       "      <th></th>\n",
       "      <th></th>\n",
       "      <th></th>\n",
       "      <th></th>\n",
       "    </tr>\n",
       "  </thead>\n",
       "  <tbody>\n",
       "    <tr>\n",
       "      <th rowspan=\"2\" valign=\"top\">Fri</th>\n",
       "      <th>No</th>\n",
       "      <td>2.250000</td>\n",
       "      <td>2.812500</td>\n",
       "      <td>0.179740</td>\n",
       "      <td>18.420000</td>\n",
       "    </tr>\n",
       "    <tr>\n",
       "      <th>Yes</th>\n",
       "      <td>2.066667</td>\n",
       "      <td>2.714000</td>\n",
       "      <td>0.216293</td>\n",
       "      <td>16.813333</td>\n",
       "    </tr>\n",
       "    <tr>\n",
       "      <th rowspan=\"2\" valign=\"top\">Sat</th>\n",
       "      <th>No</th>\n",
       "      <td>2.555556</td>\n",
       "      <td>3.102889</td>\n",
       "      <td>0.190412</td>\n",
       "      <td>19.661778</td>\n",
       "    </tr>\n",
       "    <tr>\n",
       "      <th>Yes</th>\n",
       "      <td>2.476190</td>\n",
       "      <td>2.875476</td>\n",
       "      <td>0.179833</td>\n",
       "      <td>21.276667</td>\n",
       "    </tr>\n",
       "    <tr>\n",
       "      <th rowspan=\"2\" valign=\"top\">Sun</th>\n",
       "      <th>No</th>\n",
       "      <td>2.929825</td>\n",
       "      <td>3.167895</td>\n",
       "      <td>0.193617</td>\n",
       "      <td>20.506667</td>\n",
       "    </tr>\n",
       "    <tr>\n",
       "      <th>Yes</th>\n",
       "      <td>2.578947</td>\n",
       "      <td>3.516842</td>\n",
       "      <td>0.322021</td>\n",
       "      <td>24.120000</td>\n",
       "    </tr>\n",
       "    <tr>\n",
       "      <th rowspan=\"2\" valign=\"top\">Thur</th>\n",
       "      <th>No</th>\n",
       "      <td>2.488889</td>\n",
       "      <td>2.673778</td>\n",
       "      <td>0.193424</td>\n",
       "      <td>17.113111</td>\n",
       "    </tr>\n",
       "    <tr>\n",
       "      <th>Yes</th>\n",
       "      <td>2.352941</td>\n",
       "      <td>3.030000</td>\n",
       "      <td>0.198508</td>\n",
       "      <td>19.190588</td>\n",
       "    </tr>\n",
       "  </tbody>\n",
       "</table>\n",
       "</div>"
      ],
      "text/plain": [
       "                 size       tip   tip_pct  total_bill\n",
       "day  smoker                                          \n",
       "Fri  No      2.250000  2.812500  0.179740   18.420000\n",
       "     Yes     2.066667  2.714000  0.216293   16.813333\n",
       "Sat  No      2.555556  3.102889  0.190412   19.661778\n",
       "     Yes     2.476190  2.875476  0.179833   21.276667\n",
       "Sun  No      2.929825  3.167895  0.193617   20.506667\n",
       "     Yes     2.578947  3.516842  0.322021   24.120000\n",
       "Thur No      2.488889  2.673778  0.193424   17.113111\n",
       "     Yes     2.352941  3.030000  0.198508   19.190588"
      ]
     },
     "execution_count": 16,
     "metadata": {},
     "output_type": "execute_result"
    }
   ],
   "source": [
    "#위와 같다\n",
    "tips.pivot_table(index = ['day','smoker'])"
   ]
  },
  {
   "cell_type": "code",
   "execution_count": 17,
   "id": "d8deee8a-8905-481e-b96e-39e02812a42f",
   "metadata": {},
   "outputs": [
    {
     "data": {
      "text/html": [
       "<div>\n",
       "<style scoped>\n",
       "    .dataframe tbody tr th:only-of-type {\n",
       "        vertical-align: middle;\n",
       "    }\n",
       "\n",
       "    .dataframe tbody tr th {\n",
       "        vertical-align: top;\n",
       "    }\n",
       "\n",
       "    .dataframe thead tr th {\n",
       "        text-align: left;\n",
       "    }\n",
       "\n",
       "    .dataframe thead tr:last-of-type th {\n",
       "        text-align: right;\n",
       "    }\n",
       "</style>\n",
       "<table border=\"1\" class=\"dataframe\">\n",
       "  <thead>\n",
       "    <tr>\n",
       "      <th></th>\n",
       "      <th colspan=\"2\" halign=\"left\">size</th>\n",
       "      <th colspan=\"2\" halign=\"left\">tip</th>\n",
       "      <th colspan=\"2\" halign=\"left\">tip_pct</th>\n",
       "      <th colspan=\"2\" halign=\"left\">total_bill</th>\n",
       "    </tr>\n",
       "    <tr>\n",
       "      <th>smoker</th>\n",
       "      <th>No</th>\n",
       "      <th>Yes</th>\n",
       "      <th>No</th>\n",
       "      <th>Yes</th>\n",
       "      <th>No</th>\n",
       "      <th>Yes</th>\n",
       "      <th>No</th>\n",
       "      <th>Yes</th>\n",
       "    </tr>\n",
       "    <tr>\n",
       "      <th>time</th>\n",
       "      <th></th>\n",
       "      <th></th>\n",
       "      <th></th>\n",
       "      <th></th>\n",
       "      <th></th>\n",
       "      <th></th>\n",
       "      <th></th>\n",
       "      <th></th>\n",
       "    </tr>\n",
       "  </thead>\n",
       "  <tbody>\n",
       "    <tr>\n",
       "      <th>Dinner</th>\n",
       "      <td>2.735849</td>\n",
       "      <td>2.471429</td>\n",
       "      <td>3.126887</td>\n",
       "      <td>3.066000</td>\n",
       "      <td>0.191346</td>\n",
       "      <td>0.221347</td>\n",
       "      <td>20.095660</td>\n",
       "      <td>21.859429</td>\n",
       "    </tr>\n",
       "    <tr>\n",
       "      <th>Lunch</th>\n",
       "      <td>2.511111</td>\n",
       "      <td>2.217391</td>\n",
       "      <td>2.673778</td>\n",
       "      <td>2.834348</td>\n",
       "      <td>0.194335</td>\n",
       "      <td>0.208527</td>\n",
       "      <td>17.050889</td>\n",
       "      <td>17.399130</td>\n",
       "    </tr>\n",
       "  </tbody>\n",
       "</table>\n",
       "</div>"
      ],
      "text/plain": [
       "            size                 tip             tip_pct           total_bill  \\\n",
       "smoker        No       Yes        No       Yes        No       Yes         No   \n",
       "time                                                                            \n",
       "Dinner  2.735849  2.471429  3.126887  3.066000  0.191346  0.221347  20.095660   \n",
       "Lunch   2.511111  2.217391  2.673778  2.834348  0.194335  0.208527  17.050889   \n",
       "\n",
       "                   \n",
       "smoker        Yes  \n",
       "time               \n",
       "Dinner  21.859429  \n",
       "Lunch   17.399130  "
      ]
     },
     "execution_count": 17,
     "metadata": {},
     "output_type": "execute_result"
    }
   ],
   "source": [
    "tips.pivot_table(index = 'time', columns = 'smoker')"
   ]
  },
  {
   "cell_type": "code",
   "execution_count": 18,
   "id": "e36c4657-3fce-49c4-8651-7c882f7f4ac6",
   "metadata": {},
   "outputs": [
    {
     "data": {
      "text/html": [
       "<div>\n",
       "<style scoped>\n",
       "    .dataframe tbody tr th:only-of-type {\n",
       "        vertical-align: middle;\n",
       "    }\n",
       "\n",
       "    .dataframe tbody tr th {\n",
       "        vertical-align: top;\n",
       "    }\n",
       "\n",
       "    .dataframe thead th {\n",
       "        text-align: right;\n",
       "    }\n",
       "</style>\n",
       "<table border=\"1\" class=\"dataframe\">\n",
       "  <thead>\n",
       "    <tr style=\"text-align: right;\">\n",
       "      <th>smoker</th>\n",
       "      <th>No</th>\n",
       "      <th>Yes</th>\n",
       "    </tr>\n",
       "    <tr>\n",
       "      <th>time</th>\n",
       "      <th></th>\n",
       "      <th></th>\n",
       "    </tr>\n",
       "  </thead>\n",
       "  <tbody>\n",
       "    <tr>\n",
       "      <th>Dinner</th>\n",
       "      <td>0.191346</td>\n",
       "      <td>0.221347</td>\n",
       "    </tr>\n",
       "    <tr>\n",
       "      <th>Lunch</th>\n",
       "      <td>0.194335</td>\n",
       "      <td>0.208527</td>\n",
       "    </tr>\n",
       "  </tbody>\n",
       "</table>\n",
       "</div>"
      ],
      "text/plain": [
       "smoker        No       Yes\n",
       "time                      \n",
       "Dinner  0.191346  0.221347\n",
       "Lunch   0.194335  0.208527"
      ]
     },
     "execution_count": 18,
     "metadata": {},
     "output_type": "execute_result"
    }
   ],
   "source": [
    "tips.pivot_table(index = 'time', columns = 'smoker', values = 'tip_pct')"
   ]
  },
  {
   "cell_type": "code",
   "execution_count": 19,
   "id": "cd73926d-774d-42de-b855-85b4917f7110",
   "metadata": {},
   "outputs": [
    {
     "data": {
      "text/html": [
       "<div>\n",
       "<style scoped>\n",
       "    .dataframe tbody tr th:only-of-type {\n",
       "        vertical-align: middle;\n",
       "    }\n",
       "\n",
       "    .dataframe tbody tr th {\n",
       "        vertical-align: top;\n",
       "    }\n",
       "\n",
       "    .dataframe thead tr th {\n",
       "        text-align: left;\n",
       "    }\n",
       "\n",
       "    .dataframe thead tr:last-of-type th {\n",
       "        text-align: right;\n",
       "    }\n",
       "</style>\n",
       "<table border=\"1\" class=\"dataframe\">\n",
       "  <thead>\n",
       "    <tr>\n",
       "      <th></th>\n",
       "      <th></th>\n",
       "      <th colspan=\"2\" halign=\"left\">size</th>\n",
       "      <th colspan=\"2\" halign=\"left\">tip_pct</th>\n",
       "    </tr>\n",
       "    <tr>\n",
       "      <th></th>\n",
       "      <th>smoker</th>\n",
       "      <th>No</th>\n",
       "      <th>Yes</th>\n",
       "      <th>No</th>\n",
       "      <th>Yes</th>\n",
       "    </tr>\n",
       "    <tr>\n",
       "      <th>day</th>\n",
       "      <th>time</th>\n",
       "      <th></th>\n",
       "      <th></th>\n",
       "      <th></th>\n",
       "      <th></th>\n",
       "    </tr>\n",
       "  </thead>\n",
       "  <tbody>\n",
       "    <tr>\n",
       "      <th rowspan=\"2\" valign=\"top\">Fri</th>\n",
       "      <th>Dinner</th>\n",
       "      <td>2.000000</td>\n",
       "      <td>2.222222</td>\n",
       "      <td>0.162612</td>\n",
       "      <td>0.202545</td>\n",
       "    </tr>\n",
       "    <tr>\n",
       "      <th>Lunch</th>\n",
       "      <td>3.000000</td>\n",
       "      <td>1.833333</td>\n",
       "      <td>0.231125</td>\n",
       "      <td>0.236915</td>\n",
       "    </tr>\n",
       "    <tr>\n",
       "      <th>Sat</th>\n",
       "      <th>Dinner</th>\n",
       "      <td>2.555556</td>\n",
       "      <td>2.476190</td>\n",
       "      <td>0.190412</td>\n",
       "      <td>0.179833</td>\n",
       "    </tr>\n",
       "    <tr>\n",
       "      <th>Sun</th>\n",
       "      <th>Dinner</th>\n",
       "      <td>2.929825</td>\n",
       "      <td>2.578947</td>\n",
       "      <td>0.193617</td>\n",
       "      <td>0.322021</td>\n",
       "    </tr>\n",
       "    <tr>\n",
       "      <th rowspan=\"2\" valign=\"top\">Thur</th>\n",
       "      <th>Dinner</th>\n",
       "      <td>2.000000</td>\n",
       "      <td>NaN</td>\n",
       "      <td>0.190114</td>\n",
       "      <td>NaN</td>\n",
       "    </tr>\n",
       "    <tr>\n",
       "      <th>Lunch</th>\n",
       "      <td>2.500000</td>\n",
       "      <td>2.352941</td>\n",
       "      <td>0.193499</td>\n",
       "      <td>0.198508</td>\n",
       "    </tr>\n",
       "  </tbody>\n",
       "</table>\n",
       "</div>"
      ],
      "text/plain": [
       "                 size             tip_pct          \n",
       "smoker             No       Yes        No       Yes\n",
       "day  time                                          \n",
       "Fri  Dinner  2.000000  2.222222  0.162612  0.202545\n",
       "     Lunch   3.000000  1.833333  0.231125  0.236915\n",
       "Sat  Dinner  2.555556  2.476190  0.190412  0.179833\n",
       "Sun  Dinner  2.929825  2.578947  0.193617  0.322021\n",
       "Thur Dinner  2.000000       NaN  0.190114       NaN\n",
       "     Lunch   2.500000  2.352941  0.193499  0.198508"
      ]
     },
     "execution_count": 19,
     "metadata": {},
     "output_type": "execute_result"
    }
   ],
   "source": [
    "tips.pivot_table(index = ['day','time'], columns = 'smoker', values = ['tip_pct','size'])"
   ]
  },
  {
   "cell_type": "markdown",
   "id": "a447565d-8341-47f2-a301-b8b160e7c328",
   "metadata": {},
   "source": [
    "## margin\n",
    "- 그룹 전체 평균"
   ]
  },
  {
   "cell_type": "code",
   "execution_count": 20,
   "id": "1edbc97e-ec95-47a4-a9fc-799e3894f070",
   "metadata": {},
   "outputs": [
    {
     "data": {
      "text/html": [
       "<div>\n",
       "<style scoped>\n",
       "    .dataframe tbody tr th:only-of-type {\n",
       "        vertical-align: middle;\n",
       "    }\n",
       "\n",
       "    .dataframe tbody tr th {\n",
       "        vertical-align: top;\n",
       "    }\n",
       "\n",
       "    .dataframe thead th {\n",
       "        text-align: right;\n",
       "    }\n",
       "</style>\n",
       "<table border=\"1\" class=\"dataframe\">\n",
       "  <thead>\n",
       "    <tr style=\"text-align: right;\">\n",
       "      <th>smoker</th>\n",
       "      <th>No</th>\n",
       "      <th>Yes</th>\n",
       "      <th>All</th>\n",
       "    </tr>\n",
       "    <tr>\n",
       "      <th>time</th>\n",
       "      <th></th>\n",
       "      <th></th>\n",
       "      <th></th>\n",
       "    </tr>\n",
       "  </thead>\n",
       "  <tbody>\n",
       "    <tr>\n",
       "      <th>Dinner</th>\n",
       "      <td>0.191346</td>\n",
       "      <td>0.221347</td>\n",
       "      <td>0.203278</td>\n",
       "    </tr>\n",
       "    <tr>\n",
       "      <th>Lunch</th>\n",
       "      <td>0.194335</td>\n",
       "      <td>0.208527</td>\n",
       "      <td>0.199135</td>\n",
       "    </tr>\n",
       "    <tr>\n",
       "      <th>All</th>\n",
       "      <td>0.192237</td>\n",
       "      <td>0.218176</td>\n",
       "      <td>0.202123</td>\n",
       "    </tr>\n",
       "  </tbody>\n",
       "</table>\n",
       "</div>"
      ],
      "text/plain": [
       "smoker        No       Yes       All\n",
       "time                                \n",
       "Dinner  0.191346  0.221347  0.203278\n",
       "Lunch   0.194335  0.208527  0.199135\n",
       "All     0.192237  0.218176  0.202123"
      ]
     },
     "execution_count": 20,
     "metadata": {},
     "output_type": "execute_result"
    }
   ],
   "source": [
    "tips.pivot_table(index = 'time', columns = 'smoker', values = 'tip_pct', margins = True)"
   ]
  },
  {
   "cell_type": "code",
   "execution_count": 21,
   "id": "9d45eb36-98b9-4149-8419-2d00a9eb4447",
   "metadata": {},
   "outputs": [
    {
     "data": {
      "text/html": [
       "<div>\n",
       "<style scoped>\n",
       "    .dataframe tbody tr th:only-of-type {\n",
       "        vertical-align: middle;\n",
       "    }\n",
       "\n",
       "    .dataframe tbody tr th {\n",
       "        vertical-align: top;\n",
       "    }\n",
       "\n",
       "    .dataframe thead tr th {\n",
       "        text-align: left;\n",
       "    }\n",
       "\n",
       "    .dataframe thead tr:last-of-type th {\n",
       "        text-align: right;\n",
       "    }\n",
       "</style>\n",
       "<table border=\"1\" class=\"dataframe\">\n",
       "  <thead>\n",
       "    <tr>\n",
       "      <th></th>\n",
       "      <th></th>\n",
       "      <th colspan=\"3\" halign=\"left\">size</th>\n",
       "      <th colspan=\"3\" halign=\"left\">tip_pct</th>\n",
       "    </tr>\n",
       "    <tr>\n",
       "      <th></th>\n",
       "      <th>smoker</th>\n",
       "      <th>No</th>\n",
       "      <th>Yes</th>\n",
       "      <th>All</th>\n",
       "      <th>No</th>\n",
       "      <th>Yes</th>\n",
       "      <th>All</th>\n",
       "    </tr>\n",
       "    <tr>\n",
       "      <th>day</th>\n",
       "      <th>time</th>\n",
       "      <th></th>\n",
       "      <th></th>\n",
       "      <th></th>\n",
       "      <th></th>\n",
       "      <th></th>\n",
       "      <th></th>\n",
       "    </tr>\n",
       "  </thead>\n",
       "  <tbody>\n",
       "    <tr>\n",
       "      <th rowspan=\"2\" valign=\"top\">Fri</th>\n",
       "      <th>Dinner</th>\n",
       "      <td>2.000000</td>\n",
       "      <td>2.222222</td>\n",
       "      <td>2.166667</td>\n",
       "      <td>0.162612</td>\n",
       "      <td>0.202545</td>\n",
       "      <td>0.192562</td>\n",
       "    </tr>\n",
       "    <tr>\n",
       "      <th>Lunch</th>\n",
       "      <td>3.000000</td>\n",
       "      <td>1.833333</td>\n",
       "      <td>2.000000</td>\n",
       "      <td>0.231125</td>\n",
       "      <td>0.236915</td>\n",
       "      <td>0.236088</td>\n",
       "    </tr>\n",
       "    <tr>\n",
       "      <th>Sat</th>\n",
       "      <th>Dinner</th>\n",
       "      <td>2.555556</td>\n",
       "      <td>2.476190</td>\n",
       "      <td>2.517241</td>\n",
       "      <td>0.190412</td>\n",
       "      <td>0.179833</td>\n",
       "      <td>0.185305</td>\n",
       "    </tr>\n",
       "    <tr>\n",
       "      <th>Sun</th>\n",
       "      <th>Dinner</th>\n",
       "      <td>2.929825</td>\n",
       "      <td>2.578947</td>\n",
       "      <td>2.842105</td>\n",
       "      <td>0.193617</td>\n",
       "      <td>0.322021</td>\n",
       "      <td>0.225718</td>\n",
       "    </tr>\n",
       "    <tr>\n",
       "      <th rowspan=\"2\" valign=\"top\">Thur</th>\n",
       "      <th>Dinner</th>\n",
       "      <td>2.000000</td>\n",
       "      <td>NaN</td>\n",
       "      <td>2.000000</td>\n",
       "      <td>0.190114</td>\n",
       "      <td>NaN</td>\n",
       "      <td>0.190114</td>\n",
       "    </tr>\n",
       "    <tr>\n",
       "      <th>Lunch</th>\n",
       "      <td>2.500000</td>\n",
       "      <td>2.352941</td>\n",
       "      <td>2.459016</td>\n",
       "      <td>0.193499</td>\n",
       "      <td>0.198508</td>\n",
       "      <td>0.194895</td>\n",
       "    </tr>\n",
       "    <tr>\n",
       "      <th>All</th>\n",
       "      <th></th>\n",
       "      <td>2.668874</td>\n",
       "      <td>2.408602</td>\n",
       "      <td>2.569672</td>\n",
       "      <td>0.192237</td>\n",
       "      <td>0.218176</td>\n",
       "      <td>0.202123</td>\n",
       "    </tr>\n",
       "  </tbody>\n",
       "</table>\n",
       "</div>"
      ],
      "text/plain": [
       "                 size                       tip_pct                    \n",
       "smoker             No       Yes       All        No       Yes       All\n",
       "day  time                                                              \n",
       "Fri  Dinner  2.000000  2.222222  2.166667  0.162612  0.202545  0.192562\n",
       "     Lunch   3.000000  1.833333  2.000000  0.231125  0.236915  0.236088\n",
       "Sat  Dinner  2.555556  2.476190  2.517241  0.190412  0.179833  0.185305\n",
       "Sun  Dinner  2.929825  2.578947  2.842105  0.193617  0.322021  0.225718\n",
       "Thur Dinner  2.000000       NaN  2.000000  0.190114       NaN  0.190114\n",
       "     Lunch   2.500000  2.352941  2.459016  0.193499  0.198508  0.194895\n",
       "All          2.668874  2.408602  2.569672  0.192237  0.218176  0.202123"
      ]
     },
     "execution_count": 21,
     "metadata": {},
     "output_type": "execute_result"
    }
   ],
   "source": [
    "tips.pivot_table(index = ['day','time'], columns = 'smoker', values = ['tip_pct', 'size'], margins = True)"
   ]
  },
  {
   "cell_type": "markdown",
   "id": "9f91cecc-24d8-431f-8e85-1416dffeaf09",
   "metadata": {},
   "source": [
    "## aggfunc"
   ]
  },
  {
   "cell_type": "code",
   "execution_count": 22,
   "id": "d5c9a01a-9615-452e-b363-2a8cb703dba7",
   "metadata": {},
   "outputs": [
    {
     "data": {
      "text/html": [
       "<div>\n",
       "<style scoped>\n",
       "    .dataframe tbody tr th:only-of-type {\n",
       "        vertical-align: middle;\n",
       "    }\n",
       "\n",
       "    .dataframe tbody tr th {\n",
       "        vertical-align: top;\n",
       "    }\n",
       "\n",
       "    .dataframe thead th {\n",
       "        text-align: right;\n",
       "    }\n",
       "</style>\n",
       "<table border=\"1\" class=\"dataframe\">\n",
       "  <thead>\n",
       "    <tr style=\"text-align: right;\">\n",
       "      <th></th>\n",
       "      <th>smoker</th>\n",
       "      <th>No</th>\n",
       "      <th>Yes</th>\n",
       "      <th>All</th>\n",
       "    </tr>\n",
       "    <tr>\n",
       "      <th>time</th>\n",
       "      <th>day</th>\n",
       "      <th></th>\n",
       "      <th></th>\n",
       "      <th></th>\n",
       "    </tr>\n",
       "  </thead>\n",
       "  <tbody>\n",
       "    <tr>\n",
       "      <th rowspan=\"4\" valign=\"top\">Dinner</th>\n",
       "      <th>Fri</th>\n",
       "      <td>3.0</td>\n",
       "      <td>9.0</td>\n",
       "      <td>12</td>\n",
       "    </tr>\n",
       "    <tr>\n",
       "      <th>Sat</th>\n",
       "      <td>45.0</td>\n",
       "      <td>42.0</td>\n",
       "      <td>87</td>\n",
       "    </tr>\n",
       "    <tr>\n",
       "      <th>Sun</th>\n",
       "      <td>57.0</td>\n",
       "      <td>19.0</td>\n",
       "      <td>76</td>\n",
       "    </tr>\n",
       "    <tr>\n",
       "      <th>Thur</th>\n",
       "      <td>1.0</td>\n",
       "      <td>NaN</td>\n",
       "      <td>1</td>\n",
       "    </tr>\n",
       "    <tr>\n",
       "      <th rowspan=\"2\" valign=\"top\">Lunch</th>\n",
       "      <th>Fri</th>\n",
       "      <td>1.0</td>\n",
       "      <td>6.0</td>\n",
       "      <td>7</td>\n",
       "    </tr>\n",
       "    <tr>\n",
       "      <th>Thur</th>\n",
       "      <td>44.0</td>\n",
       "      <td>17.0</td>\n",
       "      <td>61</td>\n",
       "    </tr>\n",
       "    <tr>\n",
       "      <th>All</th>\n",
       "      <th></th>\n",
       "      <td>151.0</td>\n",
       "      <td>93.0</td>\n",
       "      <td>244</td>\n",
       "    </tr>\n",
       "  </tbody>\n",
       "</table>\n",
       "</div>"
      ],
      "text/plain": [
       "smoker          No   Yes  All\n",
       "time   day                   \n",
       "Dinner Fri     3.0   9.0   12\n",
       "       Sat    45.0  42.0   87\n",
       "       Sun    57.0  19.0   76\n",
       "       Thur    1.0   NaN    1\n",
       "Lunch  Fri     1.0   6.0    7\n",
       "       Thur   44.0  17.0   61\n",
       "All          151.0  93.0  244"
      ]
     },
     "execution_count": 22,
     "metadata": {},
     "output_type": "execute_result"
    }
   ],
   "source": [
    "tips.pivot_table(index = ['time','day'], columns = 'smoker', values = 'tip_pct', margins = True, aggfunc = 'count')"
   ]
  },
  {
   "cell_type": "code",
   "execution_count": 23,
   "id": "e9cd9f16-350a-4b36-8229-82dfb87fd1ab",
   "metadata": {},
   "outputs": [
    {
     "data": {
      "text/html": [
       "<div>\n",
       "<style scoped>\n",
       "    .dataframe tbody tr th:only-of-type {\n",
       "        vertical-align: middle;\n",
       "    }\n",
       "\n",
       "    .dataframe tbody tr th {\n",
       "        vertical-align: top;\n",
       "    }\n",
       "\n",
       "    .dataframe thead th {\n",
       "        text-align: right;\n",
       "    }\n",
       "</style>\n",
       "<table border=\"1\" class=\"dataframe\">\n",
       "  <thead>\n",
       "    <tr style=\"text-align: right;\">\n",
       "      <th></th>\n",
       "      <th>smoker</th>\n",
       "      <th>No</th>\n",
       "      <th>Yes</th>\n",
       "      <th>All</th>\n",
       "    </tr>\n",
       "    <tr>\n",
       "      <th>time</th>\n",
       "      <th>day</th>\n",
       "      <th></th>\n",
       "      <th></th>\n",
       "      <th></th>\n",
       "    </tr>\n",
       "  </thead>\n",
       "  <tbody>\n",
       "    <tr>\n",
       "      <th rowspan=\"4\" valign=\"top\">Dinner</th>\n",
       "      <th>Fri</th>\n",
       "      <td>0.487836</td>\n",
       "      <td>1.822904</td>\n",
       "      <td>2.310740</td>\n",
       "    </tr>\n",
       "    <tr>\n",
       "      <th>Sat</th>\n",
       "      <td>8.568545</td>\n",
       "      <td>7.552972</td>\n",
       "      <td>16.121517</td>\n",
       "    </tr>\n",
       "    <tr>\n",
       "      <th>Sun</th>\n",
       "      <td>11.036159</td>\n",
       "      <td>6.118397</td>\n",
       "      <td>17.154556</td>\n",
       "    </tr>\n",
       "    <tr>\n",
       "      <th>Thur</th>\n",
       "      <td>0.190114</td>\n",
       "      <td>NaN</td>\n",
       "      <td>0.190114</td>\n",
       "    </tr>\n",
       "    <tr>\n",
       "      <th rowspan=\"2\" valign=\"top\">Lunch</th>\n",
       "      <th>Fri</th>\n",
       "      <td>0.231125</td>\n",
       "      <td>1.421491</td>\n",
       "      <td>1.652616</td>\n",
       "    </tr>\n",
       "    <tr>\n",
       "      <th>Thur</th>\n",
       "      <td>8.513958</td>\n",
       "      <td>3.374631</td>\n",
       "      <td>11.888589</td>\n",
       "    </tr>\n",
       "    <tr>\n",
       "      <th>All</th>\n",
       "      <th></th>\n",
       "      <td>29.027737</td>\n",
       "      <td>20.290395</td>\n",
       "      <td>49.318132</td>\n",
       "    </tr>\n",
       "  </tbody>\n",
       "</table>\n",
       "</div>"
      ],
      "text/plain": [
       "smoker              No        Yes        All\n",
       "time   day                                  \n",
       "Dinner Fri    0.487836   1.822904   2.310740\n",
       "       Sat    8.568545   7.552972  16.121517\n",
       "       Sun   11.036159   6.118397  17.154556\n",
       "       Thur   0.190114        NaN   0.190114\n",
       "Lunch  Fri    0.231125   1.421491   1.652616\n",
       "       Thur   8.513958   3.374631  11.888589\n",
       "All          29.027737  20.290395  49.318132"
      ]
     },
     "execution_count": 23,
     "metadata": {},
     "output_type": "execute_result"
    }
   ],
   "source": [
    "tips.pivot_table(index = ['time','day'], columns = 'smoker', values = 'tip_pct', margins = True, aggfunc = 'sum')"
   ]
  },
  {
   "cell_type": "markdown",
   "id": "1d2c3c67-479a-4191-a64f-871f00a50c75",
   "metadata": {},
   "source": [
    "# crosstab"
   ]
  },
  {
   "cell_type": "code",
   "execution_count": 3,
   "id": "0ad8a2c0-d1d8-4b92-8bee-f90536e11c9a",
   "metadata": {},
   "outputs": [],
   "source": [
    "import pandas as pd"
   ]
  },
  {
   "cell_type": "code",
   "execution_count": 25,
   "id": "34c432ac-2c07-4080-8f7e-fc7d675f1cdf",
   "metadata": {},
   "outputs": [
    {
     "data": {
      "text/html": [
       "<div>\n",
       "<style scoped>\n",
       "    .dataframe tbody tr th:only-of-type {\n",
       "        vertical-align: middle;\n",
       "    }\n",
       "\n",
       "    .dataframe tbody tr th {\n",
       "        vertical-align: top;\n",
       "    }\n",
       "\n",
       "    .dataframe thead th {\n",
       "        text-align: right;\n",
       "    }\n",
       "</style>\n",
       "<table border=\"1\" class=\"dataframe\">\n",
       "  <thead>\n",
       "    <tr style=\"text-align: right;\">\n",
       "      <th>smoker</th>\n",
       "      <th>No</th>\n",
       "      <th>Yes</th>\n",
       "    </tr>\n",
       "    <tr>\n",
       "      <th>time</th>\n",
       "      <th></th>\n",
       "      <th></th>\n",
       "    </tr>\n",
       "  </thead>\n",
       "  <tbody>\n",
       "    <tr>\n",
       "      <th>Dinner</th>\n",
       "      <td>106</td>\n",
       "      <td>70</td>\n",
       "    </tr>\n",
       "    <tr>\n",
       "      <th>Lunch</th>\n",
       "      <td>45</td>\n",
       "      <td>23</td>\n",
       "    </tr>\n",
       "  </tbody>\n",
       "</table>\n",
       "</div>"
      ],
      "text/plain": [
       "smoker   No  Yes\n",
       "time            \n",
       "Dinner  106   70\n",
       "Lunch    45   23"
      ]
     },
     "execution_count": 25,
     "metadata": {},
     "output_type": "execute_result"
    }
   ],
   "source": [
    "pd.crosstab(index = tips.time, columns = tips.smoker)"
   ]
  },
  {
   "cell_type": "code",
   "execution_count": 26,
   "id": "c1dcbea8-8656-4cd8-b1f1-0fc7d0a4fdb9",
   "metadata": {},
   "outputs": [
    {
     "data": {
      "text/html": [
       "<div>\n",
       "<style scoped>\n",
       "    .dataframe tbody tr th:only-of-type {\n",
       "        vertical-align: middle;\n",
       "    }\n",
       "\n",
       "    .dataframe tbody tr th {\n",
       "        vertical-align: top;\n",
       "    }\n",
       "\n",
       "    .dataframe thead th {\n",
       "        text-align: right;\n",
       "    }\n",
       "</style>\n",
       "<table border=\"1\" class=\"dataframe\">\n",
       "  <thead>\n",
       "    <tr style=\"text-align: right;\">\n",
       "      <th></th>\n",
       "      <th>smoker</th>\n",
       "      <th>No</th>\n",
       "      <th>Yes</th>\n",
       "      <th>All</th>\n",
       "    </tr>\n",
       "    <tr>\n",
       "      <th>time</th>\n",
       "      <th>day</th>\n",
       "      <th></th>\n",
       "      <th></th>\n",
       "      <th></th>\n",
       "    </tr>\n",
       "  </thead>\n",
       "  <tbody>\n",
       "    <tr>\n",
       "      <th rowspan=\"4\" valign=\"top\">Dinner</th>\n",
       "      <th>Fri</th>\n",
       "      <td>3</td>\n",
       "      <td>9</td>\n",
       "      <td>12</td>\n",
       "    </tr>\n",
       "    <tr>\n",
       "      <th>Sat</th>\n",
       "      <td>45</td>\n",
       "      <td>42</td>\n",
       "      <td>87</td>\n",
       "    </tr>\n",
       "    <tr>\n",
       "      <th>Sun</th>\n",
       "      <td>57</td>\n",
       "      <td>19</td>\n",
       "      <td>76</td>\n",
       "    </tr>\n",
       "    <tr>\n",
       "      <th>Thur</th>\n",
       "      <td>1</td>\n",
       "      <td>0</td>\n",
       "      <td>1</td>\n",
       "    </tr>\n",
       "    <tr>\n",
       "      <th rowspan=\"2\" valign=\"top\">Lunch</th>\n",
       "      <th>Fri</th>\n",
       "      <td>1</td>\n",
       "      <td>6</td>\n",
       "      <td>7</td>\n",
       "    </tr>\n",
       "    <tr>\n",
       "      <th>Thur</th>\n",
       "      <td>44</td>\n",
       "      <td>17</td>\n",
       "      <td>61</td>\n",
       "    </tr>\n",
       "    <tr>\n",
       "      <th>All</th>\n",
       "      <th></th>\n",
       "      <td>151</td>\n",
       "      <td>93</td>\n",
       "      <td>244</td>\n",
       "    </tr>\n",
       "  </tbody>\n",
       "</table>\n",
       "</div>"
      ],
      "text/plain": [
       "smoker        No  Yes  All\n",
       "time   day                \n",
       "Dinner Fri     3    9   12\n",
       "       Sat    45   42   87\n",
       "       Sun    57   19   76\n",
       "       Thur    1    0    1\n",
       "Lunch  Fri     1    6    7\n",
       "       Thur   44   17   61\n",
       "All          151   93  244"
      ]
     },
     "execution_count": 26,
     "metadata": {},
     "output_type": "execute_result"
    }
   ],
   "source": [
    "pd.crosstab(index = [tips.time, tips.day], columns = tips.smoker, margins=True)"
   ]
  },
  {
   "cell_type": "markdown",
   "id": "83123ea7-30a0-4809-a17f-2d7c9bf0dadc",
   "metadata": {},
   "source": [
    "# datetime"
   ]
  },
  {
   "cell_type": "code",
   "execution_count": 4,
   "id": "056601c9-0988-4e76-8bd1-fe32dd3f8d80",
   "metadata": {},
   "outputs": [],
   "source": [
    "from datetime import datetime"
   ]
  },
  {
   "cell_type": "code",
   "execution_count": 28,
   "id": "1239877d-500b-478b-b34d-aa718a6bd5a1",
   "metadata": {},
   "outputs": [
    {
     "data": {
      "text/plain": [
       "datetime.datetime(2022, 10, 5, 9, 6, 40, 486693)"
      ]
     },
     "execution_count": 28,
     "metadata": {},
     "output_type": "execute_result"
    }
   ],
   "source": [
    "datetime.now()"
   ]
  },
  {
   "cell_type": "code",
   "execution_count": 29,
   "id": "72a8f6c8-4b06-4383-856d-e41cf7f640a6",
   "metadata": {},
   "outputs": [
    {
     "name": "stdout",
     "output_type": "stream",
     "text": [
      "2022\n",
      "10\n",
      "40\n"
     ]
    },
    {
     "data": {
      "text/plain": [
       "datetime.datetime(2022, 10, 5, 9, 6, 40, 661565)"
      ]
     },
     "execution_count": 29,
     "metadata": {},
     "output_type": "execute_result"
    }
   ],
   "source": [
    "now = datetime.now()\n",
    "print(now.year)\n",
    "print(now.month)\n",
    "print(now.second)\n",
    "now"
   ]
  },
  {
   "cell_type": "code",
   "execution_count": 30,
   "id": "1c3e7e1e-8680-480e-b8c3-b361bb0226b4",
   "metadata": {},
   "outputs": [
    {
     "data": {
      "text/plain": [
       "datetime.timedelta(days=80, seconds=53599, microseconds=338435)"
      ]
     },
     "execution_count": 30,
     "metadata": {},
     "output_type": "execute_result"
    }
   ],
   "source": [
    "christmas = datetime(2022,12,25)\n",
    "christmas - now"
   ]
  },
  {
   "cell_type": "code",
   "execution_count": 31,
   "id": "5da97a2b-23a8-4216-bd96-bb5a3b4fbf60",
   "metadata": {},
   "outputs": [
    {
     "data": {
      "text/plain": [
       "'2022-10-05-09-06'"
      ]
     },
     "execution_count": 31,
     "metadata": {},
     "output_type": "execute_result"
    }
   ],
   "source": [
    "#time을 문자열로\n",
    "now.strftime('%Y-%m-%d-%H-%M')"
   ]
  },
  {
   "cell_type": "code",
   "execution_count": 32,
   "id": "600f0b18-4f18-497e-a8cf-5c24d07ad761",
   "metadata": {},
   "outputs": [
    {
     "data": {
      "text/plain": [
       "datetime.datetime(2022, 10, 4, 9, 9)"
      ]
     },
     "execution_count": 32,
     "metadata": {},
     "output_type": "execute_result"
    }
   ],
   "source": [
    "#문자열을 datatime으로\n",
    "datetime.strptime('2022-10-04-9-9', '%Y-%m-%d-%H-%M')"
   ]
  },
  {
   "cell_type": "markdown",
   "id": "95646501-95f0-4102-877c-e1a79fd19545",
   "metadata": {},
   "source": [
    "# date_range"
   ]
  },
  {
   "cell_type": "code",
   "execution_count": 33,
   "id": "83928622-e8ac-49e1-acf9-c260423e767c",
   "metadata": {},
   "outputs": [
    {
     "data": {
      "text/plain": [
       "DatetimeIndex(['2000-01-30', '2000-01-31', '2000-02-01', '2000-02-02',\n",
       "               '2000-02-03', '2000-02-04', '2000-02-05', '2000-02-06',\n",
       "               '2000-02-07', '2000-02-08'],\n",
       "              dtype='datetime64[ns]', freq='D')"
      ]
     },
     "execution_count": 33,
     "metadata": {},
     "output_type": "execute_result"
    }
   ],
   "source": [
    "pd.date_range('1/30/2000', periods = 10)"
   ]
  },
  {
   "cell_type": "code",
   "execution_count": 34,
   "id": "ea64503c-eaa9-475d-b1b5-43f059df6706",
   "metadata": {},
   "outputs": [
    {
     "data": {
      "text/plain": [
       "DatetimeIndex(['2000-01-30 00:00:00', '2000-02-02 10:40:00',\n",
       "               '2000-02-05 21:20:00', '2000-02-09 08:00:00',\n",
       "               '2000-02-12 18:40:00', '2000-02-16 05:20:00',\n",
       "               '2000-02-19 16:00:00', '2000-02-23 02:40:00',\n",
       "               '2000-02-26 13:20:00', '2000-03-01 00:00:00'],\n",
       "              dtype='datetime64[ns]', freq=None)"
      ]
     },
     "execution_count": 34,
     "metadata": {},
     "output_type": "execute_result"
    }
   ],
   "source": [
    "pd.date_range('1/30/2000', '3/1/2000', periods = 10)"
   ]
  },
  {
   "cell_type": "code",
   "execution_count": 35,
   "id": "1c061fd1-ce1f-4aa8-984c-e0f79465c77c",
   "metadata": {},
   "outputs": [
    {
     "data": {
      "text/plain": [
       "DatetimeIndex(['2000-01-01 00:00:00', '2000-01-01 05:00:00',\n",
       "               '2000-01-01 10:00:00', '2000-01-01 15:00:00',\n",
       "               '2000-01-01 20:00:00', '2000-01-02 01:00:00',\n",
       "               '2000-01-02 06:00:00', '2000-01-02 11:00:00',\n",
       "               '2000-01-02 16:00:00', '2000-01-02 21:00:00',\n",
       "               ...\n",
       "               '2000-01-29 23:00:00', '2000-01-30 04:00:00',\n",
       "               '2000-01-30 09:00:00', '2000-01-30 14:00:00',\n",
       "               '2000-01-30 19:00:00', '2000-01-31 00:00:00',\n",
       "               '2000-01-31 05:00:00', '2000-01-31 10:00:00',\n",
       "               '2000-01-31 15:00:00', '2000-01-31 20:00:00'],\n",
       "              dtype='datetime64[ns]', length=149, freq='5H')"
      ]
     },
     "execution_count": 35,
     "metadata": {},
     "output_type": "execute_result"
    }
   ],
   "source": [
    "pd.date_range('1/1/2000', '2/1/2000', freq = '5H')"
   ]
  },
  {
   "cell_type": "code",
   "execution_count": 46,
   "id": "4eaa5b5e-ab3f-48dd-aaa4-0ebd763353c3",
   "metadata": {},
   "outputs": [
    {
     "data": {
      "text/plain": [
       "DatetimeIndex(['2000-01-30', '2000-02-02', '2000-02-05', '2000-02-08',\n",
       "               '2000-02-11', '2000-02-14', '2000-02-17', '2000-02-20',\n",
       "               '2000-02-23', '2000-02-26'],\n",
       "              dtype='datetime64[ns]', freq='3D')"
      ]
     },
     "execution_count": 46,
     "metadata": {},
     "output_type": "execute_result"
    }
   ],
   "source": [
    "dates = pd.date_range('1/30/2000', freq = '3D', periods = 10)\n",
    "dates"
   ]
  },
  {
   "cell_type": "markdown",
   "id": "5f401a1f-52b4-48a6-8511-eec4364046dc",
   "metadata": {},
   "source": [
    "# Time Series"
   ]
  },
  {
   "cell_type": "code",
   "execution_count": 8,
   "id": "805802d1-e5ff-4ae9-bed9-bb193ef7f67f",
   "metadata": {},
   "outputs": [],
   "source": [
    "import numpy as np"
   ]
  },
  {
   "cell_type": "code",
   "execution_count": 48,
   "id": "9a52c5e1-07d2-4f4b-b486-f2e9d2a1ca25",
   "metadata": {
    "tags": []
   },
   "outputs": [
    {
     "data": {
      "text/plain": [
       "2000-01-30    3\n",
       "2000-02-02    3\n",
       "2000-02-05    3\n",
       "2000-02-08    3\n",
       "2000-02-11    3\n",
       "2000-02-14    3\n",
       "2000-02-17    3\n",
       "2000-02-20    3\n",
       "2000-02-23    3\n",
       "2000-02-26    3\n",
       "Freq: 3D, dtype: int64"
      ]
     },
     "execution_count": 48,
     "metadata": {},
     "output_type": "execute_result"
    }
   ],
   "source": [
    "ts = pd.Series(np.random.randint(10), index = dates)\n",
    "ts"
   ]
  },
  {
   "cell_type": "code",
   "execution_count": 49,
   "id": "8eea6aaa-0975-4416-8ce3-4dac749719ca",
   "metadata": {},
   "outputs": [
    {
     "data": {
      "text/plain": [
       "3"
      ]
     },
     "execution_count": 49,
     "metadata": {},
     "output_type": "execute_result"
    }
   ],
   "source": [
    "ts[2]"
   ]
  },
  {
   "cell_type": "code",
   "execution_count": 50,
   "id": "355ca5eb-81f6-435a-ac01-a593c2ce14aa",
   "metadata": {},
   "outputs": [
    {
     "data": {
      "text/plain": [
       "2000-01-30    3\n",
       "2000-02-05    3\n",
       "Freq: 6D, dtype: int64"
      ]
     },
     "execution_count": 50,
     "metadata": {},
     "output_type": "execute_result"
    }
   ],
   "source": [
    "ts[0:4:2]"
   ]
  },
  {
   "cell_type": "code",
   "execution_count": 51,
   "id": "29f85b20-c3f8-4bd1-852b-fc07f3e6748f",
   "metadata": {},
   "outputs": [
    {
     "data": {
      "text/plain": [
       "2000-01-30    6.0\n",
       "2000-02-02    NaN\n",
       "2000-02-05    6.0\n",
       "2000-02-08    NaN\n",
       "2000-02-11    NaN\n",
       "2000-02-14    NaN\n",
       "2000-02-17    NaN\n",
       "2000-02-20    NaN\n",
       "2000-02-23    NaN\n",
       "2000-02-26    NaN\n",
       "dtype: float64"
      ]
     },
     "execution_count": 51,
     "metadata": {},
     "output_type": "execute_result"
    }
   ],
   "source": [
    "ts + ts[0:4:2]"
   ]
  },
  {
   "cell_type": "code",
   "execution_count": 52,
   "id": "f94df1fb-2a79-4f5e-9b1c-d07da57024ac",
   "metadata": {},
   "outputs": [
    {
     "data": {
      "text/plain": [
       "2000-01-01   -0.499270\n",
       "2000-01-02    0.726034\n",
       "2000-01-03    1.722926\n",
       "2000-01-04   -0.191779\n",
       "2000-01-05   -1.101040\n",
       "                ...   \n",
       "2002-09-22   -0.162136\n",
       "2002-09-23    0.618203\n",
       "2002-09-24   -0.064665\n",
       "2002-09-25   -1.741233\n",
       "2002-09-26   -0.904386\n",
       "Freq: D, Length: 1000, dtype: float64"
      ]
     },
     "execution_count": 52,
     "metadata": {},
     "output_type": "execute_result"
    }
   ],
   "source": [
    "long_ts = pd.Series(np.random.randn(1000), index = pd.date_range('1/1/2000', freq = '1D', periods = 1000))\n",
    "long_ts"
   ]
  },
  {
   "cell_type": "code",
   "execution_count": 53,
   "id": "703998c3-74cc-42cb-a33c-075c61c16ad1",
   "metadata": {},
   "outputs": [
    {
     "data": {
      "text/plain": [
       "2001-05-01   -0.719575\n",
       "2001-05-02   -1.838406\n",
       "2001-05-03    0.216416\n",
       "2001-05-04   -0.089921\n",
       "2001-05-05    0.165126\n",
       "2001-05-06    0.068116\n",
       "2001-05-07    0.265398\n",
       "2001-05-08   -1.625501\n",
       "2001-05-09    1.204334\n",
       "2001-05-10    0.406987\n",
       "2001-05-11    1.404931\n",
       "2001-05-12   -1.689200\n",
       "2001-05-13    1.879500\n",
       "2001-05-14   -0.284052\n",
       "2001-05-15   -0.082995\n",
       "2001-05-16   -1.235891\n",
       "2001-05-17    0.809366\n",
       "2001-05-18   -0.101556\n",
       "2001-05-19    0.834158\n",
       "2001-05-20   -0.329848\n",
       "2001-05-21    1.177662\n",
       "2001-05-22   -0.596350\n",
       "2001-05-23    1.301493\n",
       "2001-05-24    0.135345\n",
       "2001-05-25   -0.266744\n",
       "2001-05-26    1.622923\n",
       "2001-05-27   -0.338448\n",
       "2001-05-28   -0.879101\n",
       "2001-05-29    1.091530\n",
       "2001-05-30   -0.352826\n",
       "2001-05-31   -1.245688\n",
       "Freq: D, dtype: float64"
      ]
     },
     "execution_count": 53,
     "metadata": {},
     "output_type": "execute_result"
    }
   ],
   "source": [
    "long_ts['2001-05']"
   ]
  },
  {
   "cell_type": "code",
   "execution_count": 55,
   "id": "e3b6692a-c8e9-4ba8-a13c-b3cee715d5e0",
   "metadata": {},
   "outputs": [
    {
     "data": {
      "text/plain": [
       "2002-09-10    0.156973\n",
       "2002-09-11    0.365586\n",
       "2002-09-12    0.816079\n",
       "2002-09-13   -1.100522\n",
       "2002-09-14    1.007374\n",
       "2002-09-15    0.535090\n",
       "2002-09-16   -1.881768\n",
       "2002-09-17   -0.379163\n",
       "2002-09-18   -0.147439\n",
       "2002-09-19    0.985613\n",
       "2002-09-20   -0.674690\n",
       "2002-09-21    1.061425\n",
       "2002-09-22   -0.162136\n",
       "2002-09-23    0.618203\n",
       "2002-09-24   -0.064665\n",
       "2002-09-25   -1.741233\n",
       "2002-09-26   -0.904386\n",
       "Freq: D, dtype: float64"
      ]
     },
     "execution_count": 55,
     "metadata": {},
     "output_type": "execute_result"
    }
   ],
   "source": [
    "long_ts['2002-09-10':]"
   ]
  },
  {
   "cell_type": "code",
   "execution_count": 56,
   "id": "f557dd83-ae81-438e-beeb-0acee42e1011",
   "metadata": {},
   "outputs": [
    {
     "data": {
      "text/plain": [
       "2002-01-01    0.683021\n",
       "2002-01-02    0.092786\n",
       "2002-01-03   -0.184115\n",
       "2002-01-04    0.280474\n",
       "2002-01-05   -0.109045\n",
       "                ...   \n",
       "2002-09-22   -0.162136\n",
       "2002-09-23    0.618203\n",
       "2002-09-24   -0.064665\n",
       "2002-09-25   -1.741233\n",
       "2002-09-26   -0.904386\n",
       "Freq: D, Length: 269, dtype: float64"
      ]
     },
     "execution_count": 56,
     "metadata": {},
     "output_type": "execute_result"
    }
   ],
   "source": [
    "long_ts.truncate(before = '2002-01')"
   ]
  },
  {
   "cell_type": "code",
   "execution_count": 57,
   "id": "f6d30a57-454d-4d22-a599-b814ea56a8c2",
   "metadata": {},
   "outputs": [
    {
     "data": {
      "text/html": [
       "<div>\n",
       "<style scoped>\n",
       "    .dataframe tbody tr th:only-of-type {\n",
       "        vertical-align: middle;\n",
       "    }\n",
       "\n",
       "    .dataframe tbody tr th {\n",
       "        vertical-align: top;\n",
       "    }\n",
       "\n",
       "    .dataframe thead th {\n",
       "        text-align: right;\n",
       "    }\n",
       "</style>\n",
       "<table border=\"1\" class=\"dataframe\">\n",
       "  <thead>\n",
       "    <tr style=\"text-align: right;\">\n",
       "      <th></th>\n",
       "      <th>0</th>\n",
       "    </tr>\n",
       "  </thead>\n",
       "  <tbody>\n",
       "    <tr>\n",
       "      <th>2000-01-01</th>\n",
       "      <td>-0.499270</td>\n",
       "    </tr>\n",
       "    <tr>\n",
       "      <th>2000-01-02</th>\n",
       "      <td>0.726034</td>\n",
       "    </tr>\n",
       "    <tr>\n",
       "      <th>2000-01-03</th>\n",
       "      <td>1.722926</td>\n",
       "    </tr>\n",
       "    <tr>\n",
       "      <th>2000-01-04</th>\n",
       "      <td>-0.191779</td>\n",
       "    </tr>\n",
       "    <tr>\n",
       "      <th>2000-01-05</th>\n",
       "      <td>-1.101040</td>\n",
       "    </tr>\n",
       "    <tr>\n",
       "      <th>...</th>\n",
       "      <td>...</td>\n",
       "    </tr>\n",
       "    <tr>\n",
       "      <th>2002-09-22</th>\n",
       "      <td>-0.162136</td>\n",
       "    </tr>\n",
       "    <tr>\n",
       "      <th>2002-09-23</th>\n",
       "      <td>0.618203</td>\n",
       "    </tr>\n",
       "    <tr>\n",
       "      <th>2002-09-24</th>\n",
       "      <td>-0.064665</td>\n",
       "    </tr>\n",
       "    <tr>\n",
       "      <th>2002-09-25</th>\n",
       "      <td>-1.741233</td>\n",
       "    </tr>\n",
       "    <tr>\n",
       "      <th>2002-09-26</th>\n",
       "      <td>-0.904386</td>\n",
       "    </tr>\n",
       "  </tbody>\n",
       "</table>\n",
       "<p>1000 rows × 1 columns</p>\n",
       "</div>"
      ],
      "text/plain": [
       "                   0\n",
       "2000-01-01 -0.499270\n",
       "2000-01-02  0.726034\n",
       "2000-01-03  1.722926\n",
       "2000-01-04 -0.191779\n",
       "2000-01-05 -1.101040\n",
       "...              ...\n",
       "2002-09-22 -0.162136\n",
       "2002-09-23  0.618203\n",
       "2002-09-24 -0.064665\n",
       "2002-09-25 -1.741233\n",
       "2002-09-26 -0.904386\n",
       "\n",
       "[1000 rows x 1 columns]"
      ]
     },
     "execution_count": 57,
     "metadata": {},
     "output_type": "execute_result"
    }
   ],
   "source": [
    "df = pd.DataFrame(long_ts)\n",
    "df"
   ]
  },
  {
   "cell_type": "code",
   "execution_count": 63,
   "id": "0a9ff0e0-ec1e-4561-b31b-4c2de5729dac",
   "metadata": {},
   "outputs": [
    {
     "data": {
      "text/plain": [
       "0.25900789197298724"
      ]
     },
     "execution_count": 63,
     "metadata": {},
     "output_type": "execute_result"
    }
   ],
   "source": [
    "df.loc['2002-05-01',0]"
   ]
  },
  {
   "cell_type": "code",
   "execution_count": 64,
   "id": "e9741a1a-9960-43f3-9066-a9ff7013b35b",
   "metadata": {},
   "outputs": [
    {
     "data": {
      "text/html": [
       "<div>\n",
       "<style scoped>\n",
       "    .dataframe tbody tr th:only-of-type {\n",
       "        vertical-align: middle;\n",
       "    }\n",
       "\n",
       "    .dataframe tbody tr th {\n",
       "        vertical-align: top;\n",
       "    }\n",
       "\n",
       "    .dataframe thead th {\n",
       "        text-align: right;\n",
       "    }\n",
       "</style>\n",
       "<table border=\"1\" class=\"dataframe\">\n",
       "  <thead>\n",
       "    <tr style=\"text-align: right;\">\n",
       "      <th></th>\n",
       "      <th>0</th>\n",
       "    </tr>\n",
       "  </thead>\n",
       "  <tbody>\n",
       "    <tr>\n",
       "      <th>2002-05-01</th>\n",
       "      <td>0.259008</td>\n",
       "    </tr>\n",
       "    <tr>\n",
       "      <th>2002-05-02</th>\n",
       "      <td>-1.098630</td>\n",
       "    </tr>\n",
       "    <tr>\n",
       "      <th>2002-05-03</th>\n",
       "      <td>0.539382</td>\n",
       "    </tr>\n",
       "    <tr>\n",
       "      <th>2002-05-04</th>\n",
       "      <td>-1.007022</td>\n",
       "    </tr>\n",
       "    <tr>\n",
       "      <th>2002-05-05</th>\n",
       "      <td>0.243300</td>\n",
       "    </tr>\n",
       "    <tr>\n",
       "      <th>2002-05-06</th>\n",
       "      <td>-0.362021</td>\n",
       "    </tr>\n",
       "    <tr>\n",
       "      <th>2002-05-07</th>\n",
       "      <td>0.624467</td>\n",
       "    </tr>\n",
       "    <tr>\n",
       "      <th>2002-05-08</th>\n",
       "      <td>-0.154647</td>\n",
       "    </tr>\n",
       "    <tr>\n",
       "      <th>2002-05-09</th>\n",
       "      <td>-0.415759</td>\n",
       "    </tr>\n",
       "    <tr>\n",
       "      <th>2002-05-10</th>\n",
       "      <td>-0.421112</td>\n",
       "    </tr>\n",
       "    <tr>\n",
       "      <th>2002-05-11</th>\n",
       "      <td>-0.855302</td>\n",
       "    </tr>\n",
       "    <tr>\n",
       "      <th>2002-05-12</th>\n",
       "      <td>-0.173442</td>\n",
       "    </tr>\n",
       "    <tr>\n",
       "      <th>2002-05-13</th>\n",
       "      <td>1.455511</td>\n",
       "    </tr>\n",
       "    <tr>\n",
       "      <th>2002-05-14</th>\n",
       "      <td>-0.784244</td>\n",
       "    </tr>\n",
       "    <tr>\n",
       "      <th>2002-05-15</th>\n",
       "      <td>-1.057349</td>\n",
       "    </tr>\n",
       "    <tr>\n",
       "      <th>2002-05-16</th>\n",
       "      <td>-0.600139</td>\n",
       "    </tr>\n",
       "    <tr>\n",
       "      <th>2002-05-17</th>\n",
       "      <td>0.278217</td>\n",
       "    </tr>\n",
       "    <tr>\n",
       "      <th>2002-05-18</th>\n",
       "      <td>-0.086609</td>\n",
       "    </tr>\n",
       "    <tr>\n",
       "      <th>2002-05-19</th>\n",
       "      <td>1.701648</td>\n",
       "    </tr>\n",
       "    <tr>\n",
       "      <th>2002-05-20</th>\n",
       "      <td>-0.230809</td>\n",
       "    </tr>\n",
       "    <tr>\n",
       "      <th>2002-05-21</th>\n",
       "      <td>1.229610</td>\n",
       "    </tr>\n",
       "    <tr>\n",
       "      <th>2002-05-22</th>\n",
       "      <td>-0.621217</td>\n",
       "    </tr>\n",
       "    <tr>\n",
       "      <th>2002-05-23</th>\n",
       "      <td>-1.730043</td>\n",
       "    </tr>\n",
       "    <tr>\n",
       "      <th>2002-05-24</th>\n",
       "      <td>0.619671</td>\n",
       "    </tr>\n",
       "    <tr>\n",
       "      <th>2002-05-25</th>\n",
       "      <td>-0.816825</td>\n",
       "    </tr>\n",
       "    <tr>\n",
       "      <th>2002-05-26</th>\n",
       "      <td>0.070546</td>\n",
       "    </tr>\n",
       "    <tr>\n",
       "      <th>2002-05-27</th>\n",
       "      <td>0.480816</td>\n",
       "    </tr>\n",
       "    <tr>\n",
       "      <th>2002-05-28</th>\n",
       "      <td>-0.071255</td>\n",
       "    </tr>\n",
       "    <tr>\n",
       "      <th>2002-05-29</th>\n",
       "      <td>1.652428</td>\n",
       "    </tr>\n",
       "    <tr>\n",
       "      <th>2002-05-30</th>\n",
       "      <td>0.760291</td>\n",
       "    </tr>\n",
       "    <tr>\n",
       "      <th>2002-05-31</th>\n",
       "      <td>-0.301024</td>\n",
       "    </tr>\n",
       "  </tbody>\n",
       "</table>\n",
       "</div>"
      ],
      "text/plain": [
       "                   0\n",
       "2002-05-01  0.259008\n",
       "2002-05-02 -1.098630\n",
       "2002-05-03  0.539382\n",
       "2002-05-04 -1.007022\n",
       "2002-05-05  0.243300\n",
       "2002-05-06 -0.362021\n",
       "2002-05-07  0.624467\n",
       "2002-05-08 -0.154647\n",
       "2002-05-09 -0.415759\n",
       "2002-05-10 -0.421112\n",
       "2002-05-11 -0.855302\n",
       "2002-05-12 -0.173442\n",
       "2002-05-13  1.455511\n",
       "2002-05-14 -0.784244\n",
       "2002-05-15 -1.057349\n",
       "2002-05-16 -0.600139\n",
       "2002-05-17  0.278217\n",
       "2002-05-18 -0.086609\n",
       "2002-05-19  1.701648\n",
       "2002-05-20 -0.230809\n",
       "2002-05-21  1.229610\n",
       "2002-05-22 -0.621217\n",
       "2002-05-23 -1.730043\n",
       "2002-05-24  0.619671\n",
       "2002-05-25 -0.816825\n",
       "2002-05-26  0.070546\n",
       "2002-05-27  0.480816\n",
       "2002-05-28 -0.071255\n",
       "2002-05-29  1.652428\n",
       "2002-05-30  0.760291\n",
       "2002-05-31 -0.301024"
      ]
     },
     "execution_count": 64,
     "metadata": {},
     "output_type": "execute_result"
    }
   ],
   "source": [
    "df.loc['2002-05']"
   ]
  },
  {
   "cell_type": "code",
   "execution_count": 75,
   "id": "0b0cc1ab-b48b-49ff-a9ea-948be9ef0fd6",
   "metadata": {},
   "outputs": [
    {
     "data": {
      "text/plain": [
       "DatetimeIndex(['2000-01-01', '2000-01-02', '2000-01-02', '2000-01-02',\n",
       "               '2000-01-03'],\n",
       "              dtype='datetime64[ns]', freq=None)"
      ]
     },
     "execution_count": 75,
     "metadata": {},
     "output_type": "execute_result"
    }
   ],
   "source": [
    "dates = pd.DatetimeIndex(['1/1/2000', '1/2/2000', '1/2/2000', '1/2/2000', '1/3/2000'])\n",
    "dates"
   ]
  },
  {
   "cell_type": "code",
   "execution_count": 76,
   "id": "e5ac8fab-535e-4382-894e-b71f0163e489",
   "metadata": {},
   "outputs": [
    {
     "data": {
      "text/plain": [
       "2000-01-01    0\n",
       "2000-01-02    1\n",
       "2000-01-02    2\n",
       "2000-01-02    3\n",
       "2000-01-03    4\n",
       "dtype: int32"
      ]
     },
     "execution_count": 76,
     "metadata": {},
     "output_type": "execute_result"
    }
   ],
   "source": [
    "ts = pd.Series(np.arange(5), index = dates)\n",
    "ts"
   ]
  },
  {
   "cell_type": "code",
   "execution_count": 77,
   "id": "975c7224-f3ee-4267-8845-132cef1f22bb",
   "metadata": {},
   "outputs": [
    {
     "data": {
      "text/plain": [
       "2000-01-01    0.0\n",
       "2000-01-02    2.0\n",
       "2000-01-03    4.0\n",
       "dtype: float64"
      ]
     },
     "execution_count": 77,
     "metadata": {},
     "output_type": "execute_result"
    }
   ],
   "source": [
    "ts.groupby(level = 0).mean()"
   ]
  },
  {
   "cell_type": "code",
   "execution_count": 82,
   "id": "785117dc-f19a-41f6-b137-d054cc7795a3",
   "metadata": {},
   "outputs": [
    {
     "data": {
      "text/html": [
       "<div>\n",
       "<style scoped>\n",
       "    .dataframe tbody tr th:only-of-type {\n",
       "        vertical-align: middle;\n",
       "    }\n",
       "\n",
       "    .dataframe tbody tr th {\n",
       "        vertical-align: top;\n",
       "    }\n",
       "\n",
       "    .dataframe thead th {\n",
       "        text-align: right;\n",
       "    }\n",
       "</style>\n",
       "<table border=\"1\" class=\"dataframe\">\n",
       "  <thead>\n",
       "    <tr style=\"text-align: right;\">\n",
       "      <th></th>\n",
       "      <th>0</th>\n",
       "    </tr>\n",
       "  </thead>\n",
       "  <tbody>\n",
       "    <tr>\n",
       "      <th>2000-01-01</th>\n",
       "      <td>0</td>\n",
       "    </tr>\n",
       "    <tr>\n",
       "      <th>2000-01-02</th>\n",
       "      <td>1</td>\n",
       "    </tr>\n",
       "    <tr>\n",
       "      <th>2000-01-02</th>\n",
       "      <td>2</td>\n",
       "    </tr>\n",
       "    <tr>\n",
       "      <th>2000-01-02</th>\n",
       "      <td>3</td>\n",
       "    </tr>\n",
       "    <tr>\n",
       "      <th>2000-01-03</th>\n",
       "      <td>4</td>\n",
       "    </tr>\n",
       "  </tbody>\n",
       "</table>\n",
       "</div>"
      ],
      "text/plain": [
       "            0\n",
       "2000-01-01  0\n",
       "2000-01-02  1\n",
       "2000-01-02  2\n",
       "2000-01-02  3\n",
       "2000-01-03  4"
      ]
     },
     "execution_count": 82,
     "metadata": {},
     "output_type": "execute_result"
    }
   ],
   "source": [
    "df = pd.DataFrame(ts)\n",
    "df"
   ]
  },
  {
   "cell_type": "code",
   "execution_count": 84,
   "id": "729f2f82-7c9b-4ad0-aa02-224110e6c76c",
   "metadata": {},
   "outputs": [
    {
     "data": {
      "text/html": [
       "<div>\n",
       "<style scoped>\n",
       "    .dataframe tbody tr th:only-of-type {\n",
       "        vertical-align: middle;\n",
       "    }\n",
       "\n",
       "    .dataframe tbody tr th {\n",
       "        vertical-align: top;\n",
       "    }\n",
       "\n",
       "    .dataframe thead th {\n",
       "        text-align: right;\n",
       "    }\n",
       "</style>\n",
       "<table border=\"1\" class=\"dataframe\">\n",
       "  <thead>\n",
       "    <tr style=\"text-align: right;\">\n",
       "      <th></th>\n",
       "      <th>index</th>\n",
       "      <th>0</th>\n",
       "    </tr>\n",
       "  </thead>\n",
       "  <tbody>\n",
       "    <tr>\n",
       "      <th>0</th>\n",
       "      <td>2000-01-01</td>\n",
       "      <td>0</td>\n",
       "    </tr>\n",
       "    <tr>\n",
       "      <th>1</th>\n",
       "      <td>2000-01-02</td>\n",
       "      <td>1</td>\n",
       "    </tr>\n",
       "    <tr>\n",
       "      <th>2</th>\n",
       "      <td>2000-01-02</td>\n",
       "      <td>2</td>\n",
       "    </tr>\n",
       "    <tr>\n",
       "      <th>3</th>\n",
       "      <td>2000-01-02</td>\n",
       "      <td>3</td>\n",
       "    </tr>\n",
       "    <tr>\n",
       "      <th>4</th>\n",
       "      <td>2000-01-03</td>\n",
       "      <td>4</td>\n",
       "    </tr>\n",
       "  </tbody>\n",
       "</table>\n",
       "</div>"
      ],
      "text/plain": [
       "       index  0\n",
       "0 2000-01-01  0\n",
       "1 2000-01-02  1\n",
       "2 2000-01-02  2\n",
       "3 2000-01-02  3\n",
       "4 2000-01-03  4"
      ]
     },
     "execution_count": 84,
     "metadata": {},
     "output_type": "execute_result"
    }
   ],
   "source": [
    "df = df.reset_index()\n",
    "df"
   ]
  },
  {
   "cell_type": "code",
   "execution_count": 85,
   "id": "60cd1ea0-9370-4ab6-a133-1ca72cf7c76a",
   "metadata": {},
   "outputs": [
    {
     "data": {
      "text/html": [
       "<div>\n",
       "<style scoped>\n",
       "    .dataframe tbody tr th:only-of-type {\n",
       "        vertical-align: middle;\n",
       "    }\n",
       "\n",
       "    .dataframe tbody tr th {\n",
       "        vertical-align: top;\n",
       "    }\n",
       "\n",
       "    .dataframe thead th {\n",
       "        text-align: right;\n",
       "    }\n",
       "</style>\n",
       "<table border=\"1\" class=\"dataframe\">\n",
       "  <thead>\n",
       "    <tr style=\"text-align: right;\">\n",
       "      <th></th>\n",
       "      <th>0</th>\n",
       "    </tr>\n",
       "    <tr>\n",
       "      <th>index</th>\n",
       "      <th></th>\n",
       "    </tr>\n",
       "  </thead>\n",
       "  <tbody>\n",
       "    <tr>\n",
       "      <th>2000-01-01</th>\n",
       "      <td>0.0</td>\n",
       "    </tr>\n",
       "    <tr>\n",
       "      <th>2000-01-02</th>\n",
       "      <td>2.0</td>\n",
       "    </tr>\n",
       "    <tr>\n",
       "      <th>2000-01-03</th>\n",
       "      <td>4.0</td>\n",
       "    </tr>\n",
       "  </tbody>\n",
       "</table>\n",
       "</div>"
      ],
      "text/plain": [
       "              0\n",
       "index          \n",
       "2000-01-01  0.0\n",
       "2000-01-02  2.0\n",
       "2000-01-03  4.0"
      ]
     },
     "execution_count": 85,
     "metadata": {},
     "output_type": "execute_result"
    }
   ],
   "source": [
    "df.groupby('index').mean()"
   ]
  },
  {
   "cell_type": "code",
   "execution_count": 108,
   "id": "784ea80e-70ec-43c2-ae0f-5136b1c14a39",
   "metadata": {},
   "outputs": [
    {
     "data": {
      "text/plain": [
       "2000-01-31    0.399756\n",
       "2000-02-29    1.111377\n",
       "2000-03-31   -0.358127\n",
       "2000-04-30   -1.391653\n",
       "2000-05-31   -0.424613\n",
       "Freq: M, dtype: float64"
      ]
     },
     "execution_count": 108,
     "metadata": {},
     "output_type": "execute_result"
    }
   ],
   "source": [
    "ts = pd.Series(np.random.randn(5), index=pd.date_range('1/1/2000', periods=5, freq='M'))\n",
    "ts"
   ]
  },
  {
   "cell_type": "code",
   "execution_count": 112,
   "id": "9e431b3f-1f6f-48e9-a6fe-91ca1082f4ea",
   "metadata": {},
   "outputs": [
    {
     "data": {
      "text/plain": [
       "2000-01-31    1.111377\n",
       "2000-02-29   -0.358127\n",
       "2000-03-31   -1.391653\n",
       "2000-04-30   -0.424613\n",
       "2000-05-31         NaN\n",
       "Freq: M, dtype: float64"
      ]
     },
     "execution_count": 112,
     "metadata": {},
     "output_type": "execute_result"
    }
   ],
   "source": [
    "ts.shift(-1)"
   ]
  },
  {
   "cell_type": "code",
   "execution_count": 113,
   "id": "c8c24de1-3550-47dc-b005-df8fcad0d6fc",
   "metadata": {},
   "outputs": [
    {
     "data": {
      "text/plain": [
       "2000-01-31         NaN\n",
       "2000-02-29         NaN\n",
       "2000-03-31    0.399756\n",
       "2000-04-30    1.111377\n",
       "2000-05-31   -0.358127\n",
       "Freq: M, dtype: float64"
      ]
     },
     "execution_count": 113,
     "metadata": {},
     "output_type": "execute_result"
    }
   ],
   "source": [
    "ts.shift(2)"
   ]
  },
  {
   "cell_type": "code",
   "execution_count": 116,
   "id": "2c2ae581-67f5-4b68-bf69-9b7c3e7636e2",
   "metadata": {},
   "outputs": [
    {
     "data": {
      "text/plain": [
       "2000-01-31    0.359694\n",
       "2000-02-29   -3.103302\n",
       "2000-03-31    0.257340\n",
       "2000-04-30    3.277462\n",
       "2000-05-31         NaN\n",
       "Freq: M, dtype: float64"
      ]
     },
     "execution_count": 116,
     "metadata": {},
     "output_type": "execute_result"
    }
   ],
   "source": [
    "#이전달과의 변화율\n",
    "ts/ts.shift(-1)"
   ]
  },
  {
   "cell_type": "code",
   "execution_count": 5,
   "id": "8cc88d9d-2c0d-49c2-806b-84991adc56c2",
   "metadata": {},
   "outputs": [
    {
     "data": {
      "text/plain": [
       "DatetimeIndex(['2012-03-21 09:30:00', '2012-03-22 09:30:00',\n",
       "               '2012-03-23 09:30:00', '2012-03-24 09:30:00',\n",
       "               '2012-03-25 09:30:00', '2012-03-26 09:30:00',\n",
       "               '2012-03-27 09:30:00', '2012-03-28 09:30:00',\n",
       "               '2012-03-29 09:30:00', '2012-03-30 09:30:00'],\n",
       "              dtype='datetime64[ns]', freq='D')"
      ]
     },
     "execution_count": 5,
     "metadata": {},
     "output_type": "execute_result"
    }
   ],
   "source": [
    "ts = pd.date_range('3-21-2012 9:30', periods = 10)\n",
    "ts"
   ]
  },
  {
   "cell_type": "code",
   "execution_count": 127,
   "id": "e1a049e2-6f76-46c4-835f-ca9b28907766",
   "metadata": {},
   "outputs": [
    {
     "data": {
      "text/plain": [
       "DatetimeIndex(['2012-03-21 09:30:00+00:00', '2012-03-22 09:30:00+00:00',\n",
       "               '2012-03-23 09:30:00+00:00', '2012-03-24 09:30:00+00:00',\n",
       "               '2012-03-25 09:30:00+00:00', '2012-03-26 09:30:00+00:00',\n",
       "               '2012-03-27 09:30:00+00:00', '2012-03-28 09:30:00+00:00',\n",
       "               '2012-03-29 09:30:00+00:00', '2012-03-30 09:30:00+00:00'],\n",
       "              dtype='datetime64[ns, UTC]', freq='D')"
      ]
     },
     "execution_count": 127,
     "metadata": {},
     "output_type": "execute_result"
    }
   ],
   "source": [
    "ts = ts.tz_localize('utc')\n",
    "ts"
   ]
  },
  {
   "cell_type": "code",
   "execution_count": 128,
   "id": "d3a1f24d-87da-4b1e-aa61-f976a5ac3fb0",
   "metadata": {},
   "outputs": [
    {
     "data": {
      "text/plain": [
       "DatetimeIndex(['2012-03-21 05:30:00-04:00', '2012-03-22 05:30:00-04:00',\n",
       "               '2012-03-23 05:30:00-04:00', '2012-03-24 05:30:00-04:00',\n",
       "               '2012-03-25 05:30:00-04:00', '2012-03-26 05:30:00-04:00',\n",
       "               '2012-03-27 05:30:00-04:00', '2012-03-28 05:30:00-04:00',\n",
       "               '2012-03-29 05:30:00-04:00', '2012-03-30 05:30:00-04:00'],\n",
       "              dtype='datetime64[ns, America/New_York]', freq='D')"
      ]
     },
     "execution_count": 128,
     "metadata": {},
     "output_type": "execute_result"
    }
   ],
   "source": [
    "ts.tz_convert('America/New_York')"
   ]
  },
  {
   "cell_type": "code",
   "execution_count": 129,
   "id": "401464a7-a373-41a8-aee9-07450db97425",
   "metadata": {},
   "outputs": [
    {
     "data": {
      "text/plain": [
       "DatetimeIndex(['2012-03-21 18:30:00+09:00', '2012-03-22 18:30:00+09:00',\n",
       "               '2012-03-23 18:30:00+09:00', '2012-03-24 18:30:00+09:00',\n",
       "               '2012-03-25 18:30:00+09:00', '2012-03-26 18:30:00+09:00',\n",
       "               '2012-03-27 18:30:00+09:00', '2012-03-28 18:30:00+09:00',\n",
       "               '2012-03-29 18:30:00+09:00', '2012-03-30 18:30:00+09:00'],\n",
       "              dtype='datetime64[ns, Asia/Seoul]', freq='D')"
      ]
     },
     "execution_count": 129,
     "metadata": {},
     "output_type": "execute_result"
    }
   ],
   "source": [
    "ts.tz_convert('Asia/Seoul')"
   ]
  },
  {
   "cell_type": "code",
   "execution_count": 9,
   "id": "88e2a2d5-d9f9-459c-80ac-26b5fba7768e",
   "metadata": {},
   "outputs": [
    {
     "data": {
      "text/plain": [
       "0     apple\n",
       "1    orange\n",
       "2     apple\n",
       "3     apple\n",
       "4     apple\n",
       "5    orange\n",
       "6     apple\n",
       "7     apple\n",
       "dtype: object"
      ]
     },
     "execution_count": 9,
     "metadata": {},
     "output_type": "execute_result"
    }
   ],
   "source": [
    "values = pd.Series(['apple', 'orange', 'apple', 'apple'] * 2) \n",
    "values"
   ]
  },
  {
   "cell_type": "code",
   "execution_count": 10,
   "id": "4d0e105b-681f-4954-81c5-397e32f4d38c",
   "metadata": {},
   "outputs": [
    {
     "data": {
      "text/plain": [
       "array(['apple', 'orange'], dtype=object)"
      ]
     },
     "execution_count": 10,
     "metadata": {},
     "output_type": "execute_result"
    }
   ],
   "source": [
    "values.unique()"
   ]
  },
  {
   "cell_type": "code",
   "execution_count": 11,
   "id": "9feb55f5-906e-459f-b3e2-afe76ad9697a",
   "metadata": {},
   "outputs": [
    {
     "data": {
      "text/plain": [
       "0     apple\n",
       "1    orange\n",
       "2     apple\n",
       "3     apple\n",
       "4     apple\n",
       "5    orange\n",
       "6     apple\n",
       "7     apple\n",
       "dtype: category\n",
       "Categories (2, object): ['apple', 'orange']"
      ]
     },
     "execution_count": 11,
     "metadata": {},
     "output_type": "execute_result"
    }
   ],
   "source": [
    "values = values.astype('category')\n",
    "values"
   ]
  },
  {
   "cell_type": "markdown",
   "id": "d435da4d-d6d4-48e0-a3f9-5e2a54923a68",
   "metadata": {},
   "source": [
    "# 고급 pandas"
   ]
  },
  {
   "cell_type": "code",
   "execution_count": 13,
   "id": "5e23a101-871b-4665-879b-cadd40f9dada",
   "metadata": {},
   "outputs": [
    {
     "data": {
      "text/plain": [
       "8"
      ]
     },
     "execution_count": 13,
     "metadata": {},
     "output_type": "execute_result"
    }
   ],
   "source": [
    "fruits = ['apple', 'orange', 'apple', 'apple'] * 2\n",
    "N = len(fruits)\n",
    "N"
   ]
  },
  {
   "cell_type": "code",
   "execution_count": 14,
   "id": "f7abd2a3-10fb-48bd-864b-e3bdb4958cb9",
   "metadata": {},
   "outputs": [
    {
     "data": {
      "text/html": [
       "<div>\n",
       "<style scoped>\n",
       "    .dataframe tbody tr th:only-of-type {\n",
       "        vertical-align: middle;\n",
       "    }\n",
       "\n",
       "    .dataframe tbody tr th {\n",
       "        vertical-align: top;\n",
       "    }\n",
       "\n",
       "    .dataframe thead th {\n",
       "        text-align: right;\n",
       "    }\n",
       "</style>\n",
       "<table border=\"1\" class=\"dataframe\">\n",
       "  <thead>\n",
       "    <tr style=\"text-align: right;\">\n",
       "      <th></th>\n",
       "      <th>fruit</th>\n",
       "      <th>basket_id</th>\n",
       "      <th>count</th>\n",
       "    </tr>\n",
       "  </thead>\n",
       "  <tbody>\n",
       "    <tr>\n",
       "      <th>0</th>\n",
       "      <td>apple</td>\n",
       "      <td>0</td>\n",
       "      <td>10</td>\n",
       "    </tr>\n",
       "    <tr>\n",
       "      <th>1</th>\n",
       "      <td>orange</td>\n",
       "      <td>1</td>\n",
       "      <td>14</td>\n",
       "    </tr>\n",
       "    <tr>\n",
       "      <th>2</th>\n",
       "      <td>apple</td>\n",
       "      <td>2</td>\n",
       "      <td>7</td>\n",
       "    </tr>\n",
       "    <tr>\n",
       "      <th>3</th>\n",
       "      <td>apple</td>\n",
       "      <td>3</td>\n",
       "      <td>14</td>\n",
       "    </tr>\n",
       "    <tr>\n",
       "      <th>4</th>\n",
       "      <td>apple</td>\n",
       "      <td>4</td>\n",
       "      <td>13</td>\n",
       "    </tr>\n",
       "    <tr>\n",
       "      <th>5</th>\n",
       "      <td>orange</td>\n",
       "      <td>5</td>\n",
       "      <td>12</td>\n",
       "    </tr>\n",
       "    <tr>\n",
       "      <th>6</th>\n",
       "      <td>apple</td>\n",
       "      <td>6</td>\n",
       "      <td>13</td>\n",
       "    </tr>\n",
       "    <tr>\n",
       "      <th>7</th>\n",
       "      <td>apple</td>\n",
       "      <td>7</td>\n",
       "      <td>8</td>\n",
       "    </tr>\n",
       "  </tbody>\n",
       "</table>\n",
       "</div>"
      ],
      "text/plain": [
       "    fruit  basket_id  count\n",
       "0   apple          0     10\n",
       "1  orange          1     14\n",
       "2   apple          2      7\n",
       "3   apple          3     14\n",
       "4   apple          4     13\n",
       "5  orange          5     12\n",
       "6   apple          6     13\n",
       "7   apple          7      8"
      ]
     },
     "execution_count": 14,
     "metadata": {},
     "output_type": "execute_result"
    }
   ],
   "source": [
    "df = pd.DataFrame({'fruit': fruits, 'basket_id': np.arange(N), 'count': np.random.randint(3, 15, size=N)}) \n",
    "df"
   ]
  },
  {
   "cell_type": "code",
   "execution_count": 20,
   "id": "2f1bb17e-caab-4ec9-b3b2-e73235e0f75d",
   "metadata": {},
   "outputs": [
    {
     "data": {
      "text/html": [
       "<div>\n",
       "<style scoped>\n",
       "    .dataframe tbody tr th:only-of-type {\n",
       "        vertical-align: middle;\n",
       "    }\n",
       "\n",
       "    .dataframe tbody tr th {\n",
       "        vertical-align: top;\n",
       "    }\n",
       "\n",
       "    .dataframe thead th {\n",
       "        text-align: right;\n",
       "    }\n",
       "</style>\n",
       "<table border=\"1\" class=\"dataframe\">\n",
       "  <thead>\n",
       "    <tr style=\"text-align: right;\">\n",
       "      <th></th>\n",
       "      <th>fruit</th>\n",
       "      <th>basket_id</th>\n",
       "      <th>count</th>\n",
       "    </tr>\n",
       "  </thead>\n",
       "  <tbody>\n",
       "    <tr>\n",
       "      <th>0</th>\n",
       "      <td>apple</td>\n",
       "      <td>0</td>\n",
       "      <td>10</td>\n",
       "    </tr>\n",
       "    <tr>\n",
       "      <th>1</th>\n",
       "      <td>orange</td>\n",
       "      <td>1</td>\n",
       "      <td>14</td>\n",
       "    </tr>\n",
       "    <tr>\n",
       "      <th>2</th>\n",
       "      <td>apple</td>\n",
       "      <td>2</td>\n",
       "      <td>7</td>\n",
       "    </tr>\n",
       "    <tr>\n",
       "      <th>3</th>\n",
       "      <td>apple</td>\n",
       "      <td>3</td>\n",
       "      <td>14</td>\n",
       "    </tr>\n",
       "    <tr>\n",
       "      <th>4</th>\n",
       "      <td>apple</td>\n",
       "      <td>4</td>\n",
       "      <td>13</td>\n",
       "    </tr>\n",
       "    <tr>\n",
       "      <th>5</th>\n",
       "      <td>orange</td>\n",
       "      <td>5</td>\n",
       "      <td>12</td>\n",
       "    </tr>\n",
       "    <tr>\n",
       "      <th>6</th>\n",
       "      <td>apple</td>\n",
       "      <td>6</td>\n",
       "      <td>13</td>\n",
       "    </tr>\n",
       "    <tr>\n",
       "      <th>7</th>\n",
       "      <td>apple</td>\n",
       "      <td>7</td>\n",
       "      <td>8</td>\n",
       "    </tr>\n",
       "  </tbody>\n",
       "</table>\n",
       "</div>"
      ],
      "text/plain": [
       "    fruit  basket_id  count\n",
       "0   apple          0     10\n",
       "1  orange          1     14\n",
       "2   apple          2      7\n",
       "3   apple          3     14\n",
       "4   apple          4     13\n",
       "5  orange          5     12\n",
       "6   apple          6     13\n",
       "7   apple          7      8"
      ]
     },
     "execution_count": 20,
     "metadata": {},
     "output_type": "execute_result"
    }
   ],
   "source": [
    "df['fruit'] = df['fruit'].astype('category')\n",
    "df"
   ]
  },
  {
   "cell_type": "code",
   "execution_count": 21,
   "id": "257508c6-fdf1-407e-a963-42ed36478606",
   "metadata": {},
   "outputs": [
    {
     "name": "stdout",
     "output_type": "stream",
     "text": [
      "<class 'pandas.core.frame.DataFrame'>\n",
      "RangeIndex: 8 entries, 0 to 7\n",
      "Data columns (total 3 columns):\n",
      " #   Column     Non-Null Count  Dtype   \n",
      "---  ------     --------------  -----   \n",
      " 0   fruit      8 non-null      category\n",
      " 1   basket_id  8 non-null      int32   \n",
      " 2   count      8 non-null      int32   \n",
      "dtypes: category(1), int32(2)\n",
      "memory usage: 324.0 bytes\n"
     ]
    }
   ],
   "source": [
    "df.info()"
   ]
  },
  {
   "cell_type": "code",
   "execution_count": 25,
   "id": "6fa40922-df37-48af-a524-70be0b92b893",
   "metadata": {},
   "outputs": [
    {
     "data": {
      "text/plain": [
       "['apple', 'orange', 'apple', 'apple', 'apple', 'orange', 'apple', 'apple']\n",
       "Categories (2, object): ['apple', 'orange']"
      ]
     },
     "execution_count": 25,
     "metadata": {},
     "output_type": "execute_result"
    }
   ],
   "source": [
    "df['fruit'].values"
   ]
  },
  {
   "cell_type": "code",
   "execution_count": 26,
   "id": "0ad933a6-f815-474c-9136-48a05fe027ed",
   "metadata": {},
   "outputs": [
    {
     "data": {
      "text/plain": [
       "array([0, 1, 0, 0, 0, 1, 0, 0], dtype=int8)"
      ]
     },
     "execution_count": 26,
     "metadata": {},
     "output_type": "execute_result"
    }
   ],
   "source": [
    "df['fruit'].values.codes"
   ]
  },
  {
   "cell_type": "code",
   "execution_count": 27,
   "id": "c7a4f857-a461-4f77-9eb2-094664002c32",
   "metadata": {},
   "outputs": [
    {
     "data": {
      "text/plain": [
       "Index(['apple', 'orange'], dtype='object')"
      ]
     },
     "execution_count": 27,
     "metadata": {},
     "output_type": "execute_result"
    }
   ],
   "source": [
    "df['fruit'].values.categories"
   ]
  },
  {
   "cell_type": "code",
   "execution_count": 30,
   "id": "7c5e70ee-5f16-4b08-bc76-236528d19765",
   "metadata": {},
   "outputs": [
    {
     "data": {
      "text/plain": [
       "['A', 'B', 'C', 'A', 'A', 'B']\n",
       "Categories (3, object): ['A', 'B', 'C']"
      ]
     },
     "execution_count": 30,
     "metadata": {},
     "output_type": "execute_result"
    }
   ],
   "source": [
    "codes = [0,1,2,0,0,1]\n",
    "categories = ['A','B','C']\n",
    "cats = pd.Categorical.from_codes(codes,categories)\n",
    "cats"
   ]
  }
 ],
 "metadata": {
  "kernelspec": {
   "display_name": "Python 3 (ipykernel)",
   "language": "python",
   "name": "python3"
  },
  "language_info": {
   "codemirror_mode": {
    "name": "ipython",
    "version": 3
   },
   "file_extension": ".py",
   "mimetype": "text/x-python",
   "name": "python",
   "nbconvert_exporter": "python",
   "pygments_lexer": "ipython3",
   "version": "3.9.12"
  },
  "toc-autonumbering": true
 },
 "nbformat": 4,
 "nbformat_minor": 5
}
