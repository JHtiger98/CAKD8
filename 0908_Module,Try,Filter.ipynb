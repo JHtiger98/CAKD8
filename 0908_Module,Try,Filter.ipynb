{
 "cells": [
  {
   "cell_type": "markdown",
   "id": "f9f962b9-9008-427e-a984-cab7f3e6a901",
   "metadata": {},
   "source": [
    "# Module"
   ]
  },
  {
   "cell_type": "code",
   "execution_count": 9,
   "id": "f4532972-c9d8-4f9d-b105-91b26bc723b2",
   "metadata": {},
   "outputs": [
    {
     "data": {
      "text/plain": [
       "'C:\\\\Users\\\\admin\\\\Documents\\\\Python_Jupyter'"
      ]
     },
     "execution_count": 9,
     "metadata": {},
     "output_type": "execute_result"
    }
   ],
   "source": [
    "import os\n",
    "os.getcwd()"
   ]
  },
  {
   "cell_type": "markdown",
   "id": "520c428f-662c-4450-a1dd-cc889d3d7cf8",
   "metadata": {},
   "source": [
    "```\n",
    "- 새 디렉토리 만들기\n",
    "os.mkdir(\"C:/Users/admin/Documents/Python_Jupyter/abc/a\")\n",
    "\n",
    "- 디렉토리 바꾸기\n",
    "os.chdir(\"C:/Users/admin/Documents/Python_Jupyter\")\n",
    "```"
   ]
  },
  {
   "cell_type": "code",
   "execution_count": 3,
   "id": "882a5f68-773a-4835-a54c-bd9105767e83",
   "metadata": {},
   "outputs": [
    {
     "data": {
      "text/plain": [
       "['C:\\\\Users\\\\admin\\\\Documents\\\\Python_Jupyter\\\\abc\\\\a',\n",
       " 'C:\\\\Users\\\\admin\\\\AppData\\\\Local\\\\Programs\\\\Python\\\\Python310\\\\python310.zip',\n",
       " 'C:\\\\Users\\\\admin\\\\AppData\\\\Local\\\\Programs\\\\Python\\\\Python310\\\\DLLs',\n",
       " 'C:\\\\Users\\\\admin\\\\AppData\\\\Local\\\\Programs\\\\Python\\\\Python310\\\\lib',\n",
       " 'C:\\\\Users\\\\admin\\\\AppData\\\\Local\\\\Programs\\\\Python\\\\Python310',\n",
       " '',\n",
       " 'C:\\\\Users\\\\admin\\\\AppData\\\\Local\\\\Programs\\\\Python\\\\Python310\\\\lib\\\\site-packages',\n",
       " 'C:\\\\Users\\\\admin\\\\AppData\\\\Local\\\\Programs\\\\Python\\\\Python310\\\\lib\\\\site-packages\\\\win32',\n",
       " 'C:\\\\Users\\\\admin\\\\AppData\\\\Local\\\\Programs\\\\Python\\\\Python310\\\\lib\\\\site-packages\\\\win32\\\\lib',\n",
       " 'C:\\\\Users\\\\admin\\\\AppData\\\\Local\\\\Programs\\\\Python\\\\Python310\\\\lib\\\\site-packages\\\\Pythonwin']"
      ]
     },
     "execution_count": 3,
     "metadata": {},
     "output_type": "execute_result"
    }
   ],
   "source": [
    "import sys\n",
    "sys.path"
   ]
  },
  {
   "cell_type": "code",
   "execution_count": 5,
   "id": "2234f384-d005-467d-b09f-71e71fdb68d2",
   "metadata": {},
   "outputs": [
    {
     "data": {
      "text/plain": [
       "['C:\\\\Users\\\\admin\\\\Documents\\\\Python_Jupyter\\\\abc\\\\a',\n",
       " 'C:\\\\Users\\\\admin\\\\AppData\\\\Local\\\\Programs\\\\Python\\\\Python310\\\\python310.zip',\n",
       " 'C:\\\\Users\\\\admin\\\\AppData\\\\Local\\\\Programs\\\\Python\\\\Python310\\\\DLLs',\n",
       " 'C:\\\\Users\\\\admin\\\\AppData\\\\Local\\\\Programs\\\\Python\\\\Python310\\\\lib',\n",
       " 'C:\\\\Users\\\\admin\\\\AppData\\\\Local\\\\Programs\\\\Python\\\\Python310',\n",
       " '',\n",
       " 'C:\\\\Users\\\\admin\\\\AppData\\\\Local\\\\Programs\\\\Python\\\\Python310\\\\lib\\\\site-packages',\n",
       " 'C:\\\\Users\\\\admin\\\\AppData\\\\Local\\\\Programs\\\\Python\\\\Python310\\\\lib\\\\site-packages\\\\win32',\n",
       " 'C:\\\\Users\\\\admin\\\\AppData\\\\Local\\\\Programs\\\\Python\\\\Python310\\\\lib\\\\site-packages\\\\win32\\\\lib',\n",
       " 'C:\\\\Users\\\\admin\\\\AppData\\\\Local\\\\Programs\\\\Python\\\\Python310\\\\lib\\\\site-packages\\\\Pythonwin',\n",
       " 'C:\\\\Users\\\\admin\\\\Documents\\\\Python_Jupyter\\\\abc\\\\a']"
      ]
     },
     "execution_count": 5,
     "metadata": {},
     "output_type": "execute_result"
    }
   ],
   "source": [
    "sys.path.append(\"C:\\\\Users\\\\admin\\\\Documents\\\\Python_Jupyter\\\\abc\\\\a\")\n",
    "sys.path"
   ]
  },
  {
   "cell_type": "markdown",
   "id": "e058433d-cca6-433d-80e9-bf635e682169",
   "metadata": {},
   "source": [
    "# 예외처리 (Try..Except)"
   ]
  },
  {
   "cell_type": "code",
   "execution_count": 7,
   "id": "da22b19f-644b-4e66-a2db-8d5a5bd659b0",
   "metadata": {},
   "outputs": [
    {
     "name": "stdout",
     "output_type": "stream",
     "text": [
      "Hello\n",
      "Good\n",
      "에러입니다\n"
     ]
    }
   ],
   "source": [
    "a = ['Hello', 'Good']\n",
    "try:\n",
    "    for i in range(3):\n",
    "        print(a[i])\n",
    "except:\n",
    "    print(\"에러입니다\")"
   ]
  },
  {
   "cell_type": "code",
   "execution_count": 21,
   "id": "b8d23860-3d8b-4d98-ad54-1d86065a0111",
   "metadata": {},
   "outputs": [
    {
     "name": "stdout",
     "output_type": "stream",
     "text": [
      "2.0\n",
      "division by zero\n"
     ]
    }
   ],
   "source": [
    "try:\n",
    "    print(4/2)\n",
    "    print(4/0)\n",
    "    print(4/1)\n",
    "except ZeroDivisionError as e:\n",
    "    print(e)"
   ]
  },
  {
   "cell_type": "code",
   "execution_count": 24,
   "id": "1da6c8ac-6586-443b-a0ee-c29bcafdc58f",
   "metadata": {},
   "outputs": [
    {
     "name": "stdout",
     "output_type": "stream",
     "text": [
      "Hello\n",
      "Good\n",
      "list index out of range\n"
     ]
    }
   ],
   "source": [
    "a = ['Hello', 'Good']\n",
    "try:\n",
    "    for i in range(3):\n",
    "        print(a[i])\n",
    "except IndexError as e:\n",
    "    print(e)"
   ]
  },
  {
   "cell_type": "code",
   "execution_count": 55,
   "id": "16e60bd3-5895-40b4-8e4d-24c0cf506aff",
   "metadata": {},
   "outputs": [
    {
     "name": "stdout",
     "output_type": "stream",
     "text": [
      "{'a': 0, 'b': 1, 'c': 2}\n"
     ]
    }
   ],
   "source": [
    "a = ['a', 'b', 'c']\n",
    "c = {}\n",
    "c = {}\n",
    "for i, j in enumerate(a):\n",
    "    c[j] = i\n",
    "print(c) "
   ]
  },
  {
   "cell_type": "markdown",
   "id": "9971acd2-93a7-40d7-8acc-696e0c7369a8",
   "metadata": {},
   "source": [
    "# Filter\n",
    "- filter(함수이름, 자료)\n",
    "- 들어가는 함수는 참, 거짓을 output으로 내야한다\n",
    "- 원소 하나하나에 대하여 함수를 적용시켜준다"
   ]
  },
  {
   "cell_type": "code",
   "execution_count": 60,
   "id": "61cbad86-a6e7-49c9-995a-ffc81f17d709",
   "metadata": {},
   "outputs": [
    {
     "data": {
      "text/plain": [
       "[1, 5]"
      ]
     },
     "execution_count": 60,
     "metadata": {},
     "output_type": "execute_result"
    }
   ],
   "source": [
    "a = [1,-3,0,5,-4]\n",
    "\n",
    "def positive(a):\n",
    "    return a > 0\n",
    "\n",
    "list(filter(positive,a))"
   ]
  },
  {
   "cell_type": "code",
   "execution_count": 63,
   "id": "da0b8422-5b6b-49a3-b9ce-4c404d309e38",
   "metadata": {},
   "outputs": [
    {
     "data": {
      "text/plain": [
       "[2, 1, 6]"
      ]
     },
     "execution_count": 63,
     "metadata": {},
     "output_type": "execute_result"
    }
   ],
   "source": [
    "#lambda 함수\n",
    "a = [2,-3,-4,1,6,0]\n",
    "list(filter(lambda a: a>0, a))"
   ]
  },
  {
   "cell_type": "code",
   "execution_count": 76,
   "id": "49ee650a-1dea-477f-9b67-3ecd03c01597",
   "metadata": {},
   "outputs": [
    {
     "data": {
      "text/plain": [
       "array([2, 1, 6])"
      ]
     },
     "execution_count": 76,
     "metadata": {},
     "output_type": "execute_result"
    }
   ],
   "source": [
    "#np.array\n",
    "a = [2,-3,-4,1,6,0]\n",
    "\n",
    "import numpy as np\n",
    "b = np.array(a)\n",
    "b[b>0]"
   ]
  }
 ],
 "metadata": {
  "kernelspec": {
   "display_name": "Python 3 (ipykernel)",
   "language": "python",
   "name": "python3"
  },
  "language_info": {
   "codemirror_mode": {
    "name": "ipython",
    "version": 3
   },
   "file_extension": ".py",
   "mimetype": "text/x-python",
   "name": "python",
   "nbconvert_exporter": "python",
   "pygments_lexer": "ipython3",
   "version": "3.9.12"
  }
 },
 "nbformat": 4,
 "nbformat_minor": 5
}
