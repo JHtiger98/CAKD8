{
 "cells": [
  {
   "cell_type": "markdown",
   "id": "54e64cdb-e789-4eb8-b1c0-16e5951d6e21",
   "metadata": {},
   "source": [
    "# Formatting"
   ]
  },
  {
   "cell_type": "code",
   "execution_count": 37,
   "id": "41375668-7edf-4cfc-89db-edd6f343a99d",
   "metadata": {},
   "outputs": [
    {
     "name": "stdout",
     "output_type": "stream",
     "text": [
      "I ate three apples. So I have sicked for 3 days\n",
      "I ate 3 apples. So I have sicked for three days\n",
      "I ate three apples. So I have sicked for three days\n"
     ]
    }
   ],
   "source": [
    "num = 'three'\n",
    "day = 3\n",
    "print(\"I ate {} apples. So I have sicked for {} days\".format(num,day))\n",
    "print(\"I ate {1} apples. So I have sicked for {0} days\".format(num,day))\n",
    "print(\"I ate {0} apples. So I have sicked for {0} days\".format(num,day))"
   ]
  },
  {
   "cell_type": "code",
   "execution_count": 39,
   "id": "735d280a-f3b2-484d-a468-06a38f0fb774",
   "metadata": {},
   "outputs": [
    {
     "name": "stdout",
     "output_type": "stream",
     "text": [
      "I ate three apples. So I have sicked for 3 days\n"
     ]
    }
   ],
   "source": [
    "#f-string\n",
    "num = 'three'\n",
    "day = 3\n",
    "print(f\"I ate {num} apples. So I have sicked for {day} days\")"
   ]
  },
  {
   "cell_type": "code",
   "execution_count": 157,
   "id": "f7ed851e-72eb-44d9-94df-effb5417293d",
   "metadata": {},
   "outputs": [
    {
     "name": "stdin",
     "output_type": "stream",
     "text": [
      "이름:  박지훈\n",
      "나이:  25\n"
     ]
    },
    {
     "name": "stdout",
     "output_type": "stream",
     "text": [
      "나의 이름은 박지훈이고 나이는 25세입니다\n",
      "나의 이름은 박지훈이고 나이는 25세입니다\n"
     ]
    }
   ],
   "source": [
    "name = input(\"이름: \")\n",
    "age = input(\"나이: \")\n",
    "print(\"나의 이름은 \" + name + \"이고 나이는 \" + age + \"세입니다\" )\n",
    "print(f\"나의 이름은 {name}이고 나이는 {age}세입니다\")"
   ]
  },
  {
   "cell_type": "markdown",
   "id": "8ddceeb7-4327-4ef4-90d4-efe6166686ef",
   "metadata": {},
   "source": [
    "# 파이썬의 자료형\n",
    "- List: [ ], ordered, changeable\n",
    "- Tuple: ( ), ordered, unchangeable\n",
    "- Dictionary: {key:value}, ordered, changeable, 중복 x\n",
    "- Set: { }, unordered, changeable, 중복 x"
   ]
  },
  {
   "cell_type": "markdown",
   "id": "276714c7-2c47-4ab0-85e7-7826a19c6e9c",
   "metadata": {},
   "source": [
    "## List"
   ]
  },
  {
   "cell_type": "code",
   "execution_count": 183,
   "id": "cfba9faa-f24e-448d-a476-bf22e3b36be5",
   "metadata": {},
   "outputs": [
    {
     "name": "stdout",
     "output_type": "stream",
     "text": [
      "[1, 2, 3, 4, 'Hello', 'Good Morning', [5, 6, 7, 8]]\n",
      "<class 'list'>\n"
     ]
    }
   ],
   "source": [
    "#만들기\n",
    "a = [1,2,3,4, \"Hello\", \"Good Morning\", [5,6,7,8]] #nested list: 중첩 리스트\n",
    "print(a)\n",
    "print(type(a))"
   ]
  },
  {
   "cell_type": "code",
   "execution_count": 184,
   "id": "c970134a-b963-467f-98d4-39e0cc8b8dde",
   "metadata": {},
   "outputs": [
    {
     "name": "stdout",
     "output_type": "stream",
     "text": [
      "1\n",
      "[5, 6, 7, 8]\n",
      "H\n",
      "7\n"
     ]
    }
   ],
   "source": [
    "#접근 indexing\n",
    "print(a[0])\n",
    "print(a[-1])\n",
    "print(a[4][0])\n",
    "print(a[6][2])"
   ]
  },
  {
   "cell_type": "code",
   "execution_count": 185,
   "id": "b27c69b7-1efa-43d0-ad5a-0f5c138ef523",
   "metadata": {},
   "outputs": [
    {
     "name": "stdout",
     "output_type": "stream",
     "text": [
      "[2, 3]\n",
      "['Hello', 'Good Morning', [5, 6, 7, 8]]\n",
      "[1, 2, 3, 4, 'Hello', 'Good Morning', [5, 6, 7, 8]]\n",
      "ll\n",
      "Morning\n"
     ]
    }
   ],
   "source": [
    "#접근 slicing\n",
    "print(a[1:3])\n",
    "print(a[4:])\n",
    "print(a[:])\n",
    "print(a[4][2:4])\n",
    "print(a[5][5:])"
   ]
  },
  {
   "cell_type": "code",
   "execution_count": 186,
   "id": "4abd6a13-c367-4260-95dd-272efff1a6d1",
   "metadata": {},
   "outputs": [
    {
     "name": "stdout",
     "output_type": "stream",
     "text": [
      "[1, 22, 3, 4, 'Hello', 'Good Morning', [5, 6, 7, 8]]\n"
     ]
    }
   ],
   "source": [
    "#수정\n",
    "a[1] = 22\n",
    "print(a)"
   ]
  },
  {
   "cell_type": "code",
   "execution_count": 187,
   "id": "c181ebb0-8574-48a8-acd1-eb2ffc80df25",
   "metadata": {},
   "outputs": [
    {
     "name": "stdout",
     "output_type": "stream",
     "text": [
      "[1, 22, 3, 4, 'Hello', 'Good Morning', [5, 6, 7, 8], 9]\n",
      "[1, 22, 33, 3, 4, 'Hello', 'Good Morning', [5, 6, 7, 8], 9]\n"
     ]
    }
   ],
   "source": [
    "#추가\n",
    "a.append(9)\n",
    "print(a)\n",
    "\n",
    "a.insert(2, 33)\n",
    "print(a)"
   ]
  },
  {
   "cell_type": "code",
   "execution_count": 188,
   "id": "9f8a9b82-b2ba-4889-ac63-7232dff4daf8",
   "metadata": {},
   "outputs": [
    {
     "name": "stdout",
     "output_type": "stream",
     "text": [
      "[1, 22, 3, 4, 'Hello', 'Good Morning', [5, 6, 7, 8], 9]\n",
      "[1, 22, 3, 4, 'Good Morning', [5, 6, 7, 8], 9]\n"
     ]
    }
   ],
   "source": [
    "#삭제\n",
    "a.remove(33)\n",
    "print(a)\n",
    "\n",
    "a.pop(4)\n",
    "print(a)"
   ]
  },
  {
   "cell_type": "code",
   "execution_count": 208,
   "id": "dca82d47-cafb-4623-8984-034f5775184a",
   "metadata": {},
   "outputs": [
    {
     "name": "stdout",
     "output_type": "stream",
     "text": [
      "[1, 2, 3, 4]\n",
      "[3, 5, 7, 8]\n"
     ]
    }
   ],
   "source": [
    "# 정렬: sorted() 파이썬 내장함수, .sort() 메소드\n",
    "s1 = [1,3,2,4]\n",
    "print(sorted(s1))\n",
    "\n",
    "s2 = [5,3,7,8]\n",
    "s2.sort()\n",
    "print(s2)"
   ]
  },
  {
   "cell_type": "markdown",
   "id": "64231a68-d209-4759-8454-8d090124cd04",
   "metadata": {},
   "source": [
    "## Tuple"
   ]
  },
  {
   "cell_type": "code",
   "execution_count": 123,
   "id": "eea583be-90ad-45ac-a4d6-4ea3c6a0277a",
   "metadata": {},
   "outputs": [
    {
     "name": "stdout",
     "output_type": "stream",
     "text": [
      "<class 'tuple'>\n",
      "(1, 2, 3, 4)\n",
      "<class 'tuple'>\n",
      "(1, 2, 3, 4)\n"
     ]
    }
   ],
   "source": [
    "a = (1,2,3,4)\n",
    "b = 1,2,3,4\n",
    "print(type(a))\n",
    "print(a)\n",
    "print(type(b))\n",
    "print(b)"
   ]
  },
  {
   "cell_type": "code",
   "execution_count": 210,
   "id": "6b25a904-b749-4f2c-a350-c7b7e268eeaf",
   "metadata": {},
   "outputs": [
    {
     "name": "stdout",
     "output_type": "stream",
     "text": [
      "10 12\n"
     ]
    }
   ],
   "source": [
    "num = (10,12)\n",
    "a,b = num\n",
    "print(a,b)"
   ]
  },
  {
   "cell_type": "markdown",
   "id": "ba393f0b-3e7b-4c0d-98ac-04ac9ac897e7",
   "metadata": {},
   "source": [
    "## Dictionary"
   ]
  },
  {
   "cell_type": "code",
   "execution_count": 217,
   "id": "ba7013f2-7104-4b04-88fe-fa046c519b20",
   "metadata": {},
   "outputs": [],
   "source": [
    "#만들기\n",
    "a = {'apple' : '사과', 'banana' : '바나나', 'cherry': '체리'}\n",
    "b = {'apple' : ['사과','백설공주'], 'banana' : '바나나', 'cherry': '체리'}"
   ]
  },
  {
   "cell_type": "code",
   "execution_count": 215,
   "id": "6989113c-aec4-4227-99a9-e9d071b2c232",
   "metadata": {},
   "outputs": [
    {
     "name": "stdout",
     "output_type": "stream",
     "text": [
      "{'apple': '사과', 'banana': '바나나', 'cherry': '체리'}\n",
      "<class 'dict'>\n",
      "{'apple': ['사과', '백설공주'], 'banana': '바나나', 'cherry': '체리'}\n",
      "<class 'dict'>\n"
     ]
    }
   ],
   "source": [
    "print(a)\n",
    "print(type(a))\n",
    "print(b)\n",
    "print(type(b))"
   ]
  },
  {
   "cell_type": "code",
   "execution_count": 216,
   "id": "d4837efa-7c30-4210-ad08-614748f9685b",
   "metadata": {},
   "outputs": [
    {
     "name": "stdout",
     "output_type": "stream",
     "text": [
      "사과\n",
      "dict_keys(['apple', 'banana', 'cherry'])\n",
      "dict_values(['사과', '바나나', '체리'])\n",
      "dict_items([('apple', '사과'), ('banana', '바나나'), ('cherry', '체리')])\n"
     ]
    }
   ],
   "source": [
    "#접근\n",
    "print(a['apple'])\n",
    "print(a.keys())\n",
    "print(a.values())\n",
    "print(a.items())"
   ]
  },
  {
   "cell_type": "code",
   "execution_count": 219,
   "id": "7b7f1e8b-74a0-499d-a906-eeafd072f754",
   "metadata": {},
   "outputs": [
    {
     "name": "stdout",
     "output_type": "stream",
     "text": [
      "('apple', '사과')\n",
      "('banana', '바나나')\n",
      "('cherry', '체리')\n"
     ]
    }
   ],
   "source": [
    "for i in a.items():\n",
    "    print(i)"
   ]
  },
  {
   "cell_type": "code",
   "execution_count": 39,
   "id": "b42ca8cf-738e-4e91-ac44-3f6ec73c226a",
   "metadata": {},
   "outputs": [
    {
     "name": "stdout",
     "output_type": "stream",
     "text": [
      "apple 사과\n",
      "banana 바나나\n",
      "cherry 체리\n"
     ]
    }
   ],
   "source": [
    "for i,j in a.items():\n",
    "    print(i,j)"
   ]
  },
  {
   "cell_type": "code",
   "execution_count": 220,
   "id": "4d6b598c-b933-4b07-8c86-a11abca69914",
   "metadata": {},
   "outputs": [
    {
     "data": {
      "text/plain": [
       "{'apple': '사과', 'banana': '빠나나', 'cherry': '체리'}"
      ]
     },
     "execution_count": 220,
     "metadata": {},
     "output_type": "execute_result"
    }
   ],
   "source": [
    "#수정\n",
    "a['banana'] = '빠나나'\n",
    "a"
   ]
  },
  {
   "cell_type": "code",
   "execution_count": 221,
   "id": "052f2bf0-0c6c-4096-9e8d-f9a561cc6194",
   "metadata": {},
   "outputs": [
    {
     "data": {
      "text/plain": [
       "{'apple': '사과', 'banana': '빠나나', 'cherry': '체리', 'durian': '두리안'}"
      ]
     },
     "execution_count": 221,
     "metadata": {},
     "output_type": "execute_result"
    }
   ],
   "source": [
    "#추가\n",
    "a['durian'] = '두리안'\n",
    "a"
   ]
  },
  {
   "cell_type": "code",
   "execution_count": 227,
   "id": "43b97b63-f9b5-4d63-8bd0-e677b95ba0a9",
   "metadata": {},
   "outputs": [],
   "source": [
    "a = {'철수' : '합격', '영희': '합격'}"
   ]
  },
  {
   "cell_type": "code",
   "execution_count": 229,
   "id": "51d38d88-7501-46e1-bb67-362a5d0a393c",
   "metadata": {},
   "outputs": [
    {
     "name": "stdin",
     "output_type": "stream",
     "text": [
      "이름:  철수\n"
     ]
    },
    {
     "name": "stdout",
     "output_type": "stream",
     "text": [
      "철수\n",
      "합격입니다.\n"
     ]
    }
   ],
   "source": [
    "name = input('이름: ')\n",
    "print(name)\n",
    "print(f\"{a[name]}입니다.\") "
   ]
  },
  {
   "cell_type": "code",
   "execution_count": 231,
   "id": "63fbae84-3b96-4313-95c5-8d8bc67c25cf",
   "metadata": {},
   "outputs": [
    {
     "data": {
      "text/plain": [
       "2565802218880"
      ]
     },
     "execution_count": 231,
     "metadata": {},
     "output_type": "execute_result"
    }
   ],
   "source": [
    "a = [1,2,3]\n",
    "id(a)"
   ]
  },
  {
   "cell_type": "code",
   "execution_count": 233,
   "id": "b9937b09-81c1-4d4d-a96a-28bfcbc3aa7f",
   "metadata": {},
   "outputs": [
    {
     "name": "stdout",
     "output_type": "stream",
     "text": [
      "[1, 2, 300] [1, 2, 300] [1, 2, 30]\n"
     ]
    }
   ],
   "source": [
    "b = a # a의 값도 바뀌어 버린다\n",
    "c = a.copy() #c = a[:]\n",
    "b[2] = 300\n",
    "c[2] = 30\n",
    "print(a,b,c)"
   ]
  },
  {
   "cell_type": "code",
   "execution_count": 234,
   "id": "922993a9-c1e6-49f0-a454-6bea8d980c16",
   "metadata": {},
   "outputs": [
    {
     "data": {
      "text/plain": [
       "(2565802218880, 2565802218880, 2565801741888)"
      ]
     },
     "execution_count": 234,
     "metadata": {},
     "output_type": "execute_result"
    }
   ],
   "source": [
    "#a와 b의 id는 일치하고 c는 불일치한다\n",
    "id(a), id(b), id(c)"
   ]
  },
  {
   "cell_type": "markdown",
   "id": "d5011d5a-ff00-4b4a-8cb0-bbc5cf1d5121",
   "metadata": {},
   "source": [
    "# 조건문 if"
   ]
  },
  {
   "cell_type": "code",
   "execution_count": 78,
   "id": "d3ca1799-faa7-4aeb-b3c5-845118ade3fb",
   "metadata": {},
   "outputs": [
    {
     "name": "stdout",
     "output_type": "stream",
     "text": [
      "no\n"
     ]
    }
   ],
   "source": [
    "if 1>2:\n",
    "    print(\"Yes\")\n",
    "else:\n",
    "    print(\"no\")"
   ]
  },
  {
   "cell_type": "code",
   "execution_count": 85,
   "id": "ac54a1c5-9010-4f50-8a04-fad62865fc7c",
   "metadata": {},
   "outputs": [
    {
     "name": "stdin",
     "output_type": "stream",
     "text": [
      " 27\n"
     ]
    },
    {
     "name": "stdout",
     "output_type": "stream",
     "text": [
      "여름\n"
     ]
    }
   ],
   "source": [
    "temp = int(input())\n",
    "if temp > 25:\n",
    "    print(\"여름\")\n",
    "elif temp > 15:\n",
    "    print(\"가을\")\n",
    "elif temp > 5:\n",
    "    print(\"봄\")\n",
    "else:\n",
    "    print(\"겨울\")"
   ]
  },
  {
   "cell_type": "code",
   "execution_count": 88,
   "id": "56c823e5-1603-408f-8634-b47297367f9f",
   "metadata": {},
   "outputs": [
    {
     "name": "stdin",
     "output_type": "stream",
     "text": [
      " 4\n"
     ]
    },
    {
     "name": "stdout",
     "output_type": "stream",
     "text": [
      "짝수\n"
     ]
    }
   ],
   "source": [
    "num = int(input())\n",
    "if num % 2 == 1:\n",
    "    print(\"홀수\")\n",
    "else:\n",
    "    print(\"짝수\")"
   ]
  },
  {
   "cell_type": "code",
   "execution_count": 90,
   "id": "304acef8-e1ab-417a-88c7-c65cea504a34",
   "metadata": {},
   "outputs": [
    {
     "name": "stdout",
     "output_type": "stream",
     "text": [
      "택시를 타자\n"
     ]
    }
   ],
   "source": [
    "pocket = ['coins', 'bill', 'card']\n",
    "\n",
    "if 'bill' in pocket:\n",
    "    print(\"택시를 타자\")\n",
    "else:\n",
    "    print(\"걸어 가자\")"
   ]
  },
  {
   "cell_type": "code",
   "execution_count": 237,
   "id": "355ab271-b888-404b-9bfc-32b5459813fa",
   "metadata": {},
   "outputs": [
    {
     "name": "stdin",
     "output_type": "stream",
     "text": [
      "이름을 입력해 주세요:  전우치\n"
     ]
    },
    {
     "name": "stdout",
     "output_type": "stream",
     "text": [
      "전우치, 합격입니다\n"
     ]
    }
   ],
   "source": [
    "names = ['영희', '전우치', '홍길동', '장길산']\n",
    "i = input(\"이름을 입력해 주세요: \")\n",
    "if i in names:\n",
    "    print(f\"{i}, 합격입니다\")\n",
    "else:\n",
    "    pass"
   ]
  },
  {
   "cell_type": "markdown",
   "id": "692e7207-bf30-48a5-a1f2-424530096a54",
   "metadata": {},
   "source": [
    "# 반복문 for"
   ]
  },
  {
   "cell_type": "code",
   "execution_count": 155,
   "id": "3796ad6a-9482-4a4d-96db-4698d5eb7467",
   "metadata": {},
   "outputs": [
    {
     "name": "stdout",
     "output_type": "stream",
     "text": [
      "\n",
      "Hi\n",
      "\n",
      "Hi\n",
      "\n",
      "Hi\n"
     ]
    }
   ],
   "source": [
    "for i in [1,2,3]:\n",
    "    print()\n",
    "    print(\"Hi\")"
   ]
  },
  {
   "cell_type": "code",
   "execution_count": 147,
   "id": "952caa95-2893-416f-8de0-4b6ff3df377d",
   "metadata": {},
   "outputs": [
    {
     "name": "stdout",
     "output_type": "stream",
     "text": [
      "0 1 2 3 4 5 6 7 8 9 "
     ]
    }
   ],
   "source": [
    "for i in range(10):\n",
    "    print(i, end = \" \")"
   ]
  },
  {
   "cell_type": "code",
   "execution_count": 148,
   "id": "1038974f-777f-4e0e-9489-5882ca1dab19",
   "metadata": {},
   "outputs": [
    {
     "name": "stdout",
     "output_type": "stream",
     "text": [
      "1 3 5 7 9 "
     ]
    }
   ],
   "source": [
    "for i in range(1,11,2):\n",
    "    print(i, end = \" \")"
   ]
  },
  {
   "cell_type": "code",
   "execution_count": 114,
   "id": "3046d6aa-f2cf-4383-969b-3d2fbeae9c74",
   "metadata": {},
   "outputs": [
    {
     "name": "stdout",
     "output_type": "stream",
     "text": [
      "2\n",
      "4\n",
      "6\n",
      "8\n",
      "10\n"
     ]
    }
   ],
   "source": [
    "for i in range(2,11):\n",
    "    if i % 2 == 0:\n",
    "        print(i)"
   ]
  },
  {
   "cell_type": "code",
   "execution_count": 115,
   "id": "228fc54d-fc9c-45db-80b7-613aaf72147b",
   "metadata": {},
   "outputs": [
    {
     "name": "stdout",
     "output_type": "stream",
     "text": [
      "2\n",
      "4\n",
      "6\n",
      "8\n",
      "10\n"
     ]
    }
   ],
   "source": [
    "for i in range(2,11,2):\n",
    "    print(i)"
   ]
  },
  {
   "cell_type": "code",
   "execution_count": 149,
   "id": "6e3a8fb8-e5b3-47b5-8dcc-918b623bc58c",
   "metadata": {},
   "outputs": [
    {
     "name": "stdout",
     "output_type": "stream",
     "text": [
      "철수\n",
      "영희\n",
      "동현\n"
     ]
    }
   ],
   "source": [
    "names = ['철수', '영희', '동현']\n",
    "for i in names:\n",
    "    print(i)"
   ]
  },
  {
   "cell_type": "code",
   "execution_count": 150,
   "id": "0dbdcb3b-7385-48bb-9626-16297faaea7e",
   "metadata": {},
   "outputs": [
    {
     "name": "stdout",
     "output_type": "stream",
     "text": [
      "철수\n",
      "영희\n",
      "동현\n"
     ]
    }
   ],
   "source": [
    "for i in range(3):\n",
    "    print(names[i])"
   ]
  },
  {
   "cell_type": "code",
   "execution_count": 129,
   "id": "b8f74fbd-5607-4c05-aa58-9fa2461fabfa",
   "metadata": {},
   "outputs": [
    {
     "name": "stdout",
     "output_type": "stream",
     "text": [
      "133767\n"
     ]
    }
   ],
   "source": [
    "sum = 0\n",
    "for i in range(234,568):\n",
    "    sum += i\n",
    "print(sum)"
   ]
  },
  {
   "cell_type": "code",
   "execution_count": 132,
   "id": "effa7c73-f7e7-4607-80ff-e75ff29f603d",
   "metadata": {},
   "outputs": [
    {
     "name": "stdin",
     "output_type": "stream",
     "text": [
      "입력1:  50\n",
      "입력2:  100\n"
     ]
    },
    {
     "name": "stdout",
     "output_type": "stream",
     "text": [
      "3825\n"
     ]
    }
   ],
   "source": [
    "sum = 0\n",
    "a = int(input(\"입력1: \"))\n",
    "b = int(input(\"입력2: \"))\n",
    "for i in range(a, b+1):\n",
    "    sum += i\n",
    "print(sum)"
   ]
  },
  {
   "cell_type": "code",
   "execution_count": 152,
   "id": "9d6cbf65-dfda-4244-b40c-43fe0599d10c",
   "metadata": {},
   "outputs": [
    {
     "data": {
      "text/plain": [
       "[1, 3, 5, 7, 9, 11, 13, 15, 17, 19]"
      ]
     },
     "execution_count": 152,
     "metadata": {},
     "output_type": "execute_result"
    }
   ],
   "source": [
    "a = []\n",
    "for i in range(20):\n",
    "    if i % 2 == 1:\n",
    "        a.append(i)\n",
    "    else:\n",
    "        pass\n",
    "a"
   ]
  },
  {
   "cell_type": "code",
   "execution_count": 153,
   "id": "33e5d5d4-c64b-4431-adf3-2de72401cf09",
   "metadata": {},
   "outputs": [
    {
     "name": "stdout",
     "output_type": "stream",
     "text": [
      "[1, 3, 5, 7, 9, 11, 13, 15, 17, 19]\n",
      "[1, 3, 5, 7, 9, 11, 13, 15, 17, 19]\n"
     ]
    }
   ],
   "source": [
    "#위와 같은 방법\n",
    "print([i for i in range(1, 20, 2)])\n",
    "print([i for i in range(20) if i % 2 == 1])"
   ]
  },
  {
   "cell_type": "code",
   "execution_count": 154,
   "id": "984ea644-15f9-499a-9dd4-56ec4cce3555",
   "metadata": {},
   "outputs": [
    {
     "name": "stdout",
     "output_type": "stream",
     "text": [
      "[3, 6, 9, 12]\n",
      "[3, 6, 9, 12]\n"
     ]
    }
   ],
   "source": [
    "a = [1,2,3,4]\n",
    "b = []\n",
    "for i in a:\n",
    "    b.append(i*3)\n",
    "print(b)\n",
    "\n",
    "print([i*3 for i in a])"
   ]
  },
  {
   "cell_type": "code",
   "execution_count": 146,
   "id": "e85af44b-c157-4e96-b774-33171eb06ee2",
   "metadata": {},
   "outputs": [
    {
     "name": "stdout",
     "output_type": "stream",
     "text": [
      "\n",
      "2단 입니다\n",
      "2 x 1 = 2, 2 x 2 = 4, 2 x 3 = 6, 2 x 4 = 8, 2 x 5 = 10, 2 x 6 = 12, 2 x 7 = 14, 2 x 8 = 16, 2 x 9 = 18, \n",
      "3단 입니다\n",
      "3 x 1 = 3, 3 x 2 = 6, 3 x 3 = 9, 3 x 4 = 12, 3 x 5 = 15, 3 x 6 = 18, 3 x 7 = 21, 3 x 8 = 24, 3 x 9 = 27, \n",
      "4단 입니다\n",
      "4 x 1 = 4, 4 x 2 = 8, 4 x 3 = 12, 4 x 4 = 16, 4 x 5 = 20, 4 x 6 = 24, 4 x 7 = 28, 4 x 8 = 32, 4 x 9 = 36, \n",
      "5단 입니다\n",
      "5 x 1 = 5, 5 x 2 = 10, 5 x 3 = 15, 5 x 4 = 20, 5 x 5 = 25, 5 x 6 = 30, 5 x 7 = 35, 5 x 8 = 40, 5 x 9 = 45, \n",
      "6단 입니다\n",
      "6 x 1 = 6, 6 x 2 = 12, 6 x 3 = 18, 6 x 4 = 24, 6 x 5 = 30, 6 x 6 = 36, 6 x 7 = 42, 6 x 8 = 48, 6 x 9 = 54, \n",
      "7단 입니다\n",
      "7 x 1 = 7, 7 x 2 = 14, 7 x 3 = 21, 7 x 4 = 28, 7 x 5 = 35, 7 x 6 = 42, 7 x 7 = 49, 7 x 8 = 56, 7 x 9 = 63, \n",
      "8단 입니다\n",
      "8 x 1 = 8, 8 x 2 = 16, 8 x 3 = 24, 8 x 4 = 32, 8 x 5 = 40, 8 x 6 = 48, 8 x 7 = 56, 8 x 8 = 64, 8 x 9 = 72, \n",
      "9단 입니다\n",
      "9 x 1 = 9, 9 x 2 = 18, 9 x 3 = 27, 9 x 4 = 36, 9 x 5 = 45, 9 x 6 = 54, 9 x 7 = 63, 9 x 8 = 72, 9 x 9 = 81, "
     ]
    }
   ],
   "source": [
    "#구구단\n",
    "for i in range(2,10):\n",
    "    print()\n",
    "    print(f'{i}단 입니다')\n",
    "    for j in range(1,10):\n",
    "        print(f\"{i} x {j} = {i*j}\", end = \", \")"
   ]
  },
  {
   "cell_type": "markdown",
   "id": "9ddad629-1bd1-4fff-b557-778c3c0229de",
   "metadata": {},
   "source": [
    "# While문\n",
    "for문과 다르게 반복의 횟수가 정해져 있지 않을때 사용한다"
   ]
  },
  {
   "cell_type": "code",
   "execution_count": 114,
   "id": "c1981c7c-c2d1-40ea-80fc-da6a23a86f93",
   "metadata": {},
   "outputs": [
    {
     "name": "stdout",
     "output_type": "stream",
     "text": [
      "0,1,2,3,4,5,6,7,8,9,"
     ]
    }
   ],
   "source": [
    "i = 0\n",
    "while i < 10:\n",
    "    print(i, end =\",\")\n",
    "    i += 1"
   ]
  },
  {
   "cell_type": "code",
   "execution_count": 113,
   "id": "73cc004c-ebc8-46ce-84b1-418020ba12ed",
   "metadata": {},
   "outputs": [
    {
     "name": "stdout",
     "output_type": "stream",
     "text": [
      "0,1,2,3,4,끝\n"
     ]
    }
   ],
   "source": [
    "#break\n",
    "import time\n",
    "i = 0\n",
    "while True:\n",
    "    print(i, end =\",\")\n",
    "    i += 1\n",
    "    time.sleep(1)\n",
    "    if i == 5:\n",
    "        break\n",
    "        \n",
    "print(\"끝\")"
   ]
  },
  {
   "cell_type": "code",
   "execution_count": 135,
   "id": "333065e8-d004-432c-89af-1f6d061335ae",
   "metadata": {},
   "outputs": [
    {
     "name": "stdout",
     "output_type": "stream",
     "text": [
      "55\n"
     ]
    }
   ],
   "source": [
    "#1부터 10까지의 합\n",
    "sum = 0\n",
    "i = 1\n",
    "\n",
    "while i <= 10:\n",
    "    sum += i\n",
    "    i += 1\n",
    "    \n",
    "print(sum)"
   ]
  },
  {
   "cell_type": "code",
   "execution_count": 136,
   "id": "d9cf8735-20aa-41f2-b1ce-316783ae6f39",
   "metadata": {},
   "outputs": [
    {
     "name": "stdout",
     "output_type": "stream",
     "text": [
      "18\n"
     ]
    }
   ],
   "source": [
    "#1부터 10까지의 3의 배수의 합\n",
    "sum = 0\n",
    "i = 1\n",
    "\n",
    "while i <= 10:\n",
    "    if i % 3 == 0:\n",
    "        sum += i\n",
    "    else:\n",
    "        pass\n",
    "    i += 1\n",
    "\n",
    "print(sum)"
   ]
  },
  {
   "cell_type": "code",
   "execution_count": 156,
   "id": "ba52cd34-00ae-43e9-82e4-d8ff2dc0bdbc",
   "metadata": {},
   "outputs": [
    {
     "name": "stdout",
     "output_type": "stream",
     "text": [
      "37\n"
     ]
    }
   ],
   "source": [
    "#3의 배수가 아닌 수들의 합 (0부터 10까지)\n",
    "i = 0\n",
    "sum = 0\n",
    "\n",
    "while i < 10:\n",
    "    i += 1\n",
    "    if i % 3 == 0:\n",
    "        continue\n",
    "    else:\n",
    "        sum += i\n",
    "print(sum)"
   ]
  },
  {
   "cell_type": "code",
   "execution_count": 55,
   "id": "f3aea905-07ef-4771-8e74-373078ee10c0",
   "metadata": {},
   "outputs": [
    {
     "data": {
      "text/plain": [
       "5"
      ]
     },
     "execution_count": 55,
     "metadata": {},
     "output_type": "execute_result"
    }
   ],
   "source": [
    "import random\n",
    "\n",
    "random.randint(1,10)"
   ]
  },
  {
   "cell_type": "code",
   "execution_count": 162,
   "id": "9f53989b-75ae-43a1-b89f-84809c8d349f",
   "metadata": {},
   "outputs": [
    {
     "name": "stdout",
     "output_type": "stream",
     "text": [
      "6\n",
      "6\n",
      "5\n",
      "2\n",
      "5\n",
      "24\n"
     ]
    }
   ],
   "source": [
    "#7보다 작은수들의 합\n",
    "sum = 0\n",
    "\n",
    "while True:\n",
    "    i = random.randint(1,10)\n",
    "    if i > 7:\n",
    "        break\n",
    "    else:\n",
    "        print(i)\n",
    "        sum += i\n",
    "        \n",
    "print(sum)"
   ]
  },
  {
   "cell_type": "code",
   "execution_count": 119,
   "id": "0749b77f-9d94-4ea9-986a-65786263c792",
   "metadata": {},
   "outputs": [
    {
     "name": "stdout",
     "output_type": "stream",
     "text": [
      "33\n"
     ]
    }
   ],
   "source": [
    "#3의 배수 또는 5의 배수의 합 (1부터 10까지)\n",
    "sum = 0\n",
    "i = 0\n",
    "\n",
    "while i < 10:\n",
    "    i += 1\n",
    "    if i % 3 == 0 or i % 5 == 0:\n",
    "        sum += i\n",
    "    else:\n",
    "        pass\n",
    "    \n",
    "print(sum)"
   ]
  }
 ],
 "metadata": {
  "kernelspec": {
   "display_name": "Python 3 (ipykernel)",
   "language": "python",
   "name": "python3"
  },
  "language_info": {
   "codemirror_mode": {
    "name": "ipython",
    "version": 3
   },
   "file_extension": ".py",
   "mimetype": "text/x-python",
   "name": "python",
   "nbconvert_exporter": "python",
   "pygments_lexer": "ipython3",
   "version": "3.9.12"
  },
  "toc-autonumbering": true
 },
 "nbformat": 4,
 "nbformat_minor": 5
}
