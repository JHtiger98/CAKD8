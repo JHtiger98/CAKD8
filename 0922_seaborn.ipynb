{
 "cells": [
  {
   "cell_type": "markdown",
   "id": "7d874eea-4fe3-4022-94af-b2be36bf91bd",
   "metadata": {},
   "source": [
    "# seaborn 그래프"
   ]
  },
  {
   "cell_type": "code",
   "execution_count": 1,
   "id": "4ee93989-e988-42c6-b0d2-3f05d7491576",
   "metadata": {},
   "outputs": [],
   "source": [
    "import seaborn as sns\n",
    "import pydataset"
   ]
  },
  {
   "cell_type": "code",
   "execution_count": 2,
   "id": "455d1efc-6e76-47b0-aa3d-8df561d60826",
   "metadata": {},
   "outputs": [
    {
     "data": {
      "text/html": [
       "<div>\n",
       "<style scoped>\n",
       "    .dataframe tbody tr th:only-of-type {\n",
       "        vertical-align: middle;\n",
       "    }\n",
       "\n",
       "    .dataframe tbody tr th {\n",
       "        vertical-align: top;\n",
       "    }\n",
       "\n",
       "    .dataframe thead th {\n",
       "        text-align: right;\n",
       "    }\n",
       "</style>\n",
       "<table border=\"1\" class=\"dataframe\">\n",
       "  <thead>\n",
       "    <tr style=\"text-align: right;\">\n",
       "      <th></th>\n",
       "      <th>manufacturer</th>\n",
       "      <th>model</th>\n",
       "      <th>displ</th>\n",
       "      <th>year</th>\n",
       "      <th>cyl</th>\n",
       "      <th>trans</th>\n",
       "      <th>drv</th>\n",
       "      <th>cty</th>\n",
       "      <th>hwy</th>\n",
       "      <th>fl</th>\n",
       "      <th>class</th>\n",
       "    </tr>\n",
       "  </thead>\n",
       "  <tbody>\n",
       "    <tr>\n",
       "      <th>1</th>\n",
       "      <td>audi</td>\n",
       "      <td>a4</td>\n",
       "      <td>1.8</td>\n",
       "      <td>1999</td>\n",
       "      <td>4</td>\n",
       "      <td>auto(l5)</td>\n",
       "      <td>f</td>\n",
       "      <td>18</td>\n",
       "      <td>29</td>\n",
       "      <td>p</td>\n",
       "      <td>compact</td>\n",
       "    </tr>\n",
       "    <tr>\n",
       "      <th>2</th>\n",
       "      <td>audi</td>\n",
       "      <td>a4</td>\n",
       "      <td>1.8</td>\n",
       "      <td>1999</td>\n",
       "      <td>4</td>\n",
       "      <td>manual(m5)</td>\n",
       "      <td>f</td>\n",
       "      <td>21</td>\n",
       "      <td>29</td>\n",
       "      <td>p</td>\n",
       "      <td>compact</td>\n",
       "    </tr>\n",
       "    <tr>\n",
       "      <th>3</th>\n",
       "      <td>audi</td>\n",
       "      <td>a4</td>\n",
       "      <td>2.0</td>\n",
       "      <td>2008</td>\n",
       "      <td>4</td>\n",
       "      <td>manual(m6)</td>\n",
       "      <td>f</td>\n",
       "      <td>20</td>\n",
       "      <td>31</td>\n",
       "      <td>p</td>\n",
       "      <td>compact</td>\n",
       "    </tr>\n",
       "    <tr>\n",
       "      <th>4</th>\n",
       "      <td>audi</td>\n",
       "      <td>a4</td>\n",
       "      <td>2.0</td>\n",
       "      <td>2008</td>\n",
       "      <td>4</td>\n",
       "      <td>auto(av)</td>\n",
       "      <td>f</td>\n",
       "      <td>21</td>\n",
       "      <td>30</td>\n",
       "      <td>p</td>\n",
       "      <td>compact</td>\n",
       "    </tr>\n",
       "    <tr>\n",
       "      <th>5</th>\n",
       "      <td>audi</td>\n",
       "      <td>a4</td>\n",
       "      <td>2.8</td>\n",
       "      <td>1999</td>\n",
       "      <td>6</td>\n",
       "      <td>auto(l5)</td>\n",
       "      <td>f</td>\n",
       "      <td>16</td>\n",
       "      <td>26</td>\n",
       "      <td>p</td>\n",
       "      <td>compact</td>\n",
       "    </tr>\n",
       "    <tr>\n",
       "      <th>...</th>\n",
       "      <td>...</td>\n",
       "      <td>...</td>\n",
       "      <td>...</td>\n",
       "      <td>...</td>\n",
       "      <td>...</td>\n",
       "      <td>...</td>\n",
       "      <td>...</td>\n",
       "      <td>...</td>\n",
       "      <td>...</td>\n",
       "      <td>...</td>\n",
       "      <td>...</td>\n",
       "    </tr>\n",
       "    <tr>\n",
       "      <th>230</th>\n",
       "      <td>volkswagen</td>\n",
       "      <td>passat</td>\n",
       "      <td>2.0</td>\n",
       "      <td>2008</td>\n",
       "      <td>4</td>\n",
       "      <td>auto(s6)</td>\n",
       "      <td>f</td>\n",
       "      <td>19</td>\n",
       "      <td>28</td>\n",
       "      <td>p</td>\n",
       "      <td>midsize</td>\n",
       "    </tr>\n",
       "    <tr>\n",
       "      <th>231</th>\n",
       "      <td>volkswagen</td>\n",
       "      <td>passat</td>\n",
       "      <td>2.0</td>\n",
       "      <td>2008</td>\n",
       "      <td>4</td>\n",
       "      <td>manual(m6)</td>\n",
       "      <td>f</td>\n",
       "      <td>21</td>\n",
       "      <td>29</td>\n",
       "      <td>p</td>\n",
       "      <td>midsize</td>\n",
       "    </tr>\n",
       "    <tr>\n",
       "      <th>232</th>\n",
       "      <td>volkswagen</td>\n",
       "      <td>passat</td>\n",
       "      <td>2.8</td>\n",
       "      <td>1999</td>\n",
       "      <td>6</td>\n",
       "      <td>auto(l5)</td>\n",
       "      <td>f</td>\n",
       "      <td>16</td>\n",
       "      <td>26</td>\n",
       "      <td>p</td>\n",
       "      <td>midsize</td>\n",
       "    </tr>\n",
       "    <tr>\n",
       "      <th>233</th>\n",
       "      <td>volkswagen</td>\n",
       "      <td>passat</td>\n",
       "      <td>2.8</td>\n",
       "      <td>1999</td>\n",
       "      <td>6</td>\n",
       "      <td>manual(m5)</td>\n",
       "      <td>f</td>\n",
       "      <td>18</td>\n",
       "      <td>26</td>\n",
       "      <td>p</td>\n",
       "      <td>midsize</td>\n",
       "    </tr>\n",
       "    <tr>\n",
       "      <th>234</th>\n",
       "      <td>volkswagen</td>\n",
       "      <td>passat</td>\n",
       "      <td>3.6</td>\n",
       "      <td>2008</td>\n",
       "      <td>6</td>\n",
       "      <td>auto(s6)</td>\n",
       "      <td>f</td>\n",
       "      <td>17</td>\n",
       "      <td>26</td>\n",
       "      <td>p</td>\n",
       "      <td>midsize</td>\n",
       "    </tr>\n",
       "  </tbody>\n",
       "</table>\n",
       "<p>234 rows × 11 columns</p>\n",
       "</div>"
      ],
      "text/plain": [
       "    manufacturer   model  displ  year  cyl       trans drv  cty  hwy fl  \\\n",
       "1           audi      a4    1.8  1999    4    auto(l5)   f   18   29  p   \n",
       "2           audi      a4    1.8  1999    4  manual(m5)   f   21   29  p   \n",
       "3           audi      a4    2.0  2008    4  manual(m6)   f   20   31  p   \n",
       "4           audi      a4    2.0  2008    4    auto(av)   f   21   30  p   \n",
       "5           audi      a4    2.8  1999    6    auto(l5)   f   16   26  p   \n",
       "..           ...     ...    ...   ...  ...         ...  ..  ...  ... ..   \n",
       "230   volkswagen  passat    2.0  2008    4    auto(s6)   f   19   28  p   \n",
       "231   volkswagen  passat    2.0  2008    4  manual(m6)   f   21   29  p   \n",
       "232   volkswagen  passat    2.8  1999    6    auto(l5)   f   16   26  p   \n",
       "233   volkswagen  passat    2.8  1999    6  manual(m5)   f   18   26  p   \n",
       "234   volkswagen  passat    3.6  2008    6    auto(s6)   f   17   26  p   \n",
       "\n",
       "       class  \n",
       "1    compact  \n",
       "2    compact  \n",
       "3    compact  \n",
       "4    compact  \n",
       "5    compact  \n",
       "..       ...  \n",
       "230  midsize  \n",
       "231  midsize  \n",
       "232  midsize  \n",
       "233  midsize  \n",
       "234  midsize  \n",
       "\n",
       "[234 rows x 11 columns]"
      ]
     },
     "execution_count": 2,
     "metadata": {},
     "output_type": "execute_result"
    }
   ],
   "source": [
    "mpg = pydataset.data('mpg')\n",
    "mpg"
   ]
  },
  {
   "cell_type": "code",
   "execution_count": 2,
   "id": "74c5522b-e5f5-4f93-8c6d-c449900ccdad",
   "metadata": {},
   "outputs": [],
   "source": [
    "#그림 크기 조절하는 법\n",
    "import matplotlib.pyplot as plt\n",
    "plt.rcParams.update({'figure.figsize': [8,6]})"
   ]
  },
  {
   "cell_type": "markdown",
   "id": "0a6154db-9612-44aa-a033-3d3fb82cadd3",
   "metadata": {},
   "source": [
    "## sns.scatterplot"
   ]
  },
  {
   "cell_type": "code",
   "execution_count": 154,
   "id": "9f914ec3-0772-405d-977c-0a02cb5ad9de",
   "metadata": {},
   "outputs": [
    {
     "data": {
      "text/plain": [
       "<AxesSubplot:xlabel='displ', ylabel='hwy'>"
      ]
     },
     "execution_count": 154,
     "metadata": {},
     "output_type": "execute_result"
    },
    {
     "data": {
      "image/png": "[encoded data removed]",
      "text/plain": [
       "<Figure size 360x144 with 1 Axes>"
      ]
     },
     "metadata": {
      "needs_background": "light"
     },
     "output_type": "display_data"
    }
   ],
   "source": [
    "plt.figure(figsize = (5,2))\n",
    "sns.scatterplot(data = mpg, x = 'displ', y = 'hwy', hue = 'drv')"
   ]
  },
  {
   "cell_type": "code",
   "execution_count": 155,
   "id": "40fb66a0-22e9-4b26-9a46-ae7ff9ee89b8",
   "metadata": {},
   "outputs": [
    {
     "data": {
      "text/plain": [
       "[(3.0, 6.0), (10.0, 30.0)]"
      ]
     },
     "execution_count": 155,
     "metadata": {},
     "output_type": "execute_result"
    },
    {
     "data": {
      "image/png": "[encoded data removed]",
      "text/plain": [
       "<Figure size 576x432 with 1 Axes>"
      ]
     },
     "metadata": {
      "needs_background": "light"
     },
     "output_type": "display_data"
    }
   ],
   "source": [
    "sns.scatterplot(data = mpg, x = 'displ', y = 'hwy', hue = 'drv')\\\n",
    ".set(xlim = (3,6), ylim = (10,30))"
   ]
  },
  {
   "cell_type": "markdown",
   "id": "91ec1e0c-a337-4a50-98ca-9c1c9958a6a1",
   "metadata": {},
   "source": [
    "## sns.barplot"
   ]
  },
  {
   "cell_type": "code",
   "execution_count": 156,
   "id": "bf292fb5-ec44-4821-8e19-96fe8852d84c",
   "metadata": {},
   "outputs": [
    {
     "data": {
      "text/plain": [
       "<AxesSubplot:xlabel='drv', ylabel='hwy'>"
      ]
     },
     "execution_count": 156,
     "metadata": {},
     "output_type": "execute_result"
    },
    {
     "data": {
      "image/png": "[encoded data removed]",
      "text/plain": [
       "<Figure size 576x432 with 1 Axes>"
      ]
     },
     "metadata": {
      "needs_background": "light"
     },
     "output_type": "display_data"
    }
   ],
   "source": [
    "sns.barplot(data = mpg, x = 'drv', y = 'hwy')"
   ]
  },
  {
   "cell_type": "code",
   "execution_count": 7,
   "id": "4454c0bc-77f4-4ce7-935f-bd60c5b39640",
   "metadata": {},
   "outputs": [
    {
     "data": {
      "text/html": [
       "<div>\n",
       "<style scoped>\n",
       "    .dataframe tbody tr th:only-of-type {\n",
       "        vertical-align: middle;\n",
       "    }\n",
       "\n",
       "    .dataframe tbody tr th {\n",
       "        vertical-align: top;\n",
       "    }\n",
       "\n",
       "    .dataframe thead th {\n",
       "        text-align: right;\n",
       "    }\n",
       "</style>\n",
       "<table border=\"1\" class=\"dataframe\">\n",
       "  <thead>\n",
       "    <tr style=\"text-align: right;\">\n",
       "      <th></th>\n",
       "      <th>drv</th>\n",
       "      <th>hwy</th>\n",
       "    </tr>\n",
       "  </thead>\n",
       "  <tbody>\n",
       "    <tr>\n",
       "      <th>0</th>\n",
       "      <td>4</td>\n",
       "      <td>19.174757</td>\n",
       "    </tr>\n",
       "    <tr>\n",
       "      <th>1</th>\n",
       "      <td>f</td>\n",
       "      <td>28.160377</td>\n",
       "    </tr>\n",
       "    <tr>\n",
       "      <th>2</th>\n",
       "      <td>r</td>\n",
       "      <td>21.000000</td>\n",
       "    </tr>\n",
       "  </tbody>\n",
       "</table>\n",
       "</div>"
      ],
      "text/plain": [
       "  drv        hwy\n",
       "0   4  19.174757\n",
       "1   f  28.160377\n",
       "2   r  21.000000"
      ]
     },
     "execution_count": 7,
     "metadata": {},
     "output_type": "execute_result"
    }
   ],
   "source": [
    "df = mpg.groupby('drv', as_index= False)[['hwy']].mean()\n",
    "df"
   ]
  },
  {
   "cell_type": "code",
   "execution_count": 8,
   "id": "2b68b5e1-b09f-4093-b92e-a24c32d30495",
   "metadata": {},
   "outputs": [
    {
     "data": {
      "text/html": [
       "<div>\n",
       "<style scoped>\n",
       "    .dataframe tbody tr th:only-of-type {\n",
       "        vertical-align: middle;\n",
       "    }\n",
       "\n",
       "    .dataframe tbody tr th {\n",
       "        vertical-align: top;\n",
       "    }\n",
       "\n",
       "    .dataframe thead th {\n",
       "        text-align: right;\n",
       "    }\n",
       "</style>\n",
       "<table border=\"1\" class=\"dataframe\">\n",
       "  <thead>\n",
       "    <tr style=\"text-align: right;\">\n",
       "      <th></th>\n",
       "      <th>drv</th>\n",
       "      <th>hwy</th>\n",
       "    </tr>\n",
       "  </thead>\n",
       "  <tbody>\n",
       "    <tr>\n",
       "      <th>0</th>\n",
       "      <td>4</td>\n",
       "      <td>19.174757</td>\n",
       "    </tr>\n",
       "    <tr>\n",
       "      <th>2</th>\n",
       "      <td>r</td>\n",
       "      <td>21.000000</td>\n",
       "    </tr>\n",
       "    <tr>\n",
       "      <th>1</th>\n",
       "      <td>f</td>\n",
       "      <td>28.160377</td>\n",
       "    </tr>\n",
       "  </tbody>\n",
       "</table>\n",
       "</div>"
      ],
      "text/plain": [
       "  drv        hwy\n",
       "0   4  19.174757\n",
       "2   r  21.000000\n",
       "1   f  28.160377"
      ]
     },
     "execution_count": 8,
     "metadata": {},
     "output_type": "execute_result"
    }
   ],
   "source": [
    "df = df.sort_values('hwy')\n",
    "df"
   ]
  },
  {
   "cell_type": "code",
   "execution_count": 9,
   "id": "505fa7eb-8769-4700-9936-e78d1829e41a",
   "metadata": {},
   "outputs": [
    {
     "data": {
      "text/plain": [
       "<AxesSubplot:xlabel='drv', ylabel='hwy'>"
      ]
     },
     "execution_count": 9,
     "metadata": {},
     "output_type": "execute_result"
    },
    {
     "data": {
      "image/png": "[encoded data removed]",
      "text/plain": [
       "<Figure size 576x432 with 1 Axes>"
      ]
     },
     "metadata": {
      "needs_background": "light"
     },
     "output_type": "display_data"
    }
   ],
   "source": [
    "sns.barplot(data = df, x = 'drv', y = 'hwy')"
   ]
  },
  {
   "cell_type": "markdown",
   "id": "6040dd2a-508e-44ed-933b-38e0c81250ea",
   "metadata": {},
   "source": [
    "## sns.lineplot"
   ]
  },
  {
   "cell_type": "code",
   "execution_count": 10,
   "id": "7adfb867-3853-47a4-b370-84df31bfdc26",
   "metadata": {},
   "outputs": [
    {
     "data": {
      "text/html": [
       "<div>\n",
       "<style scoped>\n",
       "    .dataframe tbody tr th:only-of-type {\n",
       "        vertical-align: middle;\n",
       "    }\n",
       "\n",
       "    .dataframe tbody tr th {\n",
       "        vertical-align: top;\n",
       "    }\n",
       "\n",
       "    .dataframe thead th {\n",
       "        text-align: right;\n",
       "    }\n",
       "</style>\n",
       "<table border=\"1\" class=\"dataframe\">\n",
       "  <thead>\n",
       "    <tr style=\"text-align: right;\">\n",
       "      <th></th>\n",
       "      <th>date</th>\n",
       "      <th>pce</th>\n",
       "      <th>pop</th>\n",
       "      <th>psavert</th>\n",
       "      <th>uempmed</th>\n",
       "      <th>unemploy</th>\n",
       "    </tr>\n",
       "  </thead>\n",
       "  <tbody>\n",
       "    <tr>\n",
       "      <th>1</th>\n",
       "      <td>1967-06-30</td>\n",
       "      <td>507.8</td>\n",
       "      <td>198712</td>\n",
       "      <td>9.8</td>\n",
       "      <td>4.5</td>\n",
       "      <td>2944</td>\n",
       "    </tr>\n",
       "    <tr>\n",
       "      <th>2</th>\n",
       "      <td>1967-07-31</td>\n",
       "      <td>510.9</td>\n",
       "      <td>198911</td>\n",
       "      <td>9.8</td>\n",
       "      <td>4.7</td>\n",
       "      <td>2945</td>\n",
       "    </tr>\n",
       "    <tr>\n",
       "      <th>3</th>\n",
       "      <td>1967-08-31</td>\n",
       "      <td>516.7</td>\n",
       "      <td>199113</td>\n",
       "      <td>9.0</td>\n",
       "      <td>4.6</td>\n",
       "      <td>2958</td>\n",
       "    </tr>\n",
       "    <tr>\n",
       "      <th>4</th>\n",
       "      <td>1967-09-30</td>\n",
       "      <td>513.3</td>\n",
       "      <td>199311</td>\n",
       "      <td>9.8</td>\n",
       "      <td>4.9</td>\n",
       "      <td>3143</td>\n",
       "    </tr>\n",
       "    <tr>\n",
       "      <th>5</th>\n",
       "      <td>1967-10-31</td>\n",
       "      <td>518.5</td>\n",
       "      <td>199498</td>\n",
       "      <td>9.7</td>\n",
       "      <td>4.7</td>\n",
       "      <td>3066</td>\n",
       "    </tr>\n",
       "    <tr>\n",
       "      <th>...</th>\n",
       "      <td>...</td>\n",
       "      <td>...</td>\n",
       "      <td>...</td>\n",
       "      <td>...</td>\n",
       "      <td>...</td>\n",
       "      <td>...</td>\n",
       "    </tr>\n",
       "    <tr>\n",
       "      <th>474</th>\n",
       "      <td>2006-11-30</td>\n",
       "      <td>9478.5</td>\n",
       "      <td>301070</td>\n",
       "      <td>-1.1</td>\n",
       "      <td>7.3</td>\n",
       "      <td>6849</td>\n",
       "    </tr>\n",
       "    <tr>\n",
       "      <th>475</th>\n",
       "      <td>2006-12-31</td>\n",
       "      <td>9540.3</td>\n",
       "      <td>301296</td>\n",
       "      <td>-0.9</td>\n",
       "      <td>8.1</td>\n",
       "      <td>7017</td>\n",
       "    </tr>\n",
       "    <tr>\n",
       "      <th>476</th>\n",
       "      <td>2007-01-31</td>\n",
       "      <td>9610.6</td>\n",
       "      <td>301481</td>\n",
       "      <td>-1.0</td>\n",
       "      <td>8.1</td>\n",
       "      <td>6865</td>\n",
       "    </tr>\n",
       "    <tr>\n",
       "      <th>477</th>\n",
       "      <td>2007-02-28</td>\n",
       "      <td>9653.0</td>\n",
       "      <td>301684</td>\n",
       "      <td>-0.7</td>\n",
       "      <td>8.5</td>\n",
       "      <td>6724</td>\n",
       "    </tr>\n",
       "    <tr>\n",
       "      <th>478</th>\n",
       "      <td>2007-03-31</td>\n",
       "      <td>9705.0</td>\n",
       "      <td>301913</td>\n",
       "      <td>-1.3</td>\n",
       "      <td>8.7</td>\n",
       "      <td>6801</td>\n",
       "    </tr>\n",
       "  </tbody>\n",
       "</table>\n",
       "<p>478 rows × 6 columns</p>\n",
       "</div>"
      ],
      "text/plain": [
       "           date     pce     pop  psavert  uempmed  unemploy\n",
       "1    1967-06-30   507.8  198712      9.8      4.5      2944\n",
       "2    1967-07-31   510.9  198911      9.8      4.7      2945\n",
       "3    1967-08-31   516.7  199113      9.0      4.6      2958\n",
       "4    1967-09-30   513.3  199311      9.8      4.9      3143\n",
       "5    1967-10-31   518.5  199498      9.7      4.7      3066\n",
       "..          ...     ...     ...      ...      ...       ...\n",
       "474  2006-11-30  9478.5  301070     -1.1      7.3      6849\n",
       "475  2006-12-31  9540.3  301296     -0.9      8.1      7017\n",
       "476  2007-01-31  9610.6  301481     -1.0      8.1      6865\n",
       "477  2007-02-28  9653.0  301684     -0.7      8.5      6724\n",
       "478  2007-03-31  9705.0  301913     -1.3      8.7      6801\n",
       "\n",
       "[478 rows x 6 columns]"
      ]
     },
     "execution_count": 10,
     "metadata": {},
     "output_type": "execute_result"
    }
   ],
   "source": [
    "economics = pydataset.data('economics')\n",
    "economics"
   ]
  },
  {
   "cell_type": "code",
   "execution_count": 11,
   "id": "dfab3648-2116-4362-ad98-c7f27de40d7a",
   "metadata": {},
   "outputs": [
    {
     "name": "stdout",
     "output_type": "stream",
     "text": [
      "<class 'pandas.core.frame.DataFrame'>\n",
      "Int64Index: 478 entries, 1 to 478\n",
      "Data columns (total 6 columns):\n",
      " #   Column    Non-Null Count  Dtype  \n",
      "---  ------    --------------  -----  \n",
      " 0   date      478 non-null    object \n",
      " 1   pce       478 non-null    float64\n",
      " 2   pop       478 non-null    int64  \n",
      " 3   psavert   478 non-null    float64\n",
      " 4   uempmed   478 non-null    float64\n",
      " 5   unemploy  478 non-null    int64  \n",
      "dtypes: float64(3), int64(2), object(1)\n",
      "memory usage: 26.1+ KB\n"
     ]
    }
   ],
   "source": [
    "economics.info()"
   ]
  },
  {
   "cell_type": "code",
   "execution_count": 12,
   "id": "2973d36f-6935-4f09-9d3c-f3135d7cff6f",
   "metadata": {},
   "outputs": [
    {
     "data": {
      "text/plain": [
       "<AxesSubplot:xlabel='date', ylabel='unemploy'>"
      ]
     },
     "execution_count": 12,
     "metadata": {},
     "output_type": "execute_result"
    },
    {
     "data": {
      "image/png": "[encoded data removed]",
      "text/plain": [
       "<Figure size 576x432 with 1 Axes>"
      ]
     },
     "metadata": {
      "needs_background": "light"
     },
     "output_type": "display_data"
    }
   ],
   "source": [
    "sns.lineplot(data = economics, x = 'date', y = 'unemploy')"
   ]
  },
  {
   "cell_type": "code",
   "execution_count": 13,
   "id": "57325851-fff0-4c1e-b06f-f7ed9a6aee01",
   "metadata": {},
   "outputs": [
    {
     "name": "stdout",
     "output_type": "stream",
     "text": [
      "<class 'pandas.core.frame.DataFrame'>\n",
      "Int64Index: 478 entries, 1 to 478\n",
      "Data columns (total 6 columns):\n",
      " #   Column    Non-Null Count  Dtype  \n",
      "---  ------    --------------  -----  \n",
      " 0   date      478 non-null    object \n",
      " 1   pce       478 non-null    float64\n",
      " 2   pop       478 non-null    int64  \n",
      " 3   psavert   478 non-null    float64\n",
      " 4   uempmed   478 non-null    float64\n",
      " 5   unemploy  478 non-null    float64\n",
      "dtypes: float64(4), int64(1), object(1)\n",
      "memory usage: 42.3+ KB\n"
     ]
    }
   ],
   "source": [
    "#column의 데이터타입 바꾸기 astype()\n",
    "economics['unemploy'] = economics['unemploy'].astype('float')\n",
    "economics.info()"
   ]
  },
  {
   "cell_type": "code",
   "execution_count": 14,
   "id": "0fe9b2ed-4748-46fc-a1ec-0556cb8be327",
   "metadata": {},
   "outputs": [
    {
     "name": "stdout",
     "output_type": "stream",
     "text": [
      "<class 'pandas.core.frame.DataFrame'>\n",
      "Int64Index: 478 entries, 1 to 478\n",
      "Data columns (total 6 columns):\n",
      " #   Column    Non-Null Count  Dtype         \n",
      "---  ------    --------------  -----         \n",
      " 0   date      478 non-null    datetime64[ns]\n",
      " 1   pce       478 non-null    float64       \n",
      " 2   pop       478 non-null    int64         \n",
      " 3   psavert   478 non-null    float64       \n",
      " 4   uempmed   478 non-null    float64       \n",
      " 5   unemploy  478 non-null    float64       \n",
      "dtypes: datetime64[ns](1), float64(4), int64(1)\n",
      "memory usage: 42.3 KB\n"
     ]
    }
   ],
   "source": [
    "economics['date'] = economics['date'].astype('datetime64')\n",
    "economics.info()"
   ]
  },
  {
   "cell_type": "code",
   "execution_count": 15,
   "id": "fbc9695b-aa8c-4225-abfd-8b4ea4e75395",
   "metadata": {},
   "outputs": [
    {
     "data": {
      "text/plain": [
       "<AxesSubplot:xlabel='date', ylabel='unemploy'>"
      ]
     },
     "execution_count": 15,
     "metadata": {},
     "output_type": "execute_result"
    },
    {
     "data": {
      "image/png": "[encoded data removed]",
      "text/plain": [
       "<Figure size 576x432 with 1 Axes>"
      ]
     },
     "metadata": {
      "needs_background": "light"
     },
     "output_type": "display_data"
    }
   ],
   "source": [
    "sns.lineplot(data = economics, x = 'date', y = 'unemploy')"
   ]
  },
  {
   "cell_type": "markdown",
   "id": "7cd6539f-f7a9-43a9-8e1f-5afcc9957da1",
   "metadata": {},
   "source": [
    "## sns.boxplot"
   ]
  },
  {
   "cell_type": "code",
   "execution_count": 16,
   "id": "93ce64f7-69e3-49ba-98db-ed11bebeee31",
   "metadata": {},
   "outputs": [
    {
     "data": {
      "text/plain": [
       "<AxesSubplot:xlabel='drv', ylabel='hwy'>"
      ]
     },
     "execution_count": 16,
     "metadata": {},
     "output_type": "execute_result"
    },
    {
     "data": {
      "image/png": "[encoded data removed]",
      "text/plain": [
       "<Figure size 576x432 with 1 Axes>"
      ]
     },
     "metadata": {
      "needs_background": "light"
     },
     "output_type": "display_data"
    }
   ],
   "source": [
    "sns.boxplot(data = mpg, x = 'drv', y = 'hwy')"
   ]
  },
  {
   "cell_type": "code",
   "execution_count": 17,
   "id": "8cc9a448-b2ba-4267-90ed-6faeee2a8c66",
   "metadata": {},
   "outputs": [
    {
     "data": {
      "text/plain": [
       "<AxesSubplot:ylabel='hwy'>"
      ]
     },
     "execution_count": 17,
     "metadata": {},
     "output_type": "execute_result"
    },
    {
     "data": {
      "image/png": "[encoded data removed]",
      "text/plain": [
       "<Figure size 576x432 with 1 Axes>"
      ]
     },
     "metadata": {
      "needs_background": "light"
     },
     "output_type": "display_data"
    }
   ],
   "source": [
    "sns.boxplot(data = mpg, y = 'hwy')"
   ]
  },
  {
   "cell_type": "markdown",
   "id": "8630afd3-c1c6-4e58-88a4-2dc3c485dbd8",
   "metadata": {},
   "source": [
    "# 한국복지패널 데이터"
   ]
  },
  {
   "cell_type": "code",
   "execution_count": 103,
   "id": "3f804aeb-b2a7-4dd7-856e-79183e65ac37",
   "metadata": {},
   "outputs": [],
   "source": [
    "#pip install pyreadstat"
   ]
  },
  {
   "cell_type": "code",
   "execution_count": 104,
   "id": "25477cc3-1a5f-4791-b697-39a37486d6e3",
   "metadata": {},
   "outputs": [],
   "source": [
    "import pandas as pd"
   ]
  },
  {
   "cell_type": "code",
   "execution_count": 121,
   "id": "7c4f0c20-9f6b-42bf-b816-3e7de3d2d658",
   "metadata": {},
   "outputs": [
    {
     "data": {
      "text/html": [
       "<div>\n",
       "<style scoped>\n",
       "    .dataframe tbody tr th:only-of-type {\n",
       "        vertical-align: middle;\n",
       "    }\n",
       "\n",
       "    .dataframe tbody tr th {\n",
       "        vertical-align: top;\n",
       "    }\n",
       "\n",
       "    .dataframe thead th {\n",
       "        text-align: right;\n",
       "    }\n",
       "</style>\n",
       "<table border=\"1\" class=\"dataframe\">\n",
       "  <thead>\n",
       "    <tr style=\"text-align: right;\">\n",
       "      <th></th>\n",
       "      <th>h14_id</th>\n",
       "      <th>h14_ind</th>\n",
       "      <th>h14_sn</th>\n",
       "      <th>h14_merkey</th>\n",
       "      <th>h_new</th>\n",
       "      <th>h14_cobf</th>\n",
       "      <th>p14_wsc</th>\n",
       "      <th>p14_wsl</th>\n",
       "      <th>p14_wgc</th>\n",
       "      <th>p14_wgl</th>\n",
       "      <th>...</th>\n",
       "      <th>wc14_64</th>\n",
       "      <th>wc14_65</th>\n",
       "      <th>wc14_5aq4</th>\n",
       "      <th>wc14_5aq5</th>\n",
       "      <th>wc14_5aq6</th>\n",
       "      <th>h14_pers_income1</th>\n",
       "      <th>h14_pers_income2</th>\n",
       "      <th>h14_pers_income3</th>\n",
       "      <th>h14_pers_income4</th>\n",
       "      <th>h14_pers_income5</th>\n",
       "    </tr>\n",
       "  </thead>\n",
       "  <tbody>\n",
       "    <tr>\n",
       "      <th>0</th>\n",
       "      <td>2.0</td>\n",
       "      <td>1.0</td>\n",
       "      <td>1.0</td>\n",
       "      <td>20101.0</td>\n",
       "      <td>0.0</td>\n",
       "      <td>NaN</td>\n",
       "      <td>0.291589</td>\n",
       "      <td>0.291589</td>\n",
       "      <td>1307.764781</td>\n",
       "      <td>1307.764781</td>\n",
       "      <td>...</td>\n",
       "      <td>NaN</td>\n",
       "      <td></td>\n",
       "      <td>NaN</td>\n",
       "      <td>NaN</td>\n",
       "      <td>NaN</td>\n",
       "      <td>NaN</td>\n",
       "      <td>NaN</td>\n",
       "      <td>NaN</td>\n",
       "      <td>0.0</td>\n",
       "      <td>NaN</td>\n",
       "    </tr>\n",
       "    <tr>\n",
       "      <th>1</th>\n",
       "      <td>3.0</td>\n",
       "      <td>1.0</td>\n",
       "      <td>1.0</td>\n",
       "      <td>30101.0</td>\n",
       "      <td>0.0</td>\n",
       "      <td>NaN</td>\n",
       "      <td>0.419753</td>\n",
       "      <td>0.419753</td>\n",
       "      <td>1882.570960</td>\n",
       "      <td>1882.570960</td>\n",
       "      <td>...</td>\n",
       "      <td>NaN</td>\n",
       "      <td></td>\n",
       "      <td>NaN</td>\n",
       "      <td>NaN</td>\n",
       "      <td>NaN</td>\n",
       "      <td>NaN</td>\n",
       "      <td>NaN</td>\n",
       "      <td>NaN</td>\n",
       "      <td>0.0</td>\n",
       "      <td>NaN</td>\n",
       "    </tr>\n",
       "    <tr>\n",
       "      <th>2</th>\n",
       "      <td>4.0</td>\n",
       "      <td>1.0</td>\n",
       "      <td>1.0</td>\n",
       "      <td>40101.0</td>\n",
       "      <td>0.0</td>\n",
       "      <td>NaN</td>\n",
       "      <td>0.265263</td>\n",
       "      <td>0.265980</td>\n",
       "      <td>1189.691668</td>\n",
       "      <td>1192.908537</td>\n",
       "      <td>...</td>\n",
       "      <td>NaN</td>\n",
       "      <td></td>\n",
       "      <td>NaN</td>\n",
       "      <td>NaN</td>\n",
       "      <td>NaN</td>\n",
       "      <td>NaN</td>\n",
       "      <td>1284.0</td>\n",
       "      <td>NaN</td>\n",
       "      <td>0.0</td>\n",
       "      <td>NaN</td>\n",
       "    </tr>\n",
       "    <tr>\n",
       "      <th>3</th>\n",
       "      <td>6.0</td>\n",
       "      <td>1.0</td>\n",
       "      <td>1.0</td>\n",
       "      <td>60101.0</td>\n",
       "      <td>0.0</td>\n",
       "      <td>NaN</td>\n",
       "      <td>0.494906</td>\n",
       "      <td>0.495941</td>\n",
       "      <td>2219.630833</td>\n",
       "      <td>2224.273816</td>\n",
       "      <td>...</td>\n",
       "      <td>1.0</td>\n",
       "      <td>.</td>\n",
       "      <td>2.0</td>\n",
       "      <td>4.0</td>\n",
       "      <td>4.0</td>\n",
       "      <td>2304.0</td>\n",
       "      <td>NaN</td>\n",
       "      <td>1800.0</td>\n",
       "      <td>0.0</td>\n",
       "      <td>NaN</td>\n",
       "    </tr>\n",
       "    <tr>\n",
       "      <th>4</th>\n",
       "      <td>6.0</td>\n",
       "      <td>1.0</td>\n",
       "      <td>1.0</td>\n",
       "      <td>60101.0</td>\n",
       "      <td>0.0</td>\n",
       "      <td>NaN</td>\n",
       "      <td>1.017935</td>\n",
       "      <td>1.017935</td>\n",
       "      <td>4565.389177</td>\n",
       "      <td>4565.389177</td>\n",
       "      <td>...</td>\n",
       "      <td>1.0</td>\n",
       "      <td>.</td>\n",
       "      <td>1.0</td>\n",
       "      <td>5.0</td>\n",
       "      <td>2.0</td>\n",
       "      <td>NaN</td>\n",
       "      <td>NaN</td>\n",
       "      <td>NaN</td>\n",
       "      <td>0.0</td>\n",
       "      <td>NaN</td>\n",
       "    </tr>\n",
       "    <tr>\n",
       "      <th>...</th>\n",
       "      <td>...</td>\n",
       "      <td>...</td>\n",
       "      <td>...</td>\n",
       "      <td>...</td>\n",
       "      <td>...</td>\n",
       "      <td>...</td>\n",
       "      <td>...</td>\n",
       "      <td>...</td>\n",
       "      <td>...</td>\n",
       "      <td>...</td>\n",
       "      <td>...</td>\n",
       "      <td>...</td>\n",
       "      <td>...</td>\n",
       "      <td>...</td>\n",
       "      <td>...</td>\n",
       "      <td>...</td>\n",
       "      <td>...</td>\n",
       "      <td>...</td>\n",
       "      <td>...</td>\n",
       "      <td>...</td>\n",
       "      <td>...</td>\n",
       "    </tr>\n",
       "    <tr>\n",
       "      <th>14413</th>\n",
       "      <td>9800.0</td>\n",
       "      <td>7.0</td>\n",
       "      <td>1.0</td>\n",
       "      <td>98000701.0</td>\n",
       "      <td>1.0</td>\n",
       "      <td>NaN</td>\n",
       "      <td>NaN</td>\n",
       "      <td>NaN</td>\n",
       "      <td>NaN</td>\n",
       "      <td>NaN</td>\n",
       "      <td>...</td>\n",
       "      <td>NaN</td>\n",
       "      <td></td>\n",
       "      <td>NaN</td>\n",
       "      <td>NaN</td>\n",
       "      <td>NaN</td>\n",
       "      <td>NaN</td>\n",
       "      <td>NaN</td>\n",
       "      <td>NaN</td>\n",
       "      <td>0.0</td>\n",
       "      <td>NaN</td>\n",
       "    </tr>\n",
       "    <tr>\n",
       "      <th>14414</th>\n",
       "      <td>9800.0</td>\n",
       "      <td>7.0</td>\n",
       "      <td>1.0</td>\n",
       "      <td>98000701.0</td>\n",
       "      <td>1.0</td>\n",
       "      <td>NaN</td>\n",
       "      <td>NaN</td>\n",
       "      <td>NaN</td>\n",
       "      <td>NaN</td>\n",
       "      <td>NaN</td>\n",
       "      <td>...</td>\n",
       "      <td>NaN</td>\n",
       "      <td></td>\n",
       "      <td>NaN</td>\n",
       "      <td>NaN</td>\n",
       "      <td>NaN</td>\n",
       "      <td>NaN</td>\n",
       "      <td>NaN</td>\n",
       "      <td>NaN</td>\n",
       "      <td>0.0</td>\n",
       "      <td>NaN</td>\n",
       "    </tr>\n",
       "    <tr>\n",
       "      <th>14415</th>\n",
       "      <td>9800.0</td>\n",
       "      <td>7.0</td>\n",
       "      <td>1.0</td>\n",
       "      <td>98000701.0</td>\n",
       "      <td>1.0</td>\n",
       "      <td>NaN</td>\n",
       "      <td>NaN</td>\n",
       "      <td>NaN</td>\n",
       "      <td>NaN</td>\n",
       "      <td>NaN</td>\n",
       "      <td>...</td>\n",
       "      <td>NaN</td>\n",
       "      <td></td>\n",
       "      <td>NaN</td>\n",
       "      <td>NaN</td>\n",
       "      <td>NaN</td>\n",
       "      <td>NaN</td>\n",
       "      <td>208.0</td>\n",
       "      <td>NaN</td>\n",
       "      <td>0.0</td>\n",
       "      <td>NaN</td>\n",
       "    </tr>\n",
       "    <tr>\n",
       "      <th>14416</th>\n",
       "      <td>9800.0</td>\n",
       "      <td>7.0</td>\n",
       "      <td>1.0</td>\n",
       "      <td>98000701.0</td>\n",
       "      <td>1.0</td>\n",
       "      <td>NaN</td>\n",
       "      <td>NaN</td>\n",
       "      <td>NaN</td>\n",
       "      <td>NaN</td>\n",
       "      <td>NaN</td>\n",
       "      <td>...</td>\n",
       "      <td>5.0</td>\n",
       "      <td>.</td>\n",
       "      <td>4.0</td>\n",
       "      <td>3.0</td>\n",
       "      <td>3.0</td>\n",
       "      <td>NaN</td>\n",
       "      <td>1200.0</td>\n",
       "      <td>NaN</td>\n",
       "      <td>0.0</td>\n",
       "      <td>NaN</td>\n",
       "    </tr>\n",
       "    <tr>\n",
       "      <th>14417</th>\n",
       "      <td>9800.0</td>\n",
       "      <td>7.0</td>\n",
       "      <td>1.0</td>\n",
       "      <td>98000701.0</td>\n",
       "      <td>1.0</td>\n",
       "      <td>NaN</td>\n",
       "      <td>NaN</td>\n",
       "      <td>NaN</td>\n",
       "      <td>NaN</td>\n",
       "      <td>NaN</td>\n",
       "      <td>...</td>\n",
       "      <td>NaN</td>\n",
       "      <td></td>\n",
       "      <td>NaN</td>\n",
       "      <td>NaN</td>\n",
       "      <td>NaN</td>\n",
       "      <td>NaN</td>\n",
       "      <td>NaN</td>\n",
       "      <td>NaN</td>\n",
       "      <td>0.0</td>\n",
       "      <td>NaN</td>\n",
       "    </tr>\n",
       "  </tbody>\n",
       "</table>\n",
       "<p>14418 rows × 830 columns</p>\n",
       "</div>"
      ],
      "text/plain": [
       "       h14_id  h14_ind  h14_sn  h14_merkey  h_new  h14_cobf   p14_wsc  \\\n",
       "0         2.0      1.0     1.0     20101.0    0.0       NaN  0.291589   \n",
       "1         3.0      1.0     1.0     30101.0    0.0       NaN  0.419753   \n",
       "2         4.0      1.0     1.0     40101.0    0.0       NaN  0.265263   \n",
       "3         6.0      1.0     1.0     60101.0    0.0       NaN  0.494906   \n",
       "4         6.0      1.0     1.0     60101.0    0.0       NaN  1.017935   \n",
       "...       ...      ...     ...         ...    ...       ...       ...   \n",
       "14413  9800.0      7.0     1.0  98000701.0    1.0       NaN       NaN   \n",
       "14414  9800.0      7.0     1.0  98000701.0    1.0       NaN       NaN   \n",
       "14415  9800.0      7.0     1.0  98000701.0    1.0       NaN       NaN   \n",
       "14416  9800.0      7.0     1.0  98000701.0    1.0       NaN       NaN   \n",
       "14417  9800.0      7.0     1.0  98000701.0    1.0       NaN       NaN   \n",
       "\n",
       "        p14_wsl      p14_wgc      p14_wgl  ...  wc14_64  wc14_65  wc14_5aq4  \\\n",
       "0      0.291589  1307.764781  1307.764781  ...      NaN                 NaN   \n",
       "1      0.419753  1882.570960  1882.570960  ...      NaN                 NaN   \n",
       "2      0.265980  1189.691668  1192.908537  ...      NaN                 NaN   \n",
       "3      0.495941  2219.630833  2224.273816  ...      1.0        .        2.0   \n",
       "4      1.017935  4565.389177  4565.389177  ...      1.0        .        1.0   \n",
       "...         ...          ...          ...  ...      ...      ...        ...   \n",
       "14413       NaN          NaN          NaN  ...      NaN                 NaN   \n",
       "14414       NaN          NaN          NaN  ...      NaN                 NaN   \n",
       "14415       NaN          NaN          NaN  ...      NaN                 NaN   \n",
       "14416       NaN          NaN          NaN  ...      5.0        .        4.0   \n",
       "14417       NaN          NaN          NaN  ...      NaN                 NaN   \n",
       "\n",
       "       wc14_5aq5  wc14_5aq6  h14_pers_income1  h14_pers_income2  \\\n",
       "0            NaN        NaN               NaN               NaN   \n",
       "1            NaN        NaN               NaN               NaN   \n",
       "2            NaN        NaN               NaN            1284.0   \n",
       "3            4.0        4.0            2304.0               NaN   \n",
       "4            5.0        2.0               NaN               NaN   \n",
       "...          ...        ...               ...               ...   \n",
       "14413        NaN        NaN               NaN               NaN   \n",
       "14414        NaN        NaN               NaN               NaN   \n",
       "14415        NaN        NaN               NaN             208.0   \n",
       "14416        3.0        3.0               NaN            1200.0   \n",
       "14417        NaN        NaN               NaN               NaN   \n",
       "\n",
       "       h14_pers_income3  h14_pers_income4  h14_pers_income5  \n",
       "0                   NaN               0.0               NaN  \n",
       "1                   NaN               0.0               NaN  \n",
       "2                   NaN               0.0               NaN  \n",
       "3                1800.0               0.0               NaN  \n",
       "4                   NaN               0.0               NaN  \n",
       "...                 ...               ...               ...  \n",
       "14413               NaN               0.0               NaN  \n",
       "14414               NaN               0.0               NaN  \n",
       "14415               NaN               0.0               NaN  \n",
       "14416               NaN               0.0               NaN  \n",
       "14417               NaN               0.0               NaN  \n",
       "\n",
       "[14418 rows x 830 columns]"
      ]
     },
     "execution_count": 121,
     "metadata": {},
     "output_type": "execute_result"
    }
   ],
   "source": [
    "raw_welfare = pd.read_spss('Koweps_hpwc14_2019_beta3.sav')\n",
    "raw_welfare"
   ]
  },
  {
   "cell_type": "code",
   "execution_count": 122,
   "id": "cf70fc7a-8842-41fb-9377-b69590ffd357",
   "metadata": {},
   "outputs": [],
   "source": [
    "welfare = raw_welfare.loc[:,['h14_g3', 'h14_g4', 'h14_g10',\n",
    "                             'h14_g11', 'p1402_8aq1', 'h14_eco9', 'h14_reg7']]"
   ]
  },
  {
   "cell_type": "code",
   "execution_count": 123,
   "id": "10307c50-4b12-4e04-824e-ba0fa2bd6c20",
   "metadata": {},
   "outputs": [],
   "source": [
    "welfare = welfare.rename({'h14_g3':'gender', 'h14_g4': 'birth', 'h14_g10': 'marriage_type',\n",
    "                             'h14_g11': 'religion', 'p1402_8aq1': 'income', 'h14_eco9': 'code_job', 'h14_reg7': 'code_region'}, axis = 1)"
   ]
  },
  {
   "cell_type": "code",
   "execution_count": 124,
   "id": "e5df2a26-3206-4300-a452-ce84233edd43",
   "metadata": {},
   "outputs": [
    {
     "data": {
      "text/html": [
       "<div>\n",
       "<style scoped>\n",
       "    .dataframe tbody tr th:only-of-type {\n",
       "        vertical-align: middle;\n",
       "    }\n",
       "\n",
       "    .dataframe tbody tr th {\n",
       "        vertical-align: top;\n",
       "    }\n",
       "\n",
       "    .dataframe thead th {\n",
       "        text-align: right;\n",
       "    }\n",
       "</style>\n",
       "<table border=\"1\" class=\"dataframe\">\n",
       "  <thead>\n",
       "    <tr style=\"text-align: right;\">\n",
       "      <th></th>\n",
       "      <th>gender</th>\n",
       "      <th>birth</th>\n",
       "      <th>marriage_type</th>\n",
       "      <th>religion</th>\n",
       "      <th>income</th>\n",
       "      <th>code_job</th>\n",
       "      <th>code_region</th>\n",
       "    </tr>\n",
       "  </thead>\n",
       "  <tbody>\n",
       "    <tr>\n",
       "      <th>0</th>\n",
       "      <td>2.0</td>\n",
       "      <td>1945.0</td>\n",
       "      <td>2.0</td>\n",
       "      <td>1.0</td>\n",
       "      <td>NaN</td>\n",
       "      <td>NaN</td>\n",
       "      <td>1.0</td>\n",
       "    </tr>\n",
       "    <tr>\n",
       "      <th>1</th>\n",
       "      <td>1.0</td>\n",
       "      <td>1948.0</td>\n",
       "      <td>2.0</td>\n",
       "      <td>2.0</td>\n",
       "      <td>NaN</td>\n",
       "      <td>NaN</td>\n",
       "      <td>1.0</td>\n",
       "    </tr>\n",
       "    <tr>\n",
       "      <th>2</th>\n",
       "      <td>1.0</td>\n",
       "      <td>1942.0</td>\n",
       "      <td>3.0</td>\n",
       "      <td>1.0</td>\n",
       "      <td>107.0</td>\n",
       "      <td>762.0</td>\n",
       "      <td>1.0</td>\n",
       "    </tr>\n",
       "  </tbody>\n",
       "</table>\n",
       "</div>"
      ],
      "text/plain": [
       "   gender   birth  marriage_type  religion  income  code_job  code_region\n",
       "0     2.0  1945.0            2.0       1.0     NaN       NaN          1.0\n",
       "1     1.0  1948.0            2.0       2.0     NaN       NaN          1.0\n",
       "2     1.0  1942.0            3.0       1.0   107.0     762.0          1.0"
      ]
     },
     "execution_count": 124,
     "metadata": {},
     "output_type": "execute_result"
    }
   ],
   "source": [
    "welfare[:3]"
   ]
  },
  {
   "cell_type": "code",
   "execution_count": 125,
   "id": "298fc19f-8e61-4b4a-b8f7-a62b9a6a1eda",
   "metadata": {},
   "outputs": [
    {
     "data": {
      "text/html": [
       "<div>\n",
       "<style scoped>\n",
       "    .dataframe tbody tr th:only-of-type {\n",
       "        vertical-align: middle;\n",
       "    }\n",
       "\n",
       "    .dataframe tbody tr th {\n",
       "        vertical-align: top;\n",
       "    }\n",
       "\n",
       "    .dataframe thead th {\n",
       "        text-align: right;\n",
       "    }\n",
       "</style>\n",
       "<table border=\"1\" class=\"dataframe\">\n",
       "  <thead>\n",
       "    <tr style=\"text-align: right;\">\n",
       "      <th></th>\n",
       "      <th>gender</th>\n",
       "      <th>income</th>\n",
       "    </tr>\n",
       "  </thead>\n",
       "  <tbody>\n",
       "    <tr>\n",
       "      <th>0</th>\n",
       "      <td>1.0</td>\n",
       "      <td>349.037571</td>\n",
       "    </tr>\n",
       "    <tr>\n",
       "      <th>1</th>\n",
       "      <td>2.0</td>\n",
       "      <td>186.293096</td>\n",
       "    </tr>\n",
       "  </tbody>\n",
       "</table>\n",
       "</div>"
      ],
      "text/plain": [
       "   gender      income\n",
       "0     1.0  349.037571\n",
       "1     2.0  186.293096"
      ]
     },
     "execution_count": 125,
     "metadata": {},
     "output_type": "execute_result"
    }
   ],
   "source": [
    "df = welfare.groupby('gender', as_index=False)[['income']].mean()\n",
    "df"
   ]
  },
  {
   "cell_type": "code",
   "execution_count": 126,
   "id": "cd07b599-db67-4487-b226-9030b8b30264",
   "metadata": {},
   "outputs": [
    {
     "data": {
      "text/html": [
       "<div>\n",
       "<style scoped>\n",
       "    .dataframe tbody tr th:only-of-type {\n",
       "        vertical-align: middle;\n",
       "    }\n",
       "\n",
       "    .dataframe tbody tr th {\n",
       "        vertical-align: top;\n",
       "    }\n",
       "\n",
       "    .dataframe thead th {\n",
       "        text-align: right;\n",
       "    }\n",
       "</style>\n",
       "<table border=\"1\" class=\"dataframe\">\n",
       "  <thead>\n",
       "    <tr style=\"text-align: right;\">\n",
       "      <th></th>\n",
       "      <th>gender</th>\n",
       "      <th>birth</th>\n",
       "      <th>marriage_type</th>\n",
       "      <th>religion</th>\n",
       "      <th>income</th>\n",
       "      <th>code_job</th>\n",
       "      <th>code_region</th>\n",
       "    </tr>\n",
       "  </thead>\n",
       "  <tbody>\n",
       "    <tr>\n",
       "      <th>0</th>\n",
       "      <td>female</td>\n",
       "      <td>1945.0</td>\n",
       "      <td>2.0</td>\n",
       "      <td>1.0</td>\n",
       "      <td>NaN</td>\n",
       "      <td>NaN</td>\n",
       "      <td>1.0</td>\n",
       "    </tr>\n",
       "    <tr>\n",
       "      <th>1</th>\n",
       "      <td>male</td>\n",
       "      <td>1948.0</td>\n",
       "      <td>2.0</td>\n",
       "      <td>2.0</td>\n",
       "      <td>NaN</td>\n",
       "      <td>NaN</td>\n",
       "      <td>1.0</td>\n",
       "    </tr>\n",
       "    <tr>\n",
       "      <th>2</th>\n",
       "      <td>male</td>\n",
       "      <td>1942.0</td>\n",
       "      <td>3.0</td>\n",
       "      <td>1.0</td>\n",
       "      <td>107.0</td>\n",
       "      <td>762.0</td>\n",
       "      <td>1.0</td>\n",
       "    </tr>\n",
       "  </tbody>\n",
       "</table>\n",
       "</div>"
      ],
      "text/plain": [
       "   gender   birth  marriage_type  religion  income  code_job  code_region\n",
       "0  female  1945.0            2.0       1.0     NaN       NaN          1.0\n",
       "1    male  1948.0            2.0       2.0     NaN       NaN          1.0\n",
       "2    male  1942.0            3.0       1.0   107.0     762.0          1.0"
      ]
     },
     "execution_count": 126,
     "metadata": {},
     "output_type": "execute_result"
    }
   ],
   "source": [
    "import numpy as np\n",
    "welfare['gender'] = np.where(welfare['gender']==1, 'male','female')\n",
    "welfare[:3]"
   ]
  },
  {
   "cell_type": "code",
   "execution_count": 127,
   "id": "aed537fb-05f4-4101-8331-50799a1dcc5a",
   "metadata": {},
   "outputs": [
    {
     "data": {
      "text/plain": [
       "<AxesSubplot:xlabel='gender', ylabel='income'>"
      ]
     },
     "execution_count": 127,
     "metadata": {},
     "output_type": "execute_result"
    },
    {
     "data": {
      "image/png": "[encoded data removed]",
      "text/plain": [
       "<Figure size 576x432 with 1 Axes>"
      ]
     },
     "metadata": {
      "needs_background": "light"
     },
     "output_type": "display_data"
    }
   ],
   "source": [
    "sns.barplot(data = df, x = 'gender', y = 'income')"
   ]
  },
  {
   "cell_type": "code",
   "execution_count": 128,
   "id": "47b8c9a2-6c6a-486b-974c-7236ab5303ec",
   "metadata": {},
   "outputs": [
    {
     "data": {
      "text/plain": [
       "2018.0"
      ]
     },
     "execution_count": 128,
     "metadata": {},
     "output_type": "execute_result"
    }
   ],
   "source": [
    "max(welfare.birth)"
   ]
  },
  {
   "cell_type": "code",
   "execution_count": 129,
   "id": "fa6fbbf3-0307-4ad9-b0b8-9ad84fbee2a6",
   "metadata": {},
   "outputs": [],
   "source": [
    "#2018년생 1살 기준\n",
    "welfare['age'] = 2019- welfare['birth']"
   ]
  },
  {
   "cell_type": "code",
   "execution_count": 130,
   "id": "1199e69f-c068-43eb-a74c-051260983bdb",
   "metadata": {},
   "outputs": [
    {
     "data": {
      "text/html": [
       "<div>\n",
       "<style scoped>\n",
       "    .dataframe tbody tr th:only-of-type {\n",
       "        vertical-align: middle;\n",
       "    }\n",
       "\n",
       "    .dataframe tbody tr th {\n",
       "        vertical-align: top;\n",
       "    }\n",
       "\n",
       "    .dataframe thead th {\n",
       "        text-align: right;\n",
       "    }\n",
       "</style>\n",
       "<table border=\"1\" class=\"dataframe\">\n",
       "  <thead>\n",
       "    <tr style=\"text-align: right;\">\n",
       "      <th></th>\n",
       "      <th>gender</th>\n",
       "      <th>birth</th>\n",
       "      <th>marriage_type</th>\n",
       "      <th>religion</th>\n",
       "      <th>income</th>\n",
       "      <th>code_job</th>\n",
       "      <th>code_region</th>\n",
       "      <th>age</th>\n",
       "    </tr>\n",
       "  </thead>\n",
       "  <tbody>\n",
       "    <tr>\n",
       "      <th>0</th>\n",
       "      <td>female</td>\n",
       "      <td>1945.0</td>\n",
       "      <td>2.0</td>\n",
       "      <td>1.0</td>\n",
       "      <td>NaN</td>\n",
       "      <td>NaN</td>\n",
       "      <td>1.0</td>\n",
       "      <td>74.0</td>\n",
       "    </tr>\n",
       "    <tr>\n",
       "      <th>1</th>\n",
       "      <td>male</td>\n",
       "      <td>1948.0</td>\n",
       "      <td>2.0</td>\n",
       "      <td>2.0</td>\n",
       "      <td>NaN</td>\n",
       "      <td>NaN</td>\n",
       "      <td>1.0</td>\n",
       "      <td>71.0</td>\n",
       "    </tr>\n",
       "    <tr>\n",
       "      <th>2</th>\n",
       "      <td>male</td>\n",
       "      <td>1942.0</td>\n",
       "      <td>3.0</td>\n",
       "      <td>1.0</td>\n",
       "      <td>107.0</td>\n",
       "      <td>762.0</td>\n",
       "      <td>1.0</td>\n",
       "      <td>77.0</td>\n",
       "    </tr>\n",
       "  </tbody>\n",
       "</table>\n",
       "</div>"
      ],
      "text/plain": [
       "   gender   birth  marriage_type  religion  income  code_job  code_region  \\\n",
       "0  female  1945.0            2.0       1.0     NaN       NaN          1.0   \n",
       "1    male  1948.0            2.0       2.0     NaN       NaN          1.0   \n",
       "2    male  1942.0            3.0       1.0   107.0     762.0          1.0   \n",
       "\n",
       "    age  \n",
       "0  74.0  \n",
       "1  71.0  \n",
       "2  77.0  "
      ]
     },
     "execution_count": 130,
     "metadata": {},
     "output_type": "execute_result"
    }
   ],
   "source": [
    "welfare[:3]"
   ]
  },
  {
   "cell_type": "code",
   "execution_count": 131,
   "id": "b6175a9c-3d04-499b-965e-2161d1adc400",
   "metadata": {},
   "outputs": [],
   "source": [
    "welfare['age'] = welfare['age'].astype(int)"
   ]
  },
  {
   "cell_type": "code",
   "execution_count": 132,
   "id": "3c1838a4-c5bc-4c6b-829e-b8d84cf6a630",
   "metadata": {},
   "outputs": [
    {
     "data": {
      "text/html": [
       "<div>\n",
       "<style scoped>\n",
       "    .dataframe tbody tr th:only-of-type {\n",
       "        vertical-align: middle;\n",
       "    }\n",
       "\n",
       "    .dataframe tbody tr th {\n",
       "        vertical-align: top;\n",
       "    }\n",
       "\n",
       "    .dataframe thead th {\n",
       "        text-align: right;\n",
       "    }\n",
       "</style>\n",
       "<table border=\"1\" class=\"dataframe\">\n",
       "  <thead>\n",
       "    <tr style=\"text-align: right;\">\n",
       "      <th></th>\n",
       "      <th>gender</th>\n",
       "      <th>birth</th>\n",
       "      <th>marriage_type</th>\n",
       "      <th>religion</th>\n",
       "      <th>income</th>\n",
       "      <th>code_job</th>\n",
       "      <th>code_region</th>\n",
       "      <th>age</th>\n",
       "    </tr>\n",
       "  </thead>\n",
       "  <tbody>\n",
       "    <tr>\n",
       "      <th>0</th>\n",
       "      <td>female</td>\n",
       "      <td>1945.0</td>\n",
       "      <td>2.0</td>\n",
       "      <td>1.0</td>\n",
       "      <td>NaN</td>\n",
       "      <td>NaN</td>\n",
       "      <td>1.0</td>\n",
       "      <td>74</td>\n",
       "    </tr>\n",
       "    <tr>\n",
       "      <th>1</th>\n",
       "      <td>male</td>\n",
       "      <td>1948.0</td>\n",
       "      <td>2.0</td>\n",
       "      <td>2.0</td>\n",
       "      <td>NaN</td>\n",
       "      <td>NaN</td>\n",
       "      <td>1.0</td>\n",
       "      <td>71</td>\n",
       "    </tr>\n",
       "    <tr>\n",
       "      <th>2</th>\n",
       "      <td>male</td>\n",
       "      <td>1942.0</td>\n",
       "      <td>3.0</td>\n",
       "      <td>1.0</td>\n",
       "      <td>107.0</td>\n",
       "      <td>762.0</td>\n",
       "      <td>1.0</td>\n",
       "      <td>77</td>\n",
       "    </tr>\n",
       "  </tbody>\n",
       "</table>\n",
       "</div>"
      ],
      "text/plain": [
       "   gender   birth  marriage_type  religion  income  code_job  code_region  age\n",
       "0  female  1945.0            2.0       1.0     NaN       NaN          1.0   74\n",
       "1    male  1948.0            2.0       2.0     NaN       NaN          1.0   71\n",
       "2    male  1942.0            3.0       1.0   107.0     762.0          1.0   77"
      ]
     },
     "execution_count": 132,
     "metadata": {},
     "output_type": "execute_result"
    }
   ],
   "source": [
    "welfare[:3]"
   ]
  },
  {
   "cell_type": "code",
   "execution_count": 133,
   "id": "7092bf45-5cae-4e32-b66d-83c1604582bc",
   "metadata": {},
   "outputs": [
    {
     "data": {
      "text/plain": [
       "gender              0\n",
       "birth               0\n",
       "marriage_type       0\n",
       "religion            0\n",
       "income           9884\n",
       "code_job         7540\n",
       "code_region         0\n",
       "age                 0\n",
       "dtype: int64"
      ]
     },
     "execution_count": 133,
     "metadata": {},
     "output_type": "execute_result"
    }
   ],
   "source": [
    "welfare.isna().sum()"
   ]
  },
  {
   "cell_type": "code",
   "execution_count": 134,
   "id": "a6201a27-6a1a-408a-afd7-be06cbec89f8",
   "metadata": {
    "tags": []
   },
   "outputs": [
    {
     "data": {
      "text/html": [
       "<div>\n",
       "<style scoped>\n",
       "    .dataframe tbody tr th:only-of-type {\n",
       "        vertical-align: middle;\n",
       "    }\n",
       "\n",
       "    .dataframe tbody tr th {\n",
       "        vertical-align: top;\n",
       "    }\n",
       "\n",
       "    .dataframe thead th {\n",
       "        text-align: right;\n",
       "    }\n",
       "</style>\n",
       "<table border=\"1\" class=\"dataframe\">\n",
       "  <thead>\n",
       "    <tr style=\"text-align: right;\">\n",
       "      <th></th>\n",
       "      <th>income</th>\n",
       "    </tr>\n",
       "    <tr>\n",
       "      <th>age</th>\n",
       "      <th></th>\n",
       "    </tr>\n",
       "  </thead>\n",
       "  <tbody>\n",
       "    <tr>\n",
       "      <th>30</th>\n",
       "      <td>266.134831</td>\n",
       "    </tr>\n",
       "    <tr>\n",
       "      <th>31</th>\n",
       "      <td>276.297872</td>\n",
       "    </tr>\n",
       "    <tr>\n",
       "      <th>32</th>\n",
       "      <td>268.865385</td>\n",
       "    </tr>\n",
       "    <tr>\n",
       "      <th>33</th>\n",
       "      <td>281.176471</td>\n",
       "    </tr>\n",
       "    <tr>\n",
       "      <th>34</th>\n",
       "      <td>305.603175</td>\n",
       "    </tr>\n",
       "    <tr>\n",
       "      <th>35</th>\n",
       "      <td>302.467742</td>\n",
       "    </tr>\n",
       "    <tr>\n",
       "      <th>36</th>\n",
       "      <td>306.010870</td>\n",
       "    </tr>\n",
       "    <tr>\n",
       "      <th>37</th>\n",
       "      <td>334.539216</td>\n",
       "    </tr>\n",
       "    <tr>\n",
       "      <th>38</th>\n",
       "      <td>317.055556</td>\n",
       "    </tr>\n",
       "    <tr>\n",
       "      <th>39</th>\n",
       "      <td>341.694444</td>\n",
       "    </tr>\n",
       "  </tbody>\n",
       "</table>\n",
       "</div>"
      ],
      "text/plain": [
       "         income\n",
       "age            \n",
       "30   266.134831\n",
       "31   276.297872\n",
       "32   268.865385\n",
       "33   281.176471\n",
       "34   305.603175\n",
       "35   302.467742\n",
       "36   306.010870\n",
       "37   334.539216\n",
       "38   317.055556\n",
       "39   341.694444"
      ]
     },
     "execution_count": 134,
     "metadata": {},
     "output_type": "execute_result"
    }
   ],
   "source": [
    "df = welfare.groupby('age')[['income']].mean()\n",
    "#30대 income\n",
    "df[29:39]"
   ]
  },
  {
   "cell_type": "code",
   "execution_count": 144,
   "id": "ffd5b5d7-1258-46db-bc56-c11c4925e7bf",
   "metadata": {
    "tags": []
   },
   "outputs": [
    {
     "data": {
      "text/html": [
       "<div>\n",
       "<style scoped>\n",
       "    .dataframe tbody tr th:only-of-type {\n",
       "        vertical-align: middle;\n",
       "    }\n",
       "\n",
       "    .dataframe tbody tr th {\n",
       "        vertical-align: top;\n",
       "    }\n",
       "\n",
       "    .dataframe thead th {\n",
       "        text-align: right;\n",
       "    }\n",
       "</style>\n",
       "<table border=\"1\" class=\"dataframe\">\n",
       "  <thead>\n",
       "    <tr style=\"text-align: right;\">\n",
       "      <th></th>\n",
       "      <th>index</th>\n",
       "      <th>age</th>\n",
       "      <th>income</th>\n",
       "    </tr>\n",
       "  </thead>\n",
       "  <tbody>\n",
       "    <tr>\n",
       "      <th>29</th>\n",
       "      <td>29</td>\n",
       "      <td>30</td>\n",
       "      <td>266.134831</td>\n",
       "    </tr>\n",
       "    <tr>\n",
       "      <th>30</th>\n",
       "      <td>30</td>\n",
       "      <td>31</td>\n",
       "      <td>276.297872</td>\n",
       "    </tr>\n",
       "    <tr>\n",
       "      <th>31</th>\n",
       "      <td>31</td>\n",
       "      <td>32</td>\n",
       "      <td>268.865385</td>\n",
       "    </tr>\n",
       "    <tr>\n",
       "      <th>32</th>\n",
       "      <td>32</td>\n",
       "      <td>33</td>\n",
       "      <td>281.176471</td>\n",
       "    </tr>\n",
       "    <tr>\n",
       "      <th>33</th>\n",
       "      <td>33</td>\n",
       "      <td>34</td>\n",
       "      <td>305.603175</td>\n",
       "    </tr>\n",
       "    <tr>\n",
       "      <th>34</th>\n",
       "      <td>34</td>\n",
       "      <td>35</td>\n",
       "      <td>302.467742</td>\n",
       "    </tr>\n",
       "    <tr>\n",
       "      <th>35</th>\n",
       "      <td>35</td>\n",
       "      <td>36</td>\n",
       "      <td>306.010870</td>\n",
       "    </tr>\n",
       "    <tr>\n",
       "      <th>36</th>\n",
       "      <td>36</td>\n",
       "      <td>37</td>\n",
       "      <td>334.539216</td>\n",
       "    </tr>\n",
       "    <tr>\n",
       "      <th>37</th>\n",
       "      <td>37</td>\n",
       "      <td>38</td>\n",
       "      <td>317.055556</td>\n",
       "    </tr>\n",
       "    <tr>\n",
       "      <th>38</th>\n",
       "      <td>38</td>\n",
       "      <td>39</td>\n",
       "      <td>341.694444</td>\n",
       "    </tr>\n",
       "  </tbody>\n",
       "</table>\n",
       "</div>"
      ],
      "text/plain": [
       "    index  age      income\n",
       "29     29   30  266.134831\n",
       "30     30   31  276.297872\n",
       "31     31   32  268.865385\n",
       "32     32   33  281.176471\n",
       "33     33   34  305.603175\n",
       "34     34   35  302.467742\n",
       "35     35   36  306.010870\n",
       "36     36   37  334.539216\n",
       "37     37   38  317.055556\n",
       "38     38   39  341.694444"
      ]
     },
     "execution_count": 144,
     "metadata": {},
     "output_type": "execute_result"
    }
   ],
   "source": [
    "#age가 index에 들어가 있으면 그래프를 그릴 수 없다\n",
    "df = df.reset_index()\n",
    "df[29:39]"
   ]
  },
  {
   "cell_type": "code",
   "execution_count": 136,
   "id": "0c95c579-66f5-4a89-91bb-503378247eaa",
   "metadata": {},
   "outputs": [
    {
     "data": {
      "text/plain": [
       "<AxesSubplot:xlabel='age', ylabel='income'>"
      ]
     },
     "execution_count": 136,
     "metadata": {},
     "output_type": "execute_result"
    },
    {
     "data": {
      "image/png": "[encoded data removed]",
      "text/plain": [
       "<Figure size 576x432 with 1 Axes>"
      ]
     },
     "metadata": {
      "needs_background": "light"
     },
     "output_type": "display_data"
    }
   ],
   "source": [
    "sns.lineplot(data = df, x = 'age', y = 'income')"
   ]
  },
  {
   "cell_type": "code",
   "execution_count": 137,
   "id": "cbbcef3f-e657-4601-a29a-452b37cbfec0",
   "metadata": {},
   "outputs": [],
   "source": [
    "welfare['age_gen'] = np.where(welfare['age']>60, 'old', np.where(welfare['age']>30, 'middle', 'young'))"
   ]
  },
  {
   "cell_type": "code",
   "execution_count": 138,
   "id": "ae32ed59-554c-4c7c-bbcb-a035ee39fb80",
   "metadata": {},
   "outputs": [
    {
     "data": {
      "text/html": [
       "<div>\n",
       "<style scoped>\n",
       "    .dataframe tbody tr th:only-of-type {\n",
       "        vertical-align: middle;\n",
       "    }\n",
       "\n",
       "    .dataframe tbody tr th {\n",
       "        vertical-align: top;\n",
       "    }\n",
       "\n",
       "    .dataframe thead th {\n",
       "        text-align: right;\n",
       "    }\n",
       "</style>\n",
       "<table border=\"1\" class=\"dataframe\">\n",
       "  <thead>\n",
       "    <tr style=\"text-align: right;\">\n",
       "      <th></th>\n",
       "      <th>gender</th>\n",
       "      <th>birth</th>\n",
       "      <th>marriage_type</th>\n",
       "      <th>religion</th>\n",
       "      <th>income</th>\n",
       "      <th>code_job</th>\n",
       "      <th>code_region</th>\n",
       "      <th>age</th>\n",
       "      <th>age_gen</th>\n",
       "    </tr>\n",
       "  </thead>\n",
       "  <tbody>\n",
       "    <tr>\n",
       "      <th>0</th>\n",
       "      <td>female</td>\n",
       "      <td>1945.0</td>\n",
       "      <td>2.0</td>\n",
       "      <td>1.0</td>\n",
       "      <td>NaN</td>\n",
       "      <td>NaN</td>\n",
       "      <td>1.0</td>\n",
       "      <td>74</td>\n",
       "      <td>old</td>\n",
       "    </tr>\n",
       "    <tr>\n",
       "      <th>1</th>\n",
       "      <td>male</td>\n",
       "      <td>1948.0</td>\n",
       "      <td>2.0</td>\n",
       "      <td>2.0</td>\n",
       "      <td>NaN</td>\n",
       "      <td>NaN</td>\n",
       "      <td>1.0</td>\n",
       "      <td>71</td>\n",
       "      <td>old</td>\n",
       "    </tr>\n",
       "    <tr>\n",
       "      <th>2</th>\n",
       "      <td>male</td>\n",
       "      <td>1942.0</td>\n",
       "      <td>3.0</td>\n",
       "      <td>1.0</td>\n",
       "      <td>107.0</td>\n",
       "      <td>762.0</td>\n",
       "      <td>1.0</td>\n",
       "      <td>77</td>\n",
       "      <td>old</td>\n",
       "    </tr>\n",
       "  </tbody>\n",
       "</table>\n",
       "</div>"
      ],
      "text/plain": [
       "   gender   birth  marriage_type  religion  income  code_job  code_region  \\\n",
       "0  female  1945.0            2.0       1.0     NaN       NaN          1.0   \n",
       "1    male  1948.0            2.0       2.0     NaN       NaN          1.0   \n",
       "2    male  1942.0            3.0       1.0   107.0     762.0          1.0   \n",
       "\n",
       "   age age_gen  \n",
       "0   74     old  \n",
       "1   71     old  \n",
       "2   77     old  "
      ]
     },
     "execution_count": 138,
     "metadata": {},
     "output_type": "execute_result"
    }
   ],
   "source": [
    "welfare[:3]"
   ]
  },
  {
   "cell_type": "code",
   "execution_count": 139,
   "id": "1994f539-d277-4e3c-87d2-535379a1f37b",
   "metadata": {},
   "outputs": [
    {
     "name": "stdout",
     "output_type": "stream",
     "text": [
      "<class 'pandas.core.frame.DataFrame'>\n",
      "RangeIndex: 14418 entries, 0 to 14417\n",
      "Data columns (total 9 columns):\n",
      " #   Column         Non-Null Count  Dtype   \n",
      "---  ------         --------------  -----   \n",
      " 0   gender         14418 non-null  object  \n",
      " 1   birth          14418 non-null  float64 \n",
      " 2   marriage_type  14418 non-null  float64 \n",
      " 3   religion       14418 non-null  float64 \n",
      " 4   income         4534 non-null   float64 \n",
      " 5   code_job       6878 non-null   float64 \n",
      " 6   code_region    14418 non-null  float64 \n",
      " 7   age            14418 non-null  int32   \n",
      " 8   age_gen        14418 non-null  category\n",
      "dtypes: category(1), float64(6), int32(1), object(1)\n",
      "memory usage: 859.1+ KB\n"
     ]
    }
   ],
   "source": [
    "welfare['age_gen'] = welfare['age_gen'].astype('category')\n",
    "welfare.info()"
   ]
  },
  {
   "cell_type": "code",
   "execution_count": 145,
   "id": "9b5ba498-3459-4a28-92bf-fcbecbd32b04",
   "metadata": {},
   "outputs": [
    {
     "data": {
      "text/html": [
       "<div>\n",
       "<style scoped>\n",
       "    .dataframe tbody tr th:only-of-type {\n",
       "        vertical-align: middle;\n",
       "    }\n",
       "\n",
       "    .dataframe tbody tr th {\n",
       "        vertical-align: top;\n",
       "    }\n",
       "\n",
       "    .dataframe thead th {\n",
       "        text-align: right;\n",
       "    }\n",
       "</style>\n",
       "<table border=\"1\" class=\"dataframe\">\n",
       "  <thead>\n",
       "    <tr style=\"text-align: right;\">\n",
       "      <th></th>\n",
       "      <th>age_gen</th>\n",
       "      <th>gender</th>\n",
       "      <th>income</th>\n",
       "    </tr>\n",
       "  </thead>\n",
       "  <tbody>\n",
       "    <tr>\n",
       "      <th>0</th>\n",
       "      <td>middle</td>\n",
       "      <td>female</td>\n",
       "      <td>226.226646</td>\n",
       "    </tr>\n",
       "    <tr>\n",
       "      <th>1</th>\n",
       "      <td>middle</td>\n",
       "      <td>male</td>\n",
       "      <td>413.188540</td>\n",
       "    </tr>\n",
       "    <tr>\n",
       "      <th>2</th>\n",
       "      <td>old</td>\n",
       "      <td>female</td>\n",
       "      <td>81.132597</td>\n",
       "    </tr>\n",
       "    <tr>\n",
       "      <th>3</th>\n",
       "      <td>old</td>\n",
       "      <td>male</td>\n",
       "      <td>166.415789</td>\n",
       "    </tr>\n",
       "    <tr>\n",
       "      <th>4</th>\n",
       "      <td>young</td>\n",
       "      <td>female</td>\n",
       "      <td>198.790404</td>\n",
       "    </tr>\n",
       "    <tr>\n",
       "      <th>5</th>\n",
       "      <td>young</td>\n",
       "      <td>male</td>\n",
       "      <td>227.636364</td>\n",
       "    </tr>\n",
       "  </tbody>\n",
       "</table>\n",
       "</div>"
      ],
      "text/plain": [
       "  age_gen  gender      income\n",
       "0  middle  female  226.226646\n",
       "1  middle    male  413.188540\n",
       "2     old  female   81.132597\n",
       "3     old    male  166.415789\n",
       "4   young  female  198.790404\n",
       "5   young    male  227.636364"
      ]
     },
     "execution_count": 145,
     "metadata": {},
     "output_type": "execute_result"
    }
   ],
   "source": [
    "df_gen = welfare.groupby(['age_gen', 'gender'], as_index = False)[['income']].mean()\n",
    "df_gen"
   ]
  },
  {
   "cell_type": "code",
   "execution_count": 146,
   "id": "6be3baae-2e39-47b2-9941-0dd5a251a26b",
   "metadata": {},
   "outputs": [
    {
     "data": {
      "text/plain": [
       "<AxesSubplot:xlabel='age_gen', ylabel='income'>"
      ]
     },
     "execution_count": 146,
     "metadata": {},
     "output_type": "execute_result"
    },
    {
     "data": {
      "image/png": "[encoded data removed]",
      "text/plain": [
       "<Figure size 576x432 with 1 Axes>"
      ]
     },
     "metadata": {
      "needs_background": "light"
     },
     "output_type": "display_data"
    }
   ],
   "source": [
    "sns.barplot(data = df_gen, x = 'age_gen', y = 'income', hue = 'gender')"
   ]
  },
  {
   "cell_type": "code",
   "execution_count": 147,
   "id": "638239c5-1a28-4963-8bfe-124abff65165",
   "metadata": {},
   "outputs": [
    {
     "data": {
      "text/plain": [
       "<AxesSubplot:xlabel='age_gen', ylabel='income'>"
      ]
     },
     "execution_count": 147,
     "metadata": {},
     "output_type": "execute_result"
    },
    {
     "data": {
      "image/png": "[encoded data removed]",
      "text/plain": [
       "<Figure size 576x432 with 1 Axes>"
      ]
     },
     "metadata": {
      "needs_background": "light"
     },
     "output_type": "display_data"
    }
   ],
   "source": [
    "sns.barplot(data = df_gen, x = 'age_gen', y = 'income', hue = 'gender', order = ['young', 'middle', 'old'], palette = 'Set1')"
   ]
  },
  {
   "cell_type": "markdown",
   "id": "8674d56e-dc49-483e-a5f0-0819aad65ecd",
   "metadata": {},
   "source": [
    "# 텍스트 마이닝"
   ]
  },
  {
   "cell_type": "code",
   "execution_count": 158,
   "id": "033500c5-74e5-44dc-96bc-30530341e9cf",
   "metadata": {},
   "outputs": [],
   "source": [
    "with open('speech_moon.txt', 'r', encoding = 'utf-8')as f:\n",
    "    moon = f.read()"
   ]
  },
  {
   "cell_type": "code",
   "execution_count": 159,
   "id": "788a59ad-29e5-470e-b5ca-440d3d1b4275",
   "metadata": {},
   "outputs": [],
   "source": [
    "#위와 같다\n",
    "moon = open('speech_moon.txt', 'r', encoding = 'utf-8').read()"
   ]
  },
  {
   "cell_type": "code",
   "execution_count": 160,
   "id": "c946a1ab-c9eb-4abb-b9e6-f3abfdf54a62",
   "metadata": {
    "tags": []
   },
   "outputs": [
    {
     "data": {
      "text/plain": [
       "'정권교체 하겠습니다!\\n  정치교체 하겠습니다!\\n  시대교체 하겠습니다!\\n  \\n  ‘불비불명(不飛不鳴)’이라는 고사가 있습니다. 남쪽 언덕 나뭇가지에 앉아, 3년 동안 날지도 울지도 않는 새. 그러나 그 새는 한번 날면 하늘 끝까지 날고, 한번 울면 천지를 뒤흔듭니다.\\n\\n그 동안 정치와 거리를 둬 왔습니다. 그러나 암울한 시대가 저를 정치로 불러냈습니다. 더 이상 남쪽 나뭇가지에 머무를 수 없었습니다. 이제 저는 국민과 함께 높이 날고 크게 울겠습니다. 오늘 저는 제18대 대통령선거 출마를 국민 앞에 엄숙히 선언합니다.\\n\\n\\n‘우리나라 대통령’이 되겠습니다.\\n\\n\\n존경하는 국민 여러분!\\n  \\n  저는 대통령이 되겠습니다. 우리나라 대통령이 되겠습니다. 소수 특권층의 나라가 아니라 보통사람들이 주인인 ‘우리나라’, 네 편 내 편 편가르지 않고 함께 가는 우리나라, ‘우리’라는 말이 조금도 부끄럽지 않은, 진정한 ‘우리나라’의 대통령이 되겠습니다.\\n\\n지금까지 우리 보통사람들은 날지도 울지도 못하는 새였습니다. 나라의 주인으로 행세하지 못했고, 주인으로 대접받지 못했습니다. 나서서 말도 하지 못했습니다. 이제 몸을 일으켜 날아야 합니다. 당당하게 말하고 정치에 참여해야 합니다.\\n\\n제가 추구하는 ‘우리나라’는 정치인에게 맡겨놓는 나라가 아니라 시민이 직접 정치와 정책과정에 참여하는 나라입니다. 저는 시민과 동행하는 정치를 하고 싶습니다. 제가 추구하는 ‘우리나라’는 특권과 불평등의 나라가 아니라, 보통사람들이 함께 기회를 가지는 공평하고 정의로운 나라입니다.\\n\\n이제 권력과 돈을 가진 집단이 나라를 그들 마음대로 움직이던 시대는 끝났습니다. 힘없는 사람들에게 끝없이 희생을 강요하던 낡은 경제, 낡은 정치, 낡은 권력도 모두 끝났습니다. 오늘 저 문재인은 우리나라를 우리 모두의 나라로 선언합니다.\\n\\n국민이 모두 아픕니다.\\n\\n제가 높이 날고 크게 울겠다고 결심한 이유는 보통사람들의 삶이 너무 고달프고, 우리가 처한 현실이 너무도 엄중하기 때문입니다. 근본적인 혁신, 거대한 전환 없이는 나라가 무너지겠구나 하는 절박함 때문입니다.\\n\\n지금 우리의 삶은 어떻습니까? 우리 사회는 더 이상 경제성장의 과실을 나눠 갖지 않습니다. 소수의 부유층과 대기업의 창고는 황금으로 가득 차지만, 대부분 보통사람들은 취업불안, 주거불안, 고용불안, 건강불안, 노후불안 등 불안을 이불처럼 덮고 매일 잠자리에 들어야 합니다.\\n\\n국민 한 사람 한 사람이 모두 아픕니다. 빚 갚기 힘들어서, 아이 키우기 힘들어서, 일자리가 보이지 않아서 아픕니다. 입시부담과 성적스트레스 그리고 학교폭력에 상처받은 어린 영혼들은 그 아픔을 견디지 못하고 하나 둘 우리 곁을 떠나고 있습니다. 어르신들도 삶이 힘겨워서 스스로 세상을 버리는 분이 많습니다. 왜 이렇게 아픈 일들이 계속 일어날까요? 약자의 고통에 관심 없는 정부, 부자와 강자의 기득권 지켜주기에 급급한 정치가 사람들에게서 희망을 앗아가 버렸기 때문입니다. 지금 길거리는 표정 없는 사람들로 넘쳐납니다. 국민들에게 희망을 주는 정치가 절실하게 필요합니다.\\n\\n국민의 뜻이 대통령의 길입니다.\\n\\n저는 대선출마를 결심하고 국민 여러분께 출마선언문을 함께 쓰자고 제안 드렸습니다. 많은 분들이 글을 주셨습니다. 소중한 의견과 제안을 보내 주셨습니다. 고단하고 힘겨운 삶이 거기에 있었습니다. 시민의 한숨과 눈물을 닦아주지 못하는 정치가 있었고, 오히려 국민의 걱정거리가 된 초라한 정부의 모습도 있었습니다.\\n\\n상식이 통하는 사회, 권한과 책임이 비례하는 사회, 다름을 인정하는 세상, 개천에서 용이 날 수 있는 사회, 철학이 있는 나라, 약자의 얘기에 귀를 기울이고, 어려운 사람에게 진심어린 위로를 건네는 세상, 세금이 제대로 쓰이는 나라, 힘없는 사람에게 관대하고 힘 있는 사람에게 엄격한 잣대가 적용되는 사회, 국민들이 기대고 의지할 수 있도록 어깨를 내어주는 대통령, 국민에게 부끄럽지 않은 정부를 만들어 달라는 것이 국민의 요구였습니다.\\n\\n미안했습니다. 가슴 아팠습니다. 지극히 평범하고 상식적인 요구였지만, 이 소박한 요구를 정치가 외면해 왔던 것입니다.\\n\\n국가비전, 많이 공부하고 많이 고민했습니다. 그러나 거창하게만 들리는 이 국가비전 역시 국민의 마음속에 있었습니다. 더욱 낮아지고 겸손해져서 국민의 마음속으로 들어가라. 길이 보일 것이다. 그것이 대통령의 길이다. 국민들이 제게 준 가르침입니다. 국민의 뜻에서 대통령의 길을 찾겠습니다. 대한민국의 길을 찾겠습니다.\\n\\n새로운 대한민국을 만들겠습니다. 지금 우리는 ‘거대한 전환’의 시기를 맞고 있습니다. 기존의 사고, 과거의 낡은 방식으로는 해결할 수 없는 근본적인 문제들이 우리 앞에 놓여 있습니다. 지금까지 우리 사회를 지배해왔던 ‘경쟁’, ‘승자독식’, ‘강자지배’의 원리로는 빈부격차의 확대, 중산층과 서민들의 삶의 기반 붕괴, 중소기업과 자영업자들의 고통, 지역경제의 낙후, 경제성장의 잠재력 약화라는 악순환에서 빠져나올 길이 없습니다.\\n\\n더구나 지금 유럽, 미국, 중국, 인도 등 세계 곳곳에서 경제위기가 고조되고 있습니다. 무분별한 시장만능주의가 빚어낸 결과입니다. 일부에서는 기존 자본주의 모델의 수명이 다했다는 진단을 내놓기도 합니다. 이런 흐름은 과도한 대외의존형 경제와 취약한 사회안전망을 지닌 대한민국에게 더 큰 위기가 되고 있습니다. 무엇보다도 우리는 개발독재 모델의 유산을 청산해야 합니다. 시장만능주의로 대표되는 시장독재 모델도 극복해야 합니다. 개방, 공유, 협동, 공생의 새로운 원리를 채택해 인간이 인간답게 살 수 있는 민주적이고 공정한 시장경제 모델을 만들어야 합니다.\\n\\n운 좋게 부자 집안에서 태어났다고 평생을 앞서가고, 가난한 집 자녀들은 출발선부터 한참 뒤처진다면 참으로 불공평한 경쟁입니다. 그것이 교육이든, 비정규직이든, 중소기업이든, 지방 산업이든 공정하게 경쟁하고 노력한 만큼 정당한 보상을 받는 세상이 돼야 합니다. 지방대학을 나와도, 고등학교만 나와도 실력대로 대접받을 수 있어야 합니다. 누구나 공정하게 경쟁하고 그 결과에 승복해야 하며, 패자에게는 따뜻한 위로와 패자부활의 기회가 주어져야 합니다.\\n\\n지나친 경쟁과 소외, 양극화의 살벌한 세상 대신 사람들이 서로 믿고 협력하여 함께 더 큰 성장을 이루는 나라, 그리고 그 결과를 공유하여 지속가능한 삶의 토대를 만드는 나라가 제가 꿈꾸는 나라입니다. 북한과도 신뢰와 협력의 토대 위에 평화와 공동번영을 이루는 나라가 제가 꿈꾸는 나라입니다. 저는 이 두 가지의 비전을 합쳐 ‘상생과 평화의 새로운 대한민국’이라 부르고자 합니다.\\n\\n상생과 평화의 대한민국은 공평과 정의에 바탕을 두고, 성장의 과실을 함께 누리는 나라, 복지가 강한 나라, 일자리를 최우선에 두는 나라, 아이들 여성 노인이 행복한 나라, 안전하고 평화로운 나라가 될 것입니다.\\n\\n1. 공평과 정의를 나라의 근간으로 삼겠습니다. 승자독식과 강자지배의 낡은 질서를 폐기하고 대한민국에 상생과 평화의 새 질서를 수립하기 위해, 저는 먼저 공평과 정의의 원칙을 분명히 세우겠습니다. 이명박 정권은 입으로는 공정사회를 부르짖었지만 실제로는 측근세력들이 국가권력을 사유화하고 공공성을 파괴했고, 토건세력과 재벌집단, 그리고 최상위 계층에게 이익을 과도하게 몰아줌으로써 공정이라는 말 자체를 냉소거리로 만들고 말았습니다. 이래서는 신뢰와 상생의 사회가 불가능합니다.\\n\\n저는 모든 시민들에게 균등한 기회를 제공하는 ‘공평’과, 반칙과 특권, 부정부패를 척결하는 ‘정의’, 이 두 가지 가치를 근간으로 새로운 대한민국을 만들어나가겠습니다. 정의의 원칙은 특히 경제 분야에서 더 강조되어야 합니다. 조세정의를 실현하여 소득 있는 곳에 세금 있다는 원칙이 흔들리지 않아야 합니다. 세금 없는 불로소득이 있어서는 안 됩니다. 정치민주화와 더불어 경제민주화가 절실히 필요합니다. 재벌의 지배구조를 개선하고 공정거래질서를 확립해야 합니다. 대기업과 중소기업 간의 힘의 불균형을 바로잡아 약자가 억울하게 당하는 것을 막아야 합니다.\\n\\n노사는 한 배를 탄 공동운명체입니다. 노동자들이 부당하게 해고되고 권익이 부당하게 침해당하는 일은 없어야 합니다. 노동자들의 목소리가 적극적으로 경영에 반영될 때 기업 성과는 더욱 개선됩니다. 그리하여 소수의 강자가 다수 위에 군림하지 않고, 약자와 강자가 공존 상생하는 경제 질서를 만드는 것이 경제민주화의 주요 내용이 돼야 합니다.\\n\\n2. 4대 성장전략으로 획기적 국가발전을 이루겠습니다.\\n\\n선성장-후분배, 낙수효과 같은 낡은 생각이 사회적 양극화와 성장잠재력 저하라는 아픈 결과를 낳았습니다. 이를 극복하기 위해 성장과 분배, 환경과 평화가 역동적 선순환을 이루는 4대 성장전략을 추진하겠습니다.\\n\\n첫째, 분배와 재분배를 강화하여 중산층과 서민들의 유효수요와 구매력을 확대함으로써, 소비와 투자를 촉진하는 ‘포용적 성장’을 추진하겠습니다. 이를 위해 최저임금을 높이고 생활임금 개념을 정책에 반영하겠습니다. 복지투자 확대도 서민경제 활성화로 이어질 것입니다. 또한 재벌과 거대기업의 과도한 경제력 집중을 억제하고, 고용의 대부분을 감당하는 중소기업이 성장의 중심에 서도록 지원하겠습니다. 사회적 기업과 협동조합을 육성하는 등 사회적 경제를 확대하여 포용적 성장을 이루기 위한 거시구조적 개혁도 추진해 나가겠습니다.\\n\\n둘째, 인적 자본에 대한 투자를 강화하여 사람 중심의 경제성장을 실현하겠습니다. 교육혁신을 통해 학생들과 학부모의 고통을 줄이고 입시를 위한 과잉 학습 대신 평생학습체제가 자리 잡도록 일대 교육혁신을 해내겠습니다. 문화혁신을 통해 모든 국민의 창조성을 높이고 이를 통해 기술혁신과 신산업 형성의 역동적 파동을 일으키는 ‘창조적 성장’을 추진하겠습니다.\\n\\n셋째, 석유시대의 종말에 대비하여 신재생 에너지의 비중을 대폭 확대하고, 녹색 에너지기술, 건축, 전기자동차 제조 등 여러 영역에서 신산업을 육성하는 ‘생태적 성장’을 추진하겠습니다. 추가 원전 건설을 중단하고 수명이 다된 원전은 가동을 중지시키겠습니다. 그리고 신재생 에너지의 비중이 확대되는 만큼 원전의 비중을 줄여나가겠습니다. 이는 단순히 에너지 종류를 바꾸거나 아끼는 정도가 아니라, 산업과 소비생활 전반의 구조를 바꾸는 제3차 산업혁명이라 할 수 있는 변화입니다. 이를 위해 토건사업, 개발사업이 늘 우위에 있었던 정부구조와 재정지출 구조도 혁신하겠습니다. 산업-환경-농림-국토 등 여러 부처를 지속가능성의 가치 아래 재편해 나가겠습니다.\\n\\n넷째, 인터넷과 SNS를 통해 전세계로 확산되고 있는 소통 네트워크를 기반으로 국경과 경쟁을 넘어 집단협업, 개방형 혁신, 협동생태계를 활용하는 ‘협력적 성장’을 추진하겠습니다. 이런 새로운 인식 아래, 한반도평화와 남북협력을 강력한 성장동력으로 활용하겠습니다. 남북한은 자원, 기술, 인력 등 많은 점에서 탁월한 보완관계입니다. 평화를 바탕으로 서로의 강점을 엮어 동북아시아로, 또 세계로 함께 진출해야 합니다.\\n\\n3. ‘강한 복지국가’를 향해 담대하게 나아가겠습니다.\\n\\n정조대왕은 “위에서 손해를 보고 아래가 이득이 되게 하라(損上益下). 그것이 국가가 할 일이다.”라고 말했습니다. 2백 년 전 이와 같은 소득재분배, 복지국가의 사상을 가진 위정자가 지구상 어디에 또 있었겠습니까? 이제 우리는 복지국가를 향해 담대하게 나아갈 때입니다. 늦었기 때문에 더욱 발걸음을 재촉해야 합니다.\\n\\n“복지가 포퓰리즘”이라는 새누리당의 중상모략을 거부합니다. 부자감세, 4대강 사업 같은 시대착오적 과오를 청산하고, 하루빨리 복지국가로 가야 합니다. 우리는 지금 복지국가로 가느냐, 양극화의 분열된 국가로 가느냐 하는 절박한 싸움을 벌이고 있습니다. 나라의 운명이 달린 이 건곤일척의 싸움은 복지에 진정성을 가진 진보세력만이 이길 수 있습니다.\\n\\n복지는 낭비가 아니고 투자입니다. 사람에 대한 투자이며, 동시에 강력한 성장전략이기도 합니다. 강한 복지국가일수록 국가 경쟁력도 더 높습니다. 복지의 확대를 통해 보육, 교육, 의료, 요양 등 사회서비스 부문에 수많은 일자리가 생기고, 자영업에 몰려 있는 과잉인력을 흡수할 수 있습니다. 공공임대주택과 같은 주거복지를 늘리는 것은 가장 좋은 전월세 대책입니다.\\n\\n결국 복지국가로 가는 길은 사람에 대한 투자, 일자리 창출, 자영업 고통 경감, 삶의 질 향상 등 1석 4조의 효과를 만나는 길입니다. 우리는 과감히 강한 보편적 복지국가로 가야 합니다. 이렇게 하면 국민의 살림이 서서히 나아질 것이며 5년 뒤에는 큰 성과가 나타날 것입니다.\\n\\n4. ‘일자리 정부’로 ‘일자리 혁명’을 이루겠습니다.\\n\\n복지의 확대와 함께 저는 강력한 ‘일자리 혁명’을 이루고자 합니다. 지금 너무나 많은 젊은이들과 실업자, 비정규직 종사자, 근로능력이 있는 고령자들이 일할 수 있는 기회와 더 좋은 일자리를 요구하고 있습니다.\\n\\n좋은 일자리 창출을 위해 비정규직의 정규직 전환 촉진, 비정규직에 대한 차별철폐, 근로시간 단축을 통한 신규고용 확대, 고용영향평가제도의 채택, 고용증진과 기업지원의 연계 등을 중요한 정책수단으로 채택하겠습니다. 또한 정보통신 산업, 바이오산업, 나노 산업, 신재생에너지 산업, 문화산업과 콘텐츠산업 등 신산업을 크게 일으켜 일자리를 대대적으로 만들겠습니다. 그리고 앞에서 말한 보육, 교육, 의료, 복지 등 사회서비스 부문은 무궁무진한 잠재적 일자리의 보고입니다. 일자리 없는 곳에서 희망을 찾을 수 없습니다. 지방 일자리에 대해 특별한 노력을 기울이겠습니다. 지역균형발전은 곧 산업 균형, 일자리 균형이 목표입니다. 이명박 정부의 방해에도 불구하고 끝내 국민이 지켜준 세종시, 혁신도시를 지방 일자리 창출의 거점으로 만들겠습니다. 공기업과 공무원의 지역우대 채용, 각종 정부 지원의 지방채용 연동제를 확대하겠습니다. 이 모든 정책의 실효성을 담보하기 위해 대통령이 되면 저는 가장 먼저 대통령 직속으로 <국가일자리위원회>를 설치하고 매달 ‘일자리점검 범정부회의’를 개최하여 일자리 마련 상황을 점검, 독려하겠습니다. 저는 먼 훗날 ‘일자리 혁명을 일으킨 대통령’으로 평가받기를 희망합니다.\\n\\n5. 아이들과 여성, 그리고 노인들이 활짝 웃는 나라를 만들겠습니다.\\n\\n아이들이 행복한 나라를 만들어야 합니다. 행복한 교육, 즐거운 학교를 만드는 것이 교육혁신의 기본방향이어야 합니다. 이를 위해 유아, 초등단계의 과도한 학습 부담을 없애고 특기적성 이외의 사교육을 최대한 줄여 나가겠습니다.\\n\\n교육이 이념의 전장이 되어서는 곤란합니다. 교육은 진보도 보수도 아닌 아이들을 위해 존재해야 합니다. 학생, 교사, 학교의 자율성, 창의성을 보장하고 마을이 아이를 함께 키울 수 있도록 지원하겠습니다. 또한 좋은 일자리와 산업혁신을 위해서는 평생학습체제가 뒷받침되어야 합니다. 평생학습 참가율을 선진국 수준으로 끌어올리겠습니다.\\n\\n지금 우리가 누리는 풍요는 모두 어르신들의 희생 덕분입니다. 그러나 어르신들은 노후대비를 할 겨를도 없이, 급격한 가족구조 변화와 노동시장 변화로 극심한 어려움을 겪고 있습니다. 이제 사회가 효도하겠습니다. 참여정부가 도입했던 기초노령연금, 장기요양보험을 대폭 강화하고, 건강지원 방법을 새로운 차원으로 개선하겠습니다. 노인 일자리를 늘리고, 특히 그 연륜과 경험을 지역사회에 활용할 수 있는 방안도 마련하겠습니다.\\n\\n남녀의 실질적 평등을 위해서도 아직 남은 숙제가 많습니다. 가사와 육아, 노인을 돌보는 책임은 여전히 여성들에게만 맡겨져 있습니다. OECD 수준에 훨씬 못 미치는 여성 경제활동 참가율이나 세계 최저의 출산율은 대한민국의 여성들이 얼마나 힘들게 살고 있는지 잘 말해줍니다.\\n\\n가족 돌봄의 공적서비스를 확대해서 여성의 부담을 줄이겠습니다. 취업과 승진기회의 제한 등 사회적 차별을 해소할 수 있는 적극적 대책도 만들겠습니다. 남녀가 함께 일하고, 함께 돌보는 사회로 전진하겠습니다.\\n\\n6. 대한민국은 강하게, 한반도는 평화롭게 만들겠습니다.\\n\\n국가의 존립과 국토방위는 헌법상 대통령에게 주어진 가장 막중한 의무입니다. 모든 대외정책의 출발은 튼튼한 국방력입니다. 대한민국 군을 강하고 유능한 군대로 만들겠습니다. 미국과의 관계를 더욱 건강하고 바람직한 관계로 발전시키겠습니다. 중국과 일본, 러시아 등 주변국들과도 호혜협력 관계를 더욱 강화해 나가겠습니다.\\n\\n전쟁의 불안에서 한반도를 해방시키겠습니다. 이명박 정부가 파탄에 빠뜨린 안보를 바로 세우겠습니다. 새누리당 정권 아래서 분쟁과 대결로 얼룩졌던 휴전선과 NLL 일대를 평화경제 지대로 만들겠습니다. 김대중 대통령의 6.15 공동선언과 노무현 대통령의 10.4 남북정상선언을 남북 양측이 책임 있게 지키고 이행하도록 하겠습니다. 개성공단을 확장하고 금강산 관광을 재개하여 금강산과 설악산, 평창을 연결하는 국제관광특구를 만들어 적극 키우겠습니다. 남북 군사대결지대를 공동이익을 창출하는 경제지대로 전환하여 부모들이 안심하고 자식을 군대 보내는 안보환경을 만들겠습니다. 특권층의 군대 안가기를 철저하게 막는 한편 젊은이들의 병역 부담을 줄여나가겠습니다. 사병의 복지도 크게 향상시키겠습니다.\\n\\n북핵문제를 평화적으로 해결하고 한반도 평화체제를 구축하겠습니다. 저는 북한의 핵을 용인할 수 없다는 확고한 입장을 가지고 있습니다. 대화와 협상을 통해 반드시 핵을 포기하도록 만들겠습니다. 실종된 6자회담을 재개하고 대한민국의 주도적 역할을 복원하겠습니다. 6자회담과 남북관계 복원, 평화체제 구축작업을 병행 추진하여 한반도에 평화와 공동번영의 선순환 구조를 만들어 나가겠습니다. 그리고 그 속에서 새로운 성장동력을 찾겠습니다.\\n\\n순국선열과 민주영령 앞에서 약속드립니다.\\n\\n존경하는 국민 여러분! 이 자리는 애국, 민주, 헌신이라는 세 가지 가치가 살아 숨 쉬는 역사의 현장입니다. 저는 역사가 보는 앞에서 대통령 출마선언을 함으로써, 역사 앞에 제 자신을 바치겠다는 결연한 의지를 밝힙니다. 역사를 가슴에 새기고 미래를 향해 뚜벅뚜벅 걸어가겠다는 의지를 밝힙니다.\\n\\n저것은 넘을 수 없는 벽이라고 고개를 떨구고 있을 때 담쟁이 잎 하나는 담쟁이 잎 수천 개를 이끌고 결국 그 벽을 넘는다.\\n\\n— 도종환 <담쟁이>\\n  \\n  도종환 시인의 <담쟁이>라는 시의 일부입니다. 우리 모두 담쟁이처럼 서로 두 손 꽉 잡고 벽을 넘읍시다. 특권의 벽, 차별의 벽, 분단과 분열의 벽, 패배주의의 벽을 넘읍시다. 저 문재인과 함께 새로운 세상의 문을 엽시다.\\n\\n저 문재인은 겸손한 권력, 따뜻한 나라를 만들겠습니다. 국민의 마음에서 길을 찾는 우리나라 대통령이 되겠습니다. 우리 모두가 주인인 진정한 우리나라 대통령이 되겠습니다.\\n\\n대단히 고맙습니다.\\n'"
      ]
     },
     "execution_count": 160,
     "metadata": {},
     "output_type": "execute_result"
    }
   ],
   "source": [
    "moon"
   ]
  },
  {
   "cell_type": "code",
   "execution_count": 161,
   "id": "514636f8-7db3-4228-9a3f-fbe4311b6a84",
   "metadata": {
    "tags": []
   },
   "outputs": [],
   "source": [
    "import re\n",
    "p = re.compile('[^가-힣]')\n",
    "moon = p.sub(' ',moon)"
   ]
  },
  {
   "cell_type": "code",
   "execution_count": 162,
   "id": "dcfc6a6a-f777-40c0-aef3-08bfefcec77e",
   "metadata": {
    "tags": []
   },
   "outputs": [
    {
     "data": {
      "text/plain": [
       "'정권교체 하겠습니다    정치교체 하겠습니다    시대교체 하겠습니다        불비불명       이라는 고사가 있습니다  남쪽 언덕 나뭇가지에 앉아   년 동안 날지도 울지도 않는 새  그러나 그 새는 한번 날면 하늘 끝까지 날고  한번 울면 천지를 뒤흔듭니다   그 동안 정치와 거리를 둬 왔습니다  그러나 암울한 시대가 저를 정치로 불러냈습니다  더 이상 남쪽 나뭇가지에 머무를 수 없었습니다  이제 저는 국민과 함께 높이 날고 크게 울겠습니다  오늘 저는 제  대 대통령선거 출마를 국민 앞에 엄숙히 선언합니다     우리나라 대통령 이 되겠습니다    존경하는 국민 여러분       저는 대통령이 되겠습니다  우리나라 대통령이 되겠습니다  소수 특권층의 나라가 아니라 보통사람들이 주인인  우리나라   네 편 내 편 편가르지 않고 함께 가는 우리나라   우리 라는 말이 조금도 부끄럽지 않은  진정한  우리나라 의 대통령이 되겠습니다   지금까지 우리 보통사람들은 날지도 울지도 못하는 새였습니다  나라의 주인으로 행세하지 못했고  주인으로 대접받지 못했습니다  나서서 말도 하지 못했습니다  이제 몸을 일으켜 날아야 합니다  당당하게 말하고 정치에 참여해야 합니다   제가 추구하는  우리나라 는 정치인에게 맡겨놓는 나라가 아니라 시민이 직접 정치와 정책과정에 참여하는 나라입니다  저는 시민과 동행하는 정치를 하고 싶습니다  제가 추구하는  우리나라 는 특권과 불평등의 나라가 아니라  보통사람들이 함께 기회를 가지는 공평하고 정의로운 나라입니다   이제 권력과 돈을 가진 집단이 나라를 그들 마음대로 움직이던 시대는 끝났습니다  힘없는 사람들에게 끝없이 희생을 강요하던 낡은 경제  낡은 정치  낡은 권력도 모두 끝났습니다  오늘 저 문재인은 우리나라를 우리 모두의 나라로 선언합니다   국민이 모두 아픕니다   제가 높이 날고 크게 울겠다고 결심한 이유는 보통사람들의 삶이 너무 고달프고  우리가 처한 현실이 너무도 엄중하기 때문입니다  근본적인 혁신  거대한 전환 없이는 나라가 무너지겠구나 하는 절박함 때문입니다   지금 우리의 삶은 어떻습니까  우리 사회는 더 이상 경제성장의 과실을 나눠 갖지 않습니다  소수의 부유층과 대기업의 창고는 황금으로 가득 차지만  대부분 보통사람들은 취업불안  주거불안  고용불안  건강불안  노후불안 등 불안을 이불처럼 덮고 매일 잠자리에 들어야 합니다   국민 한 사람 한 사람이 모두 아픕니다  빚 갚기 힘들어서  아이 키우기 힘들어서  일자리가 보이지 않아서 아픕니다  입시부담과 성적스트레스 그리고 학교폭력에 상처받은 어린 영혼들은 그 아픔을 견디지 못하고 하나 둘 우리 곁을 떠나고 있습니다  어르신들도 삶이 힘겨워서 스스로 세상을 버리는 분이 많습니다  왜 이렇게 아픈 일들이 계속 일어날까요  약자의 고통에 관심 없는 정부  부자와 강자의 기득권 지켜주기에 급급한 정치가 사람들에게서 희망을 앗아가 버렸기 때문입니다  지금 길거리는 표정 없는 사람들로 넘쳐납니다  국민들에게 희망을 주는 정치가 절실하게 필요합니다   국민의 뜻이 대통령의 길입니다   저는 대선출마를 결심하고 국민 여러분께 출마선언문을 함께 쓰자고 제안 드렸습니다  많은 분들이 글을 주셨습니다  소중한 의견과 제안을 보내 주셨습니다  고단하고 힘겨운 삶이 거기에 있었습니다  시민의 한숨과 눈물을 닦아주지 못하는 정치가 있었고  오히려 국민의 걱정거리가 된 초라한 정부의 모습도 있었습니다   상식이 통하는 사회  권한과 책임이 비례하는 사회  다름을 인정하는 세상  개천에서 용이 날 수 있는 사회  철학이 있는 나라  약자의 얘기에 귀를 기울이고  어려운 사람에게 진심어린 위로를 건네는 세상  세금이 제대로 쓰이는 나라  힘없는 사람에게 관대하고 힘 있는 사람에게 엄격한 잣대가 적용되는 사회  국민들이 기대고 의지할 수 있도록 어깨를 내어주는 대통령  국민에게 부끄럽지 않은 정부를 만들어 달라는 것이 국민의 요구였습니다   미안했습니다  가슴 아팠습니다  지극히 평범하고 상식적인 요구였지만  이 소박한 요구를 정치가 외면해 왔던 것입니다   국가비전  많이 공부하고 많이 고민했습니다  그러나 거창하게만 들리는 이 국가비전 역시 국민의 마음속에 있었습니다  더욱 낮아지고 겸손해져서 국민의 마음속으로 들어가라  길이 보일 것이다  그것이 대통령의 길이다  국민들이 제게 준 가르침입니다  국민의 뜻에서 대통령의 길을 찾겠습니다  대한민국의 길을 찾겠습니다   새로운 대한민국을 만들겠습니다  지금 우리는  거대한 전환 의 시기를 맞고 있습니다  기존의 사고  과거의 낡은 방식으로는 해결할 수 없는 근본적인 문제들이 우리 앞에 놓여 있습니다  지금까지 우리 사회를 지배해왔던  경쟁    승자독식    강자지배 의 원리로는 빈부격차의 확대  중산층과 서민들의 삶의 기반 붕괴  중소기업과 자영업자들의 고통  지역경제의 낙후  경제성장의 잠재력 약화라는 악순환에서 빠져나올 길이 없습니다   더구나 지금 유럽  미국  중국  인도 등 세계 곳곳에서 경제위기가 고조되고 있습니다  무분별한 시장만능주의가 빚어낸 결과입니다  일부에서는 기존 자본주의 모델의 수명이 다했다는 진단을 내놓기도 합니다  이런 흐름은 과도한 대외의존형 경제와 취약한 사회안전망을 지닌 대한민국에게 더 큰 위기가 되고 있습니다  무엇보다도 우리는 개발독재 모델의 유산을 청산해야 합니다  시장만능주의로 대표되는 시장독재 모델도 극복해야 합니다  개방  공유  협동  공생의 새로운 원리를 채택해 인간이 인간답게 살 수 있는 민주적이고 공정한 시장경제 모델을 만들어야 합니다   운 좋게 부자 집안에서 태어났다고 평생을 앞서가고  가난한 집 자녀들은 출발선부터 한참 뒤처진다면 참으로 불공평한 경쟁입니다  그것이 교육이든  비정규직이든  중소기업이든  지방 산업이든 공정하게 경쟁하고 노력한 만큼 정당한 보상을 받는 세상이 돼야 합니다  지방대학을 나와도  고등학교만 나와도 실력대로 대접받을 수 있어야 합니다  누구나 공정하게 경쟁하고 그 결과에 승복해야 하며  패자에게는 따뜻한 위로와 패자부활의 기회가 주어져야 합니다   지나친 경쟁과 소외  양극화의 살벌한 세상 대신 사람들이 서로 믿고 협력하여 함께 더 큰 성장을 이루는 나라  그리고 그 결과를 공유하여 지속가능한 삶의 토대를 만드는 나라가 제가 꿈꾸는 나라입니다  북한과도 신뢰와 협력의 토대 위에 평화와 공동번영을 이루는 나라가 제가 꿈꾸는 나라입니다  저는 이 두 가지의 비전을 합쳐  상생과 평화의 새로운 대한민국 이라 부르고자 합니다   상생과 평화의 대한민국은 공평과 정의에 바탕을 두고  성장의 과실을 함께 누리는 나라  복지가 강한 나라  일자리를 최우선에 두는 나라  아이들 여성 노인이 행복한 나라  안전하고 평화로운 나라가 될 것입니다      공평과 정의를 나라의 근간으로 삼겠습니다  승자독식과 강자지배의 낡은 질서를 폐기하고 대한민국에 상생과 평화의 새 질서를 수립하기 위해  저는 먼저 공평과 정의의 원칙을 분명히 세우겠습니다  이명박 정권은 입으로는 공정사회를 부르짖었지만 실제로는 측근세력들이 국가권력을 사유화하고 공공성을 파괴했고  토건세력과 재벌집단  그리고 최상위 계층에게 이익을 과도하게 몰아줌으로써 공정이라는 말 자체를 냉소거리로 만들고 말았습니다  이래서는 신뢰와 상생의 사회가 불가능합니다   저는 모든 시민들에게 균등한 기회를 제공하는  공평 과  반칙과 특권  부정부패를 척결하는  정의   이 두 가지 가치를 근간으로 새로운 대한민국을 만들어나가겠습니다  정의의 원칙은 특히 경제 분야에서 더 강조되어야 합니다  조세정의를 실현하여 소득 있는 곳에 세금 있다는 원칙이 흔들리지 않아야 합니다  세금 없는 불로소득이 있어서는 안 됩니다  정치민주화와 더불어 경제민주화가 절실히 필요합니다  재벌의 지배구조를 개선하고 공정거래질서를 확립해야 합니다  대기업과 중소기업 간의 힘의 불균형을 바로잡아 약자가 억울하게 당하는 것을 막아야 합니다   노사는 한 배를 탄 공동운명체입니다  노동자들이 부당하게 해고되고 권익이 부당하게 침해당하는 일은 없어야 합니다  노동자들의 목소리가 적극적으로 경영에 반영될 때 기업 성과는 더욱 개선됩니다  그리하여 소수의 강자가 다수 위에 군림하지 않고  약자와 강자가 공존 상생하는 경제 질서를 만드는 것이 경제민주화의 주요 내용이 돼야 합니다       대 성장전략으로 획기적 국가발전을 이루겠습니다   선성장 후분배  낙수효과 같은 낡은 생각이 사회적 양극화와 성장잠재력 저하라는 아픈 결과를 낳았습니다  이를 극복하기 위해 성장과 분배  환경과 평화가 역동적 선순환을 이루는  대 성장전략을 추진하겠습니다   첫째  분배와 재분배를 강화하여 중산층과 서민들의 유효수요와 구매력을 확대함으로써  소비와 투자를 촉진하는  포용적 성장 을 추진하겠습니다  이를 위해 최저임금을 높이고 생활임금 개념을 정책에 반영하겠습니다  복지투자 확대도 서민경제 활성화로 이어질 것입니다  또한 재벌과 거대기업의 과도한 경제력 집중을 억제하고  고용의 대부분을 감당하는 중소기업이 성장의 중심에 서도록 지원하겠습니다  사회적 기업과 협동조합을 육성하는 등 사회적 경제를 확대하여 포용적 성장을 이루기 위한 거시구조적 개혁도 추진해 나가겠습니다   둘째  인적 자본에 대한 투자를 강화하여 사람 중심의 경제성장을 실현하겠습니다  교육혁신을 통해 학생들과 학부모의 고통을 줄이고 입시를 위한 과잉 학습 대신 평생학습체제가 자리 잡도록 일대 교육혁신을 해내겠습니다  문화혁신을 통해 모든 국민의 창조성을 높이고 이를 통해 기술혁신과 신산업 형성의 역동적 파동을 일으키는  창조적 성장 을 추진하겠습니다   셋째  석유시대의 종말에 대비하여 신재생 에너지의 비중을 대폭 확대하고  녹색 에너지기술  건축  전기자동차 제조 등 여러 영역에서 신산업을 육성하는  생태적 성장 을 추진하겠습니다  추가 원전 건설을 중단하고 수명이 다된 원전은 가동을 중지시키겠습니다  그리고 신재생 에너지의 비중이 확대되는 만큼 원전의 비중을 줄여나가겠습니다  이는 단순히 에너지 종류를 바꾸거나 아끼는 정도가 아니라  산업과 소비생활 전반의 구조를 바꾸는 제 차 산업혁명이라 할 수 있는 변화입니다  이를 위해 토건사업  개발사업이 늘 우위에 있었던 정부구조와 재정지출 구조도 혁신하겠습니다  산업 환경 농림 국토 등 여러 부처를 지속가능성의 가치 아래 재편해 나가겠습니다   넷째  인터넷과    를 통해 전세계로 확산되고 있는 소통 네트워크를 기반으로 국경과 경쟁을 넘어 집단협업  개방형 혁신  협동생태계를 활용하는  협력적 성장 을 추진하겠습니다  이런 새로운 인식 아래  한반도평화와 남북협력을 강력한 성장동력으로 활용하겠습니다  남북한은 자원  기술  인력 등 많은 점에서 탁월한 보완관계입니다  평화를 바탕으로 서로의 강점을 엮어 동북아시아로  또 세계로 함께 진출해야 합니다       강한 복지국가 를 향해 담대하게 나아가겠습니다   정조대왕은  위에서 손해를 보고 아래가 이득이 되게 하라        그것이 국가가 할 일이다  라고 말했습니다   백 년 전 이와 같은 소득재분배  복지국가의 사상을 가진 위정자가 지구상 어디에 또 있었겠습니까  이제 우리는 복지국가를 향해 담대하게 나아갈 때입니다  늦었기 때문에 더욱 발걸음을 재촉해야 합니다    복지가 포퓰리즘 이라는 새누리당의 중상모략을 거부합니다  부자감세   대강 사업 같은 시대착오적 과오를 청산하고  하루빨리 복지국가로 가야 합니다  우리는 지금 복지국가로 가느냐  양극화의 분열된 국가로 가느냐 하는 절박한 싸움을 벌이고 있습니다  나라의 운명이 달린 이 건곤일척의 싸움은 복지에 진정성을 가진 진보세력만이 이길 수 있습니다   복지는 낭비가 아니고 투자입니다  사람에 대한 투자이며  동시에 강력한 성장전략이기도 합니다  강한 복지국가일수록 국가 경쟁력도 더 높습니다  복지의 확대를 통해 보육  교육  의료  요양 등 사회서비스 부문에 수많은 일자리가 생기고  자영업에 몰려 있는 과잉인력을 흡수할 수 있습니다  공공임대주택과 같은 주거복지를 늘리는 것은 가장 좋은 전월세 대책입니다   결국 복지국가로 가는 길은 사람에 대한 투자  일자리 창출  자영업 고통 경감  삶의 질 향상 등  석  조의 효과를 만나는 길입니다  우리는 과감히 강한 보편적 복지국가로 가야 합니다  이렇게 하면 국민의 살림이 서서히 나아질 것이며  년 뒤에는 큰 성과가 나타날 것입니다       일자리 정부 로  일자리 혁명 을 이루겠습니다   복지의 확대와 함께 저는 강력한  일자리 혁명 을 이루고자 합니다  지금 너무나 많은 젊은이들과 실업자  비정규직 종사자  근로능력이 있는 고령자들이 일할 수 있는 기회와 더 좋은 일자리를 요구하고 있습니다   좋은 일자리 창출을 위해 비정규직의 정규직 전환 촉진  비정규직에 대한 차별철폐  근로시간 단축을 통한 신규고용 확대  고용영향평가제도의 채택  고용증진과 기업지원의 연계 등을 중요한 정책수단으로 채택하겠습니다  또한 정보통신 산업  바이오산업  나노 산업  신재생에너지 산업  문화산업과 콘텐츠산업 등 신산업을 크게 일으켜 일자리를 대대적으로 만들겠습니다  그리고 앞에서 말한 보육  교육  의료  복지 등 사회서비스 부문은 무궁무진한 잠재적 일자리의 보고입니다  일자리 없는 곳에서 희망을 찾을 수 없습니다  지방 일자리에 대해 특별한 노력을 기울이겠습니다  지역균형발전은 곧 산업 균형  일자리 균형이 목표입니다  이명박 정부의 방해에도 불구하고 끝내 국민이 지켜준 세종시  혁신도시를 지방 일자리 창출의 거점으로 만들겠습니다  공기업과 공무원의 지역우대 채용  각종 정부 지원의 지방채용 연동제를 확대하겠습니다  이 모든 정책의 실효성을 담보하기 위해 대통령이 되면 저는 가장 먼저 대통령 직속으로  국가일자리위원회 를 설치하고 매달  일자리점검 범정부회의 를 개최하여 일자리 마련 상황을 점검  독려하겠습니다  저는 먼 훗날  일자리 혁명을 일으킨 대통령 으로 평가받기를 희망합니다      아이들과 여성  그리고 노인들이 활짝 웃는 나라를 만들겠습니다   아이들이 행복한 나라를 만들어야 합니다  행복한 교육  즐거운 학교를 만드는 것이 교육혁신의 기본방향이어야 합니다  이를 위해 유아  초등단계의 과도한 학습 부담을 없애고 특기적성 이외의 사교육을 최대한 줄여 나가겠습니다   교육이 이념의 전장이 되어서는 곤란합니다  교육은 진보도 보수도 아닌 아이들을 위해 존재해야 합니다  학생  교사  학교의 자율성  창의성을 보장하고 마을이 아이를 함께 키울 수 있도록 지원하겠습니다  또한 좋은 일자리와 산업혁신을 위해서는 평생학습체제가 뒷받침되어야 합니다  평생학습 참가율을 선진국 수준으로 끌어올리겠습니다   지금 우리가 누리는 풍요는 모두 어르신들의 희생 덕분입니다  그러나 어르신들은 노후대비를 할 겨를도 없이  급격한 가족구조 변화와 노동시장 변화로 극심한 어려움을 겪고 있습니다  이제 사회가 효도하겠습니다  참여정부가 도입했던 기초노령연금  장기요양보험을 대폭 강화하고  건강지원 방법을 새로운 차원으로 개선하겠습니다  노인 일자리를 늘리고  특히 그 연륜과 경험을 지역사회에 활용할 수 있는 방안도 마련하겠습니다   남녀의 실질적 평등을 위해서도 아직 남은 숙제가 많습니다  가사와 육아  노인을 돌보는 책임은 여전히 여성들에게만 맡겨져 있습니다       수준에 훨씬 못 미치는 여성 경제활동 참가율이나 세계 최저의 출산율은 대한민국의 여성들이 얼마나 힘들게 살고 있는지 잘 말해줍니다   가족 돌봄의 공적서비스를 확대해서 여성의 부담을 줄이겠습니다  취업과 승진기회의 제한 등 사회적 차별을 해소할 수 있는 적극적 대책도 만들겠습니다  남녀가 함께 일하고  함께 돌보는 사회로 전진하겠습니다      대한민국은 강하게  한반도는 평화롭게 만들겠습니다   국가의 존립과 국토방위는 헌법상 대통령에게 주어진 가장 막중한 의무입니다  모든 대외정책의 출발은 튼튼한 국방력입니다  대한민국 군을 강하고 유능한 군대로 만들겠습니다  미국과의 관계를 더욱 건강하고 바람직한 관계로 발전시키겠습니다  중국과 일본  러시아 등 주변국들과도 호혜협력 관계를 더욱 강화해 나가겠습니다   전쟁의 불안에서 한반도를 해방시키겠습니다  이명박 정부가 파탄에 빠뜨린 안보를 바로 세우겠습니다  새누리당 정권 아래서 분쟁과 대결로 얼룩졌던 휴전선과     일대를 평화경제 지대로 만들겠습니다  김대중 대통령의      공동선언과 노무현 대통령의      남북정상선언을 남북 양측이 책임 있게 지키고 이행하도록 하겠습니다  개성공단을 확장하고 금강산 관광을 재개하여 금강산과 설악산  평창을 연결하는 국제관광특구를 만들어 적극 키우겠습니다  남북 군사대결지대를 공동이익을 창출하는 경제지대로 전환하여 부모들이 안심하고 자식을 군대 보내는 안보환경을 만들겠습니다  특권층의 군대 안가기를 철저하게 막는 한편 젊은이들의 병역 부담을 줄여나가겠습니다  사병의 복지도 크게 향상시키겠습니다   북핵문제를 평화적으로 해결하고 한반도 평화체제를 구축하겠습니다  저는 북한의 핵을 용인할 수 없다는 확고한 입장을 가지고 있습니다  대화와 협상을 통해 반드시 핵을 포기하도록 만들겠습니다  실종된  자회담을 재개하고 대한민국의 주도적 역할을 복원하겠습니다   자회담과 남북관계 복원  평화체제 구축작업을 병행 추진하여 한반도에 평화와 공동번영의 선순환 구조를 만들어 나가겠습니다  그리고 그 속에서 새로운 성장동력을 찾겠습니다   순국선열과 민주영령 앞에서 약속드립니다   존경하는 국민 여러분  이 자리는 애국  민주  헌신이라는 세 가지 가치가 살아 숨 쉬는 역사의 현장입니다  저는 역사가 보는 앞에서 대통령 출마선언을 함으로써  역사 앞에 제 자신을 바치겠다는 결연한 의지를 밝힙니다  역사를 가슴에 새기고 미래를 향해 뚜벅뚜벅 걸어가겠다는 의지를 밝힙니다   저것은 넘을 수 없는 벽이라고 고개를 떨구고 있을 때 담쟁이 잎 하나는 담쟁이 잎 수천 개를 이끌고 결국 그 벽을 넘는다     도종환  담쟁이       도종환 시인의  담쟁이 라는 시의 일부입니다  우리 모두 담쟁이처럼 서로 두 손 꽉 잡고 벽을 넘읍시다  특권의 벽  차별의 벽  분단과 분열의 벽  패배주의의 벽을 넘읍시다  저 문재인과 함께 새로운 세상의 문을 엽시다   저 문재인은 겸손한 권력  따뜻한 나라를 만들겠습니다  국민의 마음에서 길을 찾는 우리나라 대통령이 되겠습니다  우리 모두가 주인인 진정한 우리나라 대통령이 되겠습니다   대단히 고맙습니다  '"
      ]
     },
     "execution_count": 162,
     "metadata": {},
     "output_type": "execute_result"
    }
   ],
   "source": [
    "moon"
   ]
  },
  {
   "cell_type": "code",
   "execution_count": 163,
   "id": "86e01d87-7ec8-4144-87d2-f477f588bd65",
   "metadata": {},
   "outputs": [],
   "source": [
    "#pip install jpype1"
   ]
  },
  {
   "cell_type": "code",
   "execution_count": 164,
   "id": "292df4e7-3391-436a-8342-14824e840b38",
   "metadata": {},
   "outputs": [],
   "source": [
    "#pip install konlpy"
   ]
  },
  {
   "cell_type": "code",
   "execution_count": 165,
   "id": "38e1a429-225e-4f58-a0d2-7831c6fd4bab",
   "metadata": {},
   "outputs": [],
   "source": [
    "import konlpy"
   ]
  },
  {
   "cell_type": "code",
   "execution_count": 166,
   "id": "dcdcac90-f019-450c-83b0-dd932f213bdd",
   "metadata": {},
   "outputs": [],
   "source": [
    "hannanum = konlpy.tag.Hannanum()"
   ]
  },
  {
   "cell_type": "code",
   "execution_count": 167,
   "id": "6b4a6774-502f-44f0-8241-cb828e02f8fe",
   "metadata": {},
   "outputs": [
    {
     "data": {
      "text/plain": [
       "['저', '대한민국', '국민']"
      ]
     },
     "execution_count": 167,
     "metadata": {},
     "output_type": "execute_result"
    }
   ],
   "source": [
    "hannanum.nouns('저는 대한민국 국민입니다')"
   ]
  },
  {
   "cell_type": "code",
   "execution_count": 168,
   "id": "29b9bd92-4c86-4e5f-b580-361c33911721",
   "metadata": {
    "tags": []
   },
   "outputs": [],
   "source": [
    "nouns = hannanum.nouns(moon)"
   ]
  },
  {
   "cell_type": "code",
   "execution_count": 169,
   "id": "2d2748ef-a9a9-4db5-b270-14e3f04aee11",
   "metadata": {},
   "outputs": [
    {
     "data": {
      "text/html": [
       "<div>\n",
       "<style scoped>\n",
       "    .dataframe tbody tr th:only-of-type {\n",
       "        vertical-align: middle;\n",
       "    }\n",
       "\n",
       "    .dataframe tbody tr th {\n",
       "        vertical-align: top;\n",
       "    }\n",
       "\n",
       "    .dataframe thead th {\n",
       "        text-align: right;\n",
       "    }\n",
       "</style>\n",
       "<table border=\"1\" class=\"dataframe\">\n",
       "  <thead>\n",
       "    <tr style=\"text-align: right;\">\n",
       "      <th></th>\n",
       "      <th>word</th>\n",
       "    </tr>\n",
       "  </thead>\n",
       "  <tbody>\n",
       "    <tr>\n",
       "      <th>0</th>\n",
       "      <td>정권교체</td>\n",
       "    </tr>\n",
       "    <tr>\n",
       "      <th>1</th>\n",
       "      <td>정치교체</td>\n",
       "    </tr>\n",
       "    <tr>\n",
       "      <th>2</th>\n",
       "      <td>시대교체</td>\n",
       "    </tr>\n",
       "    <tr>\n",
       "      <th>3</th>\n",
       "      <td>불비불명</td>\n",
       "    </tr>\n",
       "    <tr>\n",
       "      <th>4</th>\n",
       "      <td>고사</td>\n",
       "    </tr>\n",
       "    <tr>\n",
       "      <th>...</th>\n",
       "      <td>...</td>\n",
       "    </tr>\n",
       "    <tr>\n",
       "      <th>1408</th>\n",
       "      <td>모두</td>\n",
       "    </tr>\n",
       "    <tr>\n",
       "      <th>1409</th>\n",
       "      <td>주인</td>\n",
       "    </tr>\n",
       "    <tr>\n",
       "      <th>1410</th>\n",
       "      <td>진정한</td>\n",
       "    </tr>\n",
       "    <tr>\n",
       "      <th>1411</th>\n",
       "      <td>우리나라</td>\n",
       "    </tr>\n",
       "    <tr>\n",
       "      <th>1412</th>\n",
       "      <td>대통령</td>\n",
       "    </tr>\n",
       "  </tbody>\n",
       "</table>\n",
       "<p>1413 rows × 1 columns</p>\n",
       "</div>"
      ],
      "text/plain": [
       "      word\n",
       "0     정권교체\n",
       "1     정치교체\n",
       "2     시대교체\n",
       "3     불비불명\n",
       "4       고사\n",
       "...    ...\n",
       "1408    모두\n",
       "1409    주인\n",
       "1410   진정한\n",
       "1411  우리나라\n",
       "1412   대통령\n",
       "\n",
       "[1413 rows x 1 columns]"
      ]
     },
     "execution_count": 169,
     "metadata": {},
     "output_type": "execute_result"
    }
   ],
   "source": [
    "df = pd.DataFrame({'word': nouns})\n",
    "df"
   ]
  },
  {
   "cell_type": "code",
   "execution_count": 174,
   "id": "365ac35f-6d1f-422c-87ad-f7cd2c7c0d98",
   "metadata": {},
   "outputs": [
    {
     "data": {
      "text/plain": [
       "word\n",
       "저       22\n",
       "일자리     19\n",
       "나라      19\n",
       "국민      18\n",
       "우리      17\n",
       "        ..\n",
       "북핵문제     1\n",
       "분        1\n",
       "분단       1\n",
       "분야       1\n",
       "손        1\n",
       "Length: 789, dtype: int64"
      ]
     },
     "execution_count": 174,
     "metadata": {},
     "output_type": "execute_result"
    }
   ],
   "source": [
    "df.value_counts()"
   ]
  },
  {
   "cell_type": "code",
   "execution_count": 175,
   "id": "6f7cc458-5dfb-4eb9-9bf2-951c6188dc8a",
   "metadata": {},
   "outputs": [
    {
     "data": {
      "text/html": [
       "<div>\n",
       "<style scoped>\n",
       "    .dataframe tbody tr th:only-of-type {\n",
       "        vertical-align: middle;\n",
       "    }\n",
       "\n",
       "    .dataframe tbody tr th {\n",
       "        vertical-align: top;\n",
       "    }\n",
       "\n",
       "    .dataframe thead th {\n",
       "        text-align: right;\n",
       "    }\n",
       "</style>\n",
       "<table border=\"1\" class=\"dataframe\">\n",
       "  <thead>\n",
       "    <tr style=\"text-align: right;\">\n",
       "      <th></th>\n",
       "      <th>word</th>\n",
       "      <th>count</th>\n",
       "    </tr>\n",
       "  </thead>\n",
       "  <tbody>\n",
       "    <tr>\n",
       "      <th>0</th>\n",
       "      <td>정권교체</td>\n",
       "      <td>4</td>\n",
       "    </tr>\n",
       "    <tr>\n",
       "      <th>1</th>\n",
       "      <td>정치교체</td>\n",
       "      <td>4</td>\n",
       "    </tr>\n",
       "    <tr>\n",
       "      <th>2</th>\n",
       "      <td>시대교체</td>\n",
       "      <td>4</td>\n",
       "    </tr>\n",
       "    <tr>\n",
       "      <th>3</th>\n",
       "      <td>불비불명</td>\n",
       "      <td>4</td>\n",
       "    </tr>\n",
       "    <tr>\n",
       "      <th>4</th>\n",
       "      <td>고사</td>\n",
       "      <td>2</td>\n",
       "    </tr>\n",
       "    <tr>\n",
       "      <th>...</th>\n",
       "      <td>...</td>\n",
       "      <td>...</td>\n",
       "    </tr>\n",
       "    <tr>\n",
       "      <th>1408</th>\n",
       "      <td>모두</td>\n",
       "      <td>2</td>\n",
       "    </tr>\n",
       "    <tr>\n",
       "      <th>1409</th>\n",
       "      <td>주인</td>\n",
       "      <td>2</td>\n",
       "    </tr>\n",
       "    <tr>\n",
       "      <th>1410</th>\n",
       "      <td>진정한</td>\n",
       "      <td>3</td>\n",
       "    </tr>\n",
       "    <tr>\n",
       "      <th>1411</th>\n",
       "      <td>우리나라</td>\n",
       "      <td>4</td>\n",
       "    </tr>\n",
       "    <tr>\n",
       "      <th>1412</th>\n",
       "      <td>대통령</td>\n",
       "      <td>3</td>\n",
       "    </tr>\n",
       "  </tbody>\n",
       "</table>\n",
       "<p>1413 rows × 2 columns</p>\n",
       "</div>"
      ],
      "text/plain": [
       "      word  count\n",
       "0     정권교체      4\n",
       "1     정치교체      4\n",
       "2     시대교체      4\n",
       "3     불비불명      4\n",
       "4       고사      2\n",
       "...    ...    ...\n",
       "1408    모두      2\n",
       "1409    주인      2\n",
       "1410   진정한      3\n",
       "1411  우리나라      4\n",
       "1412   대통령      3\n",
       "\n",
       "[1413 rows x 2 columns]"
      ]
     },
     "execution_count": 175,
     "metadata": {},
     "output_type": "execute_result"
    }
   ],
   "source": [
    "df['count'] = df.iloc[:,0].str.len()\n",
    "df"
   ]
  },
  {
   "cell_type": "code",
   "execution_count": 176,
   "id": "fcc42ca9-fad9-4d18-a20d-28b8d3dfa93c",
   "metadata": {
    "tags": []
   },
   "outputs": [
    {
     "data": {
      "text/html": [
       "<div>\n",
       "<style scoped>\n",
       "    .dataframe tbody tr th:only-of-type {\n",
       "        vertical-align: middle;\n",
       "    }\n",
       "\n",
       "    .dataframe tbody tr th {\n",
       "        vertical-align: top;\n",
       "    }\n",
       "\n",
       "    .dataframe thead th {\n",
       "        text-align: right;\n",
       "    }\n",
       "</style>\n",
       "<table border=\"1\" class=\"dataframe\">\n",
       "  <thead>\n",
       "    <tr style=\"text-align: right;\">\n",
       "      <th></th>\n",
       "      <th>word</th>\n",
       "      <th>count</th>\n",
       "    </tr>\n",
       "  </thead>\n",
       "  <tbody>\n",
       "    <tr>\n",
       "      <th>0</th>\n",
       "      <td>정권교체</td>\n",
       "      <td>4</td>\n",
       "    </tr>\n",
       "    <tr>\n",
       "      <th>1</th>\n",
       "      <td>정치교체</td>\n",
       "      <td>4</td>\n",
       "    </tr>\n",
       "    <tr>\n",
       "      <th>2</th>\n",
       "      <td>시대교체</td>\n",
       "      <td>4</td>\n",
       "    </tr>\n",
       "    <tr>\n",
       "      <th>3</th>\n",
       "      <td>불비불명</td>\n",
       "      <td>4</td>\n",
       "    </tr>\n",
       "    <tr>\n",
       "      <th>4</th>\n",
       "      <td>고사</td>\n",
       "      <td>2</td>\n",
       "    </tr>\n",
       "    <tr>\n",
       "      <th>...</th>\n",
       "      <td>...</td>\n",
       "      <td>...</td>\n",
       "    </tr>\n",
       "    <tr>\n",
       "      <th>1408</th>\n",
       "      <td>모두</td>\n",
       "      <td>2</td>\n",
       "    </tr>\n",
       "    <tr>\n",
       "      <th>1409</th>\n",
       "      <td>주인</td>\n",
       "      <td>2</td>\n",
       "    </tr>\n",
       "    <tr>\n",
       "      <th>1410</th>\n",
       "      <td>진정한</td>\n",
       "      <td>3</td>\n",
       "    </tr>\n",
       "    <tr>\n",
       "      <th>1411</th>\n",
       "      <td>우리나라</td>\n",
       "      <td>4</td>\n",
       "    </tr>\n",
       "    <tr>\n",
       "      <th>1412</th>\n",
       "      <td>대통령</td>\n",
       "      <td>3</td>\n",
       "    </tr>\n",
       "  </tbody>\n",
       "</table>\n",
       "<p>1187 rows × 2 columns</p>\n",
       "</div>"
      ],
      "text/plain": [
       "      word  count\n",
       "0     정권교체      4\n",
       "1     정치교체      4\n",
       "2     시대교체      4\n",
       "3     불비불명      4\n",
       "4       고사      2\n",
       "...    ...    ...\n",
       "1408    모두      2\n",
       "1409    주인      2\n",
       "1410   진정한      3\n",
       "1411  우리나라      4\n",
       "1412   대통령      3\n",
       "\n",
       "[1187 rows x 2 columns]"
      ]
     },
     "execution_count": 176,
     "metadata": {},
     "output_type": "execute_result"
    }
   ],
   "source": [
    "df_word = df[df['count'] >= 2]\n",
    "df_word"
   ]
  },
  {
   "cell_type": "code",
   "execution_count": 177,
   "id": "4631add9-3a08-47ad-9645-6fbd05eefde1",
   "metadata": {},
   "outputs": [
    {
     "data": {
      "text/html": [
       "<div>\n",
       "<style scoped>\n",
       "    .dataframe tbody tr th:only-of-type {\n",
       "        vertical-align: middle;\n",
       "    }\n",
       "\n",
       "    .dataframe tbody tr th {\n",
       "        vertical-align: top;\n",
       "    }\n",
       "\n",
       "    .dataframe thead th {\n",
       "        text-align: right;\n",
       "    }\n",
       "</style>\n",
       "<table border=\"1\" class=\"dataframe\">\n",
       "  <thead>\n",
       "    <tr style=\"text-align: right;\">\n",
       "      <th></th>\n",
       "      <th>word</th>\n",
       "      <th>n</th>\n",
       "    </tr>\n",
       "  </thead>\n",
       "  <tbody>\n",
       "    <tr>\n",
       "      <th>153</th>\n",
       "      <td>나라</td>\n",
       "      <td>19</td>\n",
       "    </tr>\n",
       "    <tr>\n",
       "      <th>462</th>\n",
       "      <td>일자리</td>\n",
       "      <td>19</td>\n",
       "    </tr>\n",
       "    <tr>\n",
       "      <th>116</th>\n",
       "      <td>국민</td>\n",
       "      <td>18</td>\n",
       "    </tr>\n",
       "    <tr>\n",
       "      <th>422</th>\n",
       "      <td>우리</td>\n",
       "      <td>17</td>\n",
       "    </tr>\n",
       "    <tr>\n",
       "      <th>198</th>\n",
       "      <td>대통령</td>\n",
       "      <td>12</td>\n",
       "    </tr>\n",
       "    <tr>\n",
       "      <th>...</th>\n",
       "      <td>...</td>\n",
       "      <td>...</td>\n",
       "    </tr>\n",
       "    <tr>\n",
       "      <th>278</th>\n",
       "      <td>북핵문제</td>\n",
       "      <td>1</td>\n",
       "    </tr>\n",
       "    <tr>\n",
       "      <th>279</th>\n",
       "      <td>분단</td>\n",
       "      <td>1</td>\n",
       "    </tr>\n",
       "    <tr>\n",
       "      <th>281</th>\n",
       "      <td>분야</td>\n",
       "      <td>1</td>\n",
       "    </tr>\n",
       "    <tr>\n",
       "      <th>283</th>\n",
       "      <td>분쟁</td>\n",
       "      <td>1</td>\n",
       "    </tr>\n",
       "    <tr>\n",
       "      <th>355</th>\n",
       "      <td>수천</td>\n",
       "      <td>1</td>\n",
       "    </tr>\n",
       "  </tbody>\n",
       "</table>\n",
       "<p>710 rows × 2 columns</p>\n",
       "</div>"
      ],
      "text/plain": [
       "     word   n\n",
       "153    나라  19\n",
       "462   일자리  19\n",
       "116    국민  18\n",
       "422    우리  17\n",
       "198   대통령  12\n",
       "..    ...  ..\n",
       "278  북핵문제   1\n",
       "279    분단   1\n",
       "281    분야   1\n",
       "283    분쟁   1\n",
       "355    수천   1\n",
       "\n",
       "[710 rows x 2 columns]"
      ]
     },
     "execution_count": 177,
     "metadata": {},
     "output_type": "execute_result"
    }
   ],
   "source": [
    "df_word = df_word.groupby('word', as_index = False).agg(n = ('word','count')).sort_values('n',ascending = False)\n",
    "df_word"
   ]
  },
  {
   "cell_type": "code",
   "execution_count": 178,
   "id": "7e6553a9-b2c7-43a5-9956-0aa3955c5ec3",
   "metadata": {},
   "outputs": [
    {
     "data": {
      "text/html": [
       "<div>\n",
       "<style scoped>\n",
       "    .dataframe tbody tr th:only-of-type {\n",
       "        vertical-align: middle;\n",
       "    }\n",
       "\n",
       "    .dataframe tbody tr th {\n",
       "        vertical-align: top;\n",
       "    }\n",
       "\n",
       "    .dataframe thead th {\n",
       "        text-align: right;\n",
       "    }\n",
       "</style>\n",
       "<table border=\"1\" class=\"dataframe\">\n",
       "  <thead>\n",
       "    <tr style=\"text-align: right;\">\n",
       "      <th></th>\n",
       "      <th>word</th>\n",
       "      <th>n</th>\n",
       "    </tr>\n",
       "  </thead>\n",
       "  <tbody>\n",
       "    <tr>\n",
       "      <th>153</th>\n",
       "      <td>나라</td>\n",
       "      <td>19</td>\n",
       "    </tr>\n",
       "    <tr>\n",
       "      <th>462</th>\n",
       "      <td>일자리</td>\n",
       "      <td>19</td>\n",
       "    </tr>\n",
       "    <tr>\n",
       "      <th>116</th>\n",
       "      <td>국민</td>\n",
       "      <td>18</td>\n",
       "    </tr>\n",
       "    <tr>\n",
       "      <th>422</th>\n",
       "      <td>우리</td>\n",
       "      <td>17</td>\n",
       "    </tr>\n",
       "    <tr>\n",
       "      <th>198</th>\n",
       "      <td>대통령</td>\n",
       "      <td>12</td>\n",
       "    </tr>\n",
       "    <tr>\n",
       "      <th>202</th>\n",
       "      <td>대한민국</td>\n",
       "      <td>11</td>\n",
       "    </tr>\n",
       "    <tr>\n",
       "      <th>693</th>\n",
       "      <td>확대</td>\n",
       "      <td>11</td>\n",
       "    </tr>\n",
       "    <tr>\n",
       "      <th>525</th>\n",
       "      <td>정치</td>\n",
       "      <td>10</td>\n",
       "    </tr>\n",
       "    <tr>\n",
       "      <th>423</th>\n",
       "      <td>우리나라</td>\n",
       "      <td>10</td>\n",
       "    </tr>\n",
       "    <tr>\n",
       "      <th>304</th>\n",
       "      <td>사회</td>\n",
       "      <td>9</td>\n",
       "    </tr>\n",
       "    <tr>\n",
       "      <th>298</th>\n",
       "      <td>사람</td>\n",
       "      <td>9</td>\n",
       "    </tr>\n",
       "    <tr>\n",
       "      <th>332</th>\n",
       "      <td>성장</td>\n",
       "      <td>9</td>\n",
       "    </tr>\n",
       "    <tr>\n",
       "      <th>646</th>\n",
       "      <td>평화</td>\n",
       "      <td>8</td>\n",
       "    </tr>\n",
       "    <tr>\n",
       "      <th>266</th>\n",
       "      <td>복지국가</td>\n",
       "      <td>8</td>\n",
       "    </tr>\n",
       "    <tr>\n",
       "      <th>265</th>\n",
       "      <td>복지</td>\n",
       "      <td>8</td>\n",
       "    </tr>\n",
       "    <tr>\n",
       "      <th>308</th>\n",
       "      <td>산업</td>\n",
       "      <td>7</td>\n",
       "    </tr>\n",
       "    <tr>\n",
       "      <th>517</th>\n",
       "      <td>정부</td>\n",
       "      <td>7</td>\n",
       "    </tr>\n",
       "    <tr>\n",
       "      <th>609</th>\n",
       "      <td>추진</td>\n",
       "      <td>7</td>\n",
       "    </tr>\n",
       "    <tr>\n",
       "      <th>103</th>\n",
       "      <td>교육</td>\n",
       "      <td>6</td>\n",
       "    </tr>\n",
       "    <tr>\n",
       "      <th>339</th>\n",
       "      <td>세상</td>\n",
       "      <td>6</td>\n",
       "    </tr>\n",
       "  </tbody>\n",
       "</table>\n",
       "</div>"
      ],
      "text/plain": [
       "     word   n\n",
       "153    나라  19\n",
       "462   일자리  19\n",
       "116    국민  18\n",
       "422    우리  17\n",
       "198   대통령  12\n",
       "202  대한민국  11\n",
       "693    확대  11\n",
       "525    정치  10\n",
       "423  우리나라  10\n",
       "304    사회   9\n",
       "298    사람   9\n",
       "332    성장   9\n",
       "646    평화   8\n",
       "266  복지국가   8\n",
       "265    복지   8\n",
       "308    산업   7\n",
       "517    정부   7\n",
       "609    추진   7\n",
       "103    교육   6\n",
       "339    세상   6"
      ]
     },
     "execution_count": 178,
     "metadata": {},
     "output_type": "execute_result"
    }
   ],
   "source": [
    "top20 = df_word.head(20)\n",
    "top20"
   ]
  },
  {
   "cell_type": "code",
   "execution_count": 191,
   "id": "a3fd93ab-9d18-457c-be21-3a75a1dcf124",
   "metadata": {},
   "outputs": [],
   "source": [
    "import matplotlib.pyplot as plt\n",
    "plt.rcParams.update({'font.family' : 'Malgun Gothic', 'figure.dpi' : '120', 'figure.figsize': [6.5, 6]})"
   ]
  },
  {
   "cell_type": "code",
   "execution_count": 192,
   "id": "58255d0b-2c99-4531-be51-d93695c2a5de",
   "metadata": {},
   "outputs": [
    {
     "data": {
      "text/plain": [
       "<AxesSubplot:xlabel='n', ylabel='word'>"
      ]
     },
     "execution_count": 192,
     "metadata": {},
     "output_type": "execute_result"
    },
    {
     "data": {
      "image/png": "[encoded data removed]",
      "text/plain": [
       "<Figure size 780x720 with 1 Axes>"
      ]
     },
     "metadata": {
      "needs_background": "light"
     },
     "output_type": "display_data"
    }
   ],
   "source": [
    "sns.barplot(data = top20, y = 'word', x = 'n')"
   ]
  },
  {
   "cell_type": "code",
   "execution_count": 193,
   "id": "3dd7206d-6bc1-4805-9f0f-2e697e2a5cc3",
   "metadata": {},
   "outputs": [],
   "source": [
    "#pip install wordcloud"
   ]
  },
  {
   "cell_type": "code",
   "execution_count": 194,
   "id": "e584b4e2-a3bb-4aa9-9bb0-a18cfca3418c",
   "metadata": {
    "tags": []
   },
   "outputs": [
    {
     "data": {
      "text/plain": [
       "{'나라': 19,\n",
       " '일자리': 19,\n",
       " '국민': 18,\n",
       " '우리': 17,\n",
       " '대통령': 12,\n",
       " '대한민국': 11,\n",
       " '확대': 11,\n",
       " '정치': 10,\n",
       " '우리나라': 10,\n",
       " '사회': 9,\n",
       " '사람': 9,\n",
       " '성장': 9,\n",
       " '평화': 8,\n",
       " '복지국가': 8,\n",
       " '복지': 8,\n",
       " '산업': 7,\n",
       " '정부': 7,\n",
       " '추진': 7,\n",
       " '교육': 6,\n",
       " '세상': 6}"
      ]
     },
     "execution_count": 194,
     "metadata": {},
     "output_type": "execute_result"
    }
   ],
   "source": [
    "dict_word = top20.set_index('word').to_dict()['n']\n",
    "dict_word"
   ]
  },
  {
   "cell_type": "code",
   "execution_count": 195,
   "id": "f16339fa-3226-43ad-bc75-b7d2a7f2f9f9",
   "metadata": {},
   "outputs": [],
   "source": [
    "from wordcloud import WordCloud"
   ]
  },
  {
   "cell_type": "code",
   "execution_count": 196,
   "id": "71272ce5-edf0-4255-8799-d64d845fa73e",
   "metadata": {},
   "outputs": [],
   "source": [
    "import matplotlib.pyplot as plt"
   ]
  },
  {
   "cell_type": "code",
   "execution_count": 197,
   "id": "4fc63d2b-3ca6-4177-a5da-db2711e6d074",
   "metadata": {},
   "outputs": [
    {
     "data": {
      "text/plain": [
       "<matplotlib.image.AxesImage at 0x1ae3f03d0a0>"
      ]
     },
     "execution_count": 197,
     "metadata": {},
     "output_type": "execute_result"
    },
    {
     "data": {
      "image/png": "[encoded data removed]",
      "text/plain": [
       "<Figure size 780x720 with 1 Axes>"
      ]
     },
     "metadata": {
      "needs_background": "light"
     },
     "output_type": "display_data"
    }
   ],
   "source": [
    "plt.imshow(WordCloud(font_path='malgun.ttf').generate_from_frequencies(dict_word))"
   ]
  }
 ],
 "metadata": {
  "kernelspec": {
   "display_name": "Python 3 (ipykernel)",
   "language": "python",
   "name": "python3"
  },
  "language_info": {
   "codemirror_mode": {
    "name": "ipython",
    "version": 3
   },
   "file_extension": ".py",
   "mimetype": "text/x-python",
   "name": "python",
   "nbconvert_exporter": "python",
   "pygments_lexer": "ipython3",
   "version": "3.9.12"
  },
  "toc-autonumbering": true
 },
 "nbformat": 4,
 "nbformat_minor": 5
}
